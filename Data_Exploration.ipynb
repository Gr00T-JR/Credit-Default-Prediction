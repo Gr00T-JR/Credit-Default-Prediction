{
 "cells": [
  {
   "cell_type": "markdown",
   "metadata": {},
   "source": [
    "## Independent notebook used for checking the data"
   ]
  },
  {
   "cell_type": "code",
   "execution_count": 2,
   "metadata": {},
   "outputs": [],
   "source": [
    "import pickle\n",
    "import pandas"
   ]
  },
  {
   "cell_type": "markdown",
   "metadata": {},
   "source": [
    "### Data Import from data pickle file"
   ]
  },
  {
   "cell_type": "code",
   "execution_count": null,
   "outputs": [],
   "source": [
    "with open('data.pkl', 'rd') as f:\n",
    "    df_train, df_test = pickle.load(f)\n",
    "f.close()\n"
   ],
   "metadata": {
    "collapsed": false,
    "pycharm": {
     "name": "#%%\n"
    }
   }
  },
  {
   "cell_type": "markdown",
   "source": [
    "### Data Exploring"
   ],
   "metadata": {
    "collapsed": false
   }
  },
  {
   "cell_type": "code",
   "execution_count": null,
   "outputs": [],
   "source": [
    "df_train.describe()"
   ],
   "metadata": {
    "collapsed": false,
    "pycharm": {
     "name": "#%%\n"
    }
   }
  },
  {
   "cell_type": "code",
   "execution_count": null,
   "outputs": [],
   "source": [
    "df_test.describe()"
   ],
   "metadata": {
    "collapsed": false,
    "pycharm": {
     "name": "#%%\n"
    }
   }
  },
  {
   "cell_type": "markdown",
   "source": [
    "__Comment__ : All the data types are integers and thus workable for ML models. There are no null values (arbitrarily checked and all features have the same count). Values in the `SEX`, `EDUCATION` <br>\n",
    "Optional to check the dataframes with `quick_analysis(df_train)`."
   ],
   "metadata": {
    "collapsed": false
   }
  },
  {
   "cell_type": "markdown",
   "metadata": {},
   "source": [
    "## Data Cleaning & EDA\n",
    "\n",
    "\n",
    "### Data \n",
    "\n",
    "To be cleaned:\n",
    "* `AGE`: Creation of 'bins'\n",
    "* `EDUCATION`: Grouping categories `4,5,6,0`\n",
    "* `PAY_n`: Categorical/One-Hot Encoding\n",
    "* `SEX`: Categorical/One-Hot Encoding\n",
    "* `MARRIAGE`: Grouping categories `0` and `3`"
   ]
  },
  {
   "cell_type": "markdown",
   "metadata": {},
   "source": [
    "#### Education"
   ]
  },
  {
   "cell_type": "code",
   "execution_count": 38,
   "metadata": {
    "ExecuteTime": {
     "end_time": "2021-01-06T21:00:38.977163Z",
     "start_time": "2021-01-06T21:00:38.971438Z"
    }
   },
   "outputs": [
    {
     "data": {
      "text/plain": [
       "2    11360\n",
       "1     8443\n",
       "3     3850\n",
       "5      207\n",
       "4       92\n",
       "6       37\n",
       "0       11\n",
       "Name: EDUCATION, dtype: int64"
      ]
     },
     "execution_count": 38,
     "metadata": {},
     "output_type": "execute_result"
    }
   ],
   "source": [
    "# inspect\n",
    "_df_train.EDUCATION.value_counts()"
   ]
  },
  {
   "cell_type": "raw",
   "metadata": {
    "ExecuteTime": {
     "end_time": "2021-01-06T21:00:38.986090Z",
     "start_time": "2021-01-06T21:00:38.978860Z"
    },
    "scrolled": true
   },
   "source": [
    "# Group 4,5,6,0 categories for 'EDUCATION'\n",
    "ed_map = {1:1, 2:2, 3:3, 4:4, 5:4, 6:4, 0:4}\n",
    "df_train.EDUCATION = df_train.EDUCATION.map(ed_map)\n",
    "\n",
    "# inspect\n",
    "df_train.EDUCATION.value_counts()"
   ]
  },
  {
   "cell_type": "markdown",
   "metadata": {},
   "source": [
    "#### Marriage"
   ]
  },
  {
   "cell_type": "code",
   "execution_count": 39,
   "metadata": {
    "ExecuteTime": {
     "end_time": "2021-01-06T21:00:38.992613Z",
     "start_time": "2021-01-06T21:00:38.987895Z"
    }
   },
   "outputs": [
    {
     "data": {
      "text/plain": [
       "2    12877\n",
       "1    10813\n",
       "3      269\n",
       "0       41\n",
       "Name: MARRIAGE, dtype: int64"
      ]
     },
     "execution_count": 39,
     "metadata": {},
     "output_type": "execute_result"
    }
   ],
   "source": [
    "# inspect\n",
    "df_train.MARRIAGE.value_counts()"
   ]
  },
  {
   "cell_type": "markdown",
   "metadata": {},
   "source": [
    "#### the original data may include additonal information, e.g. there may be a correlation between incorrectly entering information and default"
   ]
  },
  {
   "cell_type": "raw",
   "metadata": {
    "ExecuteTime": {
     "end_time": "2021-01-06T21:00:39.001158Z",
     "start_time": "2021-01-06T21:00:38.994221Z"
    }
   },
   "source": [
    "# Group 0, 3 categories for 'MARRIAGE'\n",
    "marr_map = {0:0, 1:1, 2:2, 3:0}\n",
    "df_train.MARRIAGE = df_train.MARRIAGE.map(marr_map)\n",
    "\n",
    "# inspect\n",
    "df_train.MARRIAGE.value_counts()"
   ]
  },
  {
   "cell_type": "markdown",
   "metadata": {},
   "source": [
    "### Inspecting the test set"
   ]
  },
  {
   "cell_type": "code",
   "execution_count": 40,
   "metadata": {},
   "outputs": [
    {
     "data": {
      "text/plain": [
       "2    3087\n",
       "1    2846\n",
       "3      54\n",
       "0      13\n",
       "Name: MARRIAGE, dtype: int64"
      ]
     },
     "execution_count": 40,
     "metadata": {},
     "output_type": "execute_result"
    }
   ],
   "source": [
    "df_test.MARRIAGE.value_counts()"
   ]
  },
  {
   "cell_type": "code",
   "execution_count": 41,
   "metadata": {},
   "outputs": [
    {
     "data": {
      "text/plain": [
       "2    2670\n",
       "1    2142\n",
       "3    1067\n",
       "5      73\n",
       "4      31\n",
       "6      14\n",
       "0       3\n",
       "Name: EDUCATION, dtype: int64"
      ]
     },
     "execution_count": 41,
     "metadata": {},
     "output_type": "execute_result"
    }
   ],
   "source": [
    "df_test.EDUCATION.value_counts()"
   ]
  },
  {
   "cell_type": "code",
   "execution_count": 42,
   "metadata": {},
   "outputs": [
    {
     "data": {
      "text/plain": [
       "count    6000.000000\n",
       "mean       35.905667\n",
       "std         8.990675\n",
       "min        21.000000\n",
       "25%        29.000000\n",
       "50%        34.000000\n",
       "75%        42.000000\n",
       "max        75.000000\n",
       "Name: AGE, dtype: float64"
      ]
     },
     "execution_count": 42,
     "metadata": {},
     "output_type": "execute_result"
    }
   ],
   "source": [
    "df_test.AGE.describe()"
   ]
  }
 ],
 "metadata": {
  "kernelspec": {
   "name": "pycharm-1482e948",
   "language": "python",
   "display_name": "PyCharm (CW2)"
  },
  "language_info": {
   "codemirror_mode": {
    "name": "ipython",
    "version": 3
   },
   "file_extension": ".py",
   "mimetype": "text/x-python",
   "name": "python",
   "nbconvert_exporter": "python",
   "pygments_lexer": "ipython3",
   "version": "3.8.1"
  }
 },
 "nbformat": 4,
 "nbformat_minor": 4
}