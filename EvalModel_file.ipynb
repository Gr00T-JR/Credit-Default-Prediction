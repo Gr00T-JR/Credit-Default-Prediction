{
 "cells": [
  {
   "cell_type": "markdown",
   "metadata": {},
   "source": [
    "## This function evaluates the model"
   ]
  },
  {
   "cell_type": "code",
   "execution_count": 1,
   "metadata": {},
   "outputs": [],
   "source": [
    "from sklearn import metrics\n",
    "# from sklearn.metrics import plot_confusion_matrix\n",
    "\n",
    "from sklearn.metrics import confusion_matrix, ConfusionMatrixDisplay"
   ]
  },
  {
   "cell_type": "code",
   "execution_count": 2,
   "metadata": {},
   "outputs": [],
   "source": [
    "def EvalModel(model, X_train, y_train, X_test, y_test, verbose = False, confusion_matrix = False):\n",
    "     \n",
    "    #fit model\n",
    "    model.fit(X_train,y_train)\n",
    "    \n",
    "    # use the model passed as a parameter to make predictions, which we will use to judge the model \n",
    "    \n",
    "    y_predicted = model.predict(X_test).round() # require rounding for xgboost and logistic regression\n",
    "    \n",
    "    if(confusion_matrix):\n",
    "        \n",
    "\n",
    "    if(verbose):\n",
    "        EvalMetrics(model, y_test,y_predicted)\n",
    "    else:\n",
    "        return metrics.accuracy_score(y_test, y_predicted)\n",
    "\n",
    "    \n",
    "def ShowConfusionMatrix(y_test,y_predicted):\n",
    "    \"\"\"\n",
    "    returns confusion matrix\n",
    "    \"\"\"\n",
    "    cm = confusion_matrix(y_test,y_predicted)\n",
    "    ConfusionMatrixDisplay(cm).plot()\n",
    "    \n",
    "def EvalMetrics(model_name, y_test,y_predicted, verbose=False, confusion_matrix=False,):\n",
    "\n",
    "    # metrics used here are: Accuracy, Recall, Precision, ROC/AUC and F1.\n",
    "    # these are the industry standard and provide a proper, unbiased benchmark for models.\n",
    "\n",
    "    accuracy_score = metrics.accuracy_score(y_test, y_predicted)\n",
    "    recall_score = metrics.recall_score(y_test, y_predicted)\n",
    "    precision_score = metrics.precision_score(y_test, y_predicted)\n",
    "    roc_auc_score = metrics.roc_auc_score(y_test, y_predicted)\n",
    "    f1_score = metrics.f1_score(y_test, y_predicted)\n",
    "    \n",
    "    if(verbose):\n",
    "        print(\"Metrics for model name: \" + model_name)\n",
    "        print(\"Accuracy score: \" + accuracy_score.astype(str))\n",
    "        print(\"Recall score: \" + recall_score.astype(str))\n",
    "        print(\"Precision_score: \" + precision_score.astype(str))\n",
    "        print(\"ROC/AUC score: \" + roc_auc_score.astype(str))\n",
    "        print(\"F1 score: \" + f1_score.astype(str))\n",
    "        print(\"\\n\")\n",
    "        \n",
    "    if(confusion_matrix)\n",
    "        ShowConfusionMatrix(y_test,y_predicted)\n",
    "        \n",
    "    "
   ]
  }
 ],
 "metadata": {
  "kernelspec": {
   "display_name": "Python 3",
   "language": "python",
   "name": "python3"
  },
  "language_info": {
   "codemirror_mode": {
    "name": "ipython",
    "version": 3
   },
   "file_extension": ".py",
   "mimetype": "text/x-python",
   "name": "python",
   "nbconvert_exporter": "python",
   "pygments_lexer": "ipython3",
   "version": "3.8.1"
  }
 },
 "nbformat": 4,
 "nbformat_minor": 4
}
