{
 "cells": [
  {
   "cell_type": "markdown",
   "metadata": {},
   "source": [
    "## This function evaluates the model"
   ]
  },
  {
   "cell_type": "code",
   "execution_count": 1,
   "metadata": {},
   "outputs": [],
   "source": [
    "from sklearn import metrics\n",
    "\n",
    "from sklearn.metrics import confusion_matrix, ConfusionMatrixDisplay"
   ]
  },
  {
   "cell_type": "code",
   "execution_count": 1,
   "metadata": {},
   "outputs": [
    {
     "ename": "IndentationError",
     "evalue": "expected an indented block (<ipython-input-1-70132030cf67>, line 13)",
     "output_type": "error",
     "traceback": [
      "\u001B[0;36m  File \u001B[0;32m\"<ipython-input-1-70132030cf67>\"\u001B[0;36m, line \u001B[0;32m13\u001B[0m\n\u001B[0;31m    if(verbose):\u001B[0m\n\u001B[0m    ^\u001B[0m\n\u001B[0;31mIndentationError\u001B[0m\u001B[0;31m:\u001B[0m expected an indented block\n"
     ]
    }
   ],
   "source": [
    "\n",
    "def ShowConfusionMatrix(y_true,y_predicted):\n",
    "    \"\"\"\n",
    "    returns confusion matrix with the true y values and predicted y values\n",
    "    \"\"\"\n",
    "    cm = confusion_matrix(y_true,y_predicted)\n",
    "    ConfusionMatrixDisplay(cm).plot()\n",
    "    \n",
    "def EvalMetrics(y_test,y_predicted):\n",
    "\n",
    "    # metrics used here are: Accuracy, Recall, Precision, ROC/AUC and F1.\n",
    "    # these are the industry standard and provide a proper, unbiased benchmark for models.\n",
    "\n",
    "    accuracy_score = metrics.accuracy_score(y_test, y_predicted)\n",
    "    recall_score = metrics.recall_score(y_test, y_predicted)\n",
    "    precision_score = metrics.precision_score(y_test, y_predicted)\n",
    "    roc_auc_score = metrics.roc_auc_score(y_test, y_predicted)\n",
    "    f1_score = metrics.f1_score(y_test, y_predicted)\n",
    "    \n",
    "    if(verbose):\n",
    "        print(\"Accuracy score: \" + accuracy_score.astype(str))\n",
    "        print(\"Recall score: \" + recall_score.astype(str))\n",
    "        print(\"Precision_score: \" + precision_score.astype(str))\n",
    "        print(\"ROC/AUC score: \" + roc_auc_score.astype(str))\n",
    "        print(\"F1 score: \" + f1_score.astype(str))\n",
    "        print(\"\\n\")\n",
    "\n",
    "\n",
    "def fit_Model(model, X_fitting, y_fitting, eval_metrics=False, confusion_matrix = False):\n",
    "    model.fit(X_fitting,y_fitting)\n",
    "    print(f'Performance of model {model}')\n",
    "    if eval_metrics or confusion_matrix:\n",
    "        y_fitting_pred = model.predict(X_fitting)>0.5\n",
    "        if eval_metrics:\n",
    "            EvalMetrics(y_fitting, y_fitting_pred)\n",
    "        if confusion_matrix:\n",
    "            print(f'Confusion Matrix on the fitting data')\n",
    "            ShowConfusionMatrix(y_fitting, y_fitting_pred)\n",
    "\n",
    "    return model"
   ]
  },
  {
   "cell_type": "raw",
   "source": [
    "\n",
    "def EvalModel(model, X_train, y_train, X_test, y_test, verbose = False, confusion_matrix = False):\n",
    "\n",
    "    #fit model\n",
    "    model.fit(X_train,y_train)\n",
    "\n",
    "    # use the model passed as a parameter to make predictions, which we will use to judge the model\n",
    "\n",
    "    y_predicted = model.predict(X_test).round() # require rounding for xgboost and logistic regression\n",
    "\n",
    "    if(confusion_matrix):\n",
    "\n",
    "    if(verbose):\n",
    "        EvalMetrics(model, y_test,y_predicted)\n",
    "    else:\n",
    "        return metrics.accuracy_score(y_test, y_predicted)\n",
    "\n",
    "\n"
   ],
   "metadata": {
    "collapsed": false,
    "pycharm": {
     "name": "#%% raw\n"
    }
   }
  }
 ],
 "metadata": {
  "kernelspec": {
   "display_name": "Python 3",
   "language": "python",
   "name": "python3"
  },
  "language_info": {
   "codemirror_mode": {
    "name": "ipython",
    "version": 3
   },
   "file_extension": ".py",
   "mimetype": "text/x-python",
   "name": "python",
   "nbconvert_exporter": "python",
   "pygments_lexer": "ipython3",
   "version": "3.8.1"
  }
 },
 "nbformat": 4,
 "nbformat_minor": 4
}