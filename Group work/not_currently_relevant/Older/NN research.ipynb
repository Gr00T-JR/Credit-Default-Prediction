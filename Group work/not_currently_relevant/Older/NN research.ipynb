{
 "cells": [
  {
   "cell_type": "code",
   "execution_count": 1,
   "metadata": {
    "executionInfo": {
     "elapsed": 2925,
     "status": "ok",
     "timestamp": 1608226293372,
     "user": {
      "displayName": "Ryan Martini",
      "photoUrl": "",
      "userId": "01591343502175491622"
     },
     "user_tz": 0
    },
    "id": "92NJBb2QWplM"
   },
   "outputs": [],
   "source": [
    "# imports\n",
    "import numpy as np\n",
    "import pandas as pd\n",
    "import seaborn as sns\n",
    "import matplotlib.pyplot as plt\n",
    "from keras.models import Sequential\n",
    "from keras.layers import Dense, Dropout"
   ]
  },
  {
   "cell_type": "code",
   "execution_count": 2,
   "metadata": {
    "executionInfo": {
     "elapsed": 443,
     "status": "ok",
     "timestamp": 1608226571673,
     "user": {
      "displayName": "Ryan Martini",
      "photoUrl": "",
      "userId": "01591343502175491622"
     },
     "user_tz": 0
    },
    "id": "Tsqa8BnZVVZu"
   },
   "outputs": [],
   "source": [
    "# load data\n",
    "train = 'DataFiles/CreditCard_test.csv'\n",
    "test = 'DataFiles/CreditCard_test.csv'\n",
    "\n",
    "train_dataset = pd.read_csv(train, index_col=0, header=1)\n",
    "test_dataset = pd.read_csv(test, index_col=0, header=1)"
   ]
  },
  {
   "cell_type": "code",
   "execution_count": 3,
   "metadata": {
    "executionInfo": {
     "elapsed": 458,
     "status": "ok",
     "timestamp": 1608226573368,
     "user": {
      "displayName": "Ryan Martini",
      "photoUrl": "",
      "userId": "01591343502175491622"
     },
     "user_tz": 0
    },
    "id": "OTd4aTGcfxKZ"
   },
   "outputs": [],
   "source": [
    "# split X, y\n",
    "X_train, y_train = train_dataset.iloc[:,:-1], train_dataset.iloc[:,-1:]\n",
    "X_test, y_test = test_dataset.iloc[:,:-1], test_dataset.iloc[:,-1:]\n",
    "\n",
    "# reshape y into 1d column vector\n",
    "y_train, y_test = np.reshape(y_train, (y_train.shape[0],)), np.reshape(y_test, (y_test.shape[0],))"
   ]
  },
  {
   "cell_type": "code",
   "execution_count": 4,
   "metadata": {
    "colab": {
     "base_uri": "https://localhost:8080/",
     "height": 1000
    },
    "executionInfo": {
     "elapsed": 34697,
     "status": "ok",
     "timestamp": 1608215072847,
     "user": {
      "displayName": "Ryan Martini",
      "photoUrl": "",
      "userId": "01591343502175491622"
     },
     "user_tz": 0
    },
    "id": "V-vG1k4hgDf8",
    "outputId": "a70c3629-07d3-426a-aedf-8cdfd18172ee"
   },
   "outputs": [
    {
     "name": "stdout",
     "output_type": "stream",
     "text": [
      "Epoch 1/50\n",
      "540/540 [==============================] - 2s 2ms/step - loss: 5321.4520 - accuracy: 0.6376 - val_loss: 462.1561 - val_accuracy: 0.6583\n",
      "Epoch 2/50\n",
      "540/540 [==============================] - 0s 780us/step - loss: 434.3044 - accuracy: 0.7321 - val_loss: 257.4911 - val_accuracy: 0.6550\n",
      "Epoch 3/50\n",
      "540/540 [==============================] - 0s 788us/step - loss: 256.6584 - accuracy: 0.7339 - val_loss: 365.9947 - val_accuracy: 0.6000\n",
      "Epoch 4/50\n",
      "540/540 [==============================] - 0s 807us/step - loss: 194.9026 - accuracy: 0.7358 - val_loss: 101.3847 - val_accuracy: 0.6917\n",
      "Epoch 5/50\n",
      "540/540 [==============================] - 0s 799us/step - loss: 198.0121 - accuracy: 0.7141 - val_loss: 158.0212 - val_accuracy: 0.7233\n",
      "Epoch 6/50\n",
      "540/540 [==============================] - 0s 797us/step - loss: 145.1840 - accuracy: 0.7265 - val_loss: 108.8815 - val_accuracy: 0.7400\n",
      "Epoch 7/50\n",
      "540/540 [==============================] - 0s 797us/step - loss: 138.8416 - accuracy: 0.7154 - val_loss: 169.8436 - val_accuracy: 0.6750\n",
      "Epoch 8/50\n",
      "540/540 [==============================] - 0s 914us/step - loss: 139.8155 - accuracy: 0.7139 - val_loss: 77.8252 - val_accuracy: 0.7317\n",
      "Epoch 9/50\n",
      "540/540 [==============================] - 0s 871us/step - loss: 151.6408 - accuracy: 0.7318 - val_loss: 118.8304 - val_accuracy: 0.7467\n",
      "Epoch 10/50\n",
      "540/540 [==============================] - 0s 806us/step - loss: 103.6843 - accuracy: 0.7129 - val_loss: 143.7516 - val_accuracy: 0.5867\n",
      "Epoch 11/50\n",
      "540/540 [==============================] - 0s 806us/step - loss: 113.1069 - accuracy: 0.7066 - val_loss: 143.2742 - val_accuracy: 0.7500\n",
      "Epoch 12/50\n",
      "540/540 [==============================] - 0s 910us/step - loss: 135.0963 - accuracy: 0.7054 - val_loss: 89.5091 - val_accuracy: 0.7283\n",
      "Epoch 13/50\n",
      "540/540 [==============================] - 0s 839us/step - loss: 102.8467 - accuracy: 0.7005 - val_loss: 103.0060 - val_accuracy: 0.7400\n",
      "Epoch 14/50\n",
      "540/540 [==============================] - 0s 796us/step - loss: 101.0571 - accuracy: 0.6976 - val_loss: 84.4754 - val_accuracy: 0.5700\n",
      "Epoch 15/50\n",
      "540/540 [==============================] - 0s 829us/step - loss: 103.1069 - accuracy: 0.7247 - val_loss: 96.0665 - val_accuracy: 0.5933\n",
      "Epoch 16/50\n",
      "540/540 [==============================] - 0s 873us/step - loss: 86.8551 - accuracy: 0.7159 - val_loss: 63.6525 - val_accuracy: 0.6567\n",
      "Epoch 17/50\n",
      "540/540 [==============================] - 1s 1ms/step - loss: 87.5572 - accuracy: 0.7139 - val_loss: 114.7979 - val_accuracy: 0.5983\n",
      "Epoch 18/50\n",
      "540/540 [==============================] - 1s 1ms/step - loss: 91.9925 - accuracy: 0.7185 - val_loss: 89.2466 - val_accuracy: 0.7317\n",
      "Epoch 19/50\n",
      "540/540 [==============================] - 1s 1ms/step - loss: 92.3988 - accuracy: 0.7141 - val_loss: 105.0303 - val_accuracy: 0.7417\n",
      "Epoch 20/50\n",
      "540/540 [==============================] - 1s 995us/step - loss: 84.1530 - accuracy: 0.6834 - val_loss: 65.4773 - val_accuracy: 0.6500\n",
      "Epoch 21/50\n",
      "540/540 [==============================] - 1s 1ms/step - loss: 82.1669 - accuracy: 0.7146 - val_loss: 75.3107 - val_accuracy: 0.4333\n",
      "Epoch 22/50\n",
      "540/540 [==============================] - 1s 1ms/step - loss: 74.7713 - accuracy: 0.7142 - val_loss: 82.4559 - val_accuracy: 0.5617\n",
      "Epoch 23/50\n",
      "540/540 [==============================] - 1s 966us/step - loss: 73.8568 - accuracy: 0.7114 - val_loss: 90.9612 - val_accuracy: 0.7450\n",
      "Epoch 24/50\n",
      "540/540 [==============================] - 0s 891us/step - loss: 77.6838 - accuracy: 0.7074 - val_loss: 118.7799 - val_accuracy: 0.6317\n",
      "Epoch 25/50\n",
      "540/540 [==============================] - 0s 842us/step - loss: 64.6406 - accuracy: 0.7148 - val_loss: 78.5414 - val_accuracy: 0.6150\n",
      "Epoch 26/50\n",
      "540/540 [==============================] - 1s 932us/step - loss: 66.1403 - accuracy: 0.7087 - val_loss: 131.3623 - val_accuracy: 0.7517\n",
      "Epoch 27/50\n",
      "540/540 [==============================] - 0s 871us/step - loss: 70.5553 - accuracy: 0.7270 - val_loss: 74.5889 - val_accuracy: 0.5767\n",
      "Epoch 28/50\n",
      "540/540 [==============================] - 0s 921us/step - loss: 64.2767 - accuracy: 0.6878 - val_loss: 82.3747 - val_accuracy: 0.7117\n",
      "Epoch 29/50\n",
      "540/540 [==============================] - 1s 958us/step - loss: 61.8298 - accuracy: 0.7131 - val_loss: 66.0716 - val_accuracy: 0.7617\n",
      "Epoch 30/50\n",
      "540/540 [==============================] - 1s 1ms/step - loss: 76.9636 - accuracy: 0.7209 - val_loss: 92.7235 - val_accuracy: 0.5883\n",
      "Epoch 31/50\n",
      "540/540 [==============================] - 1s 1ms/step - loss: 77.2531 - accuracy: 0.7091 - val_loss: 72.6350 - val_accuracy: 0.7233\n",
      "Epoch 32/50\n",
      "540/540 [==============================] - 1s 988us/step - loss: 70.0456 - accuracy: 0.7027 - val_loss: 40.3741 - val_accuracy: 0.7117\n",
      "Epoch 33/50\n",
      "540/540 [==============================] - 1s 1ms/step - loss: 55.8920 - accuracy: 0.7153 - val_loss: 52.3748 - val_accuracy: 0.7450\n",
      "Epoch 34/50\n",
      "540/540 [==============================] - 1s 1ms/step - loss: 52.7083 - accuracy: 0.7183 - val_loss: 127.7029 - val_accuracy: 0.7483\n",
      "Epoch 35/50\n",
      "540/540 [==============================] - 1s 1ms/step - loss: 63.1597 - accuracy: 0.7022 - val_loss: 49.1956 - val_accuracy: 0.6900\n",
      "Epoch 36/50\n",
      "540/540 [==============================] - 1s 988us/step - loss: 60.8666 - accuracy: 0.7081 - val_loss: 71.0049 - val_accuracy: 0.7400\n",
      "Epoch 37/50\n",
      "540/540 [==============================] - 1s 1ms/step - loss: 61.8565 - accuracy: 0.7203 - val_loss: 69.1755 - val_accuracy: 0.5183\n",
      "Epoch 38/50\n",
      "540/540 [==============================] - 1s 1ms/step - loss: 51.9088 - accuracy: 0.7067 - val_loss: 92.7308 - val_accuracy: 0.7500\n",
      "Epoch 39/50\n",
      "540/540 [==============================] - 1s 1ms/step - loss: 59.7045 - accuracy: 0.7185 - val_loss: 83.3165 - val_accuracy: 0.6867\n",
      "Epoch 40/50\n",
      "540/540 [==============================] - 1s 988us/step - loss: 55.3043 - accuracy: 0.7191 - val_loss: 73.5031 - val_accuracy: 0.7467\n",
      "Epoch 41/50\n",
      "540/540 [==============================] - 1s 1ms/step - loss: 51.3605 - accuracy: 0.7215 - val_loss: 70.5686 - val_accuracy: 0.7433\n",
      "Epoch 42/50\n",
      "540/540 [==============================] - 1s 1ms/step - loss: 52.7400 - accuracy: 0.7045 - val_loss: 32.9307 - val_accuracy: 0.6483\n",
      "Epoch 43/50\n",
      "540/540 [==============================] - 1s 1ms/step - loss: 51.1147 - accuracy: 0.7135 - val_loss: 180.8439 - val_accuracy: 0.5567\n",
      "Epoch 44/50\n",
      "540/540 [==============================] - 1s 1ms/step - loss: 43.5871 - accuracy: 0.7247 - val_loss: 56.2872 - val_accuracy: 0.7500\n",
      "Epoch 45/50\n",
      "540/540 [==============================] - 1s 981us/step - loss: 42.8255 - accuracy: 0.7263 - val_loss: 67.6181 - val_accuracy: 0.6717\n",
      "Epoch 46/50\n",
      "540/540 [==============================] - 1s 1ms/step - loss: 48.2112 - accuracy: 0.7014 - val_loss: 28.4587 - val_accuracy: 0.6600\n",
      "Epoch 47/50\n",
      "540/540 [==============================] - 1s 994us/step - loss: 42.0036 - accuracy: 0.7198 - val_loss: 54.2828 - val_accuracy: 0.7517\n",
      "Epoch 48/50\n",
      "540/540 [==============================] - 1s 1ms/step - loss: 32.2761 - accuracy: 0.7091 - val_loss: 66.0546 - val_accuracy: 0.6167\n",
      "Epoch 49/50\n",
      "540/540 [==============================] - 1s 965us/step - loss: 36.2949 - accuracy: 0.7038 - val_loss: 70.5885 - val_accuracy: 0.7500\n",
      "Epoch 50/50\n",
      "540/540 [==============================] - 1s 1ms/step - loss: 42.1555 - accuracy: 0.7014 - val_loss: 29.2108 - val_accuracy: 0.7383\n",
      "dict_keys(['loss', 'accuracy', 'val_loss', 'val_accuracy'])\n"
     ]
    },
    {
     "data": {
      "image/png": "[encoded data removed]",
      "text/plain": [
       "<Figure size 432x288 with 1 Axes>"
      ]
     },
     "metadata": {
      "needs_background": "light"
     },
     "output_type": "display_data"
    },
    {
     "data": {
      "image/png": "[encoded data removed]",
      "text/plain": [
       "<Figure size 432x288 with 1 Axes>"
      ]
     },
     "metadata": {
      "needs_background": "light"
     },
     "output_type": "display_data"
    },
    {
     "name": "stdout",
     "output_type": "stream",
     "text": [
      "188/188 [==============================] - 0s 949us/step - loss: 23.3347 - accuracy: 0.7888\n",
      "Training Accuracy: 78.88\n",
      "188/188 [==============================] - 0s 961us/step - loss: 23.3347 - accuracy: 0.7888\n",
      "Testing Accuracy: 78.88\n"
     ]
    }
   ],
   "source": [
    "\n",
    "input_dim = X_train.shape[1]\n",
    "\n",
    "# simple sequential model\n",
    "model = Sequential()\n",
    "model.add(Dense(12, input_dim=input_dim, activation='relu'))\n",
    "model.add(Dense(8, activation='relu'))\n",
    "model.add(Dense(1, activation='sigmoid'))\n",
    "\n",
    "# compile the keras model\n",
    "model.compile(loss='binary_crossentropy', optimizer='adam', metrics=['accuracy'])\n",
    "\n",
    "\n",
    "# fit the keras model on the dataset\n",
    "history = model.fit(X_train, y_train, validation_split=0.1, epochs=50, batch_size=10)\n",
    "# list all data in history\n",
    "print(history.history.keys())\n",
    "# summarize history for accuracy\n",
    "plt.plot(history.history['accuracy'])\n",
    "plt.plot(history.history['val_accuracy'])\n",
    "plt.title('model accuracy')\n",
    "plt.ylabel('accuracy')\n",
    "plt.xlabel('epoch')\n",
    "plt.legend(['train', 'test'], loc='upper left')\n",
    "plt.show()\n",
    "# summarize history for loss\n",
    "plt.plot(history.history['loss'])\n",
    "plt.plot(history.history['val_loss'])\n",
    "plt.title('model loss')\n",
    "plt.ylabel('loss')\n",
    "plt.xlabel('epoch')\n",
    "plt.legend(['train', 'test'], loc='upper left')\n",
    "plt.show()\n",
    "\n",
    "\n",
    "\n",
    "# get final testing and training accuracy\n",
    "_, accuracy = model.evaluate(X_train, y_train)\n",
    "print('Training Accuracy: %.2f' % (accuracy*100))\n",
    "\n",
    "_, accuracy = model.evaluate(X_test, y_test)\n",
    "print('Testing Accuracy: %.2f' % (accuracy*100))\n"
   ]
  },
  {
   "cell_type": "code",
   "execution_count": 5,
   "metadata": {
    "colab": {
     "base_uri": "https://localhost:8080/",
     "height": 1000
    },
    "executionInfo": {
     "elapsed": 195260,
     "status": "ok",
     "timestamp": 1608209748490,
     "user": {
      "displayName": "Ryan Martini",
      "photoUrl": "",
      "userId": "01591343502175491622"
     },
     "user_tz": 0
    },
    "id": "OGUEXlh2jQM3",
    "outputId": "145dd359-c548-4d34-aea7-b37f74b787cf"
   },
   "outputs": [
    {
     "name": "stdout",
     "output_type": "stream",
     "text": [
      "Epoch 1/50\n",
      "1080/1080 [==============================] - 2s 1ms/step - loss: 12241.5468 - accuracy: 0.5507 - val_loss: 223.1666 - val_accuracy: 0.7483\n",
      "Epoch 2/50\n",
      "1080/1080 [==============================] - 1s 960us/step - loss: 612.8606 - accuracy: 0.6874 - val_loss: 62.7333 - val_accuracy: 0.7517\n",
      "Epoch 3/50\n",
      "1080/1080 [==============================] - 1s 1ms/step - loss: 202.0342 - accuracy: 0.7302 - val_loss: 13.6926 - val_accuracy: 0.7517\n",
      "Epoch 4/50\n",
      "1080/1080 [==============================] - 1s 1ms/step - loss: 59.2552 - accuracy: 0.7363 - val_loss: 6.6352 - val_accuracy: 0.7483\n",
      "Epoch 5/50\n",
      "1080/1080 [==============================] - 1s 1ms/step - loss: 23.0133 - accuracy: 0.7706 - val_loss: 1.5952 - val_accuracy: 0.7517\n",
      "Epoch 6/50\n",
      "1080/1080 [==============================] - 1s 1ms/step - loss: 46.0982 - accuracy: 0.7899 - val_loss: 1.2844 - val_accuracy: 0.7500\n",
      "Epoch 7/50\n",
      "1080/1080 [==============================] - 1s 1ms/step - loss: 21.2238 - accuracy: 0.7887 - val_loss: 1.2400 - val_accuracy: 0.7500\n",
      "Epoch 8/50\n",
      "1080/1080 [==============================] - 1s 1ms/step - loss: 1.5593 - accuracy: 0.7932 - val_loss: 1.2081 - val_accuracy: 0.7500\n",
      "Epoch 9/50\n",
      "1080/1080 [==============================] - 1s 1ms/step - loss: 0.7997 - accuracy: 0.7970 - val_loss: 1.2097 - val_accuracy: 0.7467\n",
      "Epoch 10/50\n",
      "1080/1080 [==============================] - 1s 1ms/step - loss: 2.8088 - accuracy: 0.7915 - val_loss: 0.9024 - val_accuracy: 0.7517\n",
      "Epoch 11/50\n",
      "1080/1080 [==============================] - 1s 1ms/step - loss: 8.6388 - accuracy: 0.7899 - val_loss: 0.8569 - val_accuracy: 0.7517\n",
      "Epoch 12/50\n",
      "1080/1080 [==============================] - 1s 1ms/step - loss: 0.5726 - accuracy: 0.7976 - val_loss: 0.7209 - val_accuracy: 0.7517\n",
      "Epoch 13/50\n",
      "1080/1080 [==============================] - 1s 1ms/step - loss: 0.5393 - accuracy: 0.7871 - val_loss: 0.6436 - val_accuracy: 0.7517\n",
      "Epoch 14/50\n",
      "1080/1080 [==============================] - 1s 1ms/step - loss: 0.6118 - accuracy: 0.7952 - val_loss: 0.6237 - val_accuracy: 0.7517\n",
      "Epoch 15/50\n",
      "1080/1080 [==============================] - 2s 1ms/step - loss: 0.8868 - accuracy: 0.7935 - val_loss: 0.6367 - val_accuracy: 0.7517\n",
      "Epoch 16/50\n",
      "1080/1080 [==============================] - 1s 1ms/step - loss: 0.5213 - accuracy: 0.7894 - val_loss: 0.5959 - val_accuracy: 0.7517\n",
      "Epoch 17/50\n",
      "1080/1080 [==============================] - 1s 1ms/step - loss: 0.5245 - accuracy: 0.7883 - val_loss: 0.6199 - val_accuracy: 0.7517\n",
      "Epoch 18/50\n",
      "1080/1080 [==============================] - 1s 1ms/step - loss: 0.5355 - accuracy: 0.7870 - val_loss: 0.5952 - val_accuracy: 0.7517\n",
      "Epoch 19/50\n",
      "1080/1080 [==============================] - 1s 1ms/step - loss: 0.5161 - accuracy: 0.7998 - val_loss: 0.5864 - val_accuracy: 0.7517\n",
      "Epoch 20/50\n",
      "1080/1080 [==============================] - 1s 1ms/step - loss: 0.5634 - accuracy: 0.8000 - val_loss: 0.6279 - val_accuracy: 0.7517\n",
      "Epoch 21/50\n",
      "1080/1080 [==============================] - 1s 1ms/step - loss: 0.5274 - accuracy: 0.7950 - val_loss: 0.6060 - val_accuracy: 0.7517\n",
      "Epoch 22/50\n",
      "1080/1080 [==============================] - 2s 1ms/step - loss: 0.5127 - accuracy: 0.7898 - val_loss: 0.6057 - val_accuracy: 0.7517\n",
      "Epoch 23/50\n",
      "1080/1080 [==============================] - 1s 1ms/step - loss: 0.6898 - accuracy: 0.7912 - val_loss: 0.5715 - val_accuracy: 0.7517\n",
      "Epoch 24/50\n",
      "1080/1080 [==============================] - 1s 1ms/step - loss: 0.8760 - accuracy: 0.7932 - val_loss: 0.5833 - val_accuracy: 0.7517\n",
      "Epoch 25/50\n",
      "1080/1080 [==============================] - 1s 1ms/step - loss: 0.4892 - accuracy: 0.8075 - val_loss: 0.5830 - val_accuracy: 0.7517\n",
      "Epoch 26/50\n",
      "1080/1080 [==============================] - 1s 1ms/step - loss: 0.5077 - accuracy: 0.7977 - val_loss: 0.5758 - val_accuracy: 0.7517\n",
      "Epoch 27/50\n",
      "1080/1080 [==============================] - 1s 1ms/step - loss: 0.4949 - accuracy: 0.8037 - val_loss: 0.5761 - val_accuracy: 0.7517\n",
      "Epoch 28/50\n",
      "1080/1080 [==============================] - 1s 1ms/step - loss: 1.0122 - accuracy: 0.7972 - val_loss: 0.5658 - val_accuracy: 0.7517\n",
      "Epoch 29/50\n",
      "1080/1080 [==============================] - 1s 1ms/step - loss: 0.5064 - accuracy: 0.7948 - val_loss: 0.5661 - val_accuracy: 0.7517\n",
      "Epoch 30/50\n",
      "1080/1080 [==============================] - 1s 1ms/step - loss: 0.5061 - accuracy: 0.7955 - val_loss: 0.5681 - val_accuracy: 0.7517\n",
      "Epoch 31/50\n",
      "1080/1080 [==============================] - 2s 1ms/step - loss: 0.5121 - accuracy: 0.7908 - val_loss: 0.5676 - val_accuracy: 0.7517\n",
      "Epoch 32/50\n",
      "1080/1080 [==============================] - 1s 1ms/step - loss: 0.5148 - accuracy: 0.7899 - val_loss: 0.5668 - val_accuracy: 0.7517\n",
      "Epoch 33/50\n",
      "1080/1080 [==============================] - 1s 1ms/step - loss: 0.5089 - accuracy: 0.7939 - val_loss: 0.5662 - val_accuracy: 0.7517\n",
      "Epoch 34/50\n",
      "1080/1080 [==============================] - 1s 1ms/step - loss: 0.5048 - accuracy: 0.7972 - val_loss: 0.5655 - val_accuracy: 0.7517\n",
      "Epoch 35/50\n",
      "1080/1080 [==============================] - 1s 1ms/step - loss: 0.4964 - accuracy: 0.8031 - val_loss: 0.5654 - val_accuracy: 0.7517\n",
      "Epoch 36/50\n",
      "1080/1080 [==============================] - 1s 1ms/step - loss: 0.5067 - accuracy: 0.7957 - val_loss: 0.5650 - val_accuracy: 0.7517\n",
      "Epoch 37/50\n",
      "1080/1080 [==============================] - 1s 1ms/step - loss: 0.5160 - accuracy: 0.7884 - val_loss: 0.5654 - val_accuracy: 0.7517\n",
      "Epoch 38/50\n",
      "1080/1080 [==============================] - 2s 1ms/step - loss: 0.5164 - accuracy: 0.7882 - val_loss: 0.5663 - val_accuracy: 0.7517\n",
      "Epoch 39/50\n",
      "1080/1080 [==============================] - 1s 1ms/step - loss: 0.5125 - accuracy: 0.7910 - val_loss: 0.5659 - val_accuracy: 0.7517\n",
      "Epoch 40/50\n",
      "1080/1080 [==============================] - 1s 1ms/step - loss: 0.5091 - accuracy: 0.7935 - val_loss: 0.5653 - val_accuracy: 0.7517\n",
      "Epoch 41/50\n",
      "1080/1080 [==============================] - 1s 1ms/step - loss: 19.1673 - accuracy: 0.7923 - val_loss: 0.5660 - val_accuracy: 0.7517\n",
      "Epoch 42/50\n",
      "1080/1080 [==============================] - 2s 2ms/step - loss: 0.6024 - accuracy: 0.7895 - val_loss: 0.5656 - val_accuracy: 0.7517\n",
      "Epoch 43/50\n",
      "1080/1080 [==============================] - 2s 2ms/step - loss: 0.5079 - accuracy: 0.7947 - val_loss: 0.6362 - val_accuracy: 0.7517\n",
      "Epoch 44/50\n",
      "1080/1080 [==============================] - 1s 1ms/step - loss: 0.5358 - accuracy: 0.7876 - val_loss: 0.6368 - val_accuracy: 0.7517\n",
      "Epoch 45/50\n",
      "1080/1080 [==============================] - 1s 1ms/step - loss: 0.8072 - accuracy: 0.7979 - val_loss: 0.5686 - val_accuracy: 0.7517\n",
      "Epoch 46/50\n",
      "1080/1080 [==============================] - 1s 1ms/step - loss: 0.5115 - accuracy: 0.7944 - val_loss: 0.6269 - val_accuracy: 0.7517\n",
      "Epoch 47/50\n",
      "1080/1080 [==============================] - 1s 1ms/step - loss: 0.5173 - accuracy: 0.7945 - val_loss: 0.6274 - val_accuracy: 0.7517\n",
      "Epoch 48/50\n",
      "1080/1080 [==============================] - 1s 1ms/step - loss: 0.5211 - accuracy: 0.7847 - val_loss: 0.6198 - val_accuracy: 0.7517\n",
      "Epoch 49/50\n",
      "1080/1080 [==============================] - 1s 1ms/step - loss: 0.5111 - accuracy: 0.7925 - val_loss: 0.6183 - val_accuracy: 0.7517\n",
      "Epoch 50/50\n",
      "1080/1080 [==============================] - 1s 1ms/step - loss: 0.5070 - accuracy: 0.7951 - val_loss: 0.6144 - val_accuracy: 0.7517\n",
      "dict_keys(['loss', 'accuracy', 'val_loss', 'val_accuracy'])\n"
     ]
    },
    {
     "data": {
      "image/png": "[encoded data removed]",
      "text/plain": [
       "<Figure size 432x288 with 1 Axes>"
      ]
     },
     "metadata": {
      "needs_background": "light"
     },
     "output_type": "display_data"
    },
    {
     "data": {
      "image/png": "[encoded data removed]",
      "text/plain": [
       "<Figure size 432x288 with 1 Axes>"
      ]
     },
     "metadata": {
      "needs_background": "light"
     },
     "output_type": "display_data"
    },
    {
     "name": "stdout",
     "output_type": "stream",
     "text": [
      "188/188 [==============================] - 0s 1ms/step - loss: 0.5201 - accuracy: 0.7890\n",
      "Training Accuracy: 78.90\n"
     ]
    }
   ],
   "source": [
    "# implementation of this: https://ieeexplore.ieee.org/abstract/document/8966723\n",
    "\n",
    "input_dim = X_train.shape[1]\n",
    "\n",
    "# this model has dropout for regularization\n",
    "model = Sequential()\n",
    "model.add(Dense(input_dim, input_dim=input_dim, activation='relu'))\n",
    "model.add(Dropout(0.5))\n",
    "model.add(Dense(input_dim, activation='relu'))\n",
    "model.add(Dropout(0.5))\n",
    "model.add(Dense(input_dim, activation='relu'))\n",
    "model.add(Dropout(0.5))\n",
    "model.add(Dense(1, activation='sigmoid'))\n",
    "# compile the keras model\n",
    "model.compile(loss='binary_crossentropy', optimizer='adam', metrics=['accuracy'])\n",
    "\n",
    "\n",
    "# fit the keras model on the dataset\n",
    "history = model.fit(X_train, y_train, validation_split=0.1, epochs=50, batch_size=5)\n",
    "# list all data in history\n",
    "print(history.history.keys())\n",
    "# summarize history for accuracy\n",
    "plt.plot(history.history['accuracy'])\n",
    "plt.plot(history.history['val_accuracy'])\n",
    "plt.title('model accuracy')\n",
    "plt.ylabel('accuracy')\n",
    "plt.xlabel('epoch')\n",
    "plt.legend(['train', 'test'], loc='upper left')\n",
    "plt.show()\n",
    "# summarize history for loss\n",
    "plt.plot(history.history['loss'])\n",
    "plt.plot(history.history['val_loss'])\n",
    "plt.title('model loss')\n",
    "plt.ylabel('loss')\n",
    "plt.xlabel('epoch')\n",
    "plt.legend(['train', 'test'], loc='upper left')\n",
    "plt.show()\n",
    "\n",
    "\n",
    "\n",
    "# evaluate the keras model\n",
    "_, accuracy = model.evaluate(X_train, y_train)\n",
    "print('Training Accuracy: %.2f' % (accuracy*100))\n",
    "\n",
    "# _, accuracy = model.evaluate(X_test, y_test)\n",
    "# print('Testing Accuracy: %.2f' % (accuracy*100))\n"
   ]
  },
  {
   "cell_type": "markdown",
   "metadata": {
    "id": "dx5cKLqSG2-Q"
   },
   "source": [
    "Feature Engineering: \n",
    "\n",
    "removing:  AGE, BILL_AMT3 ,BILL_AMT4, BILL_AMT5,  BILL_MT6\n",
    "\n",
    "\n",
    "\n",
    "next: SEX, EDUCATION, MARRIAGE, AGE, BILL_AMT3 ,BILL_AMT4, BILL_AMT5, BILL_MT6\n"
   ]
  },
  {
   "cell_type": "code",
   "execution_count": 6,
   "metadata": {
    "colab": {
     "base_uri": "https://localhost:8080/"
    },
    "executionInfo": {
     "elapsed": 459,
     "status": "ok",
     "timestamp": 1608226576894,
     "user": {
      "displayName": "Ryan Martini",
      "photoUrl": "",
      "userId": "01591343502175491622"
     },
     "user_tz": 0
    },
    "id": "5U8iJ1ZzwmPH",
    "outputId": "88d771f6-c21f-489a-f350-0d8536065b4c"
   },
   "outputs": [
    {
     "name": "stderr",
     "output_type": "stream",
     "text": [
      "/Users/Jurren/Library/Python/3.8/lib/python/site-packages/pandas/core/frame.py:4157: SettingWithCopyWarning: \n",
      "A value is trying to be set on a copy of a slice from a DataFrame\n",
      "\n",
      "See the caveats in the documentation: https://pandas.pydata.org/pandas-docs/stable/user_guide/indexing.html#returning-a-view-versus-a-copy\n",
      "  return super().drop(\n"
     ]
    }
   ],
   "source": [
    "columns = ['AGE', 'BILL_AMT3' ,'BILL_AMT4', 'BILL_AMT5',  'BILL_AMT6']\n",
    "X_train.drop(columns, inplace=True, axis=1)\n",
    "X_test.drop(columns, inplace=True, axis=1)"
   ]
  },
  {
   "cell_type": "code",
   "execution_count": 7,
   "metadata": {
    "colab": {
     "base_uri": "https://localhost:8080/",
     "height": 1000
    },
    "executionInfo": {
     "elapsed": 79813,
     "status": "ok",
     "timestamp": 1608226716094,
     "user": {
      "displayName": "Ryan Martini",
      "photoUrl": "",
      "userId": "01591343502175491622"
     },
     "user_tz": 0
    },
    "id": "QhyYQs8hxvsd",
    "outputId": "a3e25239-28a0-4ad1-a301-1ca677808871"
   },
   "outputs": [
    {
     "name": "stdout",
     "output_type": "stream",
     "text": [
      "Epoch 1/50\n",
      "1080/1080 [==============================] - 2s 1ms/step - loss: 12842.5340 - accuracy: 0.5971 - val_loss: 163.6791 - val_accuracy: 0.7050\n",
      "Epoch 2/50\n",
      "1080/1080 [==============================] - 1s 1ms/step - loss: 836.4039 - accuracy: 0.6751 - val_loss: 26.1353 - val_accuracy: 0.7533\n",
      "Epoch 3/50\n",
      "1080/1080 [==============================] - 1s 1ms/step - loss: 202.9876 - accuracy: 0.7117 - val_loss: 1.3324 - val_accuracy: 0.7517\n",
      "Epoch 4/50\n",
      "1080/1080 [==============================] - 1s 1ms/step - loss: 63.6250 - accuracy: 0.7474 - val_loss: 0.9221 - val_accuracy: 0.7517\n",
      "Epoch 5/50\n",
      "1080/1080 [==============================] - 1s 1ms/step - loss: 20.4682 - accuracy: 0.7678 - val_loss: 0.7912 - val_accuracy: 0.7517\n",
      "Epoch 6/50\n",
      "1080/1080 [==============================] - 1s 1ms/step - loss: 6.6844 - accuracy: 0.7757 - val_loss: 0.8720 - val_accuracy: 0.7517\n",
      "Epoch 7/50\n",
      "1080/1080 [==============================] - 1s 1ms/step - loss: 1.7108 - accuracy: 0.7857 - val_loss: 0.8369 - val_accuracy: 0.7517\n",
      "Epoch 8/50\n",
      "1080/1080 [==============================] - 1s 1ms/step - loss: 1.7665 - accuracy: 0.7871 - val_loss: 0.6841 - val_accuracy: 0.7517\n",
      "Epoch 9/50\n",
      "1080/1080 [==============================] - 2s 2ms/step - loss: 2.2806 - accuracy: 0.7858 - val_loss: 0.7187 - val_accuracy: 0.7517\n",
      "Epoch 10/50\n",
      "1080/1080 [==============================] - 1s 1ms/step - loss: 0.7538 - accuracy: 0.7884 - val_loss: 0.7260 - val_accuracy: 0.7517\n",
      "Epoch 11/50\n",
      "1080/1080 [==============================] - 2s 1ms/step - loss: 0.6247 - accuracy: 0.7889 - val_loss: 0.6546 - val_accuracy: 0.7517\n",
      "Epoch 12/50\n",
      "1080/1080 [==============================] - 2s 2ms/step - loss: 0.5245 - accuracy: 0.7949 - val_loss: 0.6474 - val_accuracy: 0.7517\n",
      "Epoch 13/50\n",
      "1080/1080 [==============================] - 1s 1ms/step - loss: 0.6688 - accuracy: 0.8036 - val_loss: 0.6473 - val_accuracy: 0.7517\n",
      "Epoch 14/50\n",
      "1080/1080 [==============================] - 2s 1ms/step - loss: 0.5164 - accuracy: 0.7991 - val_loss: 0.6525 - val_accuracy: 0.7517\n",
      "Epoch 15/50\n",
      "1080/1080 [==============================] - 2s 1ms/step - loss: 0.5094 - accuracy: 0.7985 - val_loss: 0.6526 - val_accuracy: 0.7517\n",
      "Epoch 16/50\n",
      "1080/1080 [==============================] - 2s 2ms/step - loss: 0.5536 - accuracy: 0.7990 - val_loss: 0.6241 - val_accuracy: 0.7517\n",
      "Epoch 17/50\n",
      "1080/1080 [==============================] - 1s 1ms/step - loss: 0.5490 - accuracy: 0.7984 - val_loss: 0.5636 - val_accuracy: 0.7517\n",
      "Epoch 18/50\n",
      "1080/1080 [==============================] - 1s 1ms/step - loss: 0.7175 - accuracy: 0.7901 - val_loss: 0.5641 - val_accuracy: 0.7517\n",
      "Epoch 19/50\n",
      "1080/1080 [==============================] - 1s 1ms/step - loss: 0.5204 - accuracy: 0.7850 - val_loss: 0.5651 - val_accuracy: 0.7517\n",
      "Epoch 20/50\n",
      "1080/1080 [==============================] - 1s 1ms/step - loss: 0.5176 - accuracy: 0.7871 - val_loss: 0.5652 - val_accuracy: 0.7517\n",
      "Epoch 21/50\n",
      "1080/1080 [==============================] - 1s 1ms/step - loss: 0.5152 - accuracy: 0.7902 - val_loss: 0.5646 - val_accuracy: 0.7517\n",
      "Epoch 22/50\n",
      "1080/1080 [==============================] - 1s 1ms/step - loss: 0.5072 - accuracy: 0.7948 - val_loss: 0.5645 - val_accuracy: 0.7517\n",
      "Epoch 23/50\n",
      "1080/1080 [==============================] - 1s 1ms/step - loss: 0.5098 - accuracy: 0.7937 - val_loss: 0.5677 - val_accuracy: 0.7517\n",
      "Epoch 24/50\n",
      "1080/1080 [==============================] - 2s 1ms/step - loss: 0.5377 - accuracy: 0.7935 - val_loss: 0.5647 - val_accuracy: 0.7517\n",
      "Epoch 25/50\n",
      "1080/1080 [==============================] - 2s 1ms/step - loss: 0.5227 - accuracy: 0.7828 - val_loss: 0.5655 - val_accuracy: 0.7517\n",
      "Epoch 26/50\n",
      "1080/1080 [==============================] - 1s 1ms/step - loss: 0.5066 - accuracy: 0.7953 - val_loss: 0.5645 - val_accuracy: 0.7517\n",
      "Epoch 27/50\n",
      "1080/1080 [==============================] - 2s 2ms/step - loss: 0.5021 - accuracy: 0.7988 - val_loss: 0.5643 - val_accuracy: 0.7517\n",
      "Epoch 28/50\n",
      "1080/1080 [==============================] - 2s 1ms/step - loss: 1.5220 - accuracy: 0.7929 - val_loss: 0.5642 - val_accuracy: 0.7517\n",
      "Epoch 29/50\n",
      "1080/1080 [==============================] - 2s 1ms/step - loss: 0.5162 - accuracy: 0.7882 - val_loss: 0.5648 - val_accuracy: 0.7517\n",
      "Epoch 30/50\n",
      "1080/1080 [==============================] - 3s 3ms/step - loss: 0.5144 - accuracy: 0.7891 - val_loss: 0.5649 - val_accuracy: 0.7517\n",
      "Epoch 31/50\n",
      "1080/1080 [==============================] - 2s 2ms/step - loss: 0.5226 - accuracy: 0.7832 - val_loss: 0.5654 - val_accuracy: 0.7517\n",
      "Epoch 32/50\n",
      "1080/1080 [==============================] - 1s 1ms/step - loss: 0.5461 - accuracy: 0.7898 - val_loss: 0.5656 - val_accuracy: 0.7517\n",
      "Epoch 33/50\n",
      "1080/1080 [==============================] - 1s 1ms/step - loss: 0.5052 - accuracy: 0.7961 - val_loss: 0.5644 - val_accuracy: 0.7517\n",
      "Epoch 34/50\n",
      "1080/1080 [==============================] - 2s 2ms/step - loss: 0.5103 - accuracy: 0.7929 - val_loss: 0.5651 - val_accuracy: 0.7517\n",
      "Epoch 35/50\n",
      "1080/1080 [==============================] - 2s 2ms/step - loss: 0.5101 - accuracy: 0.7931 - val_loss: 0.5645 - val_accuracy: 0.7517\n",
      "Epoch 36/50\n",
      "1080/1080 [==============================] - 2s 2ms/step - loss: 3.2958 - accuracy: 0.7953 - val_loss: 0.5643 - val_accuracy: 0.7517\n",
      "Epoch 37/50\n",
      "1080/1080 [==============================] - 1s 1ms/step - loss: 0.5219 - accuracy: 0.8025 - val_loss: 0.5641 - val_accuracy: 0.7517\n",
      "Epoch 38/50\n",
      "1080/1080 [==============================] - 2s 1ms/step - loss: 0.5043 - accuracy: 0.7972 - val_loss: 0.5644 - val_accuracy: 0.7517\n",
      "Epoch 39/50\n",
      "1080/1080 [==============================] - 1s 1ms/step - loss: 0.6825 - accuracy: 0.7854 - val_loss: 0.5649 - val_accuracy: 0.7517\n",
      "Epoch 40/50\n",
      "1080/1080 [==============================] - 1s 1ms/step - loss: 0.5032 - accuracy: 0.7976 - val_loss: 0.5647 - val_accuracy: 0.7517\n",
      "Epoch 41/50\n",
      "1080/1080 [==============================] - 1s 1ms/step - loss: 0.5016 - accuracy: 0.7994 - val_loss: 0.5641 - val_accuracy: 0.7517\n",
      "Epoch 42/50\n",
      "1080/1080 [==============================] - 1s 1ms/step - loss: 0.5175 - accuracy: 0.7873 - val_loss: 0.5648 - val_accuracy: 0.7517\n",
      "Epoch 43/50\n",
      "1080/1080 [==============================] - 1s 1ms/step - loss: 0.5069 - accuracy: 0.7951 - val_loss: 0.5648 - val_accuracy: 0.7517\n",
      "Epoch 44/50\n",
      "1080/1080 [==============================] - 1s 1ms/step - loss: 1.3593 - accuracy: 0.7946 - val_loss: 0.5644 - val_accuracy: 0.7517\n",
      "Epoch 45/50\n",
      "1080/1080 [==============================] - 1s 1ms/step - loss: 0.5042 - accuracy: 0.7977 - val_loss: 0.5642 - val_accuracy: 0.7517\n",
      "Epoch 46/50\n",
      "1080/1080 [==============================] - 1s 1ms/step - loss: 0.5283 - accuracy: 0.7795 - val_loss: 0.5647 - val_accuracy: 0.7517\n",
      "Epoch 47/50\n",
      "1080/1080 [==============================] - 2s 1ms/step - loss: 0.5130 - accuracy: 0.7907 - val_loss: 0.5648 - val_accuracy: 0.7517\n",
      "Epoch 48/50\n",
      "1080/1080 [==============================] - 2s 1ms/step - loss: 0.5112 - accuracy: 0.7918 - val_loss: 0.5646 - val_accuracy: 0.7517\n",
      "Epoch 49/50\n",
      "1080/1080 [==============================] - 1s 1ms/step - loss: 0.5030 - accuracy: 0.7986 - val_loss: 0.5646 - val_accuracy: 0.7517\n",
      "Epoch 50/50\n",
      "1080/1080 [==============================] - 1s 1ms/step - loss: 0.5062 - accuracy: 0.7958 - val_loss: 0.5649 - val_accuracy: 0.7517\n",
      "dict_keys(['loss', 'accuracy', 'val_loss', 'val_accuracy'])\n"
     ]
    },
    {
     "data": {
      "image/png": "[encoded data removed]",
      "text/plain": [
       "<Figure size 432x288 with 1 Axes>"
      ]
     },
     "metadata": {
      "needs_background": "light"
     },
     "output_type": "display_data"
    },
    {
     "data": {
      "image/png": "[encoded data removed]",
      "text/plain": [
       "<Figure size 432x288 with 1 Axes>"
      ]
     },
     "metadata": {
      "needs_background": "light"
     },
     "output_type": "display_data"
    },
    {
     "name": "stdout",
     "output_type": "stream",
     "text": [
      "188/188 [==============================] - 0s 1ms/step - loss: 0.5150 - accuracy: 0.7890\n",
      "Training Accuracy: 78.90\n"
     ]
    }
   ],
   "source": [
    "# implementation of this: https://ieeexplore.ieee.org/abstract/document/8966723\n",
    "\n",
    "input_dim = X_train.shape[1]\n",
    "\n",
    "# this model has dropout for regularization\n",
    "model = Sequential()\n",
    "model.add(Dense(input_dim, input_dim=input_dim, activation='relu'))\n",
    "model.add(Dropout(0.5))\n",
    "model.add(Dense(input_dim, activation='relu'))\n",
    "model.add(Dropout(0.5))\n",
    "model.add(Dense(input_dim, activation='relu'))\n",
    "model.add(Dropout(0.5))\n",
    "model.add(Dense(1, activation='sigmoid'))\n",
    "# compile the keras model\n",
    "model.compile(loss='binary_crossentropy', optimizer='adam', metrics=['accuracy'])\n",
    "\n",
    "\n",
    "# fit the keras model on the dataset\n",
    "history = model.fit(X_train, y_train, validation_split=0.1, epochs=50, batch_size=5)\n",
    "# list all data in history\n",
    "print(history.history.keys())\n",
    "# summarize history for accuracy\n",
    "plt.plot(history.history['accuracy'])\n",
    "plt.plot(history.history['val_accuracy'])\n",
    "plt.title('model accuracy')\n",
    "plt.ylabel('accuracy')\n",
    "plt.xlabel('epoch')\n",
    "plt.legend(['train', 'test'], loc='upper left')\n",
    "plt.show()\n",
    "# summarize history for loss\n",
    "plt.plot(history.history['loss'])\n",
    "plt.plot(history.history['val_loss'])\n",
    "plt.title('model loss')\n",
    "plt.ylabel('loss')\n",
    "plt.xlabel('epoch')\n",
    "plt.legend(['train', 'test'], loc='upper left')\n",
    "plt.show()\n",
    "\n",
    "\n",
    "\n",
    "# evaluate the keras model\n",
    "_, accuracy = model.evaluate(X_train, y_train)\n",
    "print('Training Accuracy: %.2f' % (accuracy*100))\n",
    "\n",
    "# \n",
    "_, accuracy = model.evaluate(X_test, y_test)\n",
    "print('Testing Accuracy: %.2f' % (accuracy*100))\n"
   ]
  },
  {
   "cell_type": "code",
   "execution_count": 8,
   "metadata": {},
   "outputs": [
    {
     "name": "stdout",
     "output_type": "stream",
     "text": [
      "188/188 [==============================] - 0s 919us/step - loss: 0.5150 - accuracy: 0.7890\n",
      "Testing Accuracy: 78.90\n"
     ]
    }
   ],
   "source": [
    "_, accuracy = model.evaluate(X_test, y_test)\n",
    "print('Testing Accuracy: %.2f' % (accuracy*100))"
   ]
  },
  {
   "cell_type": "code",
   "execution_count": null,
   "metadata": {},
   "outputs": [],
   "source": []
  }
 ],
 "metadata": {
  "colab": {
   "authorship_tag": "ABX9TyPtmGDkc0ss4qUMHZqeLmft",
   "name": "NN research",
   "provenance": []
  },
  "kernelspec": {
   "display_name": "Python 3",
   "language": "python",
   "name": "python3"
  },
  "language_info": {
   "codemirror_mode": {
    "name": "ipython",
    "version": 3
   },
   "file_extension": ".py",
   "mimetype": "text/x-python",
   "name": "python",
   "nbconvert_exporter": "python",
   "pygments_lexer": "ipython3",
   "version": "3.8.1"
  }
 },
 "nbformat": 4,
 "nbformat_minor": 1
}
