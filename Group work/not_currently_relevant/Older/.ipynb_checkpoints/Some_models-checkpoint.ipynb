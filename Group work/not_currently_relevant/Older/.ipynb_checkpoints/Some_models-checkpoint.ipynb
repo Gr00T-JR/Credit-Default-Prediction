{
 "cells": [
  {
   "cell_type": "markdown",
   "metadata": {},
   "source": [
    "## Imports"
   ]
  },
  {
   "cell_type": "code",
   "execution_count": 1,
   "metadata": {
    "pycharm": {
     "is_executing": true
    }
   },
   "outputs": [],
   "source": [
    "import pandas as pd\n",
    "import seaborn as sns\n",
    "import numpy as np\n",
    "import matplotlib.pyplot as plt\n",
    "%matplotlib inline\n",
    "\n",
    "from sklearn.ensemble import RandomForestClassifier\n",
    "from sklearn.ensemble import VotingClassifier\n",
    "from sklearn.linear_model import LogisticRegression\n",
    "from sklearn.svm import SVC\n",
    "from sklearn.metrics import accuracy_score, precision_score, recall_score\n",
    "import xgboost\n"
   ]
  },
  {
   "cell_type": "code",
   "execution_count": 2,
   "metadata": {
    "pycharm": {
     "is_executing": true
    }
   },
   "outputs": [
    {
     "data": {
      "text/html": [
       "<div>\n",
       "<style scoped>\n",
       "    .dataframe tbody tr th:only-of-type {\n",
       "        vertical-align: middle;\n",
       "    }\n",
       "\n",
       "    .dataframe tbody tr th {\n",
       "        vertical-align: top;\n",
       "    }\n",
       "\n",
       "    .dataframe thead th {\n",
       "        text-align: right;\n",
       "    }\n",
       "</style>\n",
       "<table border=\"1\" class=\"dataframe\">\n",
       "  <thead>\n",
       "    <tr style=\"text-align: right;\">\n",
       "      <th></th>\n",
       "      <th>LIMIT_BAL</th>\n",
       "      <th>SEX</th>\n",
       "      <th>EDUCATION</th>\n",
       "      <th>MARRIAGE</th>\n",
       "      <th>AGE</th>\n",
       "      <th>PAY_0</th>\n",
       "      <th>PAY_2</th>\n",
       "      <th>PAY_3</th>\n",
       "      <th>PAY_4</th>\n",
       "      <th>PAY_5</th>\n",
       "      <th>...</th>\n",
       "      <th>BILL_AMT4</th>\n",
       "      <th>BILL_AMT5</th>\n",
       "      <th>BILL_AMT6</th>\n",
       "      <th>PAY_AMT1</th>\n",
       "      <th>PAY_AMT2</th>\n",
       "      <th>PAY_AMT3</th>\n",
       "      <th>PAY_AMT4</th>\n",
       "      <th>PAY_AMT5</th>\n",
       "      <th>PAY_AMT6</th>\n",
       "      <th>default payment next month</th>\n",
       "    </tr>\n",
       "  </thead>\n",
       "  <tbody>\n",
       "    <tr>\n",
       "      <th>count</th>\n",
       "      <td>6000.000000</td>\n",
       "      <td>6000.000000</td>\n",
       "      <td>6000.000000</td>\n",
       "      <td>6000.000000</td>\n",
       "      <td>6000.000000</td>\n",
       "      <td>6000.00000</td>\n",
       "      <td>6000.000000</td>\n",
       "      <td>6000.00000</td>\n",
       "      <td>6000.000000</td>\n",
       "      <td>6000.000000</td>\n",
       "      <td>...</td>\n",
       "      <td>6000.000000</td>\n",
       "      <td>6000.000000</td>\n",
       "      <td>6000.000000</td>\n",
       "      <td>6000.000000</td>\n",
       "      <td>6.000000e+03</td>\n",
       "      <td>6000.000000</td>\n",
       "      <td>6000.000000</td>\n",
       "      <td>6000.000000</td>\n",
       "      <td>6000.000000</td>\n",
       "      <td>6000.000000</td>\n",
       "    </tr>\n",
       "    <tr>\n",
       "      <th>mean</th>\n",
       "      <td>175437.666667</td>\n",
       "      <td>1.505667</td>\n",
       "      <td>1.876000</td>\n",
       "      <td>1.530333</td>\n",
       "      <td>35.905667</td>\n",
       "      <td>-0.07100</td>\n",
       "      <td>-0.174833</td>\n",
       "      <td>-0.21200</td>\n",
       "      <td>-0.256667</td>\n",
       "      <td>-0.319333</td>\n",
       "      <td>...</td>\n",
       "      <td>46841.991167</td>\n",
       "      <td>41554.274667</td>\n",
       "      <td>40103.959500</td>\n",
       "      <td>6146.250833</td>\n",
       "      <td>6.344473e+03</td>\n",
       "      <td>6251.343500</td>\n",
       "      <td>5156.464167</td>\n",
       "      <td>4862.994000</td>\n",
       "      <td>5319.916667</td>\n",
       "      <td>0.211000</td>\n",
       "    </tr>\n",
       "    <tr>\n",
       "      <th>std</th>\n",
       "      <td>131905.841315</td>\n",
       "      <td>0.500010</td>\n",
       "      <td>0.830104</td>\n",
       "      <td>0.521017</td>\n",
       "      <td>8.990675</td>\n",
       "      <td>1.12376</td>\n",
       "      <td>1.182723</td>\n",
       "      <td>1.16674</td>\n",
       "      <td>1.178850</td>\n",
       "      <td>1.116348</td>\n",
       "      <td>...</td>\n",
       "      <td>69041.251707</td>\n",
       "      <td>62562.774782</td>\n",
       "      <td>61111.043232</td>\n",
       "      <td>21523.044734</td>\n",
       "      <td>3.040158e+04</td>\n",
       "      <td>22638.732479</td>\n",
       "      <td>18466.518562</td>\n",
       "      <td>15310.976004</td>\n",
       "      <td>18355.191015</td>\n",
       "      <td>0.408052</td>\n",
       "    </tr>\n",
       "    <tr>\n",
       "      <th>min</th>\n",
       "      <td>10000.000000</td>\n",
       "      <td>1.000000</td>\n",
       "      <td>0.000000</td>\n",
       "      <td>0.000000</td>\n",
       "      <td>21.000000</td>\n",
       "      <td>-2.00000</td>\n",
       "      <td>-2.000000</td>\n",
       "      <td>-2.00000</td>\n",
       "      <td>-2.000000</td>\n",
       "      <td>-2.000000</td>\n",
       "      <td>...</td>\n",
       "      <td>-65167.000000</td>\n",
       "      <td>-61372.000000</td>\n",
       "      <td>-209051.000000</td>\n",
       "      <td>0.000000</td>\n",
       "      <td>0.000000e+00</td>\n",
       "      <td>0.000000</td>\n",
       "      <td>0.000000</td>\n",
       "      <td>0.000000</td>\n",
       "      <td>0.000000</td>\n",
       "      <td>0.000000</td>\n",
       "    </tr>\n",
       "    <tr>\n",
       "      <th>25%</th>\n",
       "      <td>60000.000000</td>\n",
       "      <td>1.000000</td>\n",
       "      <td>1.000000</td>\n",
       "      <td>1.000000</td>\n",
       "      <td>29.000000</td>\n",
       "      <td>-1.00000</td>\n",
       "      <td>-1.000000</td>\n",
       "      <td>-1.00000</td>\n",
       "      <td>-1.000000</td>\n",
       "      <td>-1.000000</td>\n",
       "      <td>...</td>\n",
       "      <td>2290.750000</td>\n",
       "      <td>1900.000000</td>\n",
       "      <td>1320.000000</td>\n",
       "      <td>1000.000000</td>\n",
       "      <td>9.900000e+02</td>\n",
       "      <td>799.750000</td>\n",
       "      <td>326.000000</td>\n",
       "      <td>278.750000</td>\n",
       "      <td>288.750000</td>\n",
       "      <td>0.000000</td>\n",
       "    </tr>\n",
       "    <tr>\n",
       "      <th>50%</th>\n",
       "      <td>150000.000000</td>\n",
       "      <td>2.000000</td>\n",
       "      <td>2.000000</td>\n",
       "      <td>2.000000</td>\n",
       "      <td>34.000000</td>\n",
       "      <td>0.00000</td>\n",
       "      <td>0.000000</td>\n",
       "      <td>0.00000</td>\n",
       "      <td>0.000000</td>\n",
       "      <td>0.000000</td>\n",
       "      <td>...</td>\n",
       "      <td>19657.000000</td>\n",
       "      <td>18071.500000</td>\n",
       "      <td>17203.500000</td>\n",
       "      <td>2195.500000</td>\n",
       "      <td>2.230000e+03</td>\n",
       "      <td>2000.000000</td>\n",
       "      <td>1634.500000</td>\n",
       "      <td>1590.000000</td>\n",
       "      <td>1697.000000</td>\n",
       "      <td>0.000000</td>\n",
       "    </tr>\n",
       "    <tr>\n",
       "      <th>75%</th>\n",
       "      <td>250000.000000</td>\n",
       "      <td>2.000000</td>\n",
       "      <td>2.000000</td>\n",
       "      <td>2.000000</td>\n",
       "      <td>42.000000</td>\n",
       "      <td>0.00000</td>\n",
       "      <td>0.000000</td>\n",
       "      <td>0.00000</td>\n",
       "      <td>0.000000</td>\n",
       "      <td>0.000000</td>\n",
       "      <td>...</td>\n",
       "      <td>61357.750000</td>\n",
       "      <td>52099.000000</td>\n",
       "      <td>50620.500000</td>\n",
       "      <td>5188.750000</td>\n",
       "      <td>5.042250e+03</td>\n",
       "      <td>5000.000000</td>\n",
       "      <td>4209.500000</td>\n",
       "      <td>4145.000000</td>\n",
       "      <td>4300.000000</td>\n",
       "      <td>0.000000</td>\n",
       "    </tr>\n",
       "    <tr>\n",
       "      <th>max</th>\n",
       "      <td>780000.000000</td>\n",
       "      <td>2.000000</td>\n",
       "      <td>6.000000</td>\n",
       "      <td>3.000000</td>\n",
       "      <td>75.000000</td>\n",
       "      <td>8.00000</td>\n",
       "      <td>7.000000</td>\n",
       "      <td>8.00000</td>\n",
       "      <td>7.000000</td>\n",
       "      <td>7.000000</td>\n",
       "      <td>...</td>\n",
       "      <td>706864.000000</td>\n",
       "      <td>587067.000000</td>\n",
       "      <td>514975.000000</td>\n",
       "      <td>873552.000000</td>\n",
       "      <td>1.227082e+06</td>\n",
       "      <td>889043.000000</td>\n",
       "      <td>621000.000000</td>\n",
       "      <td>426529.000000</td>\n",
       "      <td>443001.000000</td>\n",
       "      <td>1.000000</td>\n",
       "    </tr>\n",
       "  </tbody>\n",
       "</table>\n",
       "<p>8 rows × 24 columns</p>\n",
       "</div>"
      ],
      "text/plain": [
       "           LIMIT_BAL          SEX    EDUCATION     MARRIAGE          AGE  \\\n",
       "count    6000.000000  6000.000000  6000.000000  6000.000000  6000.000000   \n",
       "mean   175437.666667     1.505667     1.876000     1.530333    35.905667   \n",
       "std    131905.841315     0.500010     0.830104     0.521017     8.990675   \n",
       "min     10000.000000     1.000000     0.000000     0.000000    21.000000   \n",
       "25%     60000.000000     1.000000     1.000000     1.000000    29.000000   \n",
       "50%    150000.000000     2.000000     2.000000     2.000000    34.000000   \n",
       "75%    250000.000000     2.000000     2.000000     2.000000    42.000000   \n",
       "max    780000.000000     2.000000     6.000000     3.000000    75.000000   \n",
       "\n",
       "            PAY_0        PAY_2       PAY_3        PAY_4        PAY_5  ...  \\\n",
       "count  6000.00000  6000.000000  6000.00000  6000.000000  6000.000000  ...   \n",
       "mean     -0.07100    -0.174833    -0.21200    -0.256667    -0.319333  ...   \n",
       "std       1.12376     1.182723     1.16674     1.178850     1.116348  ...   \n",
       "min      -2.00000    -2.000000    -2.00000    -2.000000    -2.000000  ...   \n",
       "25%      -1.00000    -1.000000    -1.00000    -1.000000    -1.000000  ...   \n",
       "50%       0.00000     0.000000     0.00000     0.000000     0.000000  ...   \n",
       "75%       0.00000     0.000000     0.00000     0.000000     0.000000  ...   \n",
       "max       8.00000     7.000000     8.00000     7.000000     7.000000  ...   \n",
       "\n",
       "           BILL_AMT4      BILL_AMT5      BILL_AMT6       PAY_AMT1  \\\n",
       "count    6000.000000    6000.000000    6000.000000    6000.000000   \n",
       "mean    46841.991167   41554.274667   40103.959500    6146.250833   \n",
       "std     69041.251707   62562.774782   61111.043232   21523.044734   \n",
       "min    -65167.000000  -61372.000000 -209051.000000       0.000000   \n",
       "25%      2290.750000    1900.000000    1320.000000    1000.000000   \n",
       "50%     19657.000000   18071.500000   17203.500000    2195.500000   \n",
       "75%     61357.750000   52099.000000   50620.500000    5188.750000   \n",
       "max    706864.000000  587067.000000  514975.000000  873552.000000   \n",
       "\n",
       "           PAY_AMT2       PAY_AMT3       PAY_AMT4       PAY_AMT5  \\\n",
       "count  6.000000e+03    6000.000000    6000.000000    6000.000000   \n",
       "mean   6.344473e+03    6251.343500    5156.464167    4862.994000   \n",
       "std    3.040158e+04   22638.732479   18466.518562   15310.976004   \n",
       "min    0.000000e+00       0.000000       0.000000       0.000000   \n",
       "25%    9.900000e+02     799.750000     326.000000     278.750000   \n",
       "50%    2.230000e+03    2000.000000    1634.500000    1590.000000   \n",
       "75%    5.042250e+03    5000.000000    4209.500000    4145.000000   \n",
       "max    1.227082e+06  889043.000000  621000.000000  426529.000000   \n",
       "\n",
       "            PAY_AMT6  default payment next month  \n",
       "count    6000.000000                 6000.000000  \n",
       "mean     5319.916667                    0.211000  \n",
       "std     18355.191015                    0.408052  \n",
       "min         0.000000                    0.000000  \n",
       "25%       288.750000                    0.000000  \n",
       "50%      1697.000000                    0.000000  \n",
       "75%      4300.000000                    0.000000  \n",
       "max    443001.000000                    1.000000  \n",
       "\n",
       "[8 rows x 24 columns]"
      ]
     },
     "execution_count": 2,
     "metadata": {},
     "output_type": "execute_result"
    }
   ],
   "source": [
    "# load data\n",
    "train_csv_file = 'DataFiles/CreditCard_train.csv'\n",
    "test_csv_file = 'DataFiles/CreditCard_test.csv'\n",
    "\n",
    "train_data = pd.read_csv(train_csv_file, index_col=0, header=1)\n",
    "test_data = pd.read_csv(test_csv_file, index_col=0, header=1)\n",
    "\n",
    "train_data.head()\n",
    "train_data.describe()\n",
    "test_data.describe()"
   ]
  },
  {
   "cell_type": "markdown",
   "metadata": {},
   "source": [
    "### feature selection"
   ]
  },
  {
   "cell_type": "raw",
   "metadata": {},
   "source": [
    "train_data = train_data.drop(columns=['SEX', 'AGE', 'MARRIAGE', 'EDUCATION'])\n",
    "test_data = test_data.drop(columns=['SEX', 'AGE', 'MARRIAGE', 'EDUCATION'])"
   ]
  },
  {
   "cell_type": "code",
   "execution_count": 3,
   "metadata": {},
   "outputs": [],
   "source": [
    "X_train, y_train_unprocessed = train_data.iloc[:,:-1], train_data.iloc[:,-1:]\n",
    "y_train = y_train_unprocessed.values.ravel()\n",
    "X_test, y_test_unprocessed = test_data.iloc[:,:-1], test_data.iloc[:,-1:]\n",
    "y_test = y_test_unprocessed.values.ravel()"
   ]
  },
  {
   "cell_type": "markdown",
   "metadata": {},
   "source": [
    "#### kernel PCA"
   ]
  },
  {
   "cell_type": "code",
   "execution_count": 4,
   "metadata": {},
   "outputs": [],
   "source": [
    "from sklearn.decomposition import KernelPCA\n",
    "\n",
    "#transformer = KernelPCA(kernel='poly', degree=3)\n",
    "#X_train_transformed = transformer.fit_transform(X_train[0:4000])\n",
    "#X_train_transformed.shape"
   ]
  },
  {
   "cell_type": "markdown",
   "metadata": {},
   "source": []
  },
  {
   "cell_type": "code",
   "execution_count": null,
   "metadata": {},
   "outputs": [],
   "source": []
  },
  {
   "cell_type": "markdown",
   "metadata": {},
   "source": [
    "## Testing some classifiers"
   ]
  },
  {
   "cell_type": "code",
   "execution_count": 7,
   "metadata": {},
   "outputs": [
    {
     "name": "stdout",
     "output_type": "stream",
     "text": [
      "LogisticRegression 0.789\n",
      "RandomForestClassifier 0.8256666666666667\n",
      "SVC 0.791\n",
      "Pipeline 0.8303333333333334\n"
     ]
    }
   ],
   "source": [
    "log_clf = LogisticRegression(max_iter=10000)\n",
    "rnd_clf = RandomForestClassifier()\n",
    "svm_clf = SVC(gamma='auto')\n",
    "#svm_kernel_clf = SVC(kernel='poly', degree=2)\n",
    "from sklearn.preprocessing import StandardScaler\n",
    "from sklearn.pipeline import make_pipeline\n",
    "svm_scaled_clf = make_pipeline(StandardScaler(), SVC(gamma='auto'))\n",
    "\n",
    "for clf in (log_clf, rnd_clf, svm_clf, svm_scaled_clf):\n",
    "    clf.fit(X_train,y_train)\n",
    "    y_pred = clf.predict(X_test)\n",
    "    print(clf.__class__.__name__, accuracy_score(y_test,y_pred))"
   ]
  },
  {
   "cell_type": "markdown",
   "metadata": {},
   "source": [
    "### Voting classifier"
   ]
  },
  {
   "cell_type": "code",
   "execution_count": null,
   "metadata": {},
   "outputs": [],
   "source": [
    "voting_clf = VotingClassifier(\n",
    "    estimators=[('lr', log_clf), ('rf', rnd_clf)],\n",
    "    voting='hard')\n",
    "voting_clf.fit(X_train,y_train)\n",
    "y_pred = voting_clf.predict(X_test)\n",
    "print(voting_clf.__class__.__name__, accuracy_score(y_test,y_pred))"
   ]
  },
  {
   "cell_type": "markdown",
   "metadata": {},
   "source": [
    "### Adaboosting"
   ]
  },
  {
   "cell_type": "code",
   "execution_count": null,
   "metadata": {},
   "outputs": [],
   "source": [
    "from sklearn.ensemble import AdaBoostClassifier\n",
    "from sklearn.tree import DecisionTreeClassifier\n",
    "\n",
    "ada_clf = AdaBoostClassifier(\n",
    "    DecisionTreeClassifier(max_depth=1), n_estimators=200,\n",
    "    algorithm=\"SAMME.R\", learning_rate=0.5)\n",
    "ada_clf.fit(X_train, y_train)\n",
    "y_pred = ada_clf.predict(X_test)\n",
    "print(accuracy_score(y_test,y_pred))"
   ]
  },
  {
   "cell_type": "code",
   "execution_count": null,
   "metadata": {},
   "outputs": [],
   "source": [
    "y_train_pred = ada_clf.predict(X_train)\n",
    "print(accuracy_score(y_train, y_train_pred))"
   ]
  },
  {
   "cell_type": "markdown",
   "metadata": {},
   "source": [
    "### Gradient Boosting"
   ]
  },
  {
   "cell_type": "code",
   "execution_count": null,
   "metadata": {},
   "outputs": [],
   "source": [
    "from sklearn.tree import DecisionTreeRegressor\n",
    "\n",
    "tree_reg1 = DecisionTreeRegressor(max_depth=2)\n",
    "tree_reg1.fit(X_train,y_train)\n",
    "\n",
    "y_train2 = y_train-tree_reg1.predict(X_train)\n",
    "tree_reg2 = DecisionTreeRegressor(max_depth=2)\n",
    "tree_reg2.fit(X_train,y_train2)\n",
    "\n",
    "y_train3 = y_train2-tree_reg2.predict(X_train)\n",
    "tree_reg3 = DecisionTreeRegressor(max_depth=2)\n",
    "tree_reg3.fit(X_train,y_train3)\n",
    "\n",
    "y_pred = sum(tree.predict(X_test) for tree in (tree_reg1, tree_reg2, tree_reg3))\n",
    "print(accuracy_score(y_test, y_pred.round()))\n",
    "\n",
    "from sklearn.\n"
   ]
  },
  {
   "cell_type": "code",
   "execution_count": null,
   "metadata": {},
   "outputs": [],
   "source": [
    "from sklearn.ensemble import GradientBoostingRegressor\n",
    "\n",
    "gbrt = GradientBoostingRegressor(max_depth=2, n_estimators=20, learning_rate=1)\n",
    "gbrt.fit(X_train, y_train)\n",
    "y_pred = gbrt.predict(X_test)\n",
    "print(\"Train accuracy score: \", accuracy_score(y_train,gbrt.predict(X_train).round()))\n",
    "print(\"Test accuracy score: \", accuracy_score(y_test,y_pred.round()))"
   ]
  },
  {
   "cell_type": "markdown",
   "metadata": {},
   "source": [
    "### xgboost"
   ]
  },
  {
   "cell_type": "code",
   "execution_count": null,
   "metadata": {
    "pycharm": {
     "is_executing": true
    }
   },
   "outputs": [],
   "source": [
    "import xgboost\n",
    "\n",
    "\n",
    "xgb_reg = xgboost.XGBRegressor()\n",
    "xgb_reg.fit(X_train,y_train)\n",
    "y_pred = xgb_reg.predict(X_test)\n",
    "print(accuracy_score(y_test,y_pred.round()))\n",
    "\n"
   ]
  },
  {
   "cell_type": "markdown",
   "metadata": {},
   "source": [
    "### NN - incomplete"
   ]
  },
  {
   "cell_type": "raw",
   "metadata": {},
   "source": [
    "import tensorflow as tf\n",
    "from tensorflow import keras\n",
    "from tensorflow.keras import layers\n",
    "\n",
    "model = keras.models.Sequential([\n",
    "    layers.Flatten(input_shape=[28,28]),\n",
    "    layers.Dense(50, activation='relu'),\n",
    "    layers.Dense(10,activation='softmax')\n",
    "])\n",
    "\n",
    "model.compile(loss='mean_squared_error', optimizer='sgd', metrics=['accuracy'])\n",
    "\n",
    "history = model.fit(X_train, y_train, validation_split=0.1)\n",
    "\n",
    "pd.DataFrame(history.history).plot(figsize=(8,5))\n",
    "plt.gride(True)\n",
    "plt.gca().set_ylim(0,1) # set the vertical range to [0 1]\n",
    "plt.show()\n"
   ]
  },
  {
   "cell_type": "code",
   "execution_count": null,
   "metadata": {},
   "outputs": [],
   "source": []
  }
 ],
 "metadata": {
  "kernelspec": {
   "display_name": "Python 3",
   "language": "python",
   "name": "python3"
  },
  "language_info": {
   "codemirror_mode": {
    "name": "ipython",
    "version": 3
   },
   "file_extension": ".py",
   "mimetype": "text/x-python",
   "name": "python",
   "nbconvert_exporter": "python",
   "pygments_lexer": "ipython3",
   "version": "3.8.1"
  }
 },
 "nbformat": 4,
 "nbformat_minor": 4
}
