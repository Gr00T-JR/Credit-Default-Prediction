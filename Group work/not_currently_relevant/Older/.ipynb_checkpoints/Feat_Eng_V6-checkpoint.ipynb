{
 "cells": [
  {
   "cell_type": "markdown",
   "metadata": {},
   "source": [
    "# Feature Engineering: Draft 1\n",
    "\n",
    "1. Data Cleaning / EDA\n",
    "    1. `AGE`: Creation of 'bins'\n",
    "    2. `EDUCATION`: Grouping categories `4,5,6,0`\n",
    "    3. `PAY_n`: Categorical/One-Hot Encoding\n",
    "    4. `SEX`: Categorical/One-Hot Encoding\n",
    "    5. `MARRIAGE`: Grouping categories `0` and `3`\n",
    "2. Oversampling (SMOTE + ENN)\n",
    "3. Feature Engineering/Creation\n",
    "    1. Timeseries Clustering\n",
    "        1. `PAY` -> `PAY_CLUSTER`\n",
    "        2. `PAY_AMT` -> `PAY_AMT_CLUSTER`\n",
    "    2. Encoding Domain Expertise\n",
    "        1. Average repayment status (categorical)\n",
    "        2. Average bill amount outstanding above/below average payment (categorical)\n",
    "        3. Average *change* in MoM repayment status\n",
    "        4. Frequency variables\n",
    "        5. Outlier Removal\n",
    "5. Feature Selection\n",
    "    1. Weight-based\n",
    "    2. PCA"
   ]
  },
  {
   "cell_type": "markdown",
   "metadata": {},
   "source": [
    "# Preliminaries\n",
    "\n",
    "* **Imports**\n",
    "* **Data Loading**"
   ]
  },
  {
   "cell_type": "code",
   "execution_count": 1,
   "metadata": {
    "ExecuteTime": {
     "end_time": "2021-01-09T15:33:21.643292Z",
     "start_time": "2021-01-09T15:33:19.803848Z"
    },
    "scrolled": true
   },
   "outputs": [],
   "source": [
    "# general tools\n",
    "import pandas as pd\n",
    "import numpy as np\n",
    "import networkx as nx\n",
    "import matplotlib.pyplot as plt\n",
    "%matplotlib inline\n",
    "import seaborn as sns\n",
    "\n",
    "# use Times New Roman\n",
    "plt.rcParams[\"font.family\"] = \"Times New Roman\"\n",
    "\n",
    "# paper style\n",
    "plt.style.use('seaborn-paper')\n",
    "\n",
    "# preprocessing\n",
    "import scipy.cluster.hierarchy as sch\n",
    "\n",
    "from sklearn.cluster import KMeans, AgglomerativeClustering\n",
    "from sklearn.decomposition import PCA\n",
    "from sklearn.metrics import silhouette_score\n",
    "from sklearn.preprocessing import StandardScaler, MinMaxScaler\n",
    "\n",
    "from imblearn.combine import SMOTETomek\n",
    "from imblearn.over_sampling import SMOTE\n",
    "from imblearn.under_sampling import EditedNearestNeighbours\n",
    "\n",
    "from matplotlib import cm\n",
    "from mpl_toolkits.mplot3d import Axes3D"
   ]
  },
  {
   "cell_type": "code",
   "execution_count": 2,
   "metadata": {
    "ExecuteTime": {
     "end_time": "2021-01-09T15:33:21.735237Z",
     "start_time": "2021-01-09T15:33:21.646047Z"
    }
   },
   "outputs": [],
   "source": [
    "# data imports\n",
    "\n",
    "### EDIT FILEPATH IF NECESSARY\n",
    "root = '.'\n",
    "data_dir = '/DataFiles/'\n",
    "\n",
    "# form filepaths\n",
    "data_path = root + data_dir\n",
    "train_file = data_path + 'CreditCard_train.csv'\n",
    "test_file = data_path + 'CreditCard_test.csv'\n",
    "\n",
    "# load\n",
    "_df_train = pd.read_csv(train_file, index_col=0, header=1).rename(columns={'PAY_0':'PAY_1', 'default payment next month':'DEFAULT'})\n",
    "_df_test = pd.read_csv(test_file, index_col=0, header=1).rename(columns={'PAY_0':'PAY_1', 'default payment next month':'DEFAULT'})"
   ]
  },
  {
   "cell_type": "markdown",
   "metadata": {},
   "source": [
    "# Data Cleaning & EDA\n",
    "\n",
    "\n",
    "## Data Cleaning\n",
    "\n",
    "To be cleaned:\n",
    "* `AGE`: Creation of 'bins'\n",
    "* `EDUCATION`: Grouping categories `4,5,6,0`\n",
    "* `PAY_n`: Categorical/One-Hot Encoding\n",
    "* `SEX`: Categorical/One-Hot Encoding\n",
    "* `MARRIAGE`: Grouping categories `0` and `3`"
   ]
  },
  {
   "cell_type": "code",
   "execution_count": 3,
   "metadata": {
    "ExecuteTime": {
     "end_time": "2021-01-09T15:33:21.746373Z",
     "start_time": "2021-01-09T15:33:21.740694Z"
    }
   },
   "outputs": [],
   "source": [
    "# create copy df for handling\n",
    "df_train = _df_train.copy()\n",
    "df_test = _df_test.copy()"
   ]
  },
  {
   "cell_type": "markdown",
   "metadata": {},
   "source": [
    "### Cleaning Vars"
   ]
  },
  {
   "cell_type": "markdown",
   "metadata": {},
   "source": [
    "#### Age"
   ]
  },
  {
   "cell_type": "code",
   "execution_count": 4,
   "metadata": {
    "ExecuteTime": {
     "end_time": "2021-01-09T15:33:21.757657Z",
     "start_time": "2021-01-09T15:33:21.748087Z"
    },
    "scrolled": false
   },
   "outputs": [
    {
     "data": {
      "text/plain": [
       "count    24000.000000\n",
       "mean        35.380458\n",
       "std          9.271050\n",
       "min         21.000000\n",
       "25%         28.000000\n",
       "50%         34.000000\n",
       "75%         41.000000\n",
       "max         79.000000\n",
       "Name: AGE, dtype: float64"
      ]
     },
     "execution_count": 4,
     "metadata": {},
     "output_type": "execute_result"
    }
   ],
   "source": [
    "# inspect\n",
    "_df_train.AGE.describe()"
   ]
  },
  {
   "cell_type": "code",
   "execution_count": 5,
   "metadata": {
    "ExecuteTime": {
     "end_time": "2021-01-09T15:33:21.783076Z",
     "start_time": "2021-01-09T15:33:21.759370Z"
    }
   },
   "outputs": [
    {
     "data": {
      "text/html": [
       "<div>\n",
       "<style scoped>\n",
       "    .dataframe tbody tr th:only-of-type {\n",
       "        vertical-align: middle;\n",
       "    }\n",
       "\n",
       "    .dataframe tbody tr th {\n",
       "        vertical-align: top;\n",
       "    }\n",
       "\n",
       "    .dataframe thead th {\n",
       "        text-align: right;\n",
       "    }\n",
       "</style>\n",
       "<table border=\"1\" class=\"dataframe\">\n",
       "  <thead>\n",
       "    <tr style=\"text-align: right;\">\n",
       "      <th></th>\n",
       "      <th>LIMIT_BAL</th>\n",
       "      <th>SEX</th>\n",
       "      <th>EDUCATION</th>\n",
       "      <th>MARRIAGE</th>\n",
       "      <th>PAY_1</th>\n",
       "      <th>PAY_2</th>\n",
       "      <th>PAY_3</th>\n",
       "      <th>PAY_4</th>\n",
       "      <th>PAY_5</th>\n",
       "      <th>PAY_6</th>\n",
       "      <th>...</th>\n",
       "      <th>BILL_AMT5</th>\n",
       "      <th>BILL_AMT6</th>\n",
       "      <th>PAY_AMT1</th>\n",
       "      <th>PAY_AMT2</th>\n",
       "      <th>PAY_AMT3</th>\n",
       "      <th>PAY_AMT4</th>\n",
       "      <th>PAY_AMT5</th>\n",
       "      <th>PAY_AMT6</th>\n",
       "      <th>DEFAULT</th>\n",
       "      <th>AGE_BIN</th>\n",
       "    </tr>\n",
       "    <tr>\n",
       "      <th>ID</th>\n",
       "      <th></th>\n",
       "      <th></th>\n",
       "      <th></th>\n",
       "      <th></th>\n",
       "      <th></th>\n",
       "      <th></th>\n",
       "      <th></th>\n",
       "      <th></th>\n",
       "      <th></th>\n",
       "      <th></th>\n",
       "      <th></th>\n",
       "      <th></th>\n",
       "      <th></th>\n",
       "      <th></th>\n",
       "      <th></th>\n",
       "      <th></th>\n",
       "      <th></th>\n",
       "      <th></th>\n",
       "      <th></th>\n",
       "      <th></th>\n",
       "      <th></th>\n",
       "    </tr>\n",
       "  </thead>\n",
       "  <tbody>\n",
       "    <tr>\n",
       "      <th>1</th>\n",
       "      <td>20000</td>\n",
       "      <td>2</td>\n",
       "      <td>2</td>\n",
       "      <td>1</td>\n",
       "      <td>2</td>\n",
       "      <td>2</td>\n",
       "      <td>-1</td>\n",
       "      <td>-1</td>\n",
       "      <td>-2</td>\n",
       "      <td>-2</td>\n",
       "      <td>...</td>\n",
       "      <td>0</td>\n",
       "      <td>0</td>\n",
       "      <td>0</td>\n",
       "      <td>689</td>\n",
       "      <td>0</td>\n",
       "      <td>0</td>\n",
       "      <td>0</td>\n",
       "      <td>0</td>\n",
       "      <td>1</td>\n",
       "      <td>1</td>\n",
       "    </tr>\n",
       "    <tr>\n",
       "      <th>2</th>\n",
       "      <td>120000</td>\n",
       "      <td>2</td>\n",
       "      <td>2</td>\n",
       "      <td>2</td>\n",
       "      <td>-1</td>\n",
       "      <td>2</td>\n",
       "      <td>0</td>\n",
       "      <td>0</td>\n",
       "      <td>0</td>\n",
       "      <td>2</td>\n",
       "      <td>...</td>\n",
       "      <td>3455</td>\n",
       "      <td>3261</td>\n",
       "      <td>0</td>\n",
       "      <td>1000</td>\n",
       "      <td>1000</td>\n",
       "      <td>1000</td>\n",
       "      <td>0</td>\n",
       "      <td>2000</td>\n",
       "      <td>1</td>\n",
       "      <td>1</td>\n",
       "    </tr>\n",
       "    <tr>\n",
       "      <th>3</th>\n",
       "      <td>90000</td>\n",
       "      <td>2</td>\n",
       "      <td>2</td>\n",
       "      <td>2</td>\n",
       "      <td>0</td>\n",
       "      <td>0</td>\n",
       "      <td>0</td>\n",
       "      <td>0</td>\n",
       "      <td>0</td>\n",
       "      <td>0</td>\n",
       "      <td>...</td>\n",
       "      <td>14948</td>\n",
       "      <td>15549</td>\n",
       "      <td>1518</td>\n",
       "      <td>1500</td>\n",
       "      <td>1000</td>\n",
       "      <td>1000</td>\n",
       "      <td>1000</td>\n",
       "      <td>5000</td>\n",
       "      <td>0</td>\n",
       "      <td>1</td>\n",
       "    </tr>\n",
       "    <tr>\n",
       "      <th>4</th>\n",
       "      <td>50000</td>\n",
       "      <td>2</td>\n",
       "      <td>2</td>\n",
       "      <td>1</td>\n",
       "      <td>0</td>\n",
       "      <td>0</td>\n",
       "      <td>0</td>\n",
       "      <td>0</td>\n",
       "      <td>0</td>\n",
       "      <td>0</td>\n",
       "      <td>...</td>\n",
       "      <td>28959</td>\n",
       "      <td>29547</td>\n",
       "      <td>2000</td>\n",
       "      <td>2019</td>\n",
       "      <td>1200</td>\n",
       "      <td>1100</td>\n",
       "      <td>1069</td>\n",
       "      <td>1000</td>\n",
       "      <td>0</td>\n",
       "      <td>1</td>\n",
       "    </tr>\n",
       "    <tr>\n",
       "      <th>5</th>\n",
       "      <td>50000</td>\n",
       "      <td>1</td>\n",
       "      <td>2</td>\n",
       "      <td>1</td>\n",
       "      <td>-1</td>\n",
       "      <td>0</td>\n",
       "      <td>-1</td>\n",
       "      <td>0</td>\n",
       "      <td>0</td>\n",
       "      <td>0</td>\n",
       "      <td>...</td>\n",
       "      <td>19146</td>\n",
       "      <td>19131</td>\n",
       "      <td>2000</td>\n",
       "      <td>36681</td>\n",
       "      <td>10000</td>\n",
       "      <td>9000</td>\n",
       "      <td>689</td>\n",
       "      <td>679</td>\n",
       "      <td>0</td>\n",
       "      <td>2</td>\n",
       "    </tr>\n",
       "  </tbody>\n",
       "</table>\n",
       "<p>5 rows × 24 columns</p>\n",
       "</div>"
      ],
      "text/plain": [
       "    LIMIT_BAL  SEX  EDUCATION  MARRIAGE  PAY_1  PAY_2  PAY_3  PAY_4  PAY_5  \\\n",
       "ID                                                                           \n",
       "1       20000    2          2         1      2      2     -1     -1     -2   \n",
       "2      120000    2          2         2     -1      2      0      0      0   \n",
       "3       90000    2          2         2      0      0      0      0      0   \n",
       "4       50000    2          2         1      0      0      0      0      0   \n",
       "5       50000    1          2         1     -1      0     -1      0      0   \n",
       "\n",
       "    PAY_6  ...  BILL_AMT5  BILL_AMT6  PAY_AMT1  PAY_AMT2  PAY_AMT3  PAY_AMT4  \\\n",
       "ID         ...                                                                 \n",
       "1      -2  ...          0          0         0       689         0         0   \n",
       "2       2  ...       3455       3261         0      1000      1000      1000   \n",
       "3       0  ...      14948      15549      1518      1500      1000      1000   \n",
       "4       0  ...      28959      29547      2000      2019      1200      1100   \n",
       "5       0  ...      19146      19131      2000     36681     10000      9000   \n",
       "\n",
       "    PAY_AMT5  PAY_AMT6  DEFAULT  AGE_BIN  \n",
       "ID                                        \n",
       "1          0         0        1        1  \n",
       "2          0      2000        1        1  \n",
       "3       1000      5000        0        1  \n",
       "4       1069      1000        0        1  \n",
       "5        689       679        0        2  \n",
       "\n",
       "[5 rows x 24 columns]"
      ]
     },
     "execution_count": 5,
     "metadata": {},
     "output_type": "execute_result"
    }
   ],
   "source": [
    "# create bins for 'AGE'\n",
    "df_train['AGE_BIN'] = pd.cut(df_train.AGE,\n",
    "                              bins=[20,40,60,100],\n",
    "                              labels=[1,2,3])\n",
    "\n",
    "# drop 'AGE'\n",
    "df_train.drop(['AGE'], axis=1, inplace=True)\n",
    "\n",
    "# inspect\n",
    "df_train.head()"
   ]
  },
  {
   "cell_type": "markdown",
   "metadata": {},
   "source": [
    "#### Education"
   ]
  },
  {
   "cell_type": "code",
   "execution_count": 6,
   "metadata": {
    "ExecuteTime": {
     "end_time": "2021-01-09T15:33:21.791241Z",
     "start_time": "2021-01-09T15:33:21.786490Z"
    }
   },
   "outputs": [
    {
     "data": {
      "text/plain": [
       "2    11360\n",
       "1     8443\n",
       "3     3850\n",
       "5      207\n",
       "4       92\n",
       "6       37\n",
       "0       11\n",
       "Name: EDUCATION, dtype: int64"
      ]
     },
     "execution_count": 6,
     "metadata": {},
     "output_type": "execute_result"
    }
   ],
   "source": [
    "# inspect\n",
    "_df_train.EDUCATION.value_counts()"
   ]
  },
  {
   "cell_type": "code",
   "execution_count": 7,
   "metadata": {
    "ExecuteTime": {
     "end_time": "2021-01-09T15:33:21.800688Z",
     "start_time": "2021-01-09T15:33:21.793860Z"
    },
    "scrolled": true
   },
   "outputs": [
    {
     "data": {
      "text/plain": [
       "2    11360\n",
       "1     8443\n",
       "3     3850\n",
       "4      347\n",
       "Name: EDUCATION, dtype: int64"
      ]
     },
     "execution_count": 7,
     "metadata": {},
     "output_type": "execute_result"
    }
   ],
   "source": [
    "# Group 4,5,6,0 categories for 'EDUCATION'\n",
    "ed_map = {1:1, 2:2, 3:3, 4:4, 5:4, 6:4, 0:4}\n",
    "df_train.EDUCATION = df_train.EDUCATION.map(ed_map)\n",
    "\n",
    "# inspect\n",
    "df_train.EDUCATION.value_counts()"
   ]
  },
  {
   "cell_type": "markdown",
   "metadata": {},
   "source": [
    "#### Marriage"
   ]
  },
  {
   "cell_type": "code",
   "execution_count": 8,
   "metadata": {
    "ExecuteTime": {
     "end_time": "2021-01-09T15:33:21.807102Z",
     "start_time": "2021-01-09T15:33:21.802296Z"
    }
   },
   "outputs": [
    {
     "data": {
      "text/plain": [
       "2    12877\n",
       "1    10813\n",
       "3      269\n",
       "0       41\n",
       "Name: MARRIAGE, dtype: int64"
      ]
     },
     "execution_count": 8,
     "metadata": {},
     "output_type": "execute_result"
    }
   ],
   "source": [
    "# inspect\n",
    "_df_train.MARRIAGE.value_counts()"
   ]
  },
  {
   "cell_type": "code",
   "execution_count": 9,
   "metadata": {
    "ExecuteTime": {
     "end_time": "2021-01-09T15:33:21.815534Z",
     "start_time": "2021-01-09T15:33:21.809007Z"
    }
   },
   "outputs": [
    {
     "data": {
      "text/plain": [
       "2    12877\n",
       "1    10813\n",
       "0      310\n",
       "Name: MARRIAGE, dtype: int64"
      ]
     },
     "execution_count": 9,
     "metadata": {},
     "output_type": "execute_result"
    }
   ],
   "source": [
    "# Group 0, 3 categories for 'MARRIAGE'\n",
    "marr_map = {0:0, 1:1, 2:2, 3:0}\n",
    "df_train.MARRIAGE = df_train.MARRIAGE.map(marr_map)\n",
    "\n",
    "# inspect\n",
    "df_train.MARRIAGE.value_counts()"
   ]
  },
  {
   "cell_type": "markdown",
   "metadata": {},
   "source": [
    "### Encoding Categoricals\n",
    "\n",
    "Need to encode:\n",
    "* `AGE`\n",
    "* `EDUCATION`\n",
    "* `SEX`\n",
    "* `MARRIAGE`\n",
    "\n",
    "Note that we leave `PAY_n` unencoded because it is semi-continuous (i.e. the increase in the figure corresponds to an increase in months outstanding for payment)."
   ]
  },
  {
   "cell_type": "code",
   "execution_count": 10,
   "metadata": {
    "ExecuteTime": {
     "end_time": "2021-01-09T15:33:21.860328Z",
     "start_time": "2021-01-09T15:33:21.817044Z"
    },
    "scrolled": true
   },
   "outputs": [
    {
     "data": {
      "text/html": [
       "<div>\n",
       "<style scoped>\n",
       "    .dataframe tbody tr th:only-of-type {\n",
       "        vertical-align: middle;\n",
       "    }\n",
       "\n",
       "    .dataframe tbody tr th {\n",
       "        vertical-align: top;\n",
       "    }\n",
       "\n",
       "    .dataframe thead th {\n",
       "        text-align: right;\n",
       "    }\n",
       "</style>\n",
       "<table border=\"1\" class=\"dataframe\">\n",
       "  <thead>\n",
       "    <tr style=\"text-align: right;\">\n",
       "      <th></th>\n",
       "      <th>LIMIT_BAL</th>\n",
       "      <th>PAY_1</th>\n",
       "      <th>PAY_2</th>\n",
       "      <th>PAY_3</th>\n",
       "      <th>PAY_4</th>\n",
       "      <th>PAY_5</th>\n",
       "      <th>PAY_6</th>\n",
       "      <th>BILL_AMT1</th>\n",
       "      <th>BILL_AMT2</th>\n",
       "      <th>BILL_AMT3</th>\n",
       "      <th>...</th>\n",
       "      <th>EDUCATION_1</th>\n",
       "      <th>EDUCATION_2</th>\n",
       "      <th>EDUCATION_3</th>\n",
       "      <th>EDUCATION_4</th>\n",
       "      <th>MARRIAGE_0</th>\n",
       "      <th>MARRIAGE_1</th>\n",
       "      <th>MARRIAGE_2</th>\n",
       "      <th>AGE_BIN_1</th>\n",
       "      <th>AGE_BIN_2</th>\n",
       "      <th>AGE_BIN_3</th>\n",
       "    </tr>\n",
       "    <tr>\n",
       "      <th>ID</th>\n",
       "      <th></th>\n",
       "      <th></th>\n",
       "      <th></th>\n",
       "      <th></th>\n",
       "      <th></th>\n",
       "      <th></th>\n",
       "      <th></th>\n",
       "      <th></th>\n",
       "      <th></th>\n",
       "      <th></th>\n",
       "      <th></th>\n",
       "      <th></th>\n",
       "      <th></th>\n",
       "      <th></th>\n",
       "      <th></th>\n",
       "      <th></th>\n",
       "      <th></th>\n",
       "      <th></th>\n",
       "      <th></th>\n",
       "      <th></th>\n",
       "      <th></th>\n",
       "    </tr>\n",
       "  </thead>\n",
       "  <tbody>\n",
       "    <tr>\n",
       "      <th>1</th>\n",
       "      <td>20000</td>\n",
       "      <td>2</td>\n",
       "      <td>2</td>\n",
       "      <td>-1</td>\n",
       "      <td>-1</td>\n",
       "      <td>-2</td>\n",
       "      <td>-2</td>\n",
       "      <td>3913</td>\n",
       "      <td>3102</td>\n",
       "      <td>689</td>\n",
       "      <td>...</td>\n",
       "      <td>0</td>\n",
       "      <td>1</td>\n",
       "      <td>0</td>\n",
       "      <td>0</td>\n",
       "      <td>0</td>\n",
       "      <td>1</td>\n",
       "      <td>0</td>\n",
       "      <td>1</td>\n",
       "      <td>0</td>\n",
       "      <td>0</td>\n",
       "    </tr>\n",
       "    <tr>\n",
       "      <th>2</th>\n",
       "      <td>120000</td>\n",
       "      <td>-1</td>\n",
       "      <td>2</td>\n",
       "      <td>0</td>\n",
       "      <td>0</td>\n",
       "      <td>0</td>\n",
       "      <td>2</td>\n",
       "      <td>2682</td>\n",
       "      <td>1725</td>\n",
       "      <td>2682</td>\n",
       "      <td>...</td>\n",
       "      <td>0</td>\n",
       "      <td>1</td>\n",
       "      <td>0</td>\n",
       "      <td>0</td>\n",
       "      <td>0</td>\n",
       "      <td>0</td>\n",
       "      <td>1</td>\n",
       "      <td>1</td>\n",
       "      <td>0</td>\n",
       "      <td>0</td>\n",
       "    </tr>\n",
       "    <tr>\n",
       "      <th>3</th>\n",
       "      <td>90000</td>\n",
       "      <td>0</td>\n",
       "      <td>0</td>\n",
       "      <td>0</td>\n",
       "      <td>0</td>\n",
       "      <td>0</td>\n",
       "      <td>0</td>\n",
       "      <td>29239</td>\n",
       "      <td>14027</td>\n",
       "      <td>13559</td>\n",
       "      <td>...</td>\n",
       "      <td>0</td>\n",
       "      <td>1</td>\n",
       "      <td>0</td>\n",
       "      <td>0</td>\n",
       "      <td>0</td>\n",
       "      <td>0</td>\n",
       "      <td>1</td>\n",
       "      <td>1</td>\n",
       "      <td>0</td>\n",
       "      <td>0</td>\n",
       "    </tr>\n",
       "    <tr>\n",
       "      <th>4</th>\n",
       "      <td>50000</td>\n",
       "      <td>0</td>\n",
       "      <td>0</td>\n",
       "      <td>0</td>\n",
       "      <td>0</td>\n",
       "      <td>0</td>\n",
       "      <td>0</td>\n",
       "      <td>46990</td>\n",
       "      <td>48233</td>\n",
       "      <td>49291</td>\n",
       "      <td>...</td>\n",
       "      <td>0</td>\n",
       "      <td>1</td>\n",
       "      <td>0</td>\n",
       "      <td>0</td>\n",
       "      <td>0</td>\n",
       "      <td>1</td>\n",
       "      <td>0</td>\n",
       "      <td>1</td>\n",
       "      <td>0</td>\n",
       "      <td>0</td>\n",
       "    </tr>\n",
       "    <tr>\n",
       "      <th>5</th>\n",
       "      <td>50000</td>\n",
       "      <td>-1</td>\n",
       "      <td>0</td>\n",
       "      <td>-1</td>\n",
       "      <td>0</td>\n",
       "      <td>0</td>\n",
       "      <td>0</td>\n",
       "      <td>8617</td>\n",
       "      <td>5670</td>\n",
       "      <td>35835</td>\n",
       "      <td>...</td>\n",
       "      <td>0</td>\n",
       "      <td>1</td>\n",
       "      <td>0</td>\n",
       "      <td>0</td>\n",
       "      <td>0</td>\n",
       "      <td>1</td>\n",
       "      <td>0</td>\n",
       "      <td>0</td>\n",
       "      <td>1</td>\n",
       "      <td>0</td>\n",
       "    </tr>\n",
       "  </tbody>\n",
       "</table>\n",
       "<p>5 rows × 32 columns</p>\n",
       "</div>"
      ],
      "text/plain": [
       "    LIMIT_BAL  PAY_1  PAY_2  PAY_3  PAY_4  PAY_5  PAY_6  BILL_AMT1  BILL_AMT2  \\\n",
       "ID                                                                              \n",
       "1       20000      2      2     -1     -1     -2     -2       3913       3102   \n",
       "2      120000     -1      2      0      0      0      2       2682       1725   \n",
       "3       90000      0      0      0      0      0      0      29239      14027   \n",
       "4       50000      0      0      0      0      0      0      46990      48233   \n",
       "5       50000     -1      0     -1      0      0      0       8617       5670   \n",
       "\n",
       "    BILL_AMT3  ...  EDUCATION_1  EDUCATION_2  EDUCATION_3  EDUCATION_4  \\\n",
       "ID             ...                                                       \n",
       "1         689  ...            0            1            0            0   \n",
       "2        2682  ...            0            1            0            0   \n",
       "3       13559  ...            0            1            0            0   \n",
       "4       49291  ...            0            1            0            0   \n",
       "5       35835  ...            0            1            0            0   \n",
       "\n",
       "    MARRIAGE_0  MARRIAGE_1  MARRIAGE_2  AGE_BIN_1  AGE_BIN_2  AGE_BIN_3  \n",
       "ID                                                                       \n",
       "1            0           1           0          1          0          0  \n",
       "2            0           0           1          1          0          0  \n",
       "3            0           0           1          1          0          0  \n",
       "4            0           1           0          1          0          0  \n",
       "5            0           1           0          0          1          0  \n",
       "\n",
       "[5 rows x 32 columns]"
      ]
     },
     "execution_count": 10,
     "metadata": {},
     "output_type": "execute_result"
    }
   ],
   "source": [
    "# encoding categoricals\n",
    "categoricals = ['SEX', 'EDUCATION', 'MARRIAGE', 'AGE_BIN']\n",
    "for col in categoricals: \n",
    "    df_train[col] = df_train[col].astype('category')\n",
    "\n",
    "# create dummy cols, join, and drop old\n",
    "cat_df = df_train[categoricals]\n",
    "cat_df = pd.get_dummies(cat_df)\n",
    "df_train = df_train.join(cat_df).drop(categoricals, axis=1)\n",
    "\n",
    "# inspect\n",
    "df_train.head()"
   ]
  },
  {
   "cell_type": "markdown",
   "metadata": {},
   "source": [
    "### Outlier Removal\n",
    "\n",
    "* `LIMIT_BAL` only"
   ]
  },
  {
   "cell_type": "markdown",
   "metadata": {},
   "source": [
    "## EDA"
   ]
  },
  {
   "cell_type": "markdown",
   "metadata": {},
   "source": [
    "### Distributions"
   ]
  },
  {
   "cell_type": "code",
   "execution_count": 11,
   "metadata": {
    "ExecuteTime": {
     "end_time": "2021-01-09T15:33:21.868221Z",
     "start_time": "2021-01-09T15:33:21.862011Z"
    }
   },
   "outputs": [],
   "source": [
    "# set up graphic\n",
    "def plot_hist(df, features, num_r, num_c):\n",
    "    \n",
    "    # set up graphics\n",
    "    fig, axs = plt.subplots(6, 2, figsize=(16, 24), sharex=False, sharey=False)\n",
    "    colors = ['tab:red', 'tab:blue', 'tab:green', 'tab:pink', 'tab:olive', 'tab:orange']\n",
    "\n",
    "    # plot grid\n",
    "    for i in range(num_r):\n",
    "        feature = features[i]\n",
    "        for j in range(num_c):\n",
    "            if j == 1:\n",
    "                scaler = StandardScaler()\n",
    "                x = scaler.fit_transform(df[feature].values.reshape(-1,1)) # standardize second row\n",
    "                title = feature + ' (Standardized)'\n",
    "            else: \n",
    "                x = df[feature]\n",
    "                title = feature + ' (Unstandardized)'\n",
    "            ax = sns.distplot(x, hist=True, kde=False, ax=axs[i, j])\n",
    "            ax.set(xlabel=None, ylabel=\"Counts\")\n",
    "            ax.set_title(title, fontweight='bold')\n",
    "\n",
    "    # display\n",
    "    plt.subplots_adjust(hspace=0.4)\n",
    "    plt.suptitle('THIS IS THE TITLE', y=0.90, fontsize='x-large', fontweight='bold')"
   ]
  },
  {
   "cell_type": "code",
   "execution_count": 12,
   "metadata": {
    "ExecuteTime": {
     "end_time": "2021-01-09T15:33:23.696032Z",
     "start_time": "2021-01-09T15:33:21.869680Z"
    },
    "scrolled": true
   },
   "outputs": [
    {
     "name": "stderr",
     "output_type": "stream",
     "text": [
      "/Users/Jurren/Library/Python/3.8/lib/python/site-packages/seaborn/distributions.py:2557: FutureWarning: `distplot` is a deprecated function and will be removed in a future version. Please adapt your code to use either `displot` (a figure-level function with similar flexibility) or `histplot` (an axes-level function for histograms).\n",
      "  warnings.warn(msg, FutureWarning)\n",
      "/Users/Jurren/Library/Python/3.8/lib/python/site-packages/seaborn/distributions.py:2557: FutureWarning: `distplot` is a deprecated function and will be removed in a future version. Please adapt your code to use either `displot` (a figure-level function with similar flexibility) or `histplot` (an axes-level function for histograms).\n",
      "  warnings.warn(msg, FutureWarning)\n",
      "/Users/Jurren/Library/Python/3.8/lib/python/site-packages/seaborn/distributions.py:2557: FutureWarning: `distplot` is a deprecated function and will be removed in a future version. Please adapt your code to use either `displot` (a figure-level function with similar flexibility) or `histplot` (an axes-level function for histograms).\n",
      "  warnings.warn(msg, FutureWarning)\n",
      "/Users/Jurren/Library/Python/3.8/lib/python/site-packages/seaborn/distributions.py:2557: FutureWarning: `distplot` is a deprecated function and will be removed in a future version. Please adapt your code to use either `displot` (a figure-level function with similar flexibility) or `histplot` (an axes-level function for histograms).\n",
      "  warnings.warn(msg, FutureWarning)\n",
      "/Users/Jurren/Library/Python/3.8/lib/python/site-packages/seaborn/distributions.py:2557: FutureWarning: `distplot` is a deprecated function and will be removed in a future version. Please adapt your code to use either `displot` (a figure-level function with similar flexibility) or `histplot` (an axes-level function for histograms).\n",
      "  warnings.warn(msg, FutureWarning)\n",
      "/Users/Jurren/Library/Python/3.8/lib/python/site-packages/seaborn/distributions.py:2557: FutureWarning: `distplot` is a deprecated function and will be removed in a future version. Please adapt your code to use either `displot` (a figure-level function with similar flexibility) or `histplot` (an axes-level function for histograms).\n",
      "  warnings.warn(msg, FutureWarning)\n",
      "/Users/Jurren/Library/Python/3.8/lib/python/site-packages/seaborn/distributions.py:2557: FutureWarning: `distplot` is a deprecated function and will be removed in a future version. Please adapt your code to use either `displot` (a figure-level function with similar flexibility) or `histplot` (an axes-level function for histograms).\n",
      "  warnings.warn(msg, FutureWarning)\n"
     ]
    },
    {
     "data": {
      "image/png": "[encoded data removed]",
      "text/plain": [
       "<Figure size 1152x1728 with 12 Axes>"
      ]
     },
     "metadata": {
      "needs_background": "light"
     },
     "output_type": "display_data"
    }
   ],
   "source": [
    "# distributions for 'PAY_AMT'\n",
    "pay_amt_features = ['PAY_AMT6', 'PAY_AMT5', 'PAY_AMT4', 'PAY_AMT3', 'PAY_AMT2', 'PAY_AMT1']\n",
    "plot_hist(df_train, pay_amt_features, 6, 2)"
   ]
  },
  {
   "cell_type": "code",
   "execution_count": 13,
   "metadata": {
    "ExecuteTime": {
     "end_time": "2021-01-09T15:33:25.420765Z",
     "start_time": "2021-01-09T15:33:23.698648Z"
    },
    "scrolled": true
   },
   "outputs": [
    {
     "name": "stderr",
     "output_type": "stream",
     "text": [
      "/Users/Jurren/Library/Python/3.8/lib/python/site-packages/seaborn/distributions.py:2557: FutureWarning: `distplot` is a deprecated function and will be removed in a future version. Please adapt your code to use either `displot` (a figure-level function with similar flexibility) or `histplot` (an axes-level function for histograms).\n",
      "  warnings.warn(msg, FutureWarning)\n",
      "/Users/Jurren/Library/Python/3.8/lib/python/site-packages/seaborn/distributions.py:2557: FutureWarning: `distplot` is a deprecated function and will be removed in a future version. Please adapt your code to use either `displot` (a figure-level function with similar flexibility) or `histplot` (an axes-level function for histograms).\n",
      "  warnings.warn(msg, FutureWarning)\n",
      "/Users/Jurren/Library/Python/3.8/lib/python/site-packages/seaborn/distributions.py:2557: FutureWarning: `distplot` is a deprecated function and will be removed in a future version. Please adapt your code to use either `displot` (a figure-level function with similar flexibility) or `histplot` (an axes-level function for histograms).\n",
      "  warnings.warn(msg, FutureWarning)\n",
      "/Users/Jurren/Library/Python/3.8/lib/python/site-packages/seaborn/distributions.py:2557: FutureWarning: `distplot` is a deprecated function and will be removed in a future version. Please adapt your code to use either `displot` (a figure-level function with similar flexibility) or `histplot` (an axes-level function for histograms).\n",
      "  warnings.warn(msg, FutureWarning)\n",
      "/Users/Jurren/Library/Python/3.8/lib/python/site-packages/seaborn/distributions.py:2557: FutureWarning: `distplot` is a deprecated function and will be removed in a future version. Please adapt your code to use either `displot` (a figure-level function with similar flexibility) or `histplot` (an axes-level function for histograms).\n",
      "  warnings.warn(msg, FutureWarning)\n",
      "/Users/Jurren/Library/Python/3.8/lib/python/site-packages/seaborn/distributions.py:2557: FutureWarning: `distplot` is a deprecated function and will be removed in a future version. Please adapt your code to use either `displot` (a figure-level function with similar flexibility) or `histplot` (an axes-level function for histograms).\n",
      "  warnings.warn(msg, FutureWarning)\n",
      "/Users/Jurren/Library/Python/3.8/lib/python/site-packages/seaborn/distributions.py:2557: FutureWarning: `distplot` is a deprecated function and will be removed in a future version. Please adapt your code to use either `displot` (a figure-level function with similar flexibility) or `histplot` (an axes-level function for histograms).\n",
      "  warnings.warn(msg, FutureWarning)\n"
     ]
    },
    {
     "data": {
      "image/png": "[encoded data removed]",
      "text/plain": [
       "<Figure size 1152x1728 with 12 Axes>"
      ]
     },
     "metadata": {
      "needs_background": "light"
     },
     "output_type": "display_data"
    }
   ],
   "source": [
    "# distributions for 'BILL_AMT'\n",
    "pay_amt_features = ['BILL_AMT6', 'BILL_AMT5', 'BILL_AMT4', 'BILL_AMT3', 'BILL_AMT2', 'BILL_AMT1']\n",
    "plot_hist(df_train, pay_amt_features, 6, 2)"
   ]
  },
  {
   "cell_type": "markdown",
   "metadata": {},
   "source": [
    "### Class Imbalance"
   ]
  },
  {
   "cell_type": "code",
   "execution_count": 14,
   "metadata": {
    "ExecuteTime": {
     "end_time": "2021-01-09T15:33:25.534116Z",
     "start_time": "2021-01-09T15:33:25.423540Z"
    },
    "scrolled": true
   },
   "outputs": [
    {
     "data": {
      "image/png": "[encoded data removed]",
      "text/plain": [
       "<Figure size 460.8x316.8 with 1 Axes>"
      ]
     },
     "metadata": {
      "needs_background": "light"
     },
     "output_type": "display_data"
    }
   ],
   "source": [
    "# plot class imbalance\n",
    "pd.value_counts(df_train['DEFAULT']).plot.bar()\n",
    "plt.title('Class Imbalance')\n",
    "plt.xlabel(\"Class\")\n",
    "plt.ylabel(\"Number of Clients\")\n",
    "plt.show()"
   ]
  },
  {
   "cell_type": "markdown",
   "metadata": {},
   "source": [
    "### Under- and Over-sampling: SMOTE + Tomek"
   ]
  },
  {
   "cell_type": "code",
   "execution_count": 15,
   "metadata": {
    "ExecuteTime": {
     "end_time": "2021-01-09T15:33:25.540303Z",
     "start_time": "2021-01-09T15:33:25.536039Z"
    }
   },
   "outputs": [
    {
     "data": {
      "text/plain": [
       "array(['AGE_BIN_1', 'AGE_BIN_2', 'AGE_BIN_3', 'BILL_AMT1', 'BILL_AMT2',\n",
       "       'BILL_AMT3', 'BILL_AMT4', 'BILL_AMT5', 'BILL_AMT6', 'EDUCATION_1',\n",
       "       'EDUCATION_2', 'EDUCATION_3', 'EDUCATION_4', 'LIMIT_BAL',\n",
       "       'MARRIAGE_0', 'MARRIAGE_1', 'MARRIAGE_2', 'PAY_1', 'PAY_2',\n",
       "       'PAY_3', 'PAY_4', 'PAY_5', 'PAY_6', 'PAY_AMT1', 'PAY_AMT2',\n",
       "       'PAY_AMT3', 'PAY_AMT4', 'PAY_AMT5', 'PAY_AMT6', 'SEX_1', 'SEX_2'],\n",
       "      dtype=object)"
      ]
     },
     "execution_count": 15,
     "metadata": {},
     "output_type": "execute_result"
    }
   ],
   "source": [
    "# define features\n",
    "cols = df_train.columns.values\n",
    "to_drop = ['DEFAULT']\n",
    "features = np.setdiff1d(cols, to_drop)\n",
    "\n",
    "# inspect\n",
    "features"
   ]
  },
  {
   "cell_type": "code",
   "execution_count": 16,
   "metadata": {
    "ExecuteTime": {
     "end_time": "2021-01-09T15:33:25.549528Z",
     "start_time": "2021-01-09T15:33:25.542243Z"
    }
   },
   "outputs": [],
   "source": [
    "# assign df features\n",
    "df_features = df_train[features]"
   ]
  },
  {
   "cell_type": "code",
   "execution_count": 17,
   "metadata": {
    "ExecuteTime": {
     "end_time": "2021-01-09T15:33:27.649508Z",
     "start_time": "2021-01-09T15:33:25.551342Z"
    }
   },
   "outputs": [],
   "source": [
    "# set data\n",
    "X = df_features\n",
    "y = df_train['DEFAULT']\n",
    "\n",
    "# simple oversampling with SMOTE\n",
    "smote = SMOTE(random_state=42)\n",
    "df_train_smote, df_train_smote['DEFAULT'] = smote.fit_resample(X, y)\n",
    "\n",
    "# hybrid resampling SMOTETomek\n",
    "smt = SMOTETomek(random_state=42)\n",
    "df_train_smt, df_train_smt['DEFAULT'] = smt.fit_resample(X, y)"
   ]
  },
  {
   "cell_type": "code",
   "execution_count": 18,
   "metadata": {
    "ExecuteTime": {
     "end_time": "2021-01-09T15:33:27.756114Z",
     "start_time": "2021-01-09T15:33:27.651385Z"
    },
    "scrolled": true
   },
   "outputs": [
    {
     "data": {
      "image/png": "[encoded data removed]",
      "text/plain": [
       "<Figure size 460.8x316.8 with 1 Axes>"
      ]
     },
     "metadata": {
      "needs_background": "light"
     },
     "output_type": "display_data"
    }
   ],
   "source": [
    "# plot results with SMOTE\n",
    "pd.value_counts(df_train_smote['DEFAULT']).plot.bar()\n",
    "plt.title('Class Imbalance')\n",
    "plt.xlabel(\"Class\")\n",
    "plt.ylabel(\"Number of Clients\")\n",
    "plt.show()"
   ]
  },
  {
   "cell_type": "code",
   "execution_count": 19,
   "metadata": {
    "ExecuteTime": {
     "end_time": "2021-01-09T15:33:27.861940Z",
     "start_time": "2021-01-09T15:33:27.758213Z"
    },
    "scrolled": true
   },
   "outputs": [
    {
     "data": {
      "image/png": "[encoded data removed]",
      "text/plain": [
       "<Figure size 460.8x316.8 with 1 Axes>"
      ]
     },
     "metadata": {
      "needs_background": "light"
     },
     "output_type": "display_data"
    }
   ],
   "source": [
    "# plot results with SMOTETomek\n",
    "pd.value_counts(df_train_smt['DEFAULT']).plot.bar()\n",
    "plt.title('Class Imbalance')\n",
    "plt.xlabel(\"Class\")\n",
    "plt.ylabel(\"Number of Clients\")\n",
    "plt.show()"
   ]
  },
  {
   "cell_type": "code",
   "execution_count": 20,
   "metadata": {
    "ExecuteTime": {
     "end_time": "2021-01-09T15:33:27.869446Z",
     "start_time": "2021-01-09T15:33:27.863633Z"
    }
   },
   "outputs": [],
   "source": [
    "# we select the SMOTE-Tomek data to move forward\n",
    "df_train = df_train_smt.copy()\n",
    "y_train = df_train_smt['DEFAULT']"
   ]
  },
  {
   "cell_type": "markdown",
   "metadata": {},
   "source": [
    "### Correlations"
   ]
  },
  {
   "cell_type": "markdown",
   "metadata": {},
   "source": [
    "First, we try to visualize the correlations of the data, and include a weighting of the correlations between features and the target variable."
   ]
  },
  {
   "cell_type": "code",
   "execution_count": 21,
   "metadata": {
    "ExecuteTime": {
     "end_time": "2021-01-09T15:33:28.074547Z",
     "start_time": "2021-01-09T15:33:27.876667Z"
    }
   },
   "outputs": [],
   "source": [
    "# compute feature correlation matrix\n",
    "df_feature_corr = df_features.corr()\n",
    "corr_matrix = np.asmatrix(df_feature_corr)\n",
    "\n",
    "# compute feature correlations with target\n",
    "target_corr = df_train.corr().loc['DEFAULT', df_train.corr().columns.difference(['DEFAULT'])].to_numpy()"
   ]
  },
  {
   "cell_type": "code",
   "execution_count": 22,
   "metadata": {
    "ExecuteTime": {
     "end_time": "2021-01-09T15:33:28.086904Z",
     "start_time": "2021-01-09T15:33:28.079204Z"
    }
   },
   "outputs": [],
   "source": [
    "# Creates graph using the data from the correlation matrix\n",
    "G = nx.from_numpy_matrix(corr_matrix)\n",
    "\n",
    "# relabels nodes to match features\n",
    "G = nx.relabel_nodes(G, lambda x: features[x])"
   ]
  },
  {
   "cell_type": "code",
   "execution_count": 23,
   "metadata": {
    "ExecuteTime": {
     "end_time": "2021-01-09T15:33:28.098787Z",
     "start_time": "2021-01-09T15:33:28.088842Z"
    }
   },
   "outputs": [],
   "source": [
    "def create_corr_network(G, corr_dir, min_corr, sizes):\n",
    "    '''\n",
    "    Plots a circular correlation network between all features. The weight\n",
    "    of the edges corresponds to the correlation between two features.\n",
    "    The size of the nodes corresponds to another desired arbitrary indicator.\n",
    "    \n",
    "    Args:\n",
    "        G (NetworkX Graph Object): Graph.\n",
    "        corr_dir (String): Direction of the correlations to examine\n",
    "                          (positive or negative).\n",
    "        min_corr (Float): Minimum correlation for edge to be displayed.\n",
    "        sizes (List of Floats): Size of each node in the network. \n",
    "        \n",
    "    Returns:\n",
    "        None\n",
    "    '''\n",
    "    \n",
    "    # creates a copy of the graph\n",
    "    H = G.copy()\n",
    "    \n",
    "    # checks all edges and removes some based on corr_dir, and min_corr\n",
    "    for feat_1, feat_2, weight in G.edges(data=True):\n",
    "        if corr_dir == 'positive':\n",
    "            if weight['weight'] < 0 or abs(weight['weight']) < min_corr:\n",
    "                H.remove_edge(feat_1, feat_2)\n",
    "        else:\n",
    "            if weight['weight'] >= 0 or abs(weight['weight']) < min_corr:\n",
    "                H.remove_edge(feat_1, feat_2)\n",
    "                \n",
    "    # create list for the edges and for the weights\n",
    "    edges, weights = zip(*nx.get_edge_attributes(H,'weight').items())\n",
    "    \n",
    "    # increase weight values to make vals more distinct \n",
    "    weights = tuple([(1 + abs(x))**2 for x in weights])\n",
    "    \n",
    "    # calculates degree of each node\n",
    "    nodelist, node_sizes = zip(*nx.degree(H))\n",
    "    \n",
    "    # positions\n",
    "    positions = nx.circular_layout(H)\n",
    "    \n",
    "    # fig size\n",
    "    plt.figure(figsize=(15,15))\n",
    "    \n",
    "    # draws nodes\n",
    "    nx.draw_networkx_nodes(H, \n",
    "                           positions, \n",
    "                           node_color='#DA70D6',\n",
    "                           nodelist=nodelist,\n",
    "                           node_size=[abs(x)*5000 for x in sizes], \n",
    "                           alpha=0.8)\n",
    "    \n",
    "    # styling for labels\n",
    "    nx.draw_networkx_labels(H, \n",
    "                            positions, \n",
    "                            font_size=8,\n",
    "                            font_family='sans-serif')\n",
    "    \n",
    "    # color setting\n",
    "    if corr_dir == 'positive':\n",
    "        main_color = plt.cm.GnBu\n",
    "    else:\n",
    "        main_color = plt.cm.PuRd\n",
    "    \n",
    "    # draws the edges\n",
    "    nx.draw_networkx_edges(H, \n",
    "                           positions, \n",
    "                           edgelist=edges, \n",
    "                           style='solid',\n",
    "                           width=weights,\n",
    "                           edge_color=weights,\n",
    "                           edge_cmap=main_color,\n",
    "                           edge_vmin=min(weights),\n",
    "                           edge_vmax=max(weights))\n",
    "    \n",
    "    # displays the graph without axis\n",
    "    plt.axis('off')"
   ]
  },
  {
   "cell_type": "code",
   "execution_count": 24,
   "metadata": {
    "ExecuteTime": {
     "end_time": "2021-01-09T15:33:28.416800Z",
     "start_time": "2021-01-09T15:33:28.100494Z"
    }
   },
   "outputs": [
    {
     "ename": "TypeError",
     "evalue": "draw_networkx_edges() got an unexpected keyword argument 'edge_list'",
     "output_type": "error",
     "traceback": [
      "\u001b[0;31m---------------------------------------------------------------------------\u001b[0m",
      "\u001b[0;31mTypeError\u001b[0m                                 Traceback (most recent call last)",
      "\u001b[0;32m<ipython-input-24-32dfe24e3a39>\u001b[0m in \u001b[0;36m<module>\u001b[0;34m\u001b[0m\n\u001b[1;32m      2\u001b[0m \u001b[0;31m# assigning each node a size according to its correlation with the\u001b[0m\u001b[0;34m\u001b[0m\u001b[0;34m\u001b[0m\u001b[0;34m\u001b[0m\u001b[0m\n\u001b[1;32m      3\u001b[0m \u001b[0;31m# target variable\u001b[0m\u001b[0;34m\u001b[0m\u001b[0;34m\u001b[0m\u001b[0;34m\u001b[0m\u001b[0m\n\u001b[0;32m----> 4\u001b[0;31m \u001b[0mcreate_corr_network\u001b[0m\u001b[0;34m(\u001b[0m\u001b[0mG\u001b[0m\u001b[0;34m,\u001b[0m \u001b[0;34m'positive'\u001b[0m\u001b[0;34m,\u001b[0m \u001b[0;36m0.2\u001b[0m\u001b[0;34m,\u001b[0m \u001b[0mtarget_corr\u001b[0m\u001b[0;34m)\u001b[0m\u001b[0;34m\u001b[0m\u001b[0;34m\u001b[0m\u001b[0m\n\u001b[0m",
      "\u001b[0;32m<ipython-input-23-fd22234304d0>\u001b[0m in \u001b[0;36mcreate_corr_network\u001b[0;34m(G, corr_dir, min_corr, sizes)\u001b[0m\n\u001b[1;32m     64\u001b[0m \u001b[0;34m\u001b[0m\u001b[0m\n\u001b[1;32m     65\u001b[0m     \u001b[0;31m# draws the edges\u001b[0m\u001b[0;34m\u001b[0m\u001b[0;34m\u001b[0m\u001b[0;34m\u001b[0m\u001b[0m\n\u001b[0;32m---> 66\u001b[0;31m     nx.draw_networkx_edges(H, \n\u001b[0m\u001b[1;32m     67\u001b[0m                            \u001b[0mpositions\u001b[0m\u001b[0;34m,\u001b[0m\u001b[0;34m\u001b[0m\u001b[0;34m\u001b[0m\u001b[0m\n\u001b[1;32m     68\u001b[0m                            \u001b[0medge_list\u001b[0m\u001b[0;34m=\u001b[0m\u001b[0medges\u001b[0m\u001b[0;34m,\u001b[0m\u001b[0;34m\u001b[0m\u001b[0;34m\u001b[0m\u001b[0m\n",
      "\u001b[0;31mTypeError\u001b[0m: draw_networkx_edges() got an unexpected keyword argument 'edge_list'"
     ]
    },
    {
     "data": {
      "image/png": "[encoded data removed]",
      "text/plain": [
       "<Figure size 1080x1080 with 1 Axes>"
      ]
     },
     "metadata": {},
     "output_type": "display_data"
    }
   ],
   "source": [
    "# Plot positive corr network for corrs. > 0.2, \n",
    "# assigning each node a size according to its correlation with the\n",
    "# target variable\n",
    "create_corr_network(G, 'positive', 0.2, target_corr)"
   ]
  },
  {
   "cell_type": "code",
   "execution_count": null,
   "metadata": {
    "ExecuteTime": {
     "end_time": "2021-01-09T15:33:28.742449Z",
     "start_time": "2021-01-09T15:33:28.418505Z"
    },
    "scrolled": false
   },
   "outputs": [],
   "source": [
    "# Plot negative corr network for corrs. > 0.2, \n",
    "# assigning each node a size according to its correlation with the\n",
    "# target variable\n",
    "create_corr_network(G, 'negative', 0.2, target_corr)"
   ]
  },
  {
   "cell_type": "code",
   "execution_count": null,
   "metadata": {
    "ExecuteTime": {
     "end_time": "2021-01-09T15:33:28.972040Z",
     "start_time": "2021-01-09T15:33:28.744488Z"
    }
   },
   "outputs": [],
   "source": [
    "# Examine % distribution of PAY_1 among defaults and non-defaults\n",
    "\n",
    "default0 = df_train.groupby(df_train['PAY_1'][df_train['DEFAULT'] == 0]).size().reset_index(name='NOT_DEFAULT')\n",
    "default1 = df_train.groupby(df_train['PAY_1'][df_train['DEFAULT'] == 1]).size().reset_index(name='DEFAULT')\n",
    "total = df_train.groupby('PAY_1').size().reset_index(name='TOTAL')\n",
    "\n",
    "pay1_classes = default0.join(default1['DEFAULT']).join(total['TOTAL'])\n",
    "pay1_classes['PAY_1'] = ['No Consumption','Paid in Full','Use Revolving Credit','Delay 1 mth','Delay 2 mths'\n",
    "                     ,'Delay 3 mths','Delay 4 mths','Delay 5 mths','Delay 6 mths','Delay 7 mths','Delay 8 mths']\n",
    "\n",
    "pay1_classes['NON_DEFAULT_%'] = round((pay1_classes['NOT_DEFAULT']/pay1_classes['TOTAL']),2)\n",
    "pay1_classes['DEFAULT_%'] = round((pay1_classes['DEFAULT']/pay1_classes['TOTAL']),2)\n",
    "\n",
    "pay1_classes.set_index('PAY_1', inplace=True)\n",
    "\n",
    "print(pay1_classes)\n",
    "\n",
    "pay1_classes[['NON_DEFAULT_%', 'DEFAULT_%']].plot.barh(stacked=True, figsize=(10,6))"
   ]
  },
  {
   "cell_type": "markdown",
   "metadata": {},
   "source": [
    "# Feature Engineering\n",
    "\n",
    "1. Timeseries Analysis for:\n",
    "    1. PAY\n",
    "    2. PAY_AMT\n",
    "    3. \n",
    "\n",
    "## Timeseries Analysis: K-Means\n"
   ]
  },
  {
   "cell_type": "markdown",
   "metadata": {},
   "source": [
    "### PAY"
   ]
  },
  {
   "cell_type": "code",
   "execution_count": null,
   "metadata": {
    "ExecuteTime": {
     "end_time": "2021-01-09T15:33:28.983553Z",
     "start_time": "2021-01-09T15:33:28.973782Z"
    },
    "scrolled": true
   },
   "outputs": [],
   "source": [
    "# select data\n",
    "pay_features = ['PAY_6', 'PAY_5', 'PAY_4', 'PAY_3', 'PAY_2', 'PAY_1']\n",
    "df_pay = df_train[pay_features]\n",
    "\n",
    "# inspect\n",
    "df_pay.head()"
   ]
  },
  {
   "cell_type": "code",
   "execution_count": null,
   "metadata": {
    "ExecuteTime": {
     "end_time": "2021-01-09T15:33:28.988742Z",
     "start_time": "2021-01-09T15:33:28.985480Z"
    }
   },
   "outputs": [],
   "source": [
    "# helper: visualize cluster results\n",
    "def plot_average(centroids, title, labels):\n",
    "    plt.title(title)\n",
    "    plt.xticks(range(len(labels)), labels)\n",
    "    for c in centroids:\n",
    "        plt.plot(c)"
   ]
  },
  {
   "cell_type": "code",
   "execution_count": null,
   "metadata": {
    "ExecuteTime": {
     "end_time": "2021-01-09T15:33:29.997455Z",
     "start_time": "2021-01-09T15:33:28.990588Z"
    }
   },
   "outputs": [],
   "source": [
    "# try different cluster sizes\n",
    "n_clusters = range(3, 7)\n",
    "_kmeans_pay = {}\n",
    "\n",
    "for n in n_clusters:\n",
    "    _kmeans_pay[n] = KMeans(n_clusters=n, random_state=42).fit(df_pay)"
   ]
  },
  {
   "cell_type": "code",
   "execution_count": null,
   "metadata": {
    "ExecuteTime": {
     "end_time": "2021-01-09T15:33:30.460072Z",
     "start_time": "2021-01-09T15:33:29.999574Z"
    },
    "scrolled": true
   },
   "outputs": [],
   "source": [
    "for key, item in _kmeans_pay.items():\n",
    "    plot_average(item.cluster_centers_, 'K-Means: {} Clusters'.format(key), pay_features)\n",
    "    plt.show()"
   ]
  },
  {
   "cell_type": "code",
   "execution_count": null,
   "metadata": {
    "ExecuteTime": {
     "end_time": "2021-01-09T15:33:30.467995Z",
     "start_time": "2021-01-09T15:33:30.462284Z"
    }
   },
   "outputs": [],
   "source": [
    "def plot_avg_sil(data, kmeans_dict, n_clusters, var):\n",
    "    \n",
    "    # compute \n",
    "    avg_sil = {}\n",
    "    for i, n in enumerate(n_clusters):\n",
    "        data_sil = silhouette_score(data, kmeans_dict[n].labels_)\n",
    "        avg_sil[n] = data_sil / data.shape[0]\n",
    "    \n",
    "    # collect vals\n",
    "    avg_sil_val = [v for v in avg_sil.values()]\n",
    "\n",
    "    # plot\n",
    "    plt.plot(n_clusters, avg_sil_val)\n",
    "    plt.xticks(n_clusters)\n",
    "    plt.xlabel('Number of Clusters')\n",
    "    plt.ylabel('Avg. Silhouette Score')\n",
    "    plt.title('Avg. Silhouette Score for Different K-Means Clusters:\\n{}'.format(var), weight='bold')\n",
    "    plt.show()"
   ]
  },
  {
   "cell_type": "code",
   "execution_count": null,
   "metadata": {
    "ExecuteTime": {
     "end_time": "2021-01-09T15:34:17.022659Z",
     "start_time": "2021-01-09T15:33:30.470084Z"
    }
   },
   "outputs": [],
   "source": [
    "# analyze average silhouette\n",
    "plot_avg_sil(df_pay, _kmeans_pay, n_clusters, 'PAY')"
   ]
  },
  {
   "cell_type": "markdown",
   "metadata": {},
   "source": [
    "From the above graph, we conclude that 3 clusters is the ideal number."
   ]
  },
  {
   "cell_type": "code",
   "execution_count": null,
   "metadata": {
    "ExecuteTime": {
     "end_time": "2021-01-09T15:34:17.055723Z",
     "start_time": "2021-01-09T15:34:17.025921Z"
    }
   },
   "outputs": [],
   "source": [
    "# encode clusters in data\n",
    "pay_clusters = _kmeans_pay[3].labels_\n",
    "df_pay_clusters = pd.DataFrame({'PAY_CLUSTER':pay_clusters})\n",
    "df_pay_clusters['PAY_CLUSTER'] = df_pay_clusters['PAY_CLUSTER'].astype('category')\n",
    "\n",
    "# one-hot encode\n",
    "cat_df_pc = pd.get_dummies(df_pay_clusters)\n",
    "\n",
    "# join with df_train\n",
    "df_train = df_train.join(cat_df_pc)\n",
    "\n",
    "# inspect\n",
    "df_train.head()"
   ]
  },
  {
   "cell_type": "markdown",
   "metadata": {},
   "source": [
    "### PAY_AMT"
   ]
  },
  {
   "cell_type": "code",
   "execution_count": null,
   "metadata": {
    "ExecuteTime": {
     "end_time": "2021-01-09T15:34:17.071519Z",
     "start_time": "2021-01-09T15:34:17.057386Z"
    }
   },
   "outputs": [],
   "source": [
    "# select data\n",
    "pay_amt_features = ['PAY_AMT6', 'PAY_AMT5', 'PAY_AMT4', 'PAY_AMT3', 'PAY_AMT2', 'PAY_AMT1']\n",
    "df_pay_amt = df_train[pay_amt_features]\n",
    "\n",
    "# inspect\n",
    "df_pay_amt.head()"
   ]
  },
  {
   "cell_type": "code",
   "execution_count": null,
   "metadata": {
    "ExecuteTime": {
     "end_time": "2021-01-09T15:34:18.917395Z",
     "start_time": "2021-01-09T15:34:17.073323Z"
    }
   },
   "outputs": [],
   "source": [
    "# try different cluster sizes\n",
    "n_clusters = range(3, 7)\n",
    "_kmeans_pay_amt = {}\n",
    "\n",
    "for n in n_clusters:\n",
    "    _kmeans_pay_amt[n] = KMeans(n_clusters=n, random_state=42).fit(df_pay_amt)"
   ]
  },
  {
   "cell_type": "code",
   "execution_count": null,
   "metadata": {
    "ExecuteTime": {
     "end_time": "2021-01-09T15:34:19.442274Z",
     "start_time": "2021-01-09T15:34:18.919808Z"
    },
    "scrolled": true
   },
   "outputs": [],
   "source": [
    "# visualize centroid results\n",
    "for key, item in _kmeans_pay_amt.items():\n",
    "    plot_average(item.cluster_centers_, 'K-Means: {} Clusters'.format(key), pay_amt_features)\n",
    "    plt.show()"
   ]
  },
  {
   "cell_type": "code",
   "execution_count": null,
   "metadata": {
    "ExecuteTime": {
     "end_time": "2021-01-09T15:35:10.938962Z",
     "start_time": "2021-01-09T15:34:19.444431Z"
    },
    "scrolled": true
   },
   "outputs": [],
   "source": [
    "# analyze average silhouette\n",
    "plot_avg_sil(df_pay_amt, _kmeans_pay_amt, n_clusters, 'PAY_AMT')"
   ]
  },
  {
   "cell_type": "markdown",
   "metadata": {},
   "source": [
    "From the graph, it becomes clear that 8 clusters is the right number."
   ]
  },
  {
   "cell_type": "code",
   "execution_count": null,
   "metadata": {
    "ExecuteTime": {
     "end_time": "2021-01-09T15:35:10.961765Z",
     "start_time": "2021-01-09T15:35:10.940903Z"
    }
   },
   "outputs": [],
   "source": [
    "# encode clusters in data\n",
    "pay_amt_clusters = _kmeans_pay_amt[3].labels_\n",
    "df_pay_amt_clusters = pd.DataFrame({'PAY_AMT_CLUSTER':pay_amt_clusters})\n",
    "df_pay_amt_clusters['PAY_AMT_CLUSTER'] = df_pay_amt_clusters['PAY_AMT_CLUSTER'].astype('category')\n",
    "\n",
    "# one-hot encode\n",
    "cat_df_pamtc = pd.get_dummies(df_pay_amt_clusters)\n",
    "\n",
    "# join with df_train\n",
    "df_train = df_train.join(cat_df_pamtc)\n",
    "\n",
    "# inspect\n",
    "df_train.head()"
   ]
  },
  {
   "cell_type": "markdown",
   "metadata": {},
   "source": [
    "### Domain Expertise Encoding"
   ]
  },
  {
   "cell_type": "markdown",
   "metadata": {},
   "source": [
    "## Additional Features\n",
    "\n",
    "Five features to be tried out:\n",
    "\n",
    "1. Average repayment status (categorical)\n",
    "\n",
    "2. Average bill amount outstanding above/below average payment (categorical)\n",
    "\n",
    "3. Average *change* in MoM repayment status\n",
    "\n",
    "4. Frequency variables"
   ]
  },
  {
   "cell_type": "markdown",
   "metadata": {},
   "source": [
    "### Average Repayment Status"
   ]
  },
  {
   "cell_type": "code",
   "execution_count": null,
   "metadata": {
    "ExecuteTime": {
     "end_time": "2021-01-09T15:35:10.966064Z",
     "start_time": "2021-01-09T15:35:10.963359Z"
    }
   },
   "outputs": [],
   "source": [
    "# @helper method\n",
    "def get_avg(df, features):\n",
    "    data = df.copy()\n",
    "    total = 0\n",
    "    for feat in features: total += data[feat]\n",
    "    return total / len(features)  "
   ]
  },
  {
   "cell_type": "code",
   "execution_count": null,
   "metadata": {
    "ExecuteTime": {
     "end_time": "2021-01-09T15:35:10.985344Z",
     "start_time": "2021-01-09T15:35:10.967687Z"
    }
   },
   "outputs": [],
   "source": [
    "# list of all pay features\n",
    "pay_features = ['PAY_1', 'PAY_2', 'PAY_3', 'PAY_4', 'PAY_5', 'PAY_6']\n",
    "\n",
    "# compute\n",
    "X_train_aug = df_train.copy()\n",
    "X_train_aug['AVG_PAY'] = get_avg(df_train, pay_features)"
   ]
  },
  {
   "cell_type": "markdown",
   "metadata": {},
   "source": [
    "### Average Bill Amount Outstanding vs Average Payment ('Sufficiency')"
   ]
  },
  {
   "cell_type": "code",
   "execution_count": null,
   "metadata": {
    "ExecuteTime": {
     "end_time": "2021-01-09T15:35:11.001453Z",
     "start_time": "2021-01-09T15:35:10.987099Z"
    }
   },
   "outputs": [],
   "source": [
    "# lists of pay amount and bill amount features\n",
    "pay_amt_features = ['PAY_AMT1', 'PAY_AMT2', 'PAY_AMT3', 'PAY_AMT4', 'PAY_AMT5', 'PAY_AMT6']\n",
    "bill_features = ['BILL_AMT1', 'BILL_AMT2', 'BILL_AMT3', 'BILL_AMT4', 'BILL_AMT5', 'BILL_AMT6']\n",
    "\n",
    "# Compute\n",
    "X_train_aug['AVG_BILL_AMT'] = get_avg(X_train_aug, bill_features)\n",
    "X_train_aug['AVG_PAY_AMT'] = get_avg(X_train_aug, pay_amt_features)\n",
    "\n",
    "X_train_aug['SUFF'] = np.where(X_train_aug['AVG_BILL_AMT'] <= X_train_aug['AVG_PAY_AMT'], 1, 0)"
   ]
  },
  {
   "cell_type": "markdown",
   "metadata": {},
   "source": [
    "### Average Change in MoM Repayment Status"
   ]
  },
  {
   "cell_type": "code",
   "execution_count": null,
   "metadata": {
    "ExecuteTime": {
     "end_time": "2021-01-09T15:35:11.036985Z",
     "start_time": "2021-01-09T15:35:11.003165Z"
    }
   },
   "outputs": [],
   "source": [
    "# create dummies\n",
    "dummy_train = X_train_aug.copy()\n",
    "\n",
    "# compute deltas and mean delta\n",
    "dummy_train['DELTA_12'] = dummy_train['PAY_2'] - dummy_train['PAY_1']\n",
    "dummy_train['DELTA_23'] = dummy_train['PAY_3'] - dummy_train['PAY_2']\n",
    "dummy_train['DELTA_34'] = dummy_train['PAY_4'] - dummy_train['PAY_3']\n",
    "dummy_train['DELTA_45'] = dummy_train['PAY_5'] - dummy_train['PAY_4']\n",
    "dummy_train['DELTA_56'] = dummy_train['PAY_6'] - dummy_train['PAY_5']\n",
    "deltas = ['DELTA_12', 'DELTA_23', 'DELTA_34', 'DELTA_45', 'DELTA_56']\n",
    "dummy_train['AVG_DELTA'] = dummy_train[deltas].mean(axis=1)\n",
    "    \n",
    "# create new feature\n",
    "X_train_aug['AVG_PAY_DELTA'] = dummy_train['AVG_DELTA']"
   ]
  },
  {
   "cell_type": "markdown",
   "metadata": {},
   "source": [
    "### Frequency Variables"
   ]
  },
  {
   "cell_type": "code",
   "execution_count": null,
   "metadata": {
    "ExecuteTime": {
     "end_time": "2021-01-09T15:35:11.100532Z",
     "start_time": "2021-01-09T15:35:11.038606Z"
    }
   },
   "outputs": [],
   "source": [
    "# compute frequency of 3+ months overdue\n",
    "for pay_feature in pay_features:\n",
    "    X_train_aug['FREQ_{}'.format(pay_feature)] = np.where((X_train_aug[pay_feature] >= 3),1, \n",
    "                                                (np.where(X_train_aug[pay_feature] <3,0,X_train_aug[pay_feature])))\n",
    "\n",
    "pay_delays = ['FREQ_PAY_1', 'FREQ_PAY_2','FREQ_PAY_3','FREQ_PAY_4','FREQ_PAY_5','FREQ_PAY_6',]\n",
    "X_train_aug['PAY_DELAY_FREQ'] = X_train_aug[pay_delays].sum(axis=1)\n",
    "\n",
    "# compute frequency of paying on time (-2;-1;0)\n",
    "for pay_feature in pay_features:\n",
    "    X_train_aug['TIMELY_{}'.format(pay_feature)] = np.where((X_train_aug[pay_feature] <= 0),1, \n",
    "                                                (np.where(X_train_aug[pay_feature] >0,0,X_train_aug[pay_feature])))\n",
    "\n",
    "pay_timely = ['TIMELY_PAY_1', 'TIMELY_PAY_2','TIMELY_PAY_3','TIMELY_PAY_4','TIMELY_PAY_5','TIMELY_PAY_6',]\n",
    "X_train_aug['PAY_TIMELY_FREQ'] = X_train_aug[pay_timely].sum(axis=1)\n",
    "\n",
    "# drop extra columns\n",
    "X_train_aug.drop(pay_delays, axis=1, inplace=True)\n",
    "X_train_aug.drop(pay_timely, axis=1, inplace=True)"
   ]
  },
  {
   "cell_type": "code",
   "execution_count": null,
   "metadata": {
    "ExecuteTime": {
     "end_time": "2021-01-09T15:35:11.125647Z",
     "start_time": "2021-01-09T15:35:11.102324Z"
    }
   },
   "outputs": [],
   "source": [
    "# list of onthly repayment features\n",
    "pay_amounts = ['PAY_AMT1','PAY_AMT2','PAY_AMT3','PAY_AMT4','PAY_AMT5','PAY_AMT6']\n",
    "\n",
    "# compute frequency of having monthly repayments > 0\n",
    "for pay_amt_feature in pay_amt_features:\n",
    "    X_train_aug['FREQ_{}'.format(pay_amt_feature)] = np.where((X_train_aug[pay_amt_feature] > 0),1, \n",
    "                                                (np.where(X_train_aug[pay_amt_feature] <=0,0,\n",
    "                                                 X_train_aug[pay_amt_feature])))\n",
    "\n",
    "repayments = ['FREQ_PAY_AMT1', 'FREQ_PAY_AMT2','FREQ_PAY_AMT3','FREQ_PAY_AMT4','FREQ_PAY_AMT5','FREQ_PAY_AMT6',]\n",
    "X_train_aug['REPAY_FREQ'] = X_train_aug[repayments].sum(axis=1)\n",
    "\n",
    "# drop extra columns\n",
    "X_train_aug.drop(repayments, axis=1, inplace=True)"
   ]
  },
  {
   "cell_type": "code",
   "execution_count": null,
   "metadata": {
    "ExecuteTime": {
     "end_time": "2021-01-09T15:35:11.132723Z",
     "start_time": "2021-01-09T15:35:11.127657Z"
    },
    "scrolled": true
   },
   "outputs": [],
   "source": [
    "# print final list of features\n",
    "print(list(X_train_aug.columns))\n",
    "\n",
    "# moving back to df_train\n",
    "df_train = X_train_aug.copy()"
   ]
  },
  {
   "cell_type": "markdown",
   "metadata": {},
   "source": [
    "## Feature Selection"
   ]
  },
  {
   "cell_type": "code",
   "execution_count": null,
   "metadata": {
    "ExecuteTime": {
     "end_time": "2021-01-09T15:35:11.138890Z",
     "start_time": "2021-01-09T15:35:11.134630Z"
    }
   },
   "outputs": [],
   "source": [
    "# re-define features post-feature engineering\n",
    "cols = df_train.columns.values\n",
    "to_drop = ['DEFAULT']\n",
    "features = np.setdiff1d(cols, to_drop)\n",
    "\n",
    "# inspect\n",
    "features"
   ]
  },
  {
   "cell_type": "markdown",
   "metadata": {},
   "source": [
    "### Weight-Based Approach"
   ]
  },
  {
   "cell_type": "markdown",
   "metadata": {},
   "source": [
    "**Objective**:\n",
    "* Instead of computing communities based off of the Louvain algorithm, whose maths are beyond the scope of the course, we can compute neighborhoods hierarchically by looking at the correlations between variables. Most clustering algorithms utilize Euclidean distance to determine the proximity of two points. For our case, we can instead use the reciprocal of the correlation as the distance. That way, two features that are very correlated (~ 1.0) will have a 'distance' of ~ 1.0 between them. However, others that are less correlated (~0) will have a much greater 'distance' between them. Thus, we can iteratively group features and create communities in this way. \n",
    "\n",
    "* To do so, we will utilize Sci-Kit Learn's Agglomerative Clustering algorithm, which admits precomputed distances as an input. Our precomputed distances will be a matrix with element-wise reciprocals of the correlation matrix. We will then visualize the successive clusters that are formed, and decide a level of hierarchy we wish to use. \n",
    "\n",
    "**Game Plan:**\n",
    "\n",
    "1. Compute reciprocal of corr matrix and make values absolute (because distance must be positive)\n",
    "2. Create Dendrograms using Scipy to see tree-form of clusters, and identify the optimal number of clusters to use in Sci-Kit Learn's `AgglomerativeClustering` model.\n",
    "2. Feed the rec. corr matrix into an `agg` clustering model, which is characterized by:\n",
    "    1. `average` linkage method, given its flexibility with weird datasets.\n",
    "    2. `precomputed` affinity, since we are providing precomputed distances (in our case, the reciprocal of the corr matrix). \n",
    "3. Plot the resulting groups into a community graph that better visualizes the clusters of features.\n",
    "4. Interpret these clusters.\n",
    "5. Compute weights based on the summation x target variable correlation method"
   ]
  },
  {
   "cell_type": "code",
   "execution_count": null,
   "metadata": {
    "ExecuteTime": {
     "end_time": "2021-01-09T15:35:11.416346Z",
     "start_time": "2021-01-09T15:35:11.140701Z"
    }
   },
   "outputs": [],
   "source": [
    "# select features to compute correlation matrix\n",
    "df_features = df_train[features]\n",
    "df_features_corr = df_features.corr()\n",
    "\n",
    "# convert to numpy matrix\n",
    "corr_matrix = np.asmatrix(df_features_corr)\n",
    "\n",
    "# extract correlations with target label, and drop target's correlation\n",
    "# with itself\n",
    "target_corr = df_train.corr().loc['DEFAULT', :].to_numpy()\n",
    "target_index = np.where(target_corr == 1.0)\n",
    "target_corr = np.delete(target_corr, target_index)\n",
    "\n",
    "# sanity check: assert same num. features as num. correlations\n",
    "assert len(features) == len(target_corr)\n",
    "\n",
    "# Creates graph using the data from the correlation matrix\n",
    "G = nx.from_numpy_matrix(corr_matrix)\n",
    "\n",
    "# relabels nodes to match features\n",
    "G = nx.relabel_nodes(G, lambda x: features[x])\n",
    "\n",
    "# shows the edges with their corresponding weights\n",
    "G.edges(data=True)"
   ]
  },
  {
   "cell_type": "code",
   "execution_count": null,
   "metadata": {
    "ExecuteTime": {
     "end_time": "2021-01-09T15:35:11.421379Z",
     "start_time": "2021-01-09T15:35:11.418311Z"
    }
   },
   "outputs": [],
   "source": [
    "# compute element-wise reciprocal of correlation matrix\n",
    "# Note: we subtract 1 so that the diagonal of the matrix equals 0, \n",
    "# meaning that the same point has a '0 distance' from itself\n",
    "r_corr_matrix = np.abs(np.reciprocal(corr_matrix)) - 1\n",
    "\n",
    "# sanity check: assert same shape\n",
    "assert(r_corr_matrix.shape == corr_matrix.shape)"
   ]
  },
  {
   "cell_type": "code",
   "execution_count": null,
   "metadata": {
    "ExecuteTime": {
     "end_time": "2021-01-09T15:35:11.425885Z",
     "start_time": "2021-01-09T15:35:11.423219Z"
    },
    "scrolled": false
   },
   "outputs": [],
   "source": [
    "# convert the redundant n*n r_corr_matrix matrix form into a condensed \n",
    "# nC2 array for Scipy's method\n",
    "import scipy.spatial.distance as ssd\n",
    "distArray = ssd.squareform(r_corr_matrix) # distArray[{n choose 2}-{n-i choose 2} + (j-i-1)] is the distance between points i and j"
   ]
  },
  {
   "cell_type": "code",
   "execution_count": null,
   "metadata": {
    "ExecuteTime": {
     "end_time": "2021-01-09T15:35:11.991715Z",
     "start_time": "2021-01-09T15:35:11.427504Z"
    }
   },
   "outputs": [],
   "source": [
    "# plot dendogram using scipy hierarchical clustering to identify optimal\n",
    "# number of clusters\n",
    "plt.figure(figsize=(16,9))\n",
    "plt.title(\"Feature Dendrogram\")\n",
    "dend = sch.dendrogram(sch.linkage(distArray, method='single'))"
   ]
  },
  {
   "cell_type": "markdown",
   "metadata": {},
   "source": [
    "Note that we choose the 'Average' linkage method because it is the most suitable for weird-shaped datasets like ours, since we aren't using Euclidean distance but rather another arbitrary metric.\n",
    "\n",
    "From this graph, we can draw a horizontal line right around 75 that gives us the longest distance of a vertical line before reaching a horizontal line (i.e. a linkage). At this point, we an clearly identify that there are 3 main clusters. Thus, we pick `n_clusters = 3` in our `AgglomerativeClustering` algorithm."
   ]
  },
  {
   "cell_type": "code",
   "execution_count": null,
   "metadata": {
    "ExecuteTime": {
     "end_time": "2021-01-09T15:35:11.997172Z",
     "start_time": "2021-01-09T15:35:11.993551Z"
    }
   },
   "outputs": [],
   "source": [
    "# instantiate agg clusterer with 'precomputed' affinity\n",
    "agg = AgglomerativeClustering(n_clusters=3, \n",
    "                              affinity='precomputed',\n",
    "                              linkage='single')\n",
    "\n",
    "# cluster\n",
    "clusters_3 = agg.fit_predict(r_corr_matrix)"
   ]
  },
  {
   "cell_type": "code",
   "execution_count": null,
   "metadata": {
    "ExecuteTime": {
     "end_time": "2021-01-09T15:35:12.011746Z",
     "start_time": "2021-01-09T15:35:11.998858Z"
    }
   },
   "outputs": [],
   "source": [
    "############################################################################################\n",
    "# The following code is attributable verbatim to \n",
    "# Paul Brodersen, who published it on StackOverflow\n",
    "# on April 21, 2017, at:\n",
    "# https://stackoverflow.com/questions/43541376/how-to-draw-communities-with-networkx\n",
    "\n",
    "def community_layout(g, partition):\n",
    "    \"\"\"\n",
    "    Compute the layout for a modular graph.\n",
    "\n",
    "\n",
    "    Arguments:\n",
    "    ----------\n",
    "    g -- networkx.Graph or networkx.DiGraph instance\n",
    "        graph to plot\n",
    "\n",
    "    partition -- dict mapping int node -> int community\n",
    "        graph partitions\n",
    "\n",
    "\n",
    "    Returns:\n",
    "    --------\n",
    "    pos -- dict mapping int node -> (float x, float y)\n",
    "        node positions\n",
    "\n",
    "    \"\"\"\n",
    "\n",
    "    pos_communities = _position_communities(g, partition, scale=3., seed=40)\n",
    "\n",
    "    pos_nodes = _position_nodes(g, partition, scale=1.)\n",
    "\n",
    "    # combine positions\n",
    "    pos = dict()\n",
    "    for node in g.nodes():\n",
    "        pos[node] = pos_communities[node] + pos_nodes[node]\n",
    "\n",
    "    return pos\n",
    "\n",
    "def _position_communities(g, partition, **kwargs):\n",
    "\n",
    "    # create a weighted graph, in which each node corresponds to a community,\n",
    "    # and each edge weight to the number of edges between communities\n",
    "    between_community_edges = _find_between_community_edges(g, partition)\n",
    "\n",
    "    communities = set(partition.values())\n",
    "    hypergraph = nx.DiGraph()\n",
    "    hypergraph.add_nodes_from(communities)\n",
    "    for (ci, cj), edges in between_community_edges.items():\n",
    "        hypergraph.add_edge(ci, cj, weight=len(edges))\n",
    "\n",
    "    # find layout for communities\n",
    "    pos_communities = nx.spring_layout(hypergraph, **kwargs)\n",
    "\n",
    "    # set node positions to position of community\n",
    "    pos = dict()\n",
    "    for node, community in partition.items():\n",
    "        pos[node] = pos_communities[community]\n",
    "\n",
    "    return pos\n",
    "\n",
    "def _find_between_community_edges(g, partition):\n",
    "\n",
    "    edges = dict()\n",
    "\n",
    "    for (ni, nj) in g.edges():\n",
    "        ci = partition[ni]\n",
    "        cj = partition[nj]\n",
    "\n",
    "        if ci != cj:\n",
    "            try:\n",
    "                edges[(ci, cj)] += [(ni, nj)]\n",
    "            except KeyError:\n",
    "                edges[(ci, cj)] = [(ni, nj)]\n",
    "\n",
    "    return edges\n",
    "\n",
    "def _position_nodes(g, partition, **kwargs):\n",
    "    \"\"\"\n",
    "    Positions nodes within communities.\n",
    "    \"\"\"\n",
    "\n",
    "    communities = dict()\n",
    "    for node, community in partition.items():\n",
    "        try:\n",
    "            communities[community] += [node]\n",
    "        except KeyError:\n",
    "            communities[community] = [node]\n",
    "\n",
    "    pos = dict()\n",
    "    for ci, nodes in communities.items():\n",
    "        subgraph = g.subgraph(nodes)\n",
    "        pos_subgraph = nx.spring_layout(subgraph, **kwargs)\n",
    "        pos.update(pos_subgraph)\n",
    "\n",
    "    return pos\n",
    "\n",
    "############################################################################################"
   ]
  },
  {
   "cell_type": "code",
   "execution_count": null,
   "metadata": {
    "ExecuteTime": {
     "end_time": "2021-01-09T15:35:12.028474Z",
     "start_time": "2021-01-09T15:35:12.013928Z"
    }
   },
   "outputs": [],
   "source": [
    "# check that feature and node order are the same\n",
    "assert (f == g for f, g in zip(features, np.array(list(G.nodes))))"
   ]
  },
  {
   "cell_type": "code",
   "execution_count": null,
   "metadata": {
    "ExecuteTime": {
     "end_time": "2021-01-09T15:35:12.037458Z",
     "start_time": "2021-01-09T15:35:12.030675Z"
    }
   },
   "outputs": [],
   "source": [
    "# Function to display the basic graph\n",
    "\n",
    "def create_neighborhood_network(G, min_corr, partition, labels):\n",
    "    \n",
    "    # create copy\n",
    "    H = G.copy()\n",
    "    \n",
    "    # checks all edges and removes some based on corr_dir, and min_corr\n",
    "    #for feat_1, feat_2, weight in G.edges(data=True):\n",
    "    #    if abs(weight['weight']) < min_corr:\n",
    "    #        H.remove_edge(feat_1, feat_2)\n",
    "    \n",
    "    # create list for the edges and for the weights\n",
    "    edges, weights = zip(*nx.get_edge_attributes(H,'weight').items())\n",
    "    \n",
    "    # increase weight values to make vals more distinct \n",
    "    weights = tuple([(1 + abs(x))**2 for x in weights])\n",
    "    \n",
    "    # positions\n",
    "    positions = community_layout(H, partition)\n",
    "    \n",
    "    # fig size\n",
    "    plt.figure(figsize=(15,15))\n",
    "    \n",
    "    # draws nodes\n",
    "    nx.draw_networkx_nodes(H, \n",
    "                           positions,\n",
    "                           labels,\n",
    "                           node_color=list(partition.values()),\n",
    "                           node_size=500, \n",
    "                           alpha=0.8)\n",
    "    \n",
    "    # styling for labels\n",
    "    nx.draw_networkx_labels(H, \n",
    "                            positions, \n",
    "                            font_size=8,\n",
    "                            font_family='sans-serif')\n",
    "    \n",
    "    # color setting\n",
    "    main_color = plt.cm.GnBu\n",
    "    \n",
    "    # draws the edges\n",
    "    nx.draw_networkx_edges(H, \n",
    "                           positions, \n",
    "                           edgelist=edges, \n",
    "                           style='solid',\n",
    "                           width=weights,\n",
    "                           edge_color=weights,\n",
    "                           edge_cmap=main_color,\n",
    "                           edge_vmin=min(weights),\n",
    "                           edge_vmax=max(weights))\n",
    "    \n",
    "    # displays the graph without axis\n",
    "    plt.axis('off')\n",
    "    \n",
    "    # show\n",
    "    plt.show()"
   ]
  },
  {
   "cell_type": "code",
   "execution_count": null,
   "metadata": {
    "ExecuteTime": {
     "end_time": "2021-01-09T15:35:12.043040Z",
     "start_time": "2021-01-09T15:35:12.039471Z"
    }
   },
   "outputs": [],
   "source": [
    "# instantiate agg clusterer with 'precomputed' affinity\n",
    "agg = AgglomerativeClustering(n_clusters=5, \n",
    "                              affinity='precomputed',\n",
    "                              linkage='average')\n",
    "\n",
    "# cluster\n",
    "clusters = agg.fit_predict(r_corr_matrix)"
   ]
  },
  {
   "cell_type": "code",
   "execution_count": null,
   "metadata": {
    "ExecuteTime": {
     "end_time": "2021-01-09T15:35:12.653102Z",
     "start_time": "2021-01-09T15:35:12.044775Z"
    }
   },
   "outputs": [],
   "source": [
    "# create dict mapping each feature to its cluster\n",
    "cluster_assignments = {}\n",
    "for f, c in zip(features, clusters):\n",
    "    cluster_assignments[f] = c\n",
    "\n",
    "# plot\n",
    "create_neighborhood_network(G, 0.0, cluster_assignments, features)"
   ]
  },
  {
   "cell_type": "markdown",
   "metadata": {},
   "source": [
    "It is interesting to note the clusters that appear:\n",
    "1. `AGE_BIN"
   ]
  },
  {
   "cell_type": "code",
   "execution_count": null,
   "metadata": {
    "ExecuteTime": {
     "end_time": "2021-01-09T15:35:12.680905Z",
     "start_time": "2021-01-09T15:35:12.655263Z"
    }
   },
   "outputs": [],
   "source": [
    "# Now, we ompute the weights of each \n",
    "# feature using their within-neighborhood sum of correlations and multiplying\n",
    "# them by the target variable.\n",
    "\n",
    "# we define total corr as the summation of feature corrs within their \n",
    "# neighborhoods\n",
    "total_corr = {}\n",
    "\n",
    "# get edges of graph\n",
    "edges = G.edges(data=True)\n",
    "\n",
    "# iterate over neighborhood and sum over weights \n",
    "for feat in features:\n",
    "    total_corr[feat] = 0\n",
    "    for feat_i, feat_j, weight in edges:\n",
    "        if feat == feat_i:\n",
    "            if feat != feat_j and cluster_assignments[feat_i] == cluster_assignments[feat_j]:\n",
    "                total_corr[feat] += np.abs(weight['weight'])\n",
    "                \n",
    "# multiply total corr for each variable by its correlation with\n",
    "# the target label\n",
    "total_weights = {}\n",
    "for i, feat in enumerate(features):\n",
    "    total_weights[feat] = total_corr[feat] * np.abs(target_corr[i])"
   ]
  },
  {
   "cell_type": "code",
   "execution_count": null,
   "metadata": {
    "ExecuteTime": {
     "end_time": "2021-01-09T15:35:12.695448Z",
     "start_time": "2021-01-09T15:35:12.682376Z"
    },
    "scrolled": true
   },
   "outputs": [],
   "source": [
    "# create df with both total_weights and assignment_3,\n",
    "# then groupby neighborhood and sort by total_weight\n",
    "\n",
    "# sanity check: assert same feature order\n",
    "assert (k == v for k, v in zip(cluster_assignments.keys(), total_weights.keys()))\n",
    "        \n",
    "# create separate dfs\n",
    "df_cluster_assignments = pd.DataFrame.from_dict(cluster_assignments, orient='index')\n",
    "df_weights = pd.DataFrame.from_dict(total_weights, orient='index')\n",
    "\n",
    "# join on index\n",
    "df_neighborhoods = df_cluster_assignments.merge(df_weights, left_index=True, right_index=True)\n",
    "df_neighborhoods.columns = ['NBRHOOD', 'WEIGHT']\n",
    "\n",
    "# make weights absolute so that strong negative correlations are also given\n",
    "# importance\n",
    "df_neighborhoods['WEIGHT'] = np.abs(df_neighborhoods['WEIGHT'])\n",
    "\n",
    "# inspect\n",
    "df_neighborhoods"
   ]
  },
  {
   "cell_type": "code",
   "execution_count": null,
   "metadata": {
    "ExecuteTime": {
     "end_time": "2021-01-09T15:35:12.702461Z",
     "start_time": "2021-01-09T15:35:12.697106Z"
    }
   },
   "outputs": [],
   "source": [
    "# define method for returning top n features in each neighborhood\n",
    "def get_top_features(n, group_col, weight_col, df=df_neighborhoods):\n",
    "    \n",
    "    # sort df\n",
    "    df_sorted = df.sort_values(by=[group_col, weight_col], ascending=[True, False])\n",
    "    \n",
    "    # get unique groups\n",
    "    groups = np.unique(df_sorted[group_col])\n",
    "    \n",
    "    # create empty dict\n",
    "    top_features_full = {}\n",
    "    top_features = {}\n",
    "    \n",
    "    # pick top n from each group\n",
    "    for g in groups:\n",
    "        if g not in top_features_full.keys(): \n",
    "            top_features_full[g] = []\n",
    "        if g not in top_features.keys():\n",
    "            top_features[g] = []\n",
    "            \n",
    "        subset = df[df[group_col] == g].sort_values(weight_col, ascending=False).iloc[:n, :]\n",
    "        for index, row in subset.iterrows():\n",
    "            top_features_full[g].append({index: row[weight_col]})\n",
    "            top_features[g].append(index)\n",
    "            \n",
    "    return top_features, top_features_full"
   ]
  },
  {
   "cell_type": "code",
   "execution_count": null,
   "metadata": {
    "ExecuteTime": {
     "end_time": "2021-01-09T15:35:12.715920Z",
     "start_time": "2021-01-09T15:35:12.704115Z"
    }
   },
   "outputs": [],
   "source": [
    "# test\n",
    "top_2, top_2_full = get_top_features(n=2, group_col='NBRHOOD', weight_col='WEIGHT')\n",
    "\n",
    "# inspect\n",
    "top_2"
   ]
  },
  {
   "cell_type": "code",
   "execution_count": null,
   "metadata": {
    "ExecuteTime": {
     "end_time": "2021-01-09T15:35:12.719554Z",
     "start_time": "2021-01-09T15:35:12.717464Z"
    }
   },
   "outputs": [],
   "source": [
    "# helper method to get feature df\n",
    "def get_df_features(df, features):\n",
    "    return df[features]"
   ]
  },
  {
   "cell_type": "code",
   "execution_count": null,
   "metadata": {
    "ExecuteTime": {
     "end_time": "2021-01-09T15:35:12.723926Z",
     "start_time": "2021-01-09T15:35:12.721155Z"
    }
   },
   "outputs": [],
   "source": [
    "# collapse features\n",
    "top_n = top_2\n",
    "best_features = []\n",
    "for v in top_n.values():\n",
    "    for i in v:\n",
    "        best_features.append(i)"
   ]
  },
  {
   "cell_type": "code",
   "execution_count": null,
   "metadata": {
    "ExecuteTime": {
     "end_time": "2021-01-09T15:35:12.736413Z",
     "start_time": "2021-01-09T15:35:12.725655Z"
    },
    "scrolled": true
   },
   "outputs": [],
   "source": [
    "# get final features\n",
    "df_weighted_features = get_df_features(df_train, best_features)\n",
    "\n",
    "# inspect\n",
    "df_weighted_features.head()"
   ]
  },
  {
   "cell_type": "markdown",
   "metadata": {},
   "source": [
    "### Heuristics Approach\n",
    "\n",
    "The Heuristics approach is motivated by the fact that the neighborhoods of features evidently carry different characteristics. Thus, there is a question: \n",
    "\n",
    "**Is there a specific neighborhood that by itself provides greater predictive power?**\n",
    "\n",
    "Thus, we will proceed in a simple manner:\n",
    "\n",
    "1. Compute the within-neighborhood sum of the features' correlations with the target variable\n",
    "2. Select the highest-ranking neighborhood as the set of features"
   ]
  },
  {
   "cell_type": "code",
   "execution_count": null,
   "metadata": {
    "ExecuteTime": {
     "end_time": "2021-01-09T15:35:12.788145Z",
     "start_time": "2021-01-09T15:35:12.738071Z"
    }
   },
   "outputs": [],
   "source": [
    "# form df with features, neighborhoods, and target correlations\n",
    "# since they are ordered in the same way as the index\n",
    "df_cluster_assignments.columns = ['NBRHOOD']\n",
    "df_cluster_assignments['TGT_CORR'] = np.abs(target_corr)\n",
    "\n",
    "# inspect\n",
    "df_cluster_assignments.head()"
   ]
  },
  {
   "cell_type": "code",
   "execution_count": null,
   "metadata": {
    "ExecuteTime": {
     "end_time": "2021-01-09T15:35:12.799764Z",
     "start_time": "2021-01-09T15:35:12.790096Z"
    }
   },
   "outputs": [],
   "source": [
    "# determine top neighborhood\n",
    "df_cluster_assignments.groupby('NBRHOOD').sum().sort_values('TGT_CORR', ascending=False)"
   ]
  },
  {
   "cell_type": "code",
   "execution_count": null,
   "metadata": {
    "ExecuteTime": {
     "end_time": "2021-01-09T15:35:12.806965Z",
     "start_time": "2021-01-09T15:35:12.801561Z"
    }
   },
   "outputs": [],
   "source": [
    "# get features for top neighborhood\n",
    "top_nbr = 2\n",
    "top_neighborhood = []\n",
    "for index, row in df_cluster_assignments[df_cluster_assignments['NBRHOOD'] == top_nbr].iterrows():\n",
    "    top_neighborhood.append(index)\n",
    "\n",
    "# examine\n",
    "top_neighborhood"
   ]
  },
  {
   "cell_type": "code",
   "execution_count": null,
   "metadata": {
    "ExecuteTime": {
     "end_time": "2021-01-09T15:35:12.816281Z",
     "start_time": "2021-01-09T15:35:12.808716Z"
    }
   },
   "outputs": [],
   "source": [
    "# get df\n",
    "df_nbr_features = get_df_features(df_train, top_neighborhood)\n",
    "\n",
    "# inspect\n",
    "df_nbr_features.head()"
   ]
  },
  {
   "cell_type": "markdown",
   "metadata": {},
   "source": [
    "### PCA Approach"
   ]
  },
  {
   "cell_type": "code",
   "execution_count": null,
   "metadata": {
    "ExecuteTime": {
     "end_time": "2021-01-09T15:35:12.866653Z",
     "start_time": "2021-01-09T15:35:12.818064Z"
    }
   },
   "outputs": [],
   "source": [
    "# select data\n",
    "X = df_train[features]\n",
    "y = df_train['DEFAULT']\n",
    "\n",
    "# standardise data\n",
    "scaler = StandardScaler()\n",
    "X_scaled = pd.DataFrame(scaler.fit_transform(X.values), \n",
    "                        index=X.index, columns=X.columns)\n"
   ]
  },
  {
   "cell_type": "code",
   "execution_count": null,
   "metadata": {
    "ExecuteTime": {
     "end_time": "2021-01-09T15:35:13.468312Z",
     "start_time": "2021-01-09T15:35:12.868387Z"
    }
   },
   "outputs": [],
   "source": [
    "# checking results 3 principal components\n",
    "projected = PCA(n_components=3).fit_transform(X_scaled)\n",
    "\n",
    "# plotting the training points on all 3 dimensions\n",
    "fig = plt.figure(figsize=(10,6))\n",
    "ax = fig.gca(projection='3d')\n",
    "ax.scatter(projected[:, 0], projected[:, 1], projected[:, 2], c=y, cmap=cm.Paired)\n",
    "\n",
    "ax.set_xlim(-4, 10)\n",
    "ax.set_ylim(-4, 10)\n",
    "ax.set_zlim(-6, 4)\n",
    "\n",
    "plt.title('Class separation with 3 Principal Components')\n",
    "\n",
    "plt.show()"
   ]
  },
  {
   "cell_type": "markdown",
   "metadata": {},
   "source": [
    "As we can see, the variance is not explained sufficiently by only 3 components out of the original XX features - significant overlapping can be observed. Therefore, we need to plot the explained variance by the number of components.\n",
    "\n"
   ]
  },
  {
   "cell_type": "code",
   "execution_count": null,
   "metadata": {
    "ExecuteTime": {
     "end_time": "2021-01-09T15:35:13.808088Z",
     "start_time": "2021-01-09T15:35:13.470130Z"
    }
   },
   "outputs": [],
   "source": [
    "# fit the PCA model\n",
    "pca = PCA().fit(X_scaled)\n",
    "\n",
    "# explained variance by number of components\n",
    "fig, (ax1, ax2) = plt.subplots(1, 2, figsize=(13,6))\n",
    "fig.suptitle('Explained Variance by Number of Components')\n",
    "\n",
    "# plot cumulative explained variance\n",
    "ax1.plot(np.cumsum(pca.explained_variance_ratio_))\n",
    "ax1.set_xlabel(\"Number of Components\")\n",
    "ax1.set_ylabel(\"Cumulative Explained Variance\")\n",
    "ax1.axhline(y=.95, xmin=0, xmax=100, linewidth=1, color='r', ls='--', label='Old')\n",
    "ax1.annotate('95% variance', xy=(20, 0.9), xytext=(18, 0.92))\n",
    "\n",
    "# scree plot\n",
    "ax2.bar(range(1, len(pca.explained_variance_ratio_)+1), pca.explained_variance_ratio_)\n",
    "ax2.set_xlabel(\"Number of Components\")\n",
    "ax2.set_ylabel(\"Explained Variance\")"
   ]
  },
  {
   "cell_type": "code",
   "execution_count": null,
   "metadata": {
    "ExecuteTime": {
     "end_time": "2021-01-09T15:35:13.813634Z",
     "start_time": "2021-01-09T15:35:13.810057Z"
    }
   },
   "outputs": [],
   "source": [
    "# determine necessary components for 95% variance\n",
    "cum_sum = 0\n",
    "for i, r in enumerate(pca.explained_variance_ratio_):\n",
    "    cum_sum += r\n",
    "    if cum_sum >= 0.95:\n",
    "        print('Num. Components: ', i)\n",
    "        print('Explained Variance: {:.2f}%'.format(cum_sum * 100))\n",
    "        break"
   ]
  },
  {
   "cell_type": "code",
   "execution_count": null,
   "metadata": {
    "ExecuteTime": {
     "end_time": "2021-01-09T15:35:13.996130Z",
     "start_time": "2021-01-09T15:35:13.815599Z"
    }
   },
   "outputs": [],
   "source": [
    "# create new PCA with 25 components and transform data\n",
    "pca_25 = PCA(n_components=25)\n",
    "X_pca = pca_25.fit_transform(X_scaled)"
   ]
  },
  {
   "cell_type": "code",
   "execution_count": null,
   "metadata": {
    "ExecuteTime": {
     "end_time": "2021-01-09T15:35:14.024857Z",
     "start_time": "2021-01-09T15:35:13.998352Z"
    }
   },
   "outputs": [],
   "source": [
    "# create df\n",
    "df_pca_25 = pd.DataFrame(X_pca)\n",
    "df_pca_25.columns = ['PC_{}'.format(i) for i in range(1,26)]\n",
    "\n",
    "# inspect\n",
    "df_pca_25.head()"
   ]
  },
  {
   "cell_type": "markdown",
   "metadata": {},
   "source": [
    "## Model Selection\n",
    "\n",
    "The Feature Engineering section has cleaned, augmented, and reduced the original dataset into **three sets of features**, each for a corresponding Feature Selection method. Each method and their corresponding DataFrame (excl. target var.) is listed below:\n",
    "\n",
    "1. Weighted Approach: `df_weighted_features`\n",
    "2. Heuristic Approach: `df_nbr_features`\n",
    "3. PCA Approach: `df_pca_25`"
   ]
  },
  {
   "cell_type": "code",
   "execution_count": null,
   "metadata": {
    "ExecuteTime": {
     "end_time": "2021-01-09T15:35:14.037387Z",
     "start_time": "2021-01-09T15:35:14.027081Z"
    }
   },
   "outputs": [],
   "source": [
    "# Weighted Features\n",
    "df_weighted_features.head()"
   ]
  },
  {
   "cell_type": "code",
   "execution_count": null,
   "metadata": {
    "ExecuteTime": {
     "end_time": "2021-01-09T15:35:14.046659Z",
     "start_time": "2021-01-09T15:35:14.039395Z"
    }
   },
   "outputs": [],
   "source": [
    "# Heuristic Approach\n",
    "df_nbr_features.head()"
   ]
  },
  {
   "cell_type": "code",
   "execution_count": null,
   "metadata": {
    "ExecuteTime": {
     "end_time": "2021-01-09T15:35:14.068225Z",
     "start_time": "2021-01-09T15:35:14.048664Z"
    }
   },
   "outputs": [],
   "source": [
    "# PCA Approach\n",
    "df_pca_25.head()"
   ]
  },
  {
   "cell_type": "code",
   "execution_count": null,
   "metadata": {
    "ExecuteTime": {
     "end_time": "2021-01-09T15:35:14.074153Z",
     "start_time": "2021-01-09T15:35:14.070011Z"
    }
   },
   "outputs": [],
   "source": [
    "# target var\n",
    "df_target = df_train['DEFAULT']\n",
    "df_target.head()"
   ]
  },
  {
   "cell_type": "code",
   "execution_count": null,
   "metadata": {
    "ExecuteTime": {
     "end_time": "2021-01-09T15:35:14.079050Z",
     "start_time": "2021-01-09T15:35:14.076041Z"
    }
   },
   "outputs": [],
   "source": [
    "# sanity check: assert same num rows for features and target\n",
    "assert df_weighted_features.shape[0] == df_target.shape[0]\n",
    "assert df_nbr_features.shape[0] == df_target.shape[0]\n",
    "assert df_pca_25.shape[0] == df_target.shape[0]"
   ]
  },
  {
   "cell_type": "code",
   "execution_count": null,
   "metadata": {
    "ExecuteTime": {
     "end_time": "2021-01-09T15:35:14.098492Z",
     "start_time": "2021-01-09T15:35:14.080803Z"
    },
    "code_folding": []
   },
   "outputs": [],
   "source": [
    "# feat eng pipeline\n",
    "def feat_eng_pipeline(df):\n",
    "    '''\n",
    "    Returns engineered dataset.\n",
    "    '''\n",
    "    # define features\n",
    "    pay_features = ['PAY_1', 'PAY_2', 'PAY_3', 'PAY_4', 'PAY_5', 'PAY_6']\n",
    "    pay_amt_features = ['PAY_AMT1', 'PAY_AMT2', 'PAY_AMT3', 'PAY_AMT4', 'PAY_AMT5', 'PAY_AMT6']\n",
    "    \n",
    "    # create PAY clusters\n",
    "    df_pay = df[pay_features]\n",
    "    pay_clusters = _kmeans_pay[3].predict(df_pay)\n",
    "    df_pay_clusters = pd.DataFrame({'PAY_CLUSTER':pay_clusters})\n",
    "    df_pay_clusters['PAY_CLUSTER'] = df_pay_clusters['PAY_CLUSTER'].astype('category')\n",
    "    \n",
    "    # one-hot encode\n",
    "    cat_df_pc = pd.get_dummies(df_pay_clusters)\n",
    "    cat_df_pc.index = df.index\n",
    "    df = df.join(cat_df_pc)\n",
    "    \n",
    "    # create PAY_AMT clusters\n",
    "    df_pay_amt = df[pay_amt_features]\n",
    "    pay_amt_clusters = _kmeans_pay_amt[3].predict(df_pay_amt)\n",
    "    df_pay_amt_clusters = pd.DataFrame({'PAY_AMT_CLUSTER':pay_amt_clusters})\n",
    "    df_pay_amt_clusters['PAY_AMT_CLUSTER'] = df_pay_amt_clusters['PAY_AMT_CLUSTER'].astype('category')\n",
    "    \n",
    "    # one-hot encode\n",
    "    cat_df_pamtc = pd.get_dummies(df_pay_amt_clusters)\n",
    "    cat_df_pamtc.index = df.index\n",
    "    df = df.join(cat_df_pamtc)\n",
    "    \n",
    "    # average repayment status\n",
    "    df['AVG_PAY'] = get_avg(df, pay_features)\n",
    "    \n",
    "    # 'sufficiency'\n",
    "    pay_amt_features = ['PAY_AMT1', 'PAY_AMT2', 'PAY_AMT3', 'PAY_AMT4', 'PAY_AMT5', 'PAY_AMT6']\n",
    "    bill_features = ['BILL_AMT1', 'BILL_AMT2', 'BILL_AMT3', 'BILL_AMT4', 'BILL_AMT5', 'BILL_AMT6']\n",
    "    df['AVG_BILL_AMT'] = get_avg(df, bill_features)\n",
    "    df['AVG_PAY_AMT'] = get_avg(df, pay_amt_features)\n",
    "    df['SUFF'] = np.where(df['AVG_BILL_AMT'] <= df['AVG_PAY_AMT'], 1, 0)\n",
    "     \n",
    "    # average change in MoM repayment status\n",
    "    dummy_train = df.copy()\n",
    "    dummy_train['DELTA_12'] = dummy_train['PAY_2'] - dummy_train['PAY_1']\n",
    "    dummy_train['DELTA_23'] = dummy_train['PAY_3'] - dummy_train['PAY_2']\n",
    "    dummy_train['DELTA_34'] = dummy_train['PAY_4'] - dummy_train['PAY_3']\n",
    "    dummy_train['DELTA_45'] = dummy_train['PAY_5'] - dummy_train['PAY_4']\n",
    "    dummy_train['DELTA_56'] = dummy_train['PAY_6'] - dummy_train['PAY_5']\n",
    "    deltas = ['DELTA_12', 'DELTA_23', 'DELTA_34', 'DELTA_45', 'DELTA_56']\n",
    "    dummy_train['AVG_DELTA'] = dummy_train[deltas].mean(axis=1)\n",
    "    df['AVG_PAY_DELTA'] = dummy_train['AVG_DELTA']\n",
    "    \n",
    "    # frequency variables\n",
    "    for pay_feature in pay_features:\n",
    "        df['FREQ_{}'.format(pay_feature)] = np.where((df[pay_feature] >= 3),1, \n",
    "                                                    (np.where(df[pay_feature] <3,0, df[pay_feature])))\n",
    "    pay_delays = ['FREQ_PAY_1', 'FREQ_PAY_2','FREQ_PAY_3','FREQ_PAY_4','FREQ_PAY_5','FREQ_PAY_6',]\n",
    "    df['PAY_DELAY_FREQ'] = df[pay_delays].sum(axis=1)\n",
    "    for pay_feature in pay_features:\n",
    "        df['TIMELY_{}'.format(pay_feature)] = np.where((df[pay_feature] <= 0),1, \n",
    "                                                    (np.where(df[pay_feature] >0,0, df[pay_feature])))\n",
    "    pay_timely = ['TIMELY_PAY_1', 'TIMELY_PAY_2','TIMELY_PAY_3','TIMELY_PAY_4','TIMELY_PAY_5','TIMELY_PAY_6',]\n",
    "    df['PAY_TIMELY_FREQ'] = df[pay_timely].sum(axis=1)\n",
    "    df.drop(pay_delays, axis=1, inplace=True)\n",
    "    df.drop(pay_timely, axis=1, inplace=True)\n",
    "    pay_amounts = ['PAY_AMT1','PAY_AMT2','PAY_AMT3','PAY_AMT4','PAY_AMT5','PAY_AMT6']\n",
    "    for pay_amt_feature in pay_amt_features:\n",
    "        df['FREQ_{}'.format(pay_amt_feature)] = np.where((df[pay_amt_feature] > 0),1, \n",
    "                                                    (np.where(df[pay_amt_feature] <=0,0,\n",
    "                                                     df[pay_amt_feature])))\n",
    "    repayments = ['FREQ_PAY_AMT1', 'FREQ_PAY_AMT2','FREQ_PAY_AMT3','FREQ_PAY_AMT4','FREQ_PAY_AMT5','FREQ_PAY_AMT6',]\n",
    "    df['REPAY_FREQ'] = df[repayments].sum(axis=1)\n",
    "    df.drop(repayments, axis=1, inplace=True)\n",
    "    \n",
    "    return df"
   ]
  },
  {
   "cell_type": "code",
   "execution_count": null,
   "metadata": {
    "ExecuteTime": {
     "end_time": "2021-01-09T15:35:14.193694Z",
     "start_time": "2021-01-09T15:35:14.100741Z"
    }
   },
   "outputs": [],
   "source": [
    "df_test_eng = feat_eng_pipeline(df_test)"
   ]
  },
  {
   "cell_type": "code",
   "execution_count": null,
   "metadata": {
    "ExecuteTime": {
     "end_time": "2021-01-09T15:35:14.272827Z",
     "start_time": "2021-01-09T15:35:14.195609Z"
    }
   },
   "outputs": [],
   "source": [
    "# engineer test df\n",
    "df_test_eng = feat_eng_pipeline(df_test)\n",
    "\n",
    "# inspect\n",
    "df_test_eng.head()"
   ]
  },
  {
   "cell_type": "code",
   "execution_count": null,
   "metadata": {},
   "outputs": [],
   "source": [
    "df_test_eng.describe()"
   ]
  },
  {
   "cell_type": "code",
   "execution_count": null,
   "metadata": {
    "ExecuteTime": {
     "end_time": "2021-01-09T15:35:14.289480Z",
     "start_time": "2021-01-09T15:35:14.274741Z"
    }
   },
   "outputs": [],
   "source": [
    "# inspect\n",
    "df_test_eng.info()"
   ]
  }
 ],
 "metadata": {
  "kernelspec": {
   "display_name": "Python 3",
   "language": "python",
   "name": "python3"
  },
  "language_info": {
   "codemirror_mode": {
    "name": "ipython",
    "version": 3
   },
   "file_extension": ".py",
   "mimetype": "text/x-python",
   "name": "python",
   "nbconvert_exporter": "python",
   "pygments_lexer": "ipython3",
   "version": "3.8.1"
  },
  "toc": {
   "base_numbering": 1,
   "nav_menu": {},
   "number_sections": true,
   "sideBar": true,
   "skip_h1_title": false,
   "title_cell": "Table of Contents",
   "title_sidebar": "Contents",
   "toc_cell": false,
   "toc_position": {},
   "toc_section_display": true,
   "toc_window_display": false
  }
 },
 "nbformat": 4,
 "nbformat_minor": 4
}
