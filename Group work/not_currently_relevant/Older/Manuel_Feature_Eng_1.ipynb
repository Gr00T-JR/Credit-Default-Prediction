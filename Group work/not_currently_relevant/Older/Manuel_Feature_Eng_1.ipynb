{
 "cells": [
  {
   "cell_type": "markdown",
   "metadata": {},
   "source": [
    "# CC Dataset Exploration"
   ]
  },
  {
   "cell_type": "code",
   "execution_count": 1,
   "metadata": {
    "ExecuteTime": {
     "end_time": "2020-11-26T21:49:34.234869Z",
     "start_time": "2020-11-26T21:49:34.229919Z"
    }
   },
   "outputs": [],
   "source": [
    "# imports\n",
    "import numpy as np\n",
    "import pandas as pd\n",
    "import seaborn as sns\n",
    "import matplotlib.pyplot as plt\n",
    "%matplotlib inline\n",
    "\n",
    "from sklearn.linear_model import LogisticRegression\n",
    "from sklearn.metrics import accuracy_score, precision_score, recall_score"
   ]
  },
  {
   "cell_type": "markdown",
   "metadata": {},
   "source": [
    "There are 25 variables:\n",
    "\n",
    "ID: ID of each client\n",
    "\n",
    "LIMIT_BAL: Amount of given credit in NT dollars (includes individual and family/supplementary credit\n",
    "\n",
    "SEX: Gender (1=male, 2=female)\n",
    "\n",
    "EDUCATION: (1=graduate school, 2=university, 3=high school, 4=others, 5=unknown, 6=unknown)\n",
    "\n",
    "MARRIAGE: Marital status (1=married, 2=single, 3=others)\n",
    "\n",
    "AGE: Age in years\n",
    "\n",
    "PAY_0: Repayment status in September, 2005 (-1=pay duly, 1=payment delay for one month, 2=payment delay for two months, … 8=payment delay for eight months, 9=payment delay for nine months and above)\n",
    "\n",
    "PAY_2: Repayment status in August, 2005 (scale same as above)\n",
    "\n",
    "PAY_3: Repayment status in July, 2005 (scale same as above)\n",
    "\n",
    "PAY_4: Repayment status in June, 2005 (scale same as above)\n",
    "\n",
    "PAY_5: Repayment status in May, 2005 (scale same as above)\n",
    "\n",
    "PAY_6: Repayment status in April, 2005 (scale same as above)\n",
    "\n",
    "BILL_AMT1: Amount of bill statement in September, 2005 (NT dollar)\n",
    "\n",
    "BILL_AMT2: Amount of bill statement in August, 2005 (NT dollar)\n",
    "\n",
    "BILL_AMT3: Amount of bill statement in July, 2005 (NT dollar)\n",
    "\n",
    "BILL_AMT4: Amount of bill statement in June, 2005 (NT dollar)\n",
    "\n",
    "BILL_AMT5: Amount of bill statement in May, 2005 (NT dollar)\n",
    "\n",
    "BILL_AMT6: Amount of bill statement in April, 2005 (NT dollar)\n",
    "\n",
    "PAY_AMT1: Amount of previous payment in September, 2005 (NT dollar)\n",
    "\n",
    "PAY_AMT2: Amount of previous payment in August, 2005 (NT dollar)\n",
    "\n",
    "PAY_AMT3: Amount of previous payment in July, 2005 (NT dollar)\n",
    "\n",
    "PAY_AMT4: Amount of previous payment in June, 2005 (NT dollar)\n",
    "\n",
    "PAY_AMT5: Amount of previous payment in May, 2005 (NT dollar)\n",
    "\n",
    "PAY_AMT6: Amount of previous payment in April, 2005 (NT dollar)\n",
    "\n",
    "default.payment.next.month: Default payment (1=yes, 0=no)\n"
   ]
  },
  {
   "cell_type": "markdown",
   "metadata": {},
   "source": [
    "## EDA"
   ]
  },
  {
   "cell_type": "code",
   "execution_count": 2,
   "metadata": {
    "ExecuteTime": {
     "end_time": "2020-11-27T15:36:04.498129Z",
     "start_time": "2020-11-27T15:36:04.400409Z"
    }
   },
   "outputs": [],
   "source": [
    "# load data\n",
    "_train = 'DataFiles/CreditCard_train.csv'\n",
    "_test = 'DataFiles/CreditCard_test.csv'\n",
    "\n",
    "df_train = pd.read_csv(_train, index_col=0, header=1)\n",
    "df_test = pd.read_csv(_test, index_col=0, header=1)"
   ]
  },
  {
   "cell_type": "code",
   "execution_count": 3,
   "metadata": {
    "ExecuteTime": {
     "end_time": "2020-11-27T15:36:04.820805Z",
     "start_time": "2020-11-27T15:36:04.806667Z"
    }
   },
   "outputs": [
    {
     "data": {
      "text/html": [
       "<div>\n",
       "<style scoped>\n",
       "    .dataframe tbody tr th:only-of-type {\n",
       "        vertical-align: middle;\n",
       "    }\n",
       "\n",
       "    .dataframe tbody tr th {\n",
       "        vertical-align: top;\n",
       "    }\n",
       "\n",
       "    .dataframe thead th {\n",
       "        text-align: right;\n",
       "    }\n",
       "</style>\n",
       "<table border=\"1\" class=\"dataframe\">\n",
       "  <thead>\n",
       "    <tr style=\"text-align: right;\">\n",
       "      <th></th>\n",
       "      <th>LIMIT_BAL</th>\n",
       "      <th>SEX</th>\n",
       "      <th>EDUCATION</th>\n",
       "      <th>MARRIAGE</th>\n",
       "      <th>AGE</th>\n",
       "      <th>PAY_0</th>\n",
       "      <th>PAY_2</th>\n",
       "      <th>PAY_3</th>\n",
       "      <th>PAY_4</th>\n",
       "      <th>PAY_5</th>\n",
       "      <th>...</th>\n",
       "      <th>BILL_AMT4</th>\n",
       "      <th>BILL_AMT5</th>\n",
       "      <th>BILL_AMT6</th>\n",
       "      <th>PAY_AMT1</th>\n",
       "      <th>PAY_AMT2</th>\n",
       "      <th>PAY_AMT3</th>\n",
       "      <th>PAY_AMT4</th>\n",
       "      <th>PAY_AMT5</th>\n",
       "      <th>PAY_AMT6</th>\n",
       "      <th>default payment next month</th>\n",
       "    </tr>\n",
       "    <tr>\n",
       "      <th>ID</th>\n",
       "      <th></th>\n",
       "      <th></th>\n",
       "      <th></th>\n",
       "      <th></th>\n",
       "      <th></th>\n",
       "      <th></th>\n",
       "      <th></th>\n",
       "      <th></th>\n",
       "      <th></th>\n",
       "      <th></th>\n",
       "      <th></th>\n",
       "      <th></th>\n",
       "      <th></th>\n",
       "      <th></th>\n",
       "      <th></th>\n",
       "      <th></th>\n",
       "      <th></th>\n",
       "      <th></th>\n",
       "      <th></th>\n",
       "      <th></th>\n",
       "      <th></th>\n",
       "    </tr>\n",
       "  </thead>\n",
       "  <tbody>\n",
       "    <tr>\n",
       "      <th>1</th>\n",
       "      <td>20000</td>\n",
       "      <td>2</td>\n",
       "      <td>2</td>\n",
       "      <td>1</td>\n",
       "      <td>24</td>\n",
       "      <td>2</td>\n",
       "      <td>2</td>\n",
       "      <td>-1</td>\n",
       "      <td>-1</td>\n",
       "      <td>-2</td>\n",
       "      <td>...</td>\n",
       "      <td>0</td>\n",
       "      <td>0</td>\n",
       "      <td>0</td>\n",
       "      <td>0</td>\n",
       "      <td>689</td>\n",
       "      <td>0</td>\n",
       "      <td>0</td>\n",
       "      <td>0</td>\n",
       "      <td>0</td>\n",
       "      <td>1</td>\n",
       "    </tr>\n",
       "    <tr>\n",
       "      <th>2</th>\n",
       "      <td>120000</td>\n",
       "      <td>2</td>\n",
       "      <td>2</td>\n",
       "      <td>2</td>\n",
       "      <td>26</td>\n",
       "      <td>-1</td>\n",
       "      <td>2</td>\n",
       "      <td>0</td>\n",
       "      <td>0</td>\n",
       "      <td>0</td>\n",
       "      <td>...</td>\n",
       "      <td>3272</td>\n",
       "      <td>3455</td>\n",
       "      <td>3261</td>\n",
       "      <td>0</td>\n",
       "      <td>1000</td>\n",
       "      <td>1000</td>\n",
       "      <td>1000</td>\n",
       "      <td>0</td>\n",
       "      <td>2000</td>\n",
       "      <td>1</td>\n",
       "    </tr>\n",
       "    <tr>\n",
       "      <th>3</th>\n",
       "      <td>90000</td>\n",
       "      <td>2</td>\n",
       "      <td>2</td>\n",
       "      <td>2</td>\n",
       "      <td>34</td>\n",
       "      <td>0</td>\n",
       "      <td>0</td>\n",
       "      <td>0</td>\n",
       "      <td>0</td>\n",
       "      <td>0</td>\n",
       "      <td>...</td>\n",
       "      <td>14331</td>\n",
       "      <td>14948</td>\n",
       "      <td>15549</td>\n",
       "      <td>1518</td>\n",
       "      <td>1500</td>\n",
       "      <td>1000</td>\n",
       "      <td>1000</td>\n",
       "      <td>1000</td>\n",
       "      <td>5000</td>\n",
       "      <td>0</td>\n",
       "    </tr>\n",
       "    <tr>\n",
       "      <th>4</th>\n",
       "      <td>50000</td>\n",
       "      <td>2</td>\n",
       "      <td>2</td>\n",
       "      <td>1</td>\n",
       "      <td>37</td>\n",
       "      <td>0</td>\n",
       "      <td>0</td>\n",
       "      <td>0</td>\n",
       "      <td>0</td>\n",
       "      <td>0</td>\n",
       "      <td>...</td>\n",
       "      <td>28314</td>\n",
       "      <td>28959</td>\n",
       "      <td>29547</td>\n",
       "      <td>2000</td>\n",
       "      <td>2019</td>\n",
       "      <td>1200</td>\n",
       "      <td>1100</td>\n",
       "      <td>1069</td>\n",
       "      <td>1000</td>\n",
       "      <td>0</td>\n",
       "    </tr>\n",
       "    <tr>\n",
       "      <th>5</th>\n",
       "      <td>50000</td>\n",
       "      <td>1</td>\n",
       "      <td>2</td>\n",
       "      <td>1</td>\n",
       "      <td>57</td>\n",
       "      <td>-1</td>\n",
       "      <td>0</td>\n",
       "      <td>-1</td>\n",
       "      <td>0</td>\n",
       "      <td>0</td>\n",
       "      <td>...</td>\n",
       "      <td>20940</td>\n",
       "      <td>19146</td>\n",
       "      <td>19131</td>\n",
       "      <td>2000</td>\n",
       "      <td>36681</td>\n",
       "      <td>10000</td>\n",
       "      <td>9000</td>\n",
       "      <td>689</td>\n",
       "      <td>679</td>\n",
       "      <td>0</td>\n",
       "    </tr>\n",
       "  </tbody>\n",
       "</table>\n",
       "<p>5 rows × 24 columns</p>\n",
       "</div>"
      ],
      "text/plain": [
       "    LIMIT_BAL  SEX  EDUCATION  MARRIAGE  AGE  PAY_0  PAY_2  PAY_3  PAY_4  \\\n",
       "ID                                                                         \n",
       "1       20000    2          2         1   24      2      2     -1     -1   \n",
       "2      120000    2          2         2   26     -1      2      0      0   \n",
       "3       90000    2          2         2   34      0      0      0      0   \n",
       "4       50000    2          2         1   37      0      0      0      0   \n",
       "5       50000    1          2         1   57     -1      0     -1      0   \n",
       "\n",
       "    PAY_5  ...  BILL_AMT4  BILL_AMT5  BILL_AMT6  PAY_AMT1  PAY_AMT2  PAY_AMT3  \\\n",
       "ID         ...                                                                  \n",
       "1      -2  ...          0          0          0         0       689         0   \n",
       "2       0  ...       3272       3455       3261         0      1000      1000   \n",
       "3       0  ...      14331      14948      15549      1518      1500      1000   \n",
       "4       0  ...      28314      28959      29547      2000      2019      1200   \n",
       "5       0  ...      20940      19146      19131      2000     36681     10000   \n",
       "\n",
       "    PAY_AMT4  PAY_AMT5  PAY_AMT6  default payment next month  \n",
       "ID                                                            \n",
       "1          0         0         0                           1  \n",
       "2       1000         0      2000                           1  \n",
       "3       1000      1000      5000                           0  \n",
       "4       1100      1069      1000                           0  \n",
       "5       9000       689       679                           0  \n",
       "\n",
       "[5 rows x 24 columns]"
      ]
     },
     "execution_count": 3,
     "metadata": {},
     "output_type": "execute_result"
    }
   ],
   "source": [
    "df_train.head()"
   ]
  },
  {
   "cell_type": "code",
   "execution_count": 4,
   "metadata": {
    "ExecuteTime": {
     "end_time": "2020-11-27T15:36:06.652004Z",
     "start_time": "2020-11-27T15:36:06.637255Z"
    }
   },
   "outputs": [
    {
     "data": {
      "text/html": [
       "<div>\n",
       "<style scoped>\n",
       "    .dataframe tbody tr th:only-of-type {\n",
       "        vertical-align: middle;\n",
       "    }\n",
       "\n",
       "    .dataframe tbody tr th {\n",
       "        vertical-align: top;\n",
       "    }\n",
       "\n",
       "    .dataframe thead th {\n",
       "        text-align: right;\n",
       "    }\n",
       "</style>\n",
       "<table border=\"1\" class=\"dataframe\">\n",
       "  <thead>\n",
       "    <tr style=\"text-align: right;\">\n",
       "      <th></th>\n",
       "      <th>LIMIT_BAL</th>\n",
       "      <th>SEX</th>\n",
       "      <th>EDUCATION</th>\n",
       "      <th>MARRIAGE</th>\n",
       "      <th>AGE</th>\n",
       "      <th>PAY_0</th>\n",
       "      <th>PAY_2</th>\n",
       "      <th>PAY_3</th>\n",
       "      <th>PAY_4</th>\n",
       "      <th>PAY_5</th>\n",
       "      <th>...</th>\n",
       "      <th>BILL_AMT4</th>\n",
       "      <th>BILL_AMT5</th>\n",
       "      <th>BILL_AMT6</th>\n",
       "      <th>PAY_AMT1</th>\n",
       "      <th>PAY_AMT2</th>\n",
       "      <th>PAY_AMT3</th>\n",
       "      <th>PAY_AMT4</th>\n",
       "      <th>PAY_AMT5</th>\n",
       "      <th>PAY_AMT6</th>\n",
       "      <th>default payment next month</th>\n",
       "    </tr>\n",
       "    <tr>\n",
       "      <th>ID</th>\n",
       "      <th></th>\n",
       "      <th></th>\n",
       "      <th></th>\n",
       "      <th></th>\n",
       "      <th></th>\n",
       "      <th></th>\n",
       "      <th></th>\n",
       "      <th></th>\n",
       "      <th></th>\n",
       "      <th></th>\n",
       "      <th></th>\n",
       "      <th></th>\n",
       "      <th></th>\n",
       "      <th></th>\n",
       "      <th></th>\n",
       "      <th></th>\n",
       "      <th></th>\n",
       "      <th></th>\n",
       "      <th></th>\n",
       "      <th></th>\n",
       "      <th></th>\n",
       "    </tr>\n",
       "  </thead>\n",
       "  <tbody>\n",
       "    <tr>\n",
       "      <th>24001</th>\n",
       "      <td>50000</td>\n",
       "      <td>1</td>\n",
       "      <td>2</td>\n",
       "      <td>2</td>\n",
       "      <td>23</td>\n",
       "      <td>2</td>\n",
       "      <td>2</td>\n",
       "      <td>0</td>\n",
       "      <td>0</td>\n",
       "      <td>0</td>\n",
       "      <td>...</td>\n",
       "      <td>44116</td>\n",
       "      <td>21247</td>\n",
       "      <td>20066</td>\n",
       "      <td>8</td>\n",
       "      <td>2401</td>\n",
       "      <td>2254</td>\n",
       "      <td>2004</td>\n",
       "      <td>704</td>\n",
       "      <td>707</td>\n",
       "      <td>0</td>\n",
       "    </tr>\n",
       "    <tr>\n",
       "      <th>24002</th>\n",
       "      <td>60000</td>\n",
       "      <td>1</td>\n",
       "      <td>2</td>\n",
       "      <td>2</td>\n",
       "      <td>26</td>\n",
       "      <td>0</td>\n",
       "      <td>0</td>\n",
       "      <td>0</td>\n",
       "      <td>0</td>\n",
       "      <td>0</td>\n",
       "      <td>...</td>\n",
       "      <td>55736</td>\n",
       "      <td>26958</td>\n",
       "      <td>28847</td>\n",
       "      <td>2282</td>\n",
       "      <td>2324</td>\n",
       "      <td>2049</td>\n",
       "      <td>2000</td>\n",
       "      <td>3000</td>\n",
       "      <td>1120</td>\n",
       "      <td>1</td>\n",
       "    </tr>\n",
       "    <tr>\n",
       "      <th>24003</th>\n",
       "      <td>400000</td>\n",
       "      <td>1</td>\n",
       "      <td>2</td>\n",
       "      <td>2</td>\n",
       "      <td>27</td>\n",
       "      <td>0</td>\n",
       "      <td>0</td>\n",
       "      <td>0</td>\n",
       "      <td>0</td>\n",
       "      <td>0</td>\n",
       "      <td>...</td>\n",
       "      <td>10745</td>\n",
       "      <td>20737</td>\n",
       "      <td>9545</td>\n",
       "      <td>2501</td>\n",
       "      <td>10009</td>\n",
       "      <td>1437</td>\n",
       "      <td>1105</td>\n",
       "      <td>510</td>\n",
       "      <td>959</td>\n",
       "      <td>0</td>\n",
       "    </tr>\n",
       "    <tr>\n",
       "      <th>24004</th>\n",
       "      <td>20000</td>\n",
       "      <td>1</td>\n",
       "      <td>5</td>\n",
       "      <td>2</td>\n",
       "      <td>27</td>\n",
       "      <td>5</td>\n",
       "      <td>4</td>\n",
       "      <td>3</td>\n",
       "      <td>2</td>\n",
       "      <td>2</td>\n",
       "      <td>...</td>\n",
       "      <td>19709</td>\n",
       "      <td>20113</td>\n",
       "      <td>19840</td>\n",
       "      <td>0</td>\n",
       "      <td>0</td>\n",
       "      <td>0</td>\n",
       "      <td>900</td>\n",
       "      <td>0</td>\n",
       "      <td>0</td>\n",
       "      <td>0</td>\n",
       "    </tr>\n",
       "    <tr>\n",
       "      <th>24005</th>\n",
       "      <td>50000</td>\n",
       "      <td>1</td>\n",
       "      <td>3</td>\n",
       "      <td>2</td>\n",
       "      <td>27</td>\n",
       "      <td>0</td>\n",
       "      <td>0</td>\n",
       "      <td>-2</td>\n",
       "      <td>-2</td>\n",
       "      <td>-1</td>\n",
       "      <td>...</td>\n",
       "      <td>0</td>\n",
       "      <td>70</td>\n",
       "      <td>120</td>\n",
       "      <td>0</td>\n",
       "      <td>100</td>\n",
       "      <td>0</td>\n",
       "      <td>70</td>\n",
       "      <td>200</td>\n",
       "      <td>100</td>\n",
       "      <td>0</td>\n",
       "    </tr>\n",
       "  </tbody>\n",
       "</table>\n",
       "<p>5 rows × 24 columns</p>\n",
       "</div>"
      ],
      "text/plain": [
       "       LIMIT_BAL  SEX  EDUCATION  MARRIAGE  AGE  PAY_0  PAY_2  PAY_3  PAY_4  \\\n",
       "ID                                                                            \n",
       "24001      50000    1          2         2   23      2      2      0      0   \n",
       "24002      60000    1          2         2   26      0      0      0      0   \n",
       "24003     400000    1          2         2   27      0      0      0      0   \n",
       "24004      20000    1          5         2   27      5      4      3      2   \n",
       "24005      50000    1          3         2   27      0      0     -2     -2   \n",
       "\n",
       "       PAY_5  ...  BILL_AMT4  BILL_AMT5  BILL_AMT6  PAY_AMT1  PAY_AMT2  \\\n",
       "ID            ...                                                        \n",
       "24001      0  ...      44116      21247      20066         8      2401   \n",
       "24002      0  ...      55736      26958      28847      2282      2324   \n",
       "24003      0  ...      10745      20737       9545      2501     10009   \n",
       "24004      2  ...      19709      20113      19840         0         0   \n",
       "24005     -1  ...          0         70        120         0       100   \n",
       "\n",
       "       PAY_AMT3  PAY_AMT4  PAY_AMT5  PAY_AMT6  default payment next month  \n",
       "ID                                                                         \n",
       "24001      2254      2004       704       707                           0  \n",
       "24002      2049      2000      3000      1120                           1  \n",
       "24003      1437      1105       510       959                           0  \n",
       "24004         0       900         0         0                           0  \n",
       "24005         0        70       200       100                           0  \n",
       "\n",
       "[5 rows x 24 columns]"
      ]
     },
     "execution_count": 4,
     "metadata": {},
     "output_type": "execute_result"
    }
   ],
   "source": [
    "df_test.head()"
   ]
  },
  {
   "cell_type": "code",
   "execution_count": 5,
   "metadata": {
    "ExecuteTime": {
     "end_time": "2020-11-27T15:36:08.747583Z",
     "start_time": "2020-11-27T15:36:08.742465Z"
    }
   },
   "outputs": [
    {
     "name": "stdout",
     "output_type": "stream",
     "text": [
      "       LIMIT_BAL  SEX  EDUCATION  MARRIAGE  AGE  PAY_0  PAY_2  PAY_3  PAY_4  \\\n",
      "ID                                                                            \n",
      "1          20000    2          2         1   24      2      2     -1     -1   \n",
      "2         120000    2          2         2   26     -1      2      0      0   \n",
      "3          90000    2          2         2   34      0      0      0      0   \n",
      "4          50000    2          2         1   37      0      0      0      0   \n",
      "5          50000    1          2         1   57     -1      0     -1      0   \n",
      "...          ...  ...        ...       ...  ...    ...    ...    ...    ...   \n",
      "23996      80000    1          2         1   25      1      2      2      0   \n",
      "23997      20000    1          2         1   25      0      0      0      0   \n",
      "23998      10000    1          2         2   26      0      0      0      0   \n",
      "23999      20000    1          5         2   26      0      0      0      0   \n",
      "24000     100000    1          1         2   26      0     -1      0      0   \n",
      "\n",
      "       PAY_5  ...  BILL_AMT3  BILL_AMT4  BILL_AMT5  BILL_AMT6  PAY_AMT1  \\\n",
      "ID            ...                                                         \n",
      "1         -2  ...        689          0          0          0         0   \n",
      "2          0  ...       2682       3272       3455       3261         0   \n",
      "3          0  ...      13559      14331      14948      15549      1518   \n",
      "4          0  ...      49291      28314      28959      29547      2000   \n",
      "5          0  ...      35835      20940      19146      19131      2000   \n",
      "...      ...  ...        ...        ...        ...        ...       ...   \n",
      "23996      0  ...      80903      80215      63296      49854      3800   \n",
      "23997      0  ...      17562      17322      17119      17350      1552   \n",
      "23998      0  ...       9825      17506      16608       9176      1300   \n",
      "23999      0  ...      19394      39950          0          0      3055   \n",
      "24000     -1  ...       2067       1944        389       1221      1100   \n",
      "\n",
      "       PAY_AMT2  PAY_AMT3  PAY_AMT4  PAY_AMT5  PAY_AMT6  \n",
      "ID                                                       \n",
      "1           689         0         0         0         0  \n",
      "2          1000      1000      1000         0      2000  \n",
      "3          1500      1000      1000      1000      5000  \n",
      "4          2019      1200      1100      1069      1000  \n",
      "5         36681     10000      9000       689       679  \n",
      "...         ...       ...       ...       ...       ...  \n",
      "23996         6      3636      2646      2000      1830  \n",
      "23997      2659      1419       606       500      1000  \n",
      "23998      2200      1300       320      1820      1000  \n",
      "23999      1467      1096      1000         0         0  \n",
      "24000      1200      1000       500      1000      1000  \n",
      "\n",
      "[24000 rows x 23 columns]\n"
     ]
    }
   ],
   "source": [
    "# split X, y\n",
    "X_train, y_train = df_train.iloc[:,:-1], df_train.iloc[:,-1:]\n",
    "X_test, y_test = df_test.iloc[:,:-1], df_test.iloc[:,-1:]\n",
    "\n",
    "# reshape y into 1d column vector\n",
    "y_train, y_test = np.reshape(y_train, (y_train.shape[0],)), np.reshape(y_test, (y_test.shape[0],))\n",
    "print(X_train)"
   ]
  },
  {
   "cell_type": "code",
   "execution_count": 6,
   "metadata": {
    "ExecuteTime": {
     "end_time": "2020-11-27T15:36:10.077287Z",
     "start_time": "2020-11-27T15:36:10.069546Z"
    }
   },
   "outputs": [
    {
     "name": "stdout",
     "output_type": "stream",
     "text": [
      "Training Data: \n",
      " 5370 Defaults (22.4%) \n",
      " 18630 Non-defaults (77.6%)\n",
      "\n",
      "\n",
      "Testing Data: \n",
      " 1266 Defaults (21.1%) \n",
      " 4734 Non-defaults (78.9%)\n"
     ]
    }
   ],
   "source": [
    "# identify class imbalance\n",
    "num_train_defaults = df_train.iloc[:, -1].sum()\n",
    "num_train_no_defaults = df_train.shape[0] - df_train.iloc[:, -1].sum()\n",
    "print(\"Training Data: \\n {} Defaults ({:.1f}%) \\n {} Non-defaults ({:.1f}%)\".format(num_train_defaults, \n",
    "                                       num_train_defaults/df_train.shape[0]*100,\n",
    "                                       num_train_no_defaults,\n",
    "                                       num_train_no_defaults/df_train.shape[0]*100))\n",
    "\n",
    "num_test_defaults = df_test.iloc[:, -1].sum()\n",
    "num_test_no_defaults = df_test.shape[0] - df_test.iloc[:, -1].sum()\n",
    "print(\"\\n\\nTesting Data: \\n {} Defaults ({:.1f}%) \\n {} Non-defaults ({:.1f}%)\".format(num_test_defaults, \n",
    "                                       num_test_defaults/df_test.shape[0]*100,\n",
    "                                       num_test_no_defaults,\n",
    "                                       num_test_no_defaults/df_test.shape[0]*100))"
   ]
  },
  {
   "cell_type": "markdown",
   "metadata": {},
   "source": [
    "From this, we know that a good benchmark for performance is **78%**, given that an algorithm could perform at least this well if it guessed 0 all the time."
   ]
  },
  {
   "cell_type": "code",
   "execution_count": 7,
   "metadata": {
    "ExecuteTime": {
     "end_time": "2020-11-27T15:36:11.764089Z",
     "start_time": "2020-11-27T15:36:11.386989Z"
    },
    "scrolled": false
   },
   "outputs": [
    {
     "data": {
      "image/png": "[encoded data removed]",
      "text/plain": [
       "<Figure size 1440x720 with 2 Axes>"
      ]
     },
     "metadata": {
      "needs_background": "light"
     },
     "output_type": "display_data"
    }
   ],
   "source": [
    "# identify correlations\n",
    "plt.figure(figsize=(20,10))\n",
    "sns.heatmap(X_train.corr())\n",
    "plt.show()"
   ]
  },
  {
   "cell_type": "markdown",
   "metadata": {},
   "source": [
    "**Interesting Insights**:\n",
    "1. `SEX`, `EDUCATION`, `MARRIAGE`, and `AGE` are practically uncorrelated with everything else. Could be dropped.\n",
    "2. With time, the correlation between payments decreases. That is, the `PAY_0` is more correlated to `PAY_2` than to `PAY_6`. This means that "
   ]
  },
  {
   "cell_type": "markdown",
   "metadata": {},
   "source": [
    "# Log Reg Testing"
   ]
  },
  {
   "cell_type": "code",
   "execution_count": 8,
   "metadata": {
    "ExecuteTime": {
     "end_time": "2020-11-27T15:44:54.605373Z",
     "start_time": "2020-11-27T15:44:54.597593Z"
    }
   },
   "outputs": [],
   "source": [
    "# @helper methods\n",
    "\n",
    "def test_features(features, X_train=X_train, X_test=X_test, scaled=True):\n",
    "    # get training and testing data (scaled)\n",
    "    X_train_red, X_test_red = get_feature_subset(features, X_train, X_test, scaled)\n",
    "\n",
    "    # train model\n",
    "    lr = LogisticRegression(random_state=42)\n",
    "    lr.fit(X_train_red, y_train)\n",
    "\n",
    "    # make predictions\n",
    "    y_pred = lr.predict(X_test_red)\n",
    "\n",
    "    # compute scores\n",
    "    scores, report = get_scores(y_pred)\n",
    "    \n",
    "    return scores, report\n",
    "\n",
    "def get_feature_subset(features, X_tr, X_tst, scaled=True):\n",
    "    X_train_subset, X_test_subset = X_tr[features], X_tst[features]\n",
    "    if scaled:\n",
    "        X_train_scaled_subset = scaler.fit_transform(X_train_subset)\n",
    "        X_test_scaled_subset = scaler.fit_transform(X_test_subset)\n",
    "        return X_train_scaled_subset, X_test_scaled_subset\n",
    "    else:\n",
    "        return X_train_subset, X_test_subset\n",
    "\n",
    "def get_scores(y_pred):\n",
    "    scores = dict()\n",
    "    scores['acc'] = accuracy_score(y_test, y_pred)\n",
    "    scores['prec'] = precision_score(y_test, y_pred)\n",
    "    scores['rec'] = recall_score(y_test, y_pred)\n",
    "    report = \"SCORES:\\n \\\n",
    "    Accuracy: {:.3f}\\n \\\n",
    "    Precision: {:.3f}\\n \\\n",
    "    Recall: {:.3f}\".format(scores['acc'], scores['prec'], scores['rec'])\n",
    "    return scores, report"
   ]
  },
  {
   "cell_type": "markdown",
   "metadata": {},
   "source": [
    "## Full Dataset"
   ]
  },
  {
   "cell_type": "code",
   "execution_count": 9,
   "metadata": {
    "ExecuteTime": {
     "end_time": "2020-11-27T15:46:15.869207Z",
     "start_time": "2020-11-27T15:46:15.738571Z"
    }
   },
   "outputs": [
    {
     "ename": "NameError",
     "evalue": "name 'scaler' is not defined",
     "output_type": "error",
     "traceback": [
      "\u001b[0;31m---------------------------------------------------------------------------\u001b[0m",
      "\u001b[0;31mNameError\u001b[0m                                 Traceback (most recent call last)",
      "\u001b[0;32m<ipython-input-9-d42018b20818>\u001b[0m in \u001b[0;36m<module>\u001b[0;34m\u001b[0m\n\u001b[1;32m      1\u001b[0m \u001b[0mall_features\u001b[0m \u001b[0;34m=\u001b[0m \u001b[0mX_train\u001b[0m\u001b[0;34m.\u001b[0m\u001b[0mcolumns\u001b[0m\u001b[0;34m\u001b[0m\u001b[0;34m\u001b[0m\u001b[0m\n\u001b[0;32m----> 2\u001b[0;31m \u001b[0mscores_all\u001b[0m\u001b[0;34m,\u001b[0m \u001b[0mreport\u001b[0m \u001b[0;34m=\u001b[0m \u001b[0mtest_features\u001b[0m\u001b[0;34m(\u001b[0m\u001b[0mall_features\u001b[0m\u001b[0;34m)\u001b[0m\u001b[0;34m\u001b[0m\u001b[0;34m\u001b[0m\u001b[0m\n\u001b[0m\u001b[1;32m      3\u001b[0m \u001b[0mprint\u001b[0m\u001b[0;34m(\u001b[0m\u001b[0mreport\u001b[0m\u001b[0;34m)\u001b[0m\u001b[0;34m\u001b[0m\u001b[0;34m\u001b[0m\u001b[0m\n",
      "\u001b[0;32m<ipython-input-8-3c52998e23b5>\u001b[0m in \u001b[0;36mtest_features\u001b[0;34m(features, X_train, X_test, scaled)\u001b[0m\n\u001b[1;32m      3\u001b[0m \u001b[0;32mdef\u001b[0m \u001b[0mtest_features\u001b[0m\u001b[0;34m(\u001b[0m\u001b[0mfeatures\u001b[0m\u001b[0;34m,\u001b[0m \u001b[0mX_train\u001b[0m\u001b[0;34m=\u001b[0m\u001b[0mX_train\u001b[0m\u001b[0;34m,\u001b[0m \u001b[0mX_test\u001b[0m\u001b[0;34m=\u001b[0m\u001b[0mX_test\u001b[0m\u001b[0;34m,\u001b[0m \u001b[0mscaled\u001b[0m\u001b[0;34m=\u001b[0m\u001b[0;32mTrue\u001b[0m\u001b[0;34m)\u001b[0m\u001b[0;34m:\u001b[0m\u001b[0;34m\u001b[0m\u001b[0;34m\u001b[0m\u001b[0m\n\u001b[1;32m      4\u001b[0m     \u001b[0;31m# get training and testing data (scaled)\u001b[0m\u001b[0;34m\u001b[0m\u001b[0;34m\u001b[0m\u001b[0;34m\u001b[0m\u001b[0m\n\u001b[0;32m----> 5\u001b[0;31m     \u001b[0mX_train_red\u001b[0m\u001b[0;34m,\u001b[0m \u001b[0mX_test_red\u001b[0m \u001b[0;34m=\u001b[0m \u001b[0mget_feature_subset\u001b[0m\u001b[0;34m(\u001b[0m\u001b[0mfeatures\u001b[0m\u001b[0;34m,\u001b[0m \u001b[0mX_train\u001b[0m\u001b[0;34m,\u001b[0m \u001b[0mX_test\u001b[0m\u001b[0;34m,\u001b[0m \u001b[0mscaled\u001b[0m\u001b[0;34m)\u001b[0m\u001b[0;34m\u001b[0m\u001b[0;34m\u001b[0m\u001b[0m\n\u001b[0m\u001b[1;32m      6\u001b[0m \u001b[0;34m\u001b[0m\u001b[0m\n\u001b[1;32m      7\u001b[0m     \u001b[0;31m# train model\u001b[0m\u001b[0;34m\u001b[0m\u001b[0;34m\u001b[0m\u001b[0;34m\u001b[0m\u001b[0m\n",
      "\u001b[0;32m<ipython-input-8-3c52998e23b5>\u001b[0m in \u001b[0;36mget_feature_subset\u001b[0;34m(features, X_tr, X_tst, scaled)\u001b[0m\n\u001b[1;32m     20\u001b[0m     \u001b[0mX_train_subset\u001b[0m\u001b[0;34m,\u001b[0m \u001b[0mX_test_subset\u001b[0m \u001b[0;34m=\u001b[0m \u001b[0mX_tr\u001b[0m\u001b[0;34m[\u001b[0m\u001b[0mfeatures\u001b[0m\u001b[0;34m]\u001b[0m\u001b[0;34m,\u001b[0m \u001b[0mX_tst\u001b[0m\u001b[0;34m[\u001b[0m\u001b[0mfeatures\u001b[0m\u001b[0;34m]\u001b[0m\u001b[0;34m\u001b[0m\u001b[0;34m\u001b[0m\u001b[0m\n\u001b[1;32m     21\u001b[0m     \u001b[0;32mif\u001b[0m \u001b[0mscaled\u001b[0m\u001b[0;34m:\u001b[0m\u001b[0;34m\u001b[0m\u001b[0;34m\u001b[0m\u001b[0m\n\u001b[0;32m---> 22\u001b[0;31m         \u001b[0mX_train_scaled_subset\u001b[0m \u001b[0;34m=\u001b[0m \u001b[0mscaler\u001b[0m\u001b[0;34m.\u001b[0m\u001b[0mfit_transform\u001b[0m\u001b[0;34m(\u001b[0m\u001b[0mX_train_subset\u001b[0m\u001b[0;34m)\u001b[0m\u001b[0;34m\u001b[0m\u001b[0;34m\u001b[0m\u001b[0m\n\u001b[0m\u001b[1;32m     23\u001b[0m         \u001b[0mX_test_scaled_subset\u001b[0m \u001b[0;34m=\u001b[0m \u001b[0mscaler\u001b[0m\u001b[0;34m.\u001b[0m\u001b[0mfit_transform\u001b[0m\u001b[0;34m(\u001b[0m\u001b[0mX_test_subset\u001b[0m\u001b[0;34m)\u001b[0m\u001b[0;34m\u001b[0m\u001b[0;34m\u001b[0m\u001b[0m\n\u001b[1;32m     24\u001b[0m         \u001b[0;32mreturn\u001b[0m \u001b[0mX_train_scaled_subset\u001b[0m\u001b[0;34m,\u001b[0m \u001b[0mX_test_scaled_subset\u001b[0m\u001b[0;34m\u001b[0m\u001b[0;34m\u001b[0m\u001b[0m\n",
      "\u001b[0;31mNameError\u001b[0m: name 'scaler' is not defined"
     ]
    }
   ],
   "source": [
    "all_features = X_train.columns\n",
    "scores_all, report = test_features(all_features)\n",
    "print(report)"
   ]
  },
  {
   "cell_type": "markdown",
   "metadata": {},
   "source": [
    "## Log Reg: Test 1\n",
    "\n",
    "Remove all features except `SEX`, `EDUCATION`, `MARRIAGE`, and `AGE` to see performance"
   ]
  },
  {
   "cell_type": "code",
   "execution_count": null,
   "metadata": {
    "ExecuteTime": {
     "end_time": "2020-11-27T15:46:51.172135Z",
     "start_time": "2020-11-27T15:46:51.138785Z"
    }
   },
   "outputs": [],
   "source": [
    "dem_features = ['SEX', 'EDUCATION', 'MARRIAGE', 'AGE']\n",
    "scores_1, report = test_features(dem_features)\n",
    "print(report)"
   ]
  },
  {
   "cell_type": "markdown",
   "metadata": {
    "ExecuteTime": {
     "end_time": "2020-11-26T17:59:00.620984Z",
     "start_time": "2020-11-26T17:59:00.617420Z"
    }
   },
   "source": [
    "Basically as good as predicting 0 all the time, so practically worthless. "
   ]
  },
  {
   "cell_type": "markdown",
   "metadata": {
    "ExecuteTime": {
     "end_time": "2020-11-26T21:37:12.781285Z",
     "start_time": "2020-11-26T21:37:12.778508Z"
    }
   },
   "source": [
    "## Log Reg: Test 2\n",
    "\n",
    "Remove all features except `PAY_n` to see performance."
   ]
  },
  {
   "cell_type": "code",
   "execution_count": null,
   "metadata": {
    "ExecuteTime": {
     "end_time": "2020-11-27T15:47:33.242221Z",
     "start_time": "2020-11-27T15:47:33.185197Z"
    }
   },
   "outputs": [],
   "source": [
    "# select data\n",
    "pay_features = ['PAY_0', 'PAY_2', 'PAY_3', 'PAY_4', 'PAY_5', 'PAY_6']\n",
    "scores_2, report = test_features(pay_features)\n",
    "print(report)"
   ]
  },
  {
   "cell_type": "markdown",
   "metadata": {},
   "source": [
    "## Log Reg: Test 3\n",
    "\n",
    "Remove all features except `BILL_AMTn` to see performance."
   ]
  },
  {
   "cell_type": "code",
   "execution_count": null,
   "metadata": {
    "ExecuteTime": {
     "end_time": "2020-11-27T16:01:35.405791Z",
     "start_time": "2020-11-27T16:01:35.351668Z"
    },
    "scrolled": true
   },
   "outputs": [],
   "source": [
    "# select data\n",
    "bill_features = ['BILL_AMT1', 'BILL_AMT2', 'BILL_AMT3', 'BILL_AMT4', 'BILL_AMT5', 'BILL_AMT6']\n",
    "scores_3, report = test_features(bill_features)\n",
    "print(report)"
   ]
  },
  {
   "cell_type": "markdown",
   "metadata": {},
   "source": [
    "## Log Reg: Test 4\n",
    "\n",
    "Remove all features except `PAY_AMTn` to see performance."
   ]
  },
  {
   "cell_type": "code",
   "execution_count": null,
   "metadata": {
    "ExecuteTime": {
     "end_time": "2020-11-27T15:52:21.831788Z",
     "start_time": "2020-11-27T15:52:21.781072Z"
    }
   },
   "outputs": [],
   "source": [
    "# select data\n",
    "pay_amt_features = ['PAY_AMT1', 'PAY_AMT2', 'PAY_AMT3', 'PAY_AMT4', 'PAY_AMT5', 'PAY_AMT6']\n",
    "scores_4, report = test_features(pay_amt_features)\n",
    "print(report)"
   ]
  },
  {
   "cell_type": "markdown",
   "metadata": {},
   "source": [
    "## Log Reg: Test 5\n",
    "\n",
    "Combine `PAY_n` and `BILL_AMTn` features to see performance."
   ]
  },
  {
   "cell_type": "code",
   "execution_count": null,
   "metadata": {
    "ExecuteTime": {
     "end_time": "2020-11-27T15:53:04.847679Z",
     "start_time": "2020-11-27T15:53:04.774947Z"
    }
   },
   "outputs": [],
   "source": [
    "# select data\n",
    "bill_pay_features = ['BILL_AMT1',\n",
    "                         'BILL_AMT2',\n",
    "                         'BILL_AMT3',\n",
    "                         'BILL_AMT4',\n",
    "                         'BILL_AMT5',\n",
    "                         'BILL_AMT6',\n",
    "                         'PAY_0', 'PAY_2', \n",
    "                         'PAY_3', 'PAY_4', \n",
    "                         'PAY_5', 'PAY_6']     \n",
    "scores_5, report = test_features(bill_pay_features)\n",
    "print(report)"
   ]
  },
  {
   "cell_type": "markdown",
   "metadata": {},
   "source": [
    "# Feature Engineering\n",
    "\n",
    "Five features to be tried out:\n",
    "\n",
    "1. Average repayment status (categorical)\n",
    "\n",
    "2. Average bill amount outstanding above/below average payment (categorical)\n",
    "\n",
    "3. Average *change* in MoM repayment status"
   ]
  },
  {
   "cell_type": "markdown",
   "metadata": {},
   "source": [
    "## Average Repayment Status"
   ]
  },
  {
   "cell_type": "code",
   "execution_count": null,
   "metadata": {
    "ExecuteTime": {
     "end_time": "2020-11-27T15:53:18.072126Z",
     "start_time": "2020-11-27T15:53:18.069066Z"
    }
   },
   "outputs": [],
   "source": [
    "# @helper method\n",
    "def get_avg(df, features):\n",
    "    data = df.copy()\n",
    "    total = 0\n",
    "    for feat in features: total += data[feat]\n",
    "    return total / len(features)  "
   ]
  },
  {
   "cell_type": "code",
   "execution_count": null,
   "metadata": {
    "ExecuteTime": {
     "end_time": "2020-11-27T15:53:18.431275Z",
     "start_time": "2020-11-27T15:53:18.416181Z"
    }
   },
   "outputs": [],
   "source": [
    "# compute\n",
    "X_train_aug, X_test_aug = X_train.copy(), X_test.copy()\n",
    "X_train_aug['AVG_PAY'], X_test_aug['AVG_PAY'] = get_avg(X_train, pay_features), get_avg(X_test, pay_features)"
   ]
  },
  {
   "cell_type": "code",
   "execution_count": null,
   "metadata": {
    "ExecuteTime": {
     "end_time": "2020-11-27T15:53:18.726413Z",
     "start_time": "2020-11-27T15:53:18.676273Z"
    }
   },
   "outputs": [],
   "source": [
    "# test features\n",
    "features.append('AVG_PAY')\n",
    "scores_5, report_5 = test_features(features, X_train_aug, X_test_aug)\n",
    "print(report_5)"
   ]
  },
  {
   "cell_type": "code",
   "execution_count": null,
   "metadata": {
    "ExecuteTime": {
     "end_time": "2020-11-27T17:22:01.915711Z",
     "start_time": "2020-11-27T17:22:01.902064Z"
    }
   },
   "outputs": [],
   "source": [
    "features"
   ]
  },
  {
   "cell_type": "markdown",
   "metadata": {},
   "source": [
    "No effect on performance. "
   ]
  },
  {
   "cell_type": "markdown",
   "metadata": {},
   "source": [
    "## Average Bill Amt Outstanding vs Average Pmt ('Sufficiency')\n"
   ]
  },
  {
   "cell_type": "code",
   "execution_count": null,
   "metadata": {
    "ExecuteTime": {
     "end_time": "2020-11-27T16:11:59.579709Z",
     "start_time": "2020-11-27T16:11:59.561838Z"
    }
   },
   "outputs": [],
   "source": [
    "# Compute\n",
    "X_train_aug['AVG_BILL_AMT'] = get_avg(X_train, bill_features)\n",
    "X_test_aug['AVG_BILL_AMT'] = get_avg(X_test, bill_features)\n",
    "X_train_aug['AVG_PAY_AMT'] = get_avg(X_train, pay_amt_features)\n",
    "X_test_aug['AVG_PAY_AMT'] = get_avg(X_test, pay_amt_features)\n",
    "\n",
    "X_train_aug['SUFF'] = np.where(X_train_aug['AVG_BILL_AMT'] <= X_train_aug['AVG_PAY_AMT'], 1, 0)\n",
    "X_test_aug['SUFF'] = np.where(X_test_aug['AVG_BILL_AMT'] <= X_test_aug['AVG_PAY_AMT'], 1, 0)"
   ]
  },
  {
   "cell_type": "code",
   "execution_count": null,
   "metadata": {
    "ExecuteTime": {
     "end_time": "2020-11-27T16:13:05.171032Z",
     "start_time": "2020-11-27T16:13:05.129089Z"
    }
   },
   "outputs": [],
   "source": [
    "# test\n",
    "features.append('SUFF')\n",
    "scores_6, report = test_features(features, X_train_aug, X_test_aug)\n",
    "print(report)"
   ]
  },
  {
   "cell_type": "markdown",
   "metadata": {},
   "source": [
    "Slight drop in performance on all three measures"
   ]
  },
  {
   "cell_type": "markdown",
   "metadata": {},
   "source": [
    "## Average Change in MoM repayment status"
   ]
  },
  {
   "cell_type": "code",
   "execution_count": null,
   "metadata": {
    "ExecuteTime": {
     "end_time": "2020-11-27T16:23:37.329910Z",
     "start_time": "2020-11-27T16:23:37.306595Z"
    }
   },
   "outputs": [],
   "source": [
    "# create dummies\n",
    "dummy_train, dummy_test = X_train_aug.copy(), X_test_aug.copy()\n",
    "\n",
    "# compute deltas and mean delta\n",
    "for df in [dummy_test, dummy_train]:\n",
    "    df['DELTA_02'] = df['PAY_2'] - df['PAY_0']\n",
    "    df['DELTA_23'] = df['PAY_3'] - df['PAY_2']\n",
    "    df['DELTA_34'] = df['PAY_4'] - df['PAY_3']\n",
    "    df['DELTA_45'] = df['PAY_5'] - df['PAY_4']\n",
    "    df['DELTA_56'] = df['PAY_6'] - df['PAY_5']\n",
    "    deltas = ['DELTA_02', 'DELTA_23', 'DELTA_34', 'DELTA_45', 'DELTA_56']\n",
    "    df['AVG_DELTA'] = df[deltas].mean(axis=1)\n",
    "    \n",
    "# create new feature\n",
    "X_train_aug['AVG_PAY_DELTA'] = dummy_train['AVG_DELTA']\n",
    "X_test_aug['AVG_PAY_DELTA'] = dummy_test['AVG_DELTA']"
   ]
  },
  {
   "cell_type": "code",
   "execution_count": null,
   "metadata": {
    "ExecuteTime": {
     "end_time": "2020-11-27T16:24:23.215131Z",
     "start_time": "2020-11-27T16:24:23.161105Z"
    }
   },
   "outputs": [],
   "source": [
    "# test\n",
    "features.append('AVG_PAY_DELTA')\n",
    "scores_7, report = test_features(features, X_train_aug, X_test_aug)\n",
    "print(report)"
   ]
  },
  {
   "cell_type": "markdown",
   "metadata": {},
   "source": [
    "## FML"
   ]
  },
  {
   "cell_type": "code",
   "execution_count": 10,
   "metadata": {
    "ExecuteTime": {
     "end_time": "2020-11-27T16:45:00.771407Z",
     "start_time": "2020-11-27T16:45:00.722006Z"
    }
   },
   "outputs": [
    {
     "ename": "NameError",
     "evalue": "name 'StandardScaler' is not defined",
     "output_type": "error",
     "traceback": [
      "\u001b[0;31m---------------------------------------------------------------------------\u001b[0m",
      "\u001b[0;31mNameError\u001b[0m                                 Traceback (most recent call last)",
      "\u001b[0;32m<ipython-input-10-eb76aab59294>\u001b[0m in \u001b[0;36m<module>\u001b[0;34m\u001b[0m\n\u001b[1;32m      1\u001b[0m \u001b[0mlr\u001b[0m \u001b[0;34m=\u001b[0m \u001b[0mLogisticRegression\u001b[0m\u001b[0;34m(\u001b[0m\u001b[0mrandom_state\u001b[0m\u001b[0;34m=\u001b[0m\u001b[0;36m42\u001b[0m\u001b[0;34m)\u001b[0m\u001b[0;34m\u001b[0m\u001b[0;34m\u001b[0m\u001b[0m\n\u001b[0;32m----> 2\u001b[0;31m \u001b[0mscaler\u001b[0m \u001b[0;34m=\u001b[0m \u001b[0mStandardScaler\u001b[0m\u001b[0;34m(\u001b[0m\u001b[0;34m)\u001b[0m\u001b[0;34m\u001b[0m\u001b[0;34m\u001b[0m\u001b[0m\n\u001b[0m\u001b[1;32m      3\u001b[0m \u001b[0mX_train_aug_red\u001b[0m \u001b[0;34m=\u001b[0m \u001b[0mscaler\u001b[0m\u001b[0;34m.\u001b[0m\u001b[0mfit_transform\u001b[0m\u001b[0;34m(\u001b[0m\u001b[0mX_train_aug\u001b[0m\u001b[0;34m[\u001b[0m\u001b[0mfeatures\u001b[0m\u001b[0;34m]\u001b[0m\u001b[0;34m)\u001b[0m\u001b[0;34m\u001b[0m\u001b[0;34m\u001b[0m\u001b[0m\n\u001b[1;32m      4\u001b[0m \u001b[0mX_test_aug_red\u001b[0m \u001b[0;34m=\u001b[0m \u001b[0mscaler\u001b[0m\u001b[0;34m.\u001b[0m\u001b[0mtransform\u001b[0m\u001b[0;34m(\u001b[0m\u001b[0mX_test_aug\u001b[0m\u001b[0;34m[\u001b[0m\u001b[0mfeatures\u001b[0m\u001b[0;34m]\u001b[0m\u001b[0;34m)\u001b[0m\u001b[0;34m\u001b[0m\u001b[0;34m\u001b[0m\u001b[0m\n\u001b[1;32m      5\u001b[0m \u001b[0mlr\u001b[0m\u001b[0;34m.\u001b[0m\u001b[0mfit\u001b[0m\u001b[0;34m(\u001b[0m\u001b[0mX_train_aug_red\u001b[0m\u001b[0;34m,\u001b[0m \u001b[0my_train\u001b[0m\u001b[0;34m)\u001b[0m\u001b[0;34m\u001b[0m\u001b[0;34m\u001b[0m\u001b[0m\n",
      "\u001b[0;31mNameError\u001b[0m: name 'StandardScaler' is not defined"
     ]
    }
   ],
   "source": [
    "lr = LogisticRegression(random_state=42)\n",
    "scaler = StandardScaler()\n",
    "X_train_aug_red = scaler.fit_transform(X_train_aug[features])\n",
    "X_test_aug_red = scaler.transform(X_test_aug[features])\n",
    "lr.fit(X_train_aug_red, y_train)\n",
    "y_pred = lr.predict(X_test_aug_red)\n",
    "scores_10, report = get_scores(y_pred)"
   ]
  },
  {
   "cell_type": "code",
   "execution_count": null,
   "metadata": {
    "ExecuteTime": {
     "end_time": "2020-11-27T16:45:00.890619Z",
     "start_time": "2020-11-27T16:45:00.888061Z"
    }
   },
   "outputs": [],
   "source": [
    "print(report)"
   ]
  },
  {
   "cell_type": "code",
   "execution_count": null,
   "metadata": {
    "ExecuteTime": {
     "end_time": "2020-11-27T17:33:51.334102Z",
     "start_time": "2020-11-27T17:33:51.284620Z"
    }
   },
   "outputs": [],
   "source": [
    "new_features = ['SEX', 'PAY_0']\n",
    "scores_11, report = test_features(new_features, X_train, X_test)\n",
    "print(report)"
   ]
  },
  {
   "cell_type": "code",
   "execution_count": null,
   "metadata": {},
   "outputs": [],
   "source": []
  }
 ],
 "metadata": {
  "kernelspec": {
   "display_name": "Python 3",
   "language": "python",
   "name": "python3"
  },
  "language_info": {
   "codemirror_mode": {
    "name": "ipython",
    "version": 3
   },
   "file_extension": ".py",
   "mimetype": "text/x-python",
   "name": "python",
   "nbconvert_exporter": "python",
   "pygments_lexer": "ipython3",
   "version": "3.8.1"
  },
  "toc": {
   "base_numbering": 1,
   "nav_menu": {},
   "number_sections": true,
   "sideBar": true,
   "skip_h1_title": false,
   "title_cell": "Table of Contents",
   "title_sidebar": "Contents",
   "toc_cell": false,
   "toc_position": {},
   "toc_section_display": true,
   "toc_window_display": false
  }
 },
 "nbformat": 4,
 "nbformat_minor": 4
}
