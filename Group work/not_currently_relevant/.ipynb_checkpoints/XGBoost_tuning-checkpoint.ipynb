{
 "cells": [
  {
   "cell_type": "markdown",
   "id": "9a81ef20",
   "metadata": {},
   "source": [
    "## XGBoost tuning using HYPEROPT\n",
    "\n",
    "Adapted from notebook: https://www.kaggle.com/prashant111/a-guide-on-xgboost-hyperparameters-tuning/comments "
   ]
  },
  {
   "cell_type": "code",
   "execution_count": 1,
   "id": "0acda502",
   "metadata": {},
   "outputs": [],
   "source": [
    "import xgboost as xgb"
   ]
  },
  {
   "cell_type": "code",
   "execution_count": 2,
   "id": "90af9626",
   "metadata": {},
   "outputs": [],
   "source": [
    "# import packages for hyperparameters tuning\n",
    "from hyperopt import STATUS_OK, Trials, fmin, hp, tpe\n",
    "\n",
    "from sklearn.model_selection import train_test_split\n",
    "from sklearn.metrics import accuracy_score\n",
    "\n",
    "%run Data_Preprocessing.ipynb\n",
    "X_train_, X_validation, y_train_, y_validation = train_test_split(X_train, y_train, test_size = 0.3, random_state = 0)"
   ]
  },
  {
   "cell_type": "code",
   "execution_count": null,
   "id": "61a90b2a",
   "metadata": {},
   "outputs": [],
   "source": []
  },
  {
   "cell_type": "code",
   "execution_count": 3,
   "id": "9f3c2f83",
   "metadata": {},
   "outputs": [],
   "source": [
    "space={'max_depth': hp.quniform(\"max_depth\", 3, 18, 1),\n",
    "        'gamma': hp.uniform ('gamma', 1,9),\n",
    "        'reg_alpha' : hp.quniform('reg_alpha', 40,180,1),\n",
    "        'reg_lambda' : hp.uniform('reg_lambda', 0,1),\n",
    "        'colsample_bytree' : hp.uniform('colsample_bytree', 0.5,1),\n",
    "        'min_child_weight' : hp.quniform('min_child_weight', 0, 10, 1),\n",
    "        'n_estimators': 180,\n",
    "        'seed': 0\n",
    "    }"
   ]
  },
  {
   "cell_type": "code",
   "execution_count": 4,
   "id": "7e3bf36f",
   "metadata": {},
   "outputs": [],
   "source": [
    "def objective(space):\n",
    "    clf=xgb.XGBClassifier(\n",
    "                    n_estimators =space['n_estimators'], max_depth = int(space['max_depth']), gamma = space['gamma'],\n",
    "                    reg_alpha = int(space['reg_alpha']),min_child_weight=int(space['min_child_weight']),\n",
    "                    colsample_bytree=int(space['colsample_bytree']))\n",
    "    \n",
    "    evaluation = [( X_train_, y_train_), ( X_validation, y_validation)]\n",
    "    \n",
    "    clf.fit(X_train_, y_train_,\n",
    "            eval_set=evaluation, eval_metric=\"auc\",\n",
    "            early_stopping_rounds=10,verbose=False)\n",
    "    \n",
    "\n",
    "    pred = clf.predict(X_validation)\n",
    "    accuracy = accuracy_score(y_validation, pred>0.5)\n",
    "    print (\"SCORE:\", accuracy)\n",
    "    return {'loss': -accuracy, 'status': STATUS_OK }"
   ]
  },
  {
   "cell_type": "code",
   "execution_count": 5,
   "id": "a9926844",
   "metadata": {},
   "outputs": [
    {
     "name": "stdout",
     "output_type": "stream",
     "text": [
      "\r",
      "  0%|          | 0/100 [00:00<?, ?trial/s, best loss=?]"
     ]
    },
    {
     "name": "stderr",
     "output_type": "stream",
     "text": [
      "/Users/Jurren/Library/Python/3.8/lib/python/site-packages/xgboost/sklearn.py:892: UserWarning: The use of label encoder in XGBClassifier is deprecated and will be removed in a future release. To remove this warning, do the following: 1) Pass option use_label_encoder=False when constructing XGBClassifier object; and 2) Encode your labels (y) as integers starting with 0, i.e. 0, 1, 2, ..., [num_class - 1].\n",
      "  warnings.warn(label_encoder_deprecation_msg, UserWarning)\n",
      "\n"
     ]
    },
    {
     "name": "stdout",
     "output_type": "stream",
     "text": [
      "SCORE:                                                 \n",
      "0.8068055555555556                                     \n",
      "SCORE:                                                                            \n",
      "0.8084722222222223                                                                \n",
      "SCORE:                                                                            \n",
      "0.8079166666666666                                                                \n",
      "SCORE:                                                                            \n",
      "0.805                                                                             \n",
      "SCORE:                                                                            \n",
      "0.8056944444444445                                                                \n",
      "SCORE:                                                                            \n",
      "0.8047222222222222                                                                \n",
      "SCORE:                                                                            \n",
      "0.8094444444444444                                                                \n",
      "SCORE:                                                                            \n",
      "0.80625                                                                           \n",
      "SCORE:                                                                            \n",
      "0.8068055555555556                                                                \n",
      "SCORE:                                                                            \n",
      "0.8061111111111111                                                                \n",
      "SCORE:                                                                             \n",
      "0.8066666666666666                                                                 \n",
      "SCORE:                                                                             \n",
      "0.80625                                                                            \n",
      "SCORE:                                                                             \n",
      "0.8073611111111111                                                                 \n",
      "SCORE:                                                                             \n",
      "0.8054166666666667                                                                 \n",
      "SCORE:                                                                             \n",
      "0.80875                                                                            \n",
      "SCORE:                                                                             \n",
      "0.805                                                                              \n",
      "SCORE:                                                                             \n",
      "0.8066666666666666                                                                 \n",
      "SCORE:                                                                             \n",
      "0.8069444444444445                                                                 \n",
      "SCORE:                                                                             \n",
      "0.8068055555555556                                                                 \n",
      "SCORE:                                                                             \n",
      "0.8090277777777778                                                                 \n",
      "SCORE:                                                                             \n",
      "0.8066666666666666                                                                 \n",
      "SCORE:                                                                             \n",
      "0.8069444444444445                                                                 \n",
      "SCORE:                                                                             \n",
      "0.8081944444444444                                                                 \n",
      "SCORE:                                                                             \n",
      "0.8056944444444445                                                                 \n",
      "SCORE:                                                                             \n",
      "0.8066666666666666                                                                 \n",
      "SCORE:                                                                             \n",
      "0.8059722222222222                                                                 \n",
      "SCORE:                                                                             \n",
      "0.8081944444444444                                                                 \n",
      "SCORE:                                                                             \n",
      "0.8076388888888889                                                                 \n",
      "SCORE:                                                                             \n",
      "0.8075                                                                             \n",
      "SCORE:                                                                             \n",
      "0.8058333333333333                                                                 \n",
      "SCORE:                                                                             \n",
      "0.8093055555555555                                                                 \n",
      "SCORE:                                                                             \n",
      "0.8080555555555555                                                                 \n",
      "SCORE:                                                                             \n",
      "0.8051388888888888                                                                 \n",
      "SCORE:                                                                             \n",
      "0.8080555555555555                                                                 \n",
      "SCORE:                                                                             \n",
      "0.8068055555555556                                                                 \n",
      "SCORE:                                                                             \n",
      "0.8091666666666667                                                                 \n",
      "SCORE:                                                                             \n",
      "0.8070833333333334                                                                 \n",
      "SCORE:                                                                             \n",
      "0.8080555555555555                                                                 \n",
      "SCORE:                                                                             \n",
      "0.8055555555555556                                                                 \n",
      "SCORE:                                                                             \n",
      "0.8063888888888889                                                                 \n",
      "SCORE:                                                                             \n",
      "0.8075                                                                             \n",
      "SCORE:                                                                             \n",
      "0.8073611111111111                                                                 \n",
      "SCORE:                                                                             \n",
      "0.8068055555555556                                                                 \n",
      "SCORE:                                                                             \n",
      "0.8069444444444445                                                                 \n",
      "SCORE:                                                                             \n",
      "0.8083333333333333                                                                 \n",
      "SCORE:                                                                             \n",
      "0.8068055555555556                                                                 \n",
      "SCORE:                                                                             \n",
      "0.8079166666666666                                                                 \n",
      "SCORE:                                                                             \n",
      "0.8047222222222222                                                                 \n",
      "SCORE:                                                                             \n",
      "0.8051388888888888                                                                 \n"
     ]
    },
    {
     "name": "stdout",
     "output_type": "stream",
     "text": [
      "SCORE:                                                                             \n",
      "0.8070833333333334                                                                 \n",
      "SCORE:                                                                             \n",
      "0.8063888888888889                                                                 \n",
      "SCORE:                                                                             \n",
      "0.8073611111111111                                                                 \n",
      "SCORE:                                                                             \n",
      "0.8065277777777777                                                                 \n",
      "SCORE:                                                                             \n",
      "0.8079166666666666                                                                 \n",
      "SCORE:                                                                             \n",
      "0.8091666666666667                                                                 \n",
      "SCORE:                                                                             \n",
      "0.8047222222222222                                                                 \n",
      "SCORE:                                                                             \n",
      "0.8068055555555556                                                                 \n",
      "SCORE:                                                                             \n",
      "0.8076388888888889                                                                 \n",
      "SCORE:                                                                             \n",
      "0.80875                                                                            \n",
      "SCORE:                                                                             \n",
      "0.8065277777777777                                                                 \n",
      "SCORE:                                                                             \n",
      "0.8076388888888889                                                                 \n",
      "SCORE:                                                                             \n",
      "0.805                                                                              \n",
      "SCORE:                                                                             \n",
      "0.8068055555555556                                                                 \n",
      "SCORE:                                                                             \n",
      "0.8056944444444445                                                                 \n",
      "SCORE:                                                                             \n",
      "0.8063888888888889                                                                 \n",
      "SCORE:                                                                             \n",
      "0.8093055555555555                                                                 \n",
      "SCORE:                                                                             \n",
      "0.8081944444444444                                                                 \n",
      "SCORE:                                                                             \n",
      "0.8091666666666667                                                                 \n",
      "SCORE:                                                                             \n",
      "0.8076388888888889                                                                 \n",
      "SCORE:                                                                             \n",
      "0.8080555555555555                                                                 \n",
      "SCORE:                                                                             \n",
      "0.8086111111111111                                                                 \n",
      "SCORE:                                                                             \n",
      "0.80625                                                                            \n",
      "SCORE:                                                                             \n",
      "0.8079166666666666                                                                 \n",
      "SCORE:                                                                             \n",
      "0.8066666666666666                                                                 \n",
      "SCORE:                                                                             \n",
      "0.8065277777777777                                                                 \n",
      "SCORE:                                                                             \n",
      "0.8068055555555556                                                                 \n",
      "SCORE:                                                                             \n",
      "0.8069444444444445                                                                 \n",
      "SCORE:                                                                             \n",
      "0.8076388888888889                                                                 \n",
      "SCORE:                                                                             \n",
      "0.8061111111111111                                                                 \n",
      "SCORE:                                                                             \n",
      "0.8080555555555555                                                                 \n",
      "SCORE:                                                                             \n",
      "0.8079166666666666                                                                 \n",
      "SCORE:                                                                             \n",
      "0.8073611111111111                                                                 \n",
      "SCORE:                                                                             \n",
      "0.8054166666666667                                                                 \n",
      "SCORE:                                                                             \n",
      "0.8068055555555556                                                                 \n",
      "SCORE:                                                                             \n",
      "0.8091666666666667                                                                 \n",
      "SCORE:                                                                             \n",
      "0.8070833333333334                                                                 \n",
      "SCORE:                                                                             \n",
      "0.8077777777777778                                                                 \n",
      "SCORE:                                                                             \n",
      "0.80875                                                                            \n",
      "SCORE:                                                                             \n",
      "0.8077777777777778                                                                 \n",
      "SCORE:                                                                             \n",
      "0.8044444444444444                                                                 \n",
      "SCORE:                                                                             \n",
      "0.8065277777777777                                                                 \n",
      "SCORE:                                                                             \n",
      "0.8066666666666666                                                                 \n",
      "SCORE:                                                                             \n",
      "0.8073611111111111                                                                 \n",
      "SCORE:                                                                             \n",
      "0.8065277777777777                                                                 \n",
      "SCORE:                                                                             \n",
      "0.8075                                                                             \n",
      "SCORE:                                                                             \n",
      "0.8079166666666666                                                                 \n",
      "SCORE:                                                                             \n",
      "0.8066666666666666                                                                 \n",
      "SCORE:                                                                             \n"
     ]
    },
    {
     "name": "stdout",
     "output_type": "stream",
     "text": [
      "0.8063888888888889                                                                 \n",
      "SCORE:                                                                             \n",
      "0.8068055555555556                                                                 \n",
      "SCORE:                                                                             \n",
      "0.8056944444444445                                                                 \n",
      "100%|██████████| 100/100 [00:50<00:00,  1.99trial/s, best loss: -0.8094444444444444]\n"
     ]
    }
   ],
   "source": [
    "trials = Trials()\n",
    "\n",
    "best_hyperparams = fmin(fn = objective,\n",
    "                        space = space,\n",
    "                        algo = tpe.suggest,\n",
    "                        max_evals = 50,\n",
    "                        trials = trials)"
   ]
  },
  {
   "cell_type": "code",
   "execution_count": 6,
   "id": "d10681c6",
   "metadata": {},
   "outputs": [
    {
     "name": "stdout",
     "output_type": "stream",
     "text": [
      "The best hyperparameters are :  \n",
      "\n",
      "{'colsample_bytree': 0.768055220786191, 'gamma': 6.790872680743958, 'max_depth': 15.0, 'min_child_weight': 2.0, 'reg_alpha': 64.0, 'reg_lambda': 0.6576130023631855}\n"
     ]
    }
   ],
   "source": [
    "print(\"The best hyperparameters are : \",\"\\n\")\n",
    "print(best_hyperparams)"
   ]
  },
  {
   "cell_type": "code",
   "execution_count": 7,
   "id": "1ba30110",
   "metadata": {
    "scrolled": true
   },
   "outputs": [
    {
     "name": "stderr",
     "output_type": "stream",
     "text": [
      "/Users/Jurren/Library/Python/3.8/lib/python/site-packages/xgboost/core.py:416: FutureWarning: Pass `objective` as keyword args.  Passing these as positional arguments will be considered as error in future releases.\n",
      "  warnings.warn(\n"
     ]
    }
   ],
   "source": [
    "xgb_best = xgb.XGBClassifier(best_hyperparams)"
   ]
  },
  {
   "cell_type": "code",
   "execution_count": 16,
   "id": "ea2aecb1",
   "metadata": {},
   "outputs": [],
   "source": [
    "xgb_best = xgb.XGBClassifier(silent=False, \n",
    "                      scale_pos_weight=1,\n",
    "                      learning_rate=0.05,  \n",
    "                      colsample_bytree = 0.9267151796260045,\n",
    "                      min_child_weight = 9,\n",
    "                      reg_lambda = 0.583387,\n",
    "                      subsample = 0.8,\n",
    "                      objective='binary:logistic', \n",
    "                      n_estimators=180, \n",
    "                      reg_alpha = 61.0,\n",
    "                      max_depth=18, \n",
    "                      gamma=1.01854676464289)"
   ]
  },
  {
   "cell_type": "code",
   "execution_count": null,
   "id": "7fe03b46",
   "metadata": {},
   "outputs": [],
   "source": []
  },
  {
   "cell_type": "code",
   "execution_count": null,
   "id": "0e3af5a4",
   "metadata": {},
   "outputs": [],
   "source": []
  },
  {
   "cell_type": "code",
   "execution_count": 17,
   "id": "af05895d",
   "metadata": {},
   "outputs": [
    {
     "name": "stdout",
     "output_type": "stream",
     "text": [
      "[12:26:26] WARNING: /Users/travis/build/dmlc/xgboost/src/learner.cc:541: \n",
      "Parameters: { silent } might not be used.\n",
      "\n",
      "  This may not be accurate due to some parameters are only used in language bindings but\n",
      "  passed down to XGBoost core.  Or some parameters are not used but slip through this\n",
      "  verification. Please open an issue if you find above cases.\n",
      "\n",
      "\n",
      "[12:26:26] WARNING: /Users/travis/build/dmlc/xgboost/src/learner.cc:1061: Starting in XGBoost 1.3.0, the default evaluation metric used with the objective 'binary:logistic' was changed from 'error' to 'logloss'. Explicitly set eval_metric if you'd like to restore the old behavior.\n",
      "0.8338333333333333\n"
     ]
    }
   ],
   "source": [
    "xgb_best.fit(X_train,y_train)\n",
    "y_prediction = xgb_best.predict(X_test)\n",
    "print(accuracy_score(y_test,y_prediction))"
   ]
  },
  {
   "cell_type": "code",
   "execution_count": null,
   "id": "62216cb4",
   "metadata": {},
   "outputs": [],
   "source": []
  }
 ],
 "metadata": {
  "kernelspec": {
   "display_name": "Python 3",
   "language": "python",
   "name": "python3"
  },
  "language_info": {
   "codemirror_mode": {
    "name": "ipython",
    "version": 3
   },
   "file_extension": ".py",
   "mimetype": "text/x-python",
   "name": "python",
   "nbconvert_exporter": "python",
   "pygments_lexer": "ipython3",
   "version": "3.8.1"
  }
 },
 "nbformat": 4,
 "nbformat_minor": 5
}
