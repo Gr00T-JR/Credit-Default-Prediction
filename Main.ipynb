{
 "cells": [
  {
   "cell_type": "markdown",
   "id": "d64eab4c",
   "metadata": {},
   "source": [
    "# Credit Card Default Prediction Project\n",
    "\n",
    "Based on the dataset UCI Machine Learning Repository\n",
    "\n",
    "The original paper that works with this dataset is : Yeh, I. C., & Lien, C. H. (2009). The comparisons of data mining techniques for the predictive accuracy of probability of default of credit card clients. Expert Systems with Applications, 36(2), 2473-2480.\n",
    "\n",
    "* __[Link to original paper](https://bradzzz.gitbooks.io/ga-seattle-dsi/content/dsi/dsi_05_classification_databases/2.1-lesson/assets/datasets/DefaultCreditCardClients_yeh_2009.pdf)__\n",
    "\n",
    "* __[Link to UCI dataset page](https://archive.ics.uci.edu/ml/datasets/default+of+credit+card+clients)__\n",
    "\n",
    "### Dataset Description\n",
    "* Data consists of 30 000 points and 23 features and 1 label\n",
    "\n",
    "\n",
    "### Project Outline\n",
    "Data preparation and exploration -> ML models hyperparameters tuning -> Combination into a final model"
   ]
  },
  {
   "cell_type": "markdown",
   "id": "3e01f931",
   "metadata": {},
   "source": [
    "## Import : Data and Libraries\n",
    "### Library Imports"
   ]
  },
  {
   "cell_type": "code",
   "execution_count": 24,
   "id": "02c9f5d3",
   "metadata": {
    "ExecuteTime": {
     "end_time": "2021-01-06T21:00:38.822020Z",
     "start_time": "2021-01-06T21:00:36.808982Z"
    }
   },
   "outputs": [],
   "source": [
    "# Imports\n",
    "%matplotlib inline\n",
    "import pandas as pd\n",
    "import numpy as np\n",
    "import matplotlib.pyplot as plt\n",
    "import seaborn as sns\n",
    "import xgboost as xgb\n",
    "\n",
    "from imblearn.pipeline import Pipeline\n",
    "from imblearn.combine import SMOTETomek\n",
    "from imblearn.over_sampling import SMOTE\n",
    "from imblearn.under_sampling import EditedNearestNeighbours\n",
    "\n",
    "from sklearn.preprocessing import StandardScaler, MinMaxScaler\n",
    "from sklearn import metrics, preprocessing\n",
    "from sklearn.metrics import r2_score\n",
    "from sklearn.model_selection import train_test_split\n",
    "from sklearn.ensemble import AdaBoostRegressor, GradientBoostingRegressor\n",
    "from sklearn.linear_model import LogisticRegression\n",
    "from sklearn.svm import SVC\n",
    "\n",
    "from EvalModel_helper import fit_Model, EvalMetrics\n",
    "\n",
    "sns.set_style(\"dark\")\n",
    "sns.set_context(\"paper\")\n",
    "\n",
    "from matplotlib import cm\n",
    "from mpl_toolkits.mplot3d import Axes3D\n"
   ]
  },
  {
   "cell_type": "markdown",
   "id": "3c9e17a3",
   "metadata": {},
   "source": [
    "### Import and pre-processing of dataset \n",
    "(preprocessing : transforming data into ML model readable format)"
   ]
  },
  {
   "cell_type": "code",
   "execution_count": 25,
   "id": "307f34ba",
   "metadata": {},
   "outputs": [],
   "source": [
    "# data imports\n",
    "\n",
    "### EDIT FILEPATH IF NECESSARY\n",
    "root = '.'\n",
    "data_dir = '/DataFiles/'\n",
    "\n",
    "# form filepaths\n",
    "data_path = root + data_dir\n",
    "train_file = data_path + 'CreditCard_train.csv'\n",
    "test_file = data_path + 'CreditCard_test.csv'\n",
    "\n",
    "# load\n",
    "_df_train = pd.read_csv(train_file, index_col=0, header=1).rename(columns={'PAY_0':'PAY_1', 'default payment next month':'DEFAULT'})\n",
    "_df_test = pd.read_csv(test_file, index_col=0, header=1).rename(columns={'PAY_0':'PAY_1', 'default payment next month':'DEFAULT'})\n",
    "\n",
    "# create copy df for handling\n",
    "df_train = _df_train.copy()\n",
    "df_test = _df_test.copy()"
   ]
  },
  {
   "cell_type": "markdown",
   "id": "05cc5862",
   "metadata": {},
   "source": [
    "### Data Checking"
   ]
  },
  {
   "cell_type": "code",
   "execution_count": 26,
   "id": "7ed37f0a",
   "metadata": {
    "pycharm": {
     "name": "#%%\n"
    }
   },
   "outputs": [
    {
     "data": {
      "text/plain": "            LIMIT_BAL           SEX     EDUCATION     MARRIAGE           AGE  \\\ncount    24000.000000  24000.000000  24000.000000  24000.00000  24000.000000   \nmean    165495.986667      1.628250      1.847417      1.55725     35.380458   \nstd     129128.744855      0.483282      0.780007      0.52208      9.271050   \nmin      10000.000000      1.000000      0.000000      0.00000     21.000000   \n25%      50000.000000      1.000000      1.000000      1.00000     28.000000   \n50%     140000.000000      2.000000      2.000000      2.00000     34.000000   \n75%     240000.000000      2.000000      2.000000      2.00000     41.000000   \nmax    1000000.000000      2.000000      6.000000      3.00000     79.000000   \n\n              PAY_1        PAY_2         PAY_3         PAY_4         PAY_5  \\\ncount  24000.000000  24000.00000  24000.000000  24000.000000  24000.000000   \nmean      -0.003125     -0.12350     -0.154750     -0.211667     -0.252917   \nstd        1.123425      1.20058      1.204033      1.166549      1.136993   \nmin       -2.000000     -2.00000     -2.000000     -2.000000     -2.000000   \n25%       -1.000000     -1.00000     -1.000000     -1.000000     -1.000000   \n50%        0.000000      0.00000      0.000000      0.000000      0.000000   \n75%        0.000000      0.00000      0.000000      0.000000      0.000000   \nmax        8.000000      8.00000      8.000000      8.000000      8.000000   \n\n       ...      BILL_AMT4      BILL_AMT5      BILL_AMT6       PAY_AMT1  \\\ncount  ...   24000.000000   24000.000000   24000.000000   24000.000000   \nmean   ...   42368.188417   40000.682542   38563.710625    5542.912917   \nstd    ...   63070.680934   60345.012766   59155.759799   15068.576072   \nmin    ... -170000.000000  -81334.000000 -339603.000000       0.000000   \n25%    ...    2340.000000    1740.000000    1234.750000    1000.000000   \n50%    ...   18940.500000   18107.500000   17036.000000    2100.000000   \n75%    ...   52188.500000   49746.500000   48796.250000    5000.000000   \nmax    ...  891586.000000  927171.000000  961664.000000  505000.000000   \n\n           PAY_AMT2      PAY_AMT3       PAY_AMT4       PAY_AMT5  \\\ncount  2.400000e+04   24000.00000   24000.000000   24000.000000   \nmean   5.815336e+03    4969.26600    4743.480042    4783.486042   \nstd    2.079703e+04   16095.61434   14883.269990   15270.405279   \nmin    0.000000e+00       0.00000       0.000000       0.000000   \n25%    8.000000e+02     379.00000     279.750000     244.000000   \n50%    2.000000e+03    1702.50000    1500.000000    1500.000000   \n75%    5.000000e+03    4347.25000    4000.000000    4005.000000   \nmax    1.684259e+06  896040.00000  497000.000000  417990.000000   \n\n            PAY_AMT6       DEFAULT  \ncount   24000.000000  24000.000000  \nmean     5189.399042      0.223750  \nstd     17630.371990      0.416765  \nmin         0.000000      0.000000  \n25%        60.750000      0.000000  \n50%      1500.000000      0.000000  \n75%      4000.000000      0.000000  \nmax    528666.000000      1.000000  \n\n[8 rows x 24 columns]",
      "text/html": "<div>\n<style scoped>\n    .dataframe tbody tr th:only-of-type {\n        vertical-align: middle;\n    }\n\n    .dataframe tbody tr th {\n        vertical-align: top;\n    }\n\n    .dataframe thead th {\n        text-align: right;\n    }\n</style>\n<table border=\"1\" class=\"dataframe\">\n  <thead>\n    <tr style=\"text-align: right;\">\n      <th></th>\n      <th>LIMIT_BAL</th>\n      <th>SEX</th>\n      <th>EDUCATION</th>\n      <th>MARRIAGE</th>\n      <th>AGE</th>\n      <th>PAY_1</th>\n      <th>PAY_2</th>\n      <th>PAY_3</th>\n      <th>PAY_4</th>\n      <th>PAY_5</th>\n      <th>...</th>\n      <th>BILL_AMT4</th>\n      <th>BILL_AMT5</th>\n      <th>BILL_AMT6</th>\n      <th>PAY_AMT1</th>\n      <th>PAY_AMT2</th>\n      <th>PAY_AMT3</th>\n      <th>PAY_AMT4</th>\n      <th>PAY_AMT5</th>\n      <th>PAY_AMT6</th>\n      <th>DEFAULT</th>\n    </tr>\n  </thead>\n  <tbody>\n    <tr>\n      <th>count</th>\n      <td>24000.000000</td>\n      <td>24000.000000</td>\n      <td>24000.000000</td>\n      <td>24000.00000</td>\n      <td>24000.000000</td>\n      <td>24000.000000</td>\n      <td>24000.00000</td>\n      <td>24000.000000</td>\n      <td>24000.000000</td>\n      <td>24000.000000</td>\n      <td>...</td>\n      <td>24000.000000</td>\n      <td>24000.000000</td>\n      <td>24000.000000</td>\n      <td>24000.000000</td>\n      <td>2.400000e+04</td>\n      <td>24000.00000</td>\n      <td>24000.000000</td>\n      <td>24000.000000</td>\n      <td>24000.000000</td>\n      <td>24000.000000</td>\n    </tr>\n    <tr>\n      <th>mean</th>\n      <td>165495.986667</td>\n      <td>1.628250</td>\n      <td>1.847417</td>\n      <td>1.55725</td>\n      <td>35.380458</td>\n      <td>-0.003125</td>\n      <td>-0.12350</td>\n      <td>-0.154750</td>\n      <td>-0.211667</td>\n      <td>-0.252917</td>\n      <td>...</td>\n      <td>42368.188417</td>\n      <td>40000.682542</td>\n      <td>38563.710625</td>\n      <td>5542.912917</td>\n      <td>5.815336e+03</td>\n      <td>4969.26600</td>\n      <td>4743.480042</td>\n      <td>4783.486042</td>\n      <td>5189.399042</td>\n      <td>0.223750</td>\n    </tr>\n    <tr>\n      <th>std</th>\n      <td>129128.744855</td>\n      <td>0.483282</td>\n      <td>0.780007</td>\n      <td>0.52208</td>\n      <td>9.271050</td>\n      <td>1.123425</td>\n      <td>1.20058</td>\n      <td>1.204033</td>\n      <td>1.166549</td>\n      <td>1.136993</td>\n      <td>...</td>\n      <td>63070.680934</td>\n      <td>60345.012766</td>\n      <td>59155.759799</td>\n      <td>15068.576072</td>\n      <td>2.079703e+04</td>\n      <td>16095.61434</td>\n      <td>14883.269990</td>\n      <td>15270.405279</td>\n      <td>17630.371990</td>\n      <td>0.416765</td>\n    </tr>\n    <tr>\n      <th>min</th>\n      <td>10000.000000</td>\n      <td>1.000000</td>\n      <td>0.000000</td>\n      <td>0.00000</td>\n      <td>21.000000</td>\n      <td>-2.000000</td>\n      <td>-2.00000</td>\n      <td>-2.000000</td>\n      <td>-2.000000</td>\n      <td>-2.000000</td>\n      <td>...</td>\n      <td>-170000.000000</td>\n      <td>-81334.000000</td>\n      <td>-339603.000000</td>\n      <td>0.000000</td>\n      <td>0.000000e+00</td>\n      <td>0.00000</td>\n      <td>0.000000</td>\n      <td>0.000000</td>\n      <td>0.000000</td>\n      <td>0.000000</td>\n    </tr>\n    <tr>\n      <th>25%</th>\n      <td>50000.000000</td>\n      <td>1.000000</td>\n      <td>1.000000</td>\n      <td>1.00000</td>\n      <td>28.000000</td>\n      <td>-1.000000</td>\n      <td>-1.00000</td>\n      <td>-1.000000</td>\n      <td>-1.000000</td>\n      <td>-1.000000</td>\n      <td>...</td>\n      <td>2340.000000</td>\n      <td>1740.000000</td>\n      <td>1234.750000</td>\n      <td>1000.000000</td>\n      <td>8.000000e+02</td>\n      <td>379.00000</td>\n      <td>279.750000</td>\n      <td>244.000000</td>\n      <td>60.750000</td>\n      <td>0.000000</td>\n    </tr>\n    <tr>\n      <th>50%</th>\n      <td>140000.000000</td>\n      <td>2.000000</td>\n      <td>2.000000</td>\n      <td>2.00000</td>\n      <td>34.000000</td>\n      <td>0.000000</td>\n      <td>0.00000</td>\n      <td>0.000000</td>\n      <td>0.000000</td>\n      <td>0.000000</td>\n      <td>...</td>\n      <td>18940.500000</td>\n      <td>18107.500000</td>\n      <td>17036.000000</td>\n      <td>2100.000000</td>\n      <td>2.000000e+03</td>\n      <td>1702.50000</td>\n      <td>1500.000000</td>\n      <td>1500.000000</td>\n      <td>1500.000000</td>\n      <td>0.000000</td>\n    </tr>\n    <tr>\n      <th>75%</th>\n      <td>240000.000000</td>\n      <td>2.000000</td>\n      <td>2.000000</td>\n      <td>2.00000</td>\n      <td>41.000000</td>\n      <td>0.000000</td>\n      <td>0.00000</td>\n      <td>0.000000</td>\n      <td>0.000000</td>\n      <td>0.000000</td>\n      <td>...</td>\n      <td>52188.500000</td>\n      <td>49746.500000</td>\n      <td>48796.250000</td>\n      <td>5000.000000</td>\n      <td>5.000000e+03</td>\n      <td>4347.25000</td>\n      <td>4000.000000</td>\n      <td>4005.000000</td>\n      <td>4000.000000</td>\n      <td>0.000000</td>\n    </tr>\n    <tr>\n      <th>max</th>\n      <td>1000000.000000</td>\n      <td>2.000000</td>\n      <td>6.000000</td>\n      <td>3.00000</td>\n      <td>79.000000</td>\n      <td>8.000000</td>\n      <td>8.00000</td>\n      <td>8.000000</td>\n      <td>8.000000</td>\n      <td>8.000000</td>\n      <td>...</td>\n      <td>891586.000000</td>\n      <td>927171.000000</td>\n      <td>961664.000000</td>\n      <td>505000.000000</td>\n      <td>1.684259e+06</td>\n      <td>896040.00000</td>\n      <td>497000.000000</td>\n      <td>417990.000000</td>\n      <td>528666.000000</td>\n      <td>1.000000</td>\n    </tr>\n  </tbody>\n</table>\n<p>8 rows × 24 columns</p>\n</div>"
     },
     "execution_count": 26,
     "metadata": {},
     "output_type": "execute_result"
    }
   ],
   "source": [
    "df_train.describe()"
   ]
  },
  {
   "cell_type": "code",
   "execution_count": 27,
   "id": "118dbadd",
   "metadata": {
    "pycharm": {
     "name": "#%%\n"
    }
   },
   "outputs": [],
   "source": [
    "features = list(df_train.columns)[:-1]\n",
    "\n",
    "# renaming columns for consistency and simplicity\n",
    "df_train = df_train.rename(columns={'PAY_0':'PAY_1', 'default payment next month':'DEFAULT'})\n",
    "df_test = df_test.rename(columns={'PAY_0':'PAY_1', 'default payment next month':'DEFAULT'})\n",
    "label = df_train.columns[-1]\n",
    "\n",
    "y_train = df_train[label]\n",
    "X_train = df_train[features]\n",
    "\n",
    "y_test = df_test[label]\n",
    "X_test = df_test[features]\n"
   ]
  },
  {
   "cell_type": "markdown",
   "id": "1f9b9cb1",
   "metadata": {},
   "source": [
    "__Comment__ : All the data types are integers and thus workable for ML models. There are no null values (arbitrarily checked and all features have the same count). Values in the `SEX`, `EDUCATION` <br>\n",
    "Optional to check and explore the data further into .DataExploration."
   ]
  },
  {
   "cell_type": "markdown",
   "id": "53b71d61",
   "metadata": {
    "pycharm": {
     "name": "#%% md\n"
    }
   },
   "source": [
    "## Data Pipeline\n",
    "* includes scaling, sampling and (future work : feature transformation)"
   ]
  },
  {
   "cell_type": "raw",
   "id": "179757df",
   "metadata": {
    "pycharm": {
     "name": "#%% raw\n"
    }
   },
   "source": [
    "Dysfunctional code\n",
    "method0 = Pipeline([\n",
    "    ('sampler', SMOTE(random_state=3)),\n",
    "    ('scaler', StandardScaler()),\n",
    "    ('classifier', None)\n",
    "])\n",
    "\n"
   ]
  },
  {
   "cell_type": "markdown",
   "source": [
    "We take the training:validation:test ratios as 60:20:20.\n",
    "We change X_train into a a training set and validation set."
   ],
   "metadata": {
    "collapsed": false,
    "pycharm": {
     "name": "#%% md\n"
    }
   }
  },
  {
   "cell_type": "code",
   "execution_count": 28,
   "id": "8a2a0496",
   "metadata": {
    "pycharm": {
     "name": "#%%\n"
    }
   },
   "outputs": [],
   "source": [
    "X_train, X_validation, y_train, y_validation = train_test_split(X_train, y_train, test_size = 0.25, random_state = 0)\n"
   ]
  },
  {
   "cell_type": "markdown",
   "source": [
    "Scaling the dataset for computational efficiency of ML models operations (fitting, prediction)."
   ],
   "metadata": {
    "collapsed": false,
    "pycharm": {
     "name": "#%% md\n"
    }
   }
  },
  {
   "cell_type": "code",
   "execution_count": 29,
   "outputs": [],
   "source": [
    "from imblearn.over_sampling import SMOTE\n",
    "scaler = StandardScaler()\n",
    "X_train = scaler.fit_transform(X_train)\n",
    "X_validation = scaler.transform(X_validation)\n",
    "X_test = scaler.transform(X_test)\n",
    "\n",
    "# X_train_transformed, y_train_transformed = SMOTE(random_state=3).fit_resample(X=X_train, y=y_train)\n",
    "\n"
   ],
   "metadata": {
    "collapsed": false,
    "pycharm": {
     "name": "#%%\n"
    }
   }
  },
  {
   "cell_type": "markdown",
   "id": "73a57eb8",
   "metadata": {},
   "source": [
    "### Benchmarking some standard ML models"
   ]
  },
  {
   "cell_type": "markdown",
   "id": "73634e38",
   "metadata": {
    "pycharm": {
     "name": "#%% md\n"
    }
   },
   "source": [
    "Checking the ML models\n",
    "* xgboost, adaboost, gradientboostingregressor, logistic regression and support vector machines\n"
   ]
  },
  {
   "cell_type": "markdown",
   "id": "b9031e35",
   "metadata": {
    "pycharm": {
     "name": "#%% md\n"
    }
   },
   "source": [
    "## Hyperparameter tuning of ML models"
   ]
  },
  {
   "cell_type": "markdown",
   "source": [
    "Saving data in a pickle file and opened again in model objectives. (not sure if I can include them as input to the objectives of each model, for version 2..)"
   ],
   "metadata": {
    "collapsed": false
   }
  },
  {
   "cell_type": "code",
   "execution_count": 30,
   "outputs": [],
   "source": [
    "import pickle\n",
    "\n",
    "with open('objs.pkl', 'wb') as f:\n",
    "    pickle.dump([X_train, y_train, X_validation, y_validation], f)\n",
    "f.close()"
   ],
   "metadata": {
    "collapsed": false,
    "pycharm": {
     "name": "#%%\n"
    }
   }
  },
  {
   "cell_type": "markdown",
   "id": "17b3f108",
   "metadata": {
    "pycharm": {
     "name": "#%% md\n"
    }
   },
   "source": [
    "Hyperparameter tuning framework consists of a tuner (hyperopt), optimization space (model dependent), and objective function (model  dependent)\n",
    "These are imported.\n",
    "\n",
    "### ML models to be optimized\n"
   ]
  },
  {
   "cell_type": "code",
   "execution_count": 31,
   "id": "a580e263",
   "metadata": {
    "pycharm": {
     "name": "#%%\n"
    }
   },
   "outputs": [],
   "source": [
    "# Optimizer\n",
    "from hyperopt import Trials, fmin, tpe\n",
    "\n",
    "# Model hyperparameter space to be optimized\n",
    "from Models_spaces import space_xgb, space_ada, space_gbrt, space_log, space_svm\n",
    "\n",
    "# Model objective function\n",
    "from Models_objectives import objective_xgb, objective_ada, objective_gbrt, objective_log, objective_svm\n",
    "\n"
   ]
  },
  {
   "cell_type": "markdown",
   "id": "8d4faa55",
   "metadata": {
    "pycharm": {
     "name": "#%% md\n"
    }
   },
   "source": [
    "### Tuning\n",
    "\n",
    "For tuning we will be first split up the training data into a validation\n"
   ]
  },
  {
   "cell_type": "markdown",
   "id": "2a23e13a",
   "metadata": {},
   "source": [
    "long_run functionality, to check the script we can have the variable `short_run=True`"
   ]
  },
  {
   "cell_type": "code",
   "execution_count": 32,
   "id": "1b17e7d1",
   "metadata": {},
   "outputs": [],
   "source": [
    "long_run = True\n",
    "\n",
    "if long_run:\n",
    "    max_evals = 50\n",
    "    max_evals_gbrt = 7\n",
    "if not long_run:\n",
    "    max_evals = 1\n",
    "    max_evals_gbrt = 1\n"
   ]
  },
  {
   "cell_type": "code",
   "execution_count": 33,
   "id": "21b59101",
   "metadata": {
    "pycharm": {
     "name": "#%%\n"
    },
    "scrolled": false
   },
   "outputs": [
    {
     "name": "stdout",
     "output_type": "stream",
     "text": [
      "SCORE:                                                \n",
      "0.8048333333333333                                    \n",
      "SCORE:                                                                           \n",
      "0.8035                                                                           \n",
      "SCORE:                                                                           \n",
      "0.8043333333333333                                                               \n",
      "SCORE:                                                                           \n",
      "0.8058333333333333                                                               \n",
      "SCORE:                                                                           \n",
      "0.8046666666666666                                                               \n",
      "SCORE:                                                                           \n",
      "0.8048333333333333                                                               \n",
      "SCORE:                                                                           \n",
      "0.8031666666666667                                                               \n",
      "SCORE:                                                                           \n",
      "0.8073333333333333                                                               \n",
      "SCORE:                                                                           \n",
      "0.8046666666666666                                                               \n",
      "SCORE:                                                                           \n",
      "0.8048333333333333                                                               \n",
      "SCORE:                                                                            \n",
      "0.8048333333333333                                                                \n",
      "SCORE:                                                                            \n",
      "0.8043333333333333                                                                \n",
      "SCORE:                                                                            \n",
      "0.7935                                                                            \n",
      "SCORE:                                                                            \n",
      "0.8048333333333333                                                                \n",
      "SCORE:                                                                            \n",
      "0.8061666666666667                                                                \n",
      "SCORE:                                                                            \n",
      "0.8053333333333333                                                                \n",
      "SCORE:                                                                            \n",
      "0.8023333333333333                                                                \n",
      "SCORE:                                                                            \n",
      "0.8033333333333333                                                                \n",
      "SCORE:                                                                            \n",
      "0.8048333333333333                                                                \n",
      "SCORE:                                                                            \n",
      "0.778                                                                             \n",
      "SCORE:                                                                            \n",
      "0.8133333333333334                                                                \n",
      "SCORE:                                                                            \n",
      "0.8133333333333334                                                                \n",
      "SCORE:                                                                            \n",
      "0.8133333333333334                                                                \n",
      "SCORE:                                                                            \n",
      "0.8073333333333333                                                                \n",
      "SCORE:                                                                            \n",
      "0.8118333333333333                                                                \n",
      "SCORE:                                                                            \n",
      "0.811                                                                             \n",
      "SCORE:                                                                            \n",
      "0.8053333333333333                                                                \n",
      "SCORE:                                                                            \n",
      "0.8108333333333333                                                                \n",
      "SCORE:                                                                            \n",
      "0.8085                                                                            \n",
      "SCORE:                                                                            \n",
      "0.8048333333333333                                                                \n",
      "SCORE:                                                                            \n",
      "0.8081666666666667                                                                \n",
      "SCORE:                                                                            \n",
      "0.8103333333333333                                                                \n",
      "SCORE:                                                                            \n",
      "0.811                                                                             \n",
      "SCORE:                                                                            \n",
      "0.778                                                                             \n",
      "SCORE:                                                                            \n",
      "0.8121666666666667                                                                \n",
      "SCORE:                                                                            \n",
      "0.8046666666666666                                                                \n",
      "SCORE:                                                                            \n",
      "0.8048333333333333                                                                \n",
      "SCORE:                                                                            \n",
      "0.8108333333333333                                                                \n",
      "SCORE:                                                                            \n",
      "0.8046666666666666                                                                \n",
      "SCORE:                                                                            \n",
      "0.8055                                                                            \n",
      "SCORE:                                                                            \n",
      "0.8048333333333333                                                                \n",
      "SCORE:                                                                            \n",
      "0.8095                                                                            \n",
      "SCORE:                                                                            \n",
      "0.8048333333333333                                                                \n",
      "SCORE:                                                                            \n",
      "0.8046666666666666                                                                \n",
      "SCORE:                                                                            \n",
      "0.8108333333333333                                                                \n",
      "SCORE:                                                                            \n",
      "0.8041666666666667                                                                \n",
      "SCORE:                                                                            \n",
      "0.778                                                                             \n",
      "SCORE:                                                                            \n",
      "0.8085                                                                            \n",
      "SCORE:                                                                            \n",
      "0.8048333333333333                                                                \n",
      "SCORE:                                                                            \n",
      "0.8108333333333333                                                                \n",
      "100%|██████████| 50/50 [00:20<00:00,  2.38trial/s, best loss: -0.8133333333333334]\n",
      "The best hyperparameters are :  \n",
      "\n",
      "{'colsample_bytree': 0.6923165805910962, 'gamma': 2.9652946031866314, 'learning_rate': 0.4993536260209105, 'max_depth': 14.0, 'min_child_weight': 3.0, 'reg_alpha': 91.0, 'reg_lambda': 0.683194520465885}\n"
     ]
    }
   ],
   "source": [
    "trials = Trials()\n",
    "\n",
    "best_hyperparams = fmin(fn = objective_xgb,\n",
    "                        space = space_xgb,\n",
    "                        algo = tpe.suggest,\n",
    "                        max_evals = max_evals,\n",
    "                        trials = trials)\n",
    "\n",
    "\n",
    "print(\"The best hyperparameters are : \",\"\\n\")\n",
    "print(best_hyperparams)\n",
    "\n"
   ]
  },
  {
   "cell_type": "code",
   "execution_count": 34,
   "id": "62ed627c",
   "metadata": {},
   "outputs": [
    {
     "name": "stdout",
     "output_type": "stream",
     "text": [
      "[14:01:12] WARNING: /Users/travis/build/dmlc/xgboost/src/learner.cc:541: \n",
      "Parameters: { silent } might not be used.\n",
      "\n",
      "  This may not be accurate due to some parameters are only used in language bindings but\n",
      "  passed down to XGBoost core.  Or some parameters are not used but slip through this\n",
      "  verification. Please open an issue if you find above cases.\n",
      "\n",
      "\n",
      "Performance on fitting data of model XGBRegressor(base_score=0.5, booster='gbtree', colsample_bylevel=1,\n",
      "             colsample_bynode=1, colsample_bytree=0.9267151796260045,\n",
      "             gamma=1.01854676464289, gpu_id=-1, importance_type='gain',\n",
      "             interaction_constraints='', learning_rate=0.05, max_delta_step=0,\n",
      "             max_depth=18, min_child_weight=9, missing=nan,\n",
      "             monotone_constraints='()', n_estimators=180, n_jobs=8,\n",
      "             num_parallel_tree=1, random_state=0, reg_alpha=61.0,\n",
      "             reg_lambda=0.583387, scale_pos_weight=1, silent=False,\n",
      "             subsample=0.8, tree_method='exact', validate_parameters=1,\n",
      "             verbosity=None) \n",
      "\n",
      "Accuracy score: 0.8193888888888889\n",
      "Recall score: 0.34695393759286774\n",
      "Precision_score: 0.6952853598014889\n",
      "ROC/AUC score: 0.6514887149646048\n",
      "F1 score: 0.46291095324632414\n",
      "\n",
      "\n",
      "Confusion Matrix on the fitting data\n"
     ]
    },
    {
     "data": {
      "text/plain": "<Figure size 432x288 with 2 Axes>",
      "image/png": "[encoded data removed]"
     },
     "metadata": {},
     "output_type": "display_data"
    }
   ],
   "source": [
    "# still to be changed to similar to following models\n",
    "xgb_reg = xgb.XGBRegressor(silent=False, \n",
    "                      scale_pos_weight=1,\n",
    "                      learning_rate=best_hyperparams['learning_rate'],\n",
    "                      colsample_bytree = best_hyperparams['colsample_bytree'],\n",
    "                      min_child_weight = best_hyperparams['min_child_weight'],\n",
    "                      reg_lambda = best_hyperparams['reg_lambda'],\n",
    "                      objective='reg:squarederror',\n",
    "                      n_estimators=180, \n",
    "                      reg_alpha = best_hyperparams['reg_alpha'],\n",
    "                      max_depth=best_hyperparams['max_depth'],\n",
    "                      gamma=best_hyperparams['gamma'])\n",
    "\n",
    "xgb_reg = fit_Model(xgb_reg, X_train, y_train,eval_metrics=True, confusion_matrix=True)"
   ]
  },
  {
   "cell_type": "code",
   "execution_count": 35,
   "id": "71709e15",
   "metadata": {
    "pycharm": {
     "name": "#%%\n"
    },
    "scrolled": true
   },
   "outputs": [
    {
     "name": "stdout",
     "output_type": "stream",
     "text": [
      "SCORE:                                               \n",
      "0.78                                                 \n",
      "SCORE:                                                            \n",
      "0.8075                                                            \n",
      "SCORE:                                                              \n",
      "0.8148333333333333                                                  \n",
      "SCORE:                                                                          \n",
      "0.7538333333333334                                                              \n",
      "SCORE:                                                                          \n",
      "0.8156666666666667                                                              \n",
      "SCORE:                                                                          \n",
      "0.2615                                                                          \n",
      "SCORE:                                                                          \n",
      "0.7908333333333334                                                              \n",
      "100%|██████████| 7/7 [04:12<00:00, 36.09s/trial, best loss: -0.8156666666666667]\n",
      "The best hyperparameters are :  \n",
      "\n",
      "{'learning_rate': 0.057307643973049466, 'loss': 0, 'max_depth': 5.0}\n"
     ]
    }
   ],
   "source": [
    "\n",
    "from sklearn.metrics import accuracy_score\n",
    "trials = Trials()\n",
    "\n",
    "best_hyperparams = fmin(fn = objective_gbrt,\n",
    "                        space = space_gbrt,\n",
    "                        algo = tpe.suggest,\n",
    "                        max_evals = max_evals_gbrt,\n",
    "                        trials = trials)\n",
    "\n",
    "print(\"The best hyperparameters are : \",\"\\n\")\n",
    "print(best_hyperparams)\n",
    "\n"
   ]
  },
  {
   "cell_type": "code",
   "execution_count": 36,
   "id": "d08533ea",
   "metadata": {},
   "outputs": [
    {
     "name": "stdout",
     "output_type": "stream",
     "text": [
      "Performance on fitting data of model GradientBoostingRegressor(learning_rate=0.057307643973049466, max_depth=5.0) \n",
      "\n",
      "Accuracy score: 0.8385\n",
      "Recall score: 0.4006934125804854\n",
      "Precision_score: 0.768646080760095\n",
      "ROC/AUC score: 0.6829065114757462\n",
      "F1 score: 0.5267784470128603\n",
      "\n",
      "\n",
      "Confusion Matrix on the fitting data\n"
     ]
    },
    {
     "data": {
      "text/plain": "<Figure size 432x288 with 2 Axes>",
      "image/png": "[encoded data removed]"
     },
     "metadata": {},
     "output_type": "display_data"
    }
   ],
   "source": [
    "gbrt_loss_functions = ['ls', 'lad', 'huber', 'quantile']\n",
    "\n",
    "gbrt_reg = GradientBoostingRegressor(\n",
    "        max_depth = best_hyperparams['max_depth'],\n",
    "        learning_rate=best_hyperparams['learning_rate'],\n",
    "        loss = gbrt_loss_functions[best_hyperparams['loss']])\n",
    "\n",
    "gbrt_reg = fit_Model(gbrt_reg, X_train, y_train,eval_metrics=True, confusion_matrix=True)"
   ]
  },
  {
   "cell_type": "code",
   "execution_count": 37,
   "id": "c157d55f",
   "metadata": {
    "pycharm": {
     "name": "#%%\n"
    },
    "scrolled": true
   },
   "outputs": [
    {
     "name": "stdout",
     "output_type": "stream",
     "text": [
      "SCORE:                                                \n",
      "0.8148333333333333                                    \n",
      "SCORE:                                                                           \n",
      "0.816                                                                            \n",
      "SCORE:                                                                           \n",
      "0.8158333333333333                                                  \n",
      "SCORE:                                                              \n",
      "0.8178333333333333                                                  \n",
      "SCORE:                                                                           \n",
      "0.8175                                                                           \n",
      "SCORE:                                                                           \n",
      "0.8151666666666667                                                               \n",
      "SCORE:                                                                           \n",
      "0.817                                                                            \n",
      "SCORE:                                                                           \n",
      "0.817                                                                            \n",
      "SCORE:                                                                           \n",
      "0.8161666666666667                                                               \n",
      "SCORE:                                                                           \n",
      "0.8156666666666667                                                               \n",
      "SCORE:                                                                            \n",
      "0.816                                                                             \n",
      "SCORE:                                                                            \n",
      "0.8158333333333333                                                                \n",
      "SCORE:                                                                            \n",
      "0.8058333333333333                                                                \n",
      "SCORE:                                                                            \n",
      "0.8165                                                                            \n",
      "SCORE:                                                                            \n",
      "0.8158333333333333                                                                \n",
      "SCORE:                                                                            \n",
      "0.8168333333333333                                                                \n",
      "SCORE:                                                                            \n",
      "0.7376666666666667                                                                \n",
      "SCORE:                                                                            \n",
      "0.8173333333333334                                                                \n",
      "SCORE:                                                                            \n",
      "0.818                                                                             \n",
      "SCORE:                                                                            \n",
      "0.8171666666666667                                                   \n",
      "SCORE:                                                               \n",
      "0.8076666666666666                                                   \n",
      "SCORE:                                                               \n",
      "0.7933333333333333                                                   \n",
      "SCORE:                                                               \n",
      "0.8168333333333333                                                   \n",
      "SCORE:                                                               \n",
      "0.8143333333333334                                                   \n",
      "SCORE:                                                               \n",
      "0.757                                                                \n",
      "SCORE:                                                               \n",
      "0.8105                                                               \n",
      "SCORE:                                                               \n",
      "0.8145                                                               \n",
      "SCORE:                                                               \n",
      "0.8175                                                               \n",
      "SCORE:                                                               \n",
      "0.8166666666666667                                                   \n",
      "SCORE:                                                               \n",
      "0.816                                                                \n",
      "SCORE:                                                               \n",
      "0.8153333333333334                                                   \n",
      "SCORE:                                                               \n",
      "0.816                                                                \n",
      "SCORE:                                                               \n",
      "0.8155                                                               \n",
      "SCORE:                                                               \n",
      "0.8161666666666667                                                   \n",
      "SCORE:                                                               \n",
      "0.8155                                                               \n",
      "SCORE:                                                               \n",
      "0.817                                                                \n",
      "SCORE:                                                               \n",
      "0.8165                                                               \n",
      "SCORE:                                                               \n",
      "0.8163333333333334                                                   \n",
      "SCORE:                                                               \n",
      "0.8161666666666667                                                   \n",
      "SCORE:                                                               \n",
      "0.8111666666666667                                                   \n",
      "SCORE:                                                               \n",
      "0.8156666666666667                                                   \n",
      "SCORE:                                                               \n",
      "0.818                                                                \n",
      "SCORE:                                                               \n",
      "0.8166666666666667                                                   \n",
      "SCORE:                                                               \n",
      "0.817                                                                \n",
      "SCORE:                                                               \n",
      "0.8166666666666667                                                   \n",
      "SCORE:                                                               \n",
      "0.8173333333333334                                                   \n",
      "SCORE:                                                               \n",
      "0.8176666666666667                                                   \n",
      "SCORE:                                                               \n",
      "0.817                                                                \n",
      "SCORE:                                                               \n",
      "0.8156666666666667                                                   \n",
      "SCORE:                                                               \n",
      "0.8171666666666667                                                   \n",
      "100%|██████████| 50/50 [02:05<00:00,  2.51s/trial, best loss: -0.818]\n",
      "The best hyperparameters are :  \n",
      "\n",
      "{'learning_rate': 0.04591829175329593, 'loss': 2}\n"
     ]
    }
   ],
   "source": [
    "\n",
    "trials = Trials()\n",
    "\n",
    "best_hyperparams = fmin(fn = objective_ada,\n",
    "                        space = space_ada,\n",
    "                        algo = tpe.suggest,\n",
    "                        max_evals = max_evals,\n",
    "                        trials = trials)\n",
    "\n",
    "print(\"The best hyperparameters are : \",\"\\n\")\n",
    "print(best_hyperparams)\n"
   ]
  },
  {
   "cell_type": "code",
   "execution_count": 38,
   "id": "e1427409",
   "metadata": {},
   "outputs": [
    {
     "name": "stdout",
     "output_type": "stream",
     "text": [
      "Performance on fitting data of model AdaBoostRegressor(learning_rate=0.04591829175329593, loss='exponential') \n",
      "\n",
      "Accuracy score: 0.8202777777777778\n",
      "Recall score: 0.3630510153541357\n",
      "Precision_score: 0.688586190699859\n",
      "ROC/AUC score: 0.6577824909172914\n",
      "F1 score: 0.475433760337279\n",
      "\n",
      "\n",
      "Confusion Matrix on the fitting data\n"
     ]
    },
    {
     "data": {
      "text/plain": "<Figure size 432x288 with 2 Axes>",
      "image/png": "[encoded data removed]"
     },
     "metadata": {},
     "output_type": "display_data"
    }
   ],
   "source": [
    "ada_loss_functions = ['linear', 'square', 'exponential']\n",
    "\n",
    "ada_reg = AdaBoostRegressor(loss = ada_loss_functions[best_hyperparams['loss']], # this value referenced is the index of space_ada with key 'loss'\n",
    "        learning_rate=best_hyperparams['learning_rate'])\n",
    "\n",
    "ada_reg = fit_Model(ada_reg, X_train, y_train,eval_metrics=True, confusion_matrix=True)\n",
    "\n"
   ]
  },
  {
   "cell_type": "code",
   "execution_count": 39,
   "id": "ebfd22aa",
   "metadata": {
    "pycharm": {
     "name": "#%%\n"
    }
   },
   "outputs": [
    {
     "name": "stdout",
     "output_type": "stream",
     "text": [
      "SCORE:                                                \n",
      "0.8096666666666666                                    \n",
      "SCORE:                                                                           \n",
      "0.8096666666666666                                                               \n",
      "SCORE:                                                                           \n",
      "0.8096666666666666                                                               \n",
      "SCORE:                                                                           \n",
      "0.8095                                                                           \n",
      "SCORE:                                                                           \n",
      "0.8098333333333333                                                                \n",
      "SCORE:                                                                            \n",
      "0.8091666666666667                                                                \n",
      "SCORE:                                                                            \n",
      "0.8093333333333333                                                                \n",
      "SCORE:                                                                            \n",
      "0.8096666666666666                                                                \n",
      "SCORE:                                                                            \n",
      "0.8096666666666666                                                                \n",
      "SCORE:                                                                            \n",
      "0.8096666666666666                                                                \n",
      "SCORE:                                                                            \n",
      "0.8096666666666666                                                                \n",
      "SCORE:                                                                            \n",
      "0.8096666666666666                                                                \n",
      "SCORE:                                                                            \n",
      "0.8096666666666666                                                                \n",
      "SCORE:                                                                            \n",
      "0.8096666666666666                                                                \n",
      "SCORE:                                                                            \n",
      "0.8098333333333333                                                                \n",
      "SCORE:                                                                            \n",
      "0.8096666666666666                                                                \n",
      "SCORE:                                                                            \n",
      "0.8096666666666666                                                                \n",
      "SCORE:                                                                            \n",
      "0.8096666666666666                                                                \n",
      "SCORE:                                                                            \n",
      "0.806                                                                             \n",
      "SCORE:                                                                            \n",
      "0.81                                                                              \n",
      "SCORE:                                                                            \n",
      "0.8098333333333333                                                  \n",
      "SCORE:                                                              \n",
      "0.8096666666666666                                                  \n",
      "SCORE:                                                              \n",
      "0.8096666666666666                                                  \n",
      "SCORE:                                                              \n",
      "0.8096666666666666                                                  \n",
      "SCORE:                                                              \n",
      "0.8096666666666666                                                  \n",
      "SCORE:                                                              \n",
      "0.807                                                               \n",
      "SCORE:                                                              \n",
      "0.8096666666666666                                                  \n",
      "SCORE:                                                              \n",
      "0.8091666666666667                                                  \n",
      "SCORE:                                                              \n",
      "0.8095                                                              \n",
      "SCORE:                                                              \n",
      "0.8093333333333333                                                  \n",
      "SCORE:                                                              \n",
      "0.8088333333333333                                                  \n",
      "SCORE:                                                              \n",
      "0.8095                                                              \n",
      "SCORE:                                                              \n",
      "0.8096666666666666                                                  \n",
      "SCORE:                                                              \n",
      "0.8096666666666666                                                  \n",
      "SCORE:                                                              \n",
      "0.8096666666666666                                                  \n",
      "SCORE:                                                              \n",
      "0.8093333333333333                                                  \n",
      "SCORE:                                                              \n",
      "0.8093333333333333                                                  \n",
      "100%|██████████| 50/50 [00:16<00:00,  2.95trial/s, best loss: -0.81]\n",
      "The best hyperparameters are :  \n",
      "\n",
      "{'C': 0.11764152908873718, 'penalty': 0, 'solver': 0}\n"
     ]
    },
    {
     "name": "stderr",
     "output_type": "stream",
     "text": [
      "/Users/Jurren/Library/Python/3.8/lib/python/site-packages/sklearn/linear_model/_sag.py:328: ConvergenceWarning: The max_iter was reached which means the coef_ did not converge\n",
      "  warnings.warn(\"The max_iter was reached which means \"\n",
      "\n",
      "/Users/Jurren/Library/Python/3.8/lib/python/site-packages/sklearn/linear_model/_sag.py:328: ConvergenceWarning: The max_iter was reached which means the coef_ did not converge\n",
      "  warnings.warn(\"The max_iter was reached which means \"\n",
      "\n",
      "/Users/Jurren/Library/Python/3.8/lib/python/site-packages/sklearn/linear_model/_sag.py:328: ConvergenceWarning: The max_iter was reached which means the coef_ did not converge\n",
      "  warnings.warn(\"The max_iter was reached which means \"\n",
      "\n",
      "/Users/Jurren/Library/Python/3.8/lib/python/site-packages/sklearn/linear_model/_sag.py:328: ConvergenceWarning: The max_iter was reached which means the coef_ did not converge\n",
      "  warnings.warn(\"The max_iter was reached which means \"\n",
      "\n",
      "/Users/Jurren/Library/Python/3.8/lib/python/site-packages/sklearn/linear_model/_sag.py:328: ConvergenceWarning: The max_iter was reached which means the coef_ did not converge\n",
      "  warnings.warn(\"The max_iter was reached which means \"\n",
      "\n"
     ]
    }
   ],
   "source": [
    "trials = Trials()\n",
    "\n",
    "best_hyperparams = fmin(fn = objective_log,\n",
    "                        space = space_log,\n",
    "                        algo = tpe.suggest,\n",
    "                        max_evals = max_evals,\n",
    "                        trials = trials)\n",
    "\n",
    "print(\"The best hyperparameters are : \",\"\\n\")\n",
    "print(best_hyperparams)\n"
   ]
  },
  {
   "cell_type": "code",
   "execution_count": 40,
   "id": "021af32d",
   "metadata": {},
   "outputs": [
    {
     "name": "stdout",
     "output_type": "stream",
     "text": [
      "Performance on fitting data of model LogisticRegression(C=0.11764152908873718, penalty='l1', solver='liblinear') \n",
      "\n",
      "Accuracy score: 0.8081111111111111\n",
      "Recall score: 0.24170381376919267\n",
      "Precision_score: 0.7134502923976608\n",
      "ROC/AUC score: 0.606813803461018\n",
      "F1 score: 0.3610802811690714\n",
      "\n",
      "\n",
      "Confusion Matrix on the fitting data\n"
     ]
    },
    {
     "data": {
      "text/plain": "<Figure size 432x288 with 2 Axes>",
      "image/png": "[encoded data removed]"
     },
     "metadata": {},
     "output_type": "display_data"
    }
   ],
   "source": [
    "log_penalties = ['l1', 'l2', 'elasticnet']\n",
    "log_solvers = ['liblinear', 'saga']\n",
    "\n",
    "log_reg = LogisticRegression(C=best_hyperparams['C'],\n",
    "                            penalty=log_penalties[best_hyperparams['penalty']],\n",
    "                            solver=log_solvers[best_hyperparams['solver']])\n",
    "\n",
    "log_reg = fit_Model(log_reg, X_train, y_train,eval_metrics=True, confusion_matrix=True)"
   ]
  },
  {
   "cell_type": "code",
   "execution_count": 41,
   "id": "883e87f5",
   "metadata": {
    "pycharm": {
     "name": "#%%\n"
    }
   },
   "outputs": [
    {
     "name": "stdout",
     "output_type": "stream",
     "text": [
      "SCORE:                                                \n",
      "0.8025                                                \n",
      "SCORE:                                                               \n",
      "0.8145                                                               \n",
      "SCORE:                                                               \n",
      "0.8113333333333334                                                   \n",
      "SCORE:                                                               \n",
      "0.79                                                                 \n",
      "SCORE:                                                               \n",
      "0.7946666666666666                                                   \n",
      "SCORE:                                                               \n",
      "0.815                                                                \n",
      "SCORE:                                                               \n",
      "0.815                                                               \n",
      "SCORE:                                                              \n",
      "0.8148333333333333                                                  \n",
      "SCORE:                                                              \n",
      "0.8146666666666667                                                  \n",
      "SCORE:                                                              \n",
      "0.815                                                               \n",
      "SCORE:                                                               \n",
      "0.8148333333333333                                                   \n",
      "SCORE:                                                               \n",
      "0.8151666666666667                                                   \n",
      "SCORE:                                                                            \n",
      "0.7801666666666667                                                                \n",
      "SCORE:                                                                            \n",
      "0.815                                                                             \n",
      "SCORE:                                                                            \n",
      "0.8143333333333334                                                                \n",
      "SCORE:                                                                            \n",
      "0.8058333333333333                                                                \n",
      "SCORE:                                                                            \n",
      "0.8148333333333333                                                                \n",
      "SCORE:                                                                            \n",
      "0.7903333333333333                                                                \n",
      "SCORE:                                                                            \n",
      "0.8021666666666667                                                                \n",
      "SCORE:                                                                            \n",
      "0.8148333333333333                                                                \n",
      "SCORE:                                                                            \n",
      "0.8153333333333334                                                                \n",
      "SCORE:                                                                            \n",
      "0.8153333333333334                                                                \n",
      "SCORE:                                                                            \n",
      "0.8153333333333334                                                                \n",
      "SCORE:                                                                            \n",
      "0.8151666666666667                                                                \n",
      "SCORE:                                                                            \n",
      "0.815                                                                             \n",
      "SCORE:                                                                            \n",
      "0.8151666666666667                                                                \n",
      "SCORE:                                                                            \n",
      "0.8145                                                                            \n",
      "SCORE:                                                                            \n",
      "0.8151666666666667                                                                \n",
      "SCORE:                                                                            \n",
      "0.7878333333333334                                                                \n",
      "SCORE:                                                                            \n",
      "0.8146666666666667                                                                \n",
      "SCORE:                                                                            \n",
      "0.7931666666666667                                                                \n",
      "SCORE:                                                                            \n",
      "0.8151666666666667                                                                \n",
      "SCORE:                                                                            \n",
      "0.8146666666666667                                                                \n",
      "SCORE:                                                                            \n",
      "0.7923333333333333                                                                \n",
      "SCORE:                                                                            \n",
      "0.8148333333333333                                                                \n",
      "SCORE:                                                                            \n",
      "0.814                                                                             \n",
      "SCORE:                                                                            \n",
      "0.7941666666666667                                                                \n",
      "SCORE:                                                                            \n",
      "0.7915                                                                            \n",
      "SCORE:                                                                            \n",
      "0.8148333333333333                                                                \n",
      "SCORE:                                                                            \n",
      "0.8135                                                                            \n",
      "SCORE:                                                                            \n",
      "0.815                                                                             \n",
      "SCORE:                                                                            \n",
      "0.7801666666666667                                                                \n",
      "SCORE:                                                                            \n",
      "0.8146666666666667                                                                \n",
      "SCORE:                                                                            \n",
      "0.8153333333333334                                                                \n",
      "SCORE:                                                                            \n",
      "0.8148333333333333                                                                \n",
      "SCORE:                                                                            \n",
      "0.811                                                                             \n",
      "SCORE:                                                                            \n",
      "0.8005                                                                            \n",
      "SCORE:                                                                            \n",
      "0.8148333333333333                                                                \n",
      "SCORE:                                                                            \n",
      "0.815                                                                             \n",
      "SCORE:                                                                            \n",
      "0.8055                                                                            \n",
      "100%|██████████| 50/50 [14:43<00:00, 17.66s/trial, best loss: -0.8153333333333334]\n",
      "The best hyperparameters are :  \n",
      "\n",
      "{'C': 0.4002101229224653, 'degree': 2, 'kernel': 1}\n"
     ]
    }
   ],
   "source": [
    "trials = Trials()\n",
    "\n",
    "best_hyperparams = fmin(fn = objective_svm,\n",
    "                        space = space_svm,\n",
    "                        algo = tpe.suggest,\n",
    "                        max_evals = max_evals,\n",
    "                        trials = trials)\n",
    "\n",
    "print(\"The best hyperparameters are : \",\"\\n\")\n",
    "print(best_hyperparams)"
   ]
  },
  {
   "cell_type": "raw",
   "source": [
    "\n",
    "%run EvalModel_file.ipynb\n"
   ],
   "metadata": {
    "collapsed": false,
    "pycharm": {
     "name": "#%% raw\n",
     "is_executing": true
    }
   },
   "outputs": [
    {
     "ename": "Exception",
     "evalue": "File `'EvalModel_file.ipynb.py'` not found.",
     "output_type": "error",
     "traceback": [
      "\u001B[0;31m---------------------------------------------------------------------------\u001B[0m",
      "\u001B[0;31mOSError\u001B[0m                                   Traceback (most recent call last)",
      "\u001B[0;32m~/Library/Python/3.8/lib/python/site-packages/IPython/core/magics/execution.py\u001B[0m in \u001B[0;36mrun\u001B[0;34m(self, parameter_s, runner, file_finder)\u001B[0m\n\u001B[1;32m    702\u001B[0m             \u001B[0mfpath\u001B[0m \u001B[0;34m=\u001B[0m \u001B[0marg_lst\u001B[0m\u001B[0;34m[\u001B[0m\u001B[0;36m0\u001B[0m\u001B[0;34m]\u001B[0m\u001B[0;34m\u001B[0m\u001B[0;34m\u001B[0m\u001B[0m\n\u001B[0;32m--> 703\u001B[0;31m             \u001B[0mfilename\u001B[0m \u001B[0;34m=\u001B[0m \u001B[0mfile_finder\u001B[0m\u001B[0;34m(\u001B[0m\u001B[0mfpath\u001B[0m\u001B[0;34m)\u001B[0m\u001B[0;34m\u001B[0m\u001B[0;34m\u001B[0m\u001B[0m\n\u001B[0m\u001B[1;32m    704\u001B[0m         \u001B[0;32mexcept\u001B[0m \u001B[0mIndexError\u001B[0m\u001B[0;34m:\u001B[0m\u001B[0;34m\u001B[0m\u001B[0;34m\u001B[0m\u001B[0m\n",
      "\u001B[0;32m~/Library/Python/3.8/lib/python/site-packages/IPython/utils/path.py\u001B[0m in \u001B[0;36mget_py_filename\u001B[0;34m(name, force_win32)\u001B[0m\n\u001B[1;32m    108\u001B[0m     \u001B[0;32melse\u001B[0m\u001B[0;34m:\u001B[0m\u001B[0;34m\u001B[0m\u001B[0;34m\u001B[0m\u001B[0m\n\u001B[0;32m--> 109\u001B[0;31m         \u001B[0;32mraise\u001B[0m \u001B[0mIOError\u001B[0m\u001B[0;34m(\u001B[0m\u001B[0;34m'File `%r` not found.'\u001B[0m \u001B[0;34m%\u001B[0m \u001B[0mname\u001B[0m\u001B[0;34m)\u001B[0m\u001B[0;34m\u001B[0m\u001B[0;34m\u001B[0m\u001B[0m\n\u001B[0m\u001B[1;32m    110\u001B[0m \u001B[0;34m\u001B[0m\u001B[0m\n",
      "\u001B[0;31mOSError\u001B[0m: File `'EvalModel_file.ipynb.py'` not found.",
      "\nDuring handling of the above exception, another exception occurred:\n",
      "\u001B[0;31mException\u001B[0m                                 Traceback (most recent call last)",
      "\u001B[0;32m<ipython-input-20-489b979604b8>\u001B[0m in \u001B[0;36m<module>\u001B[0;34m\u001B[0m\n\u001B[0;32m----> 1\u001B[0;31m \u001B[0mget_ipython\u001B[0m\u001B[0;34m(\u001B[0m\u001B[0;34m)\u001B[0m\u001B[0;34m.\u001B[0m\u001B[0mrun_line_magic\u001B[0m\u001B[0;34m(\u001B[0m\u001B[0;34m'run'\u001B[0m\u001B[0;34m,\u001B[0m \u001B[0;34m'EvalModel_file.ipynb'\u001B[0m\u001B[0;34m)\u001B[0m\u001B[0;34m\u001B[0m\u001B[0;34m\u001B[0m\u001B[0m\n\u001B[0m\u001B[1;32m      2\u001B[0m \u001B[0;34m\u001B[0m\u001B[0m\n",
      "\u001B[0;32m~/Library/Python/3.8/lib/python/site-packages/IPython/core/interactiveshell.py\u001B[0m in \u001B[0;36mrun_line_magic\u001B[0;34m(self, magic_name, line, _stack_depth)\u001B[0m\n\u001B[1;32m   2346\u001B[0m                 \u001B[0mkwargs\u001B[0m\u001B[0;34m[\u001B[0m\u001B[0;34m'local_ns'\u001B[0m\u001B[0;34m]\u001B[0m \u001B[0;34m=\u001B[0m \u001B[0mself\u001B[0m\u001B[0;34m.\u001B[0m\u001B[0mget_local_scope\u001B[0m\u001B[0;34m(\u001B[0m\u001B[0mstack_depth\u001B[0m\u001B[0;34m)\u001B[0m\u001B[0;34m\u001B[0m\u001B[0;34m\u001B[0m\u001B[0m\n\u001B[1;32m   2347\u001B[0m             \u001B[0;32mwith\u001B[0m \u001B[0mself\u001B[0m\u001B[0;34m.\u001B[0m\u001B[0mbuiltin_trap\u001B[0m\u001B[0;34m:\u001B[0m\u001B[0;34m\u001B[0m\u001B[0;34m\u001B[0m\u001B[0m\n\u001B[0;32m-> 2348\u001B[0;31m                 \u001B[0mresult\u001B[0m \u001B[0;34m=\u001B[0m \u001B[0mfn\u001B[0m\u001B[0;34m(\u001B[0m\u001B[0;34m*\u001B[0m\u001B[0margs\u001B[0m\u001B[0;34m,\u001B[0m \u001B[0;34m**\u001B[0m\u001B[0mkwargs\u001B[0m\u001B[0;34m)\u001B[0m\u001B[0;34m\u001B[0m\u001B[0;34m\u001B[0m\u001B[0m\n\u001B[0m\u001B[1;32m   2349\u001B[0m             \u001B[0;32mreturn\u001B[0m \u001B[0mresult\u001B[0m\u001B[0;34m\u001B[0m\u001B[0;34m\u001B[0m\u001B[0m\n\u001B[1;32m   2350\u001B[0m \u001B[0;34m\u001B[0m\u001B[0m\n",
      "\u001B[0;32m~/Library/Python/3.8/lib/python/site-packages/decorator.py\u001B[0m in \u001B[0;36mfun\u001B[0;34m(*args, **kw)\u001B[0m\n\u001B[1;32m    230\u001B[0m             \u001B[0;32mif\u001B[0m \u001B[0;32mnot\u001B[0m \u001B[0mkwsyntax\u001B[0m\u001B[0;34m:\u001B[0m\u001B[0;34m\u001B[0m\u001B[0;34m\u001B[0m\u001B[0m\n\u001B[1;32m    231\u001B[0m                 \u001B[0margs\u001B[0m\u001B[0;34m,\u001B[0m \u001B[0mkw\u001B[0m \u001B[0;34m=\u001B[0m \u001B[0mfix\u001B[0m\u001B[0;34m(\u001B[0m\u001B[0margs\u001B[0m\u001B[0;34m,\u001B[0m \u001B[0mkw\u001B[0m\u001B[0;34m,\u001B[0m \u001B[0msig\u001B[0m\u001B[0;34m)\u001B[0m\u001B[0;34m\u001B[0m\u001B[0;34m\u001B[0m\u001B[0m\n\u001B[0;32m--> 232\u001B[0;31m             \u001B[0;32mreturn\u001B[0m \u001B[0mcaller\u001B[0m\u001B[0;34m(\u001B[0m\u001B[0mfunc\u001B[0m\u001B[0;34m,\u001B[0m \u001B[0;34m*\u001B[0m\u001B[0;34m(\u001B[0m\u001B[0mextras\u001B[0m \u001B[0;34m+\u001B[0m \u001B[0margs\u001B[0m\u001B[0;34m)\u001B[0m\u001B[0;34m,\u001B[0m \u001B[0;34m**\u001B[0m\u001B[0mkw\u001B[0m\u001B[0;34m)\u001B[0m\u001B[0;34m\u001B[0m\u001B[0;34m\u001B[0m\u001B[0m\n\u001B[0m\u001B[1;32m    233\u001B[0m     \u001B[0mfun\u001B[0m\u001B[0;34m.\u001B[0m\u001B[0m__name__\u001B[0m \u001B[0;34m=\u001B[0m \u001B[0mfunc\u001B[0m\u001B[0;34m.\u001B[0m\u001B[0m__name__\u001B[0m\u001B[0;34m\u001B[0m\u001B[0;34m\u001B[0m\u001B[0m\n\u001B[1;32m    234\u001B[0m     \u001B[0mfun\u001B[0m\u001B[0;34m.\u001B[0m\u001B[0m__doc__\u001B[0m \u001B[0;34m=\u001B[0m \u001B[0mfunc\u001B[0m\u001B[0;34m.\u001B[0m\u001B[0m__doc__\u001B[0m\u001B[0;34m\u001B[0m\u001B[0;34m\u001B[0m\u001B[0m\n",
      "\u001B[0;32m~/Library/Python/3.8/lib/python/site-packages/IPython/core/magic.py\u001B[0m in \u001B[0;36m<lambda>\u001B[0;34m(f, *a, **k)\u001B[0m\n\u001B[1;32m    185\u001B[0m     \u001B[0;31m# but it's overkill for just that one bit of state.\u001B[0m\u001B[0;34m\u001B[0m\u001B[0;34m\u001B[0m\u001B[0;34m\u001B[0m\u001B[0m\n\u001B[1;32m    186\u001B[0m     \u001B[0;32mdef\u001B[0m \u001B[0mmagic_deco\u001B[0m\u001B[0;34m(\u001B[0m\u001B[0marg\u001B[0m\u001B[0;34m)\u001B[0m\u001B[0;34m:\u001B[0m\u001B[0;34m\u001B[0m\u001B[0;34m\u001B[0m\u001B[0m\n\u001B[0;32m--> 187\u001B[0;31m         \u001B[0mcall\u001B[0m \u001B[0;34m=\u001B[0m \u001B[0;32mlambda\u001B[0m \u001B[0mf\u001B[0m\u001B[0;34m,\u001B[0m \u001B[0;34m*\u001B[0m\u001B[0ma\u001B[0m\u001B[0;34m,\u001B[0m \u001B[0;34m**\u001B[0m\u001B[0mk\u001B[0m\u001B[0;34m:\u001B[0m \u001B[0mf\u001B[0m\u001B[0;34m(\u001B[0m\u001B[0;34m*\u001B[0m\u001B[0ma\u001B[0m\u001B[0;34m,\u001B[0m \u001B[0;34m**\u001B[0m\u001B[0mk\u001B[0m\u001B[0;34m)\u001B[0m\u001B[0;34m\u001B[0m\u001B[0;34m\u001B[0m\u001B[0m\n\u001B[0m\u001B[1;32m    188\u001B[0m \u001B[0;34m\u001B[0m\u001B[0m\n\u001B[1;32m    189\u001B[0m         \u001B[0;32mif\u001B[0m \u001B[0mcallable\u001B[0m\u001B[0;34m(\u001B[0m\u001B[0marg\u001B[0m\u001B[0;34m)\u001B[0m\u001B[0;34m:\u001B[0m\u001B[0;34m\u001B[0m\u001B[0;34m\u001B[0m\u001B[0m\n",
      "\u001B[0;32m~/Library/Python/3.8/lib/python/site-packages/IPython/core/magics/execution.py\u001B[0m in \u001B[0;36mrun\u001B[0;34m(self, parameter_s, runner, file_finder)\u001B[0m\n\u001B[1;32m    712\u001B[0m             \u001B[0;32mif\u001B[0m \u001B[0mos\u001B[0m\u001B[0;34m.\u001B[0m\u001B[0mname\u001B[0m \u001B[0;34m==\u001B[0m \u001B[0;34m'nt'\u001B[0m \u001B[0;32mand\u001B[0m \u001B[0mre\u001B[0m\u001B[0;34m.\u001B[0m\u001B[0mmatch\u001B[0m\u001B[0;34m(\u001B[0m\u001B[0;34mr\"^'.*'$\"\u001B[0m\u001B[0;34m,\u001B[0m\u001B[0mfpath\u001B[0m\u001B[0;34m)\u001B[0m\u001B[0;34m:\u001B[0m\u001B[0;34m\u001B[0m\u001B[0;34m\u001B[0m\u001B[0m\n\u001B[1;32m    713\u001B[0m                 \u001B[0mwarn\u001B[0m\u001B[0;34m(\u001B[0m\u001B[0;34m'For Windows, use double quotes to wrap a filename: %run \"mypath\\\\myfile.py\"'\u001B[0m\u001B[0;34m)\u001B[0m\u001B[0;34m\u001B[0m\u001B[0;34m\u001B[0m\u001B[0m\n\u001B[0;32m--> 714\u001B[0;31m             \u001B[0;32mraise\u001B[0m \u001B[0mException\u001B[0m\u001B[0;34m(\u001B[0m\u001B[0mmsg\u001B[0m\u001B[0;34m)\u001B[0m\u001B[0;34m\u001B[0m\u001B[0;34m\u001B[0m\u001B[0m\n\u001B[0m\u001B[1;32m    715\u001B[0m         \u001B[0;32mexcept\u001B[0m \u001B[0mTypeError\u001B[0m\u001B[0;34m:\u001B[0m\u001B[0;34m\u001B[0m\u001B[0;34m\u001B[0m\u001B[0m\n\u001B[1;32m    716\u001B[0m             \u001B[0;32mif\u001B[0m \u001B[0mfpath\u001B[0m \u001B[0;32min\u001B[0m \u001B[0msys\u001B[0m\u001B[0;34m.\u001B[0m\u001B[0mmeta_path\u001B[0m\u001B[0;34m:\u001B[0m\u001B[0;34m\u001B[0m\u001B[0;34m\u001B[0m\u001B[0m\n",
      "\u001B[0;31mException\u001B[0m: File `'EvalModel_file.ipynb.py'` not found."
     ]
    }
   ]
  },
  {
   "cell_type": "code",
   "execution_count": 42,
   "id": "5ab39f3a",
   "metadata": {},
   "outputs": [
    {
     "name": "stdout",
     "output_type": "stream",
     "text": [
      "Performance on fitting data of model SVC(C=0.6959354436457543) \n",
      "\n",
      "Accuracy score: 0.8221666666666667\n",
      "Recall score: 0.35190688459633485\n",
      "Precision_score: 0.7087281795511222\n",
      "ROC/AUC score: 0.6550395331161019\n",
      "F1 score: 0.47029621049147774\n",
      "\n",
      "\n",
      "Confusion Matrix on the fitting data\n"
     ]
    },
    {
     "data": {
      "text/plain": "<Figure size 432x288 with 2 Axes>",
      "image/png": "[encoded data removed]"
     },
     "metadata": {},
     "output_type": "display_data"
    }
   ],
   "source": [
    "svm_kernel = ['poly', 'rbf']\n",
    "svm_degree = ['2','3','4']\n",
    "\n",
    "if best_hyperparams =='poly':\n",
    "    svm_reg = SVC(C=0.6959354436457543,\n",
    "              kernel=svm_kernel[best_hyperparams['kernel']],\n",
    "                  degree = svm_degree[best_hyperparams['degree']]\n",
    "               )\n",
    "else: \n",
    "    svm_reg = SVC(C=0.6959354436457543,\n",
    "              kernel=svm_kernel[best_hyperparams['kernel']])\n",
    "\n",
    "svm_reg = fit_Model(svm_reg, X_train, y_train,eval_metrics=True, confusion_matrix=True)\n",
    "\n",
    "\n"
   ]
  },
  {
   "cell_type": "markdown",
   "id": "df000aaa",
   "metadata": {},
   "source": [
    "The search selects the best considered (not the best in the space) generalizable hyperparameters (i.e. the ones that perform best, after fitting on the training set and prediction on the validation set).\n",
    "In this limited analysis, these hyperparameters are considered the best generalizable.\n",
    "Alternatively, we can say that we select these parameters to be tested.\n",
    "We may find that some ML models allow for a large fluctuation in performance on the validation set, which may indicate that we have 'overfitted' the validation set. This will show on the test set.\n",
    "We can decide to further train on the validation set, however, it is interesting to see how the performance of the model changes whether we use the validation set or not.\n",
    "\n",
    "The models are:\n",
    "`xgb_reg`, `ada_reg`, `gbrt_reg`, `log_reg`, and `svm_reg`\n",
    "\n",
    "Now we can test these models on the test set. Followed by checking each prediction's 'strenght' by using the Smooth Sorting Method as proposed in the original paper by Yeh and Lien.\n"
   ]
  },
  {
   "cell_type": "markdown",
   "source": [
    "### Testing these models\n"
   ],
   "metadata": {
    "collapsed": false,
    "pycharm": {
     "name": "#%% md\n"
    }
   }
  },
  {
   "cell_type": "code",
   "execution_count": 43,
   "outputs": [],
   "source": [
    "from EvalModel_helper import EvalMetrics"
   ],
   "metadata": {
    "collapsed": false,
    "pycharm": {
     "name": "#%%\n"
    }
   }
  },
  {
   "cell_type": "code",
   "execution_count": 44,
   "id": "fd748eed",
   "metadata": {},
   "outputs": [
    {
     "name": "stdout",
     "output_type": "stream",
     "text": [
      "Performance on test data of model XGBRegressor(base_score=0.5, booster='gbtree', colsample_bylevel=1,\n",
      "             colsample_bynode=1, colsample_bytree=0.9267151796260045,\n",
      "             gamma=1.01854676464289, gpu_id=-1, importance_type='gain',\n",
      "             interaction_constraints='', learning_rate=0.05, max_delta_step=0,\n",
      "             max_depth=18, min_child_weight=9, missing=nan,\n",
      "             monotone_constraints='()', n_estimators=180, n_jobs=8,\n",
      "             num_parallel_tree=1, random_state=0, reg_alpha=61.0,\n",
      "             reg_lambda=0.583387, scale_pos_weight=1, silent=False,\n",
      "             subsample=0.8, tree_method='exact', validate_parameters=1,\n",
      "             verbosity=None) \n",
      "\n",
      "Accuracy score: 0.832\n",
      "Recall score: 0.334913112164297\n",
      "Precision_score: 0.7186440677966102\n",
      "ROC/AUC score: 0.6499238142148059\n",
      "F1 score: 0.4568965517241379\n",
      "\n",
      "\n",
      "Confusion Matrix with the true and predicted data\n",
      "Performance on test data of model AdaBoostRegressor(learning_rate=0.04591829175329593, loss='exponential') \n",
      "\n",
      "Accuracy score: 0.8338333333333333\n",
      "Recall score: 0.35150078988941547\n",
      "Precision_score: 0.71658615136876\n",
      "ROC/AUC score: 0.657161463808248\n",
      "F1 score: 0.4716481187069422\n",
      "\n",
      "\n",
      "Confusion Matrix with the true and predicted data\n",
      "Performance on test data of model GradientBoostingRegressor(learning_rate=0.057307643973049466, max_depth=5.0) \n",
      "\n",
      "Accuracy score: 0.8313333333333334\n",
      "Recall score: 0.33886255924170616\n",
      "Precision_score: 0.7102649006622517\n",
      "ROC/AUC score: 0.650947967411305\n",
      "F1 score: 0.4588235294117647\n",
      "\n",
      "\n",
      "Confusion Matrix with the true and predicted data\n",
      "Performance on test data of model LogisticRegression(C=0.11764152908873718, penalty='l1', solver='liblinear') \n",
      "\n",
      "Accuracy score: 0.8191666666666667\n",
      "Recall score: 0.22748815165876776\n",
      "Precision_score: 0.7291139240506329\n",
      "ROC/AUC score: 0.6024428506498317\n",
      "F1 score: 0.34677904876580373\n",
      "\n",
      "\n",
      "Confusion Matrix with the true and predicted data\n",
      "Performance on test data of model SVC(C=0.6959354436457543) \n",
      "\n",
      "Accuracy score: 0.8301666666666667\n",
      "Recall score: 0.3285939968404423\n",
      "Precision_score: 0.7111111111111111\n",
      "ROC/AUC score: 0.6464473997721434\n",
      "F1 score: 0.4494867639113992\n",
      "\n",
      "\n",
      "Confusion Matrix with the true and predicted data\n"
     ]
    },
    {
     "data": {
      "text/plain": "<Figure size 432x288 with 2 Axes>",
      "image/png": "[encoded data removed]"
     },
     "metadata": {},
     "output_type": "display_data"
    },
    {
     "data": {
      "text/plain": "<Figure size 432x288 with 2 Axes>",
      "image/png": "[encoded data removed]"
     },
     "metadata": {},
     "output_type": "display_data"
    },
    {
     "data": {
      "text/plain": "<Figure size 432x288 with 2 Axes>",
      "image/png": "[encoded data removed]"
     },
     "metadata": {},
     "output_type": "display_data"
    },
    {
     "data": {
      "text/plain": "<Figure size 432x288 with 2 Axes>",
      "image/png": "[encoded data removed]"
     },
     "metadata": {},
     "output_type": "display_data"
    },
    {
     "data": {
      "text/plain": "<Figure size 432x288 with 2 Axes>",
      "image/png": "[encoded data removed]"
     },
     "metadata": {},
     "output_type": "display_data"
    }
   ],
   "source": [
    "models = [xgb_reg, ada_reg, gbrt_reg, log_reg, svm_reg]\n",
    "for model in models:\n",
    "    y_predicted = model.predict(X_test)>0.5\n",
    "    print(f'Performance on test data of model {model} \\n')\n",
    "    EvalMetrics(y_test, y_predicted, confusion_matrix = True)"
   ]
  },
  {
   "cell_type": "markdown",
   "source": [
    "We find that these\n"
   ],
   "metadata": {
    "collapsed": false,
    "pycharm": {
     "name": "#%% md\n"
    }
   }
  },
  {
   "cell_type": "markdown",
   "id": "168c3afe",
   "metadata": {},
   "source": [
    "## Performance at given percentages\n",
    "### robustness\n",
    "\n",
    "As opposed to simply classifiying clients as expected to default vs not-expected to default, quantifying is more meaningful. I.e. defining a probability of default has more potential.\n",
    "\n",
    "To estimate the real probability, the Smooth Sorting Method can be used, which estimates the real probability by looking at neighboring points and taking the mean of these values."
   ]
  },
  {
   "cell_type": "markdown",
   "id": "a7fbabd6",
   "metadata": {},
   "source": [
    "__Smooth Sorting Method__ from the original paper (Yeh, I. C., & Lien, C. H. (2009)): \n",
    "\n",
    "$$\\text{P}_i = \\frac{\\sum_{j=-n}^{n}\\text{Y}_{i-j}}{2n+1}$$\n",
    "\n",
    "where $\\text{P}_i$ is the estimated real probability of default, $\\text{Y}_{i}$ is the binary variable of default (1) or non-default (0), $n$ is the number of data for smoothing.<br>\n",
    "The Smooth Sorting Method is used on sorted data, from the lowest probability of default occuring to the highest probability of default occuring. \n",
    "\n",
    "This is interesting to look at because loaners adopt different risk strategies.    \n",
    "( (?) for this we consider at 20% and 80% (?) )"
   ]
  },
  {
   "cell_type": "markdown",
   "id": "aec14761",
   "metadata": {},
   "source": [
    "we have the lists : `y_predicted` and `y_test`"
   ]
  },
  {
   "cell_type": "raw",
   "id": "e9551f14",
   "metadata": {
    "pycharm": {
     "name": "#%% raw\n"
    }
   },
   "source": [
    "\n",
    "xgb_reg = xgb.XGBRegressor(eta=0.3, gamma=0.5, use_label_encoder=False)\n",
    "xgb_reg.fit(X_train,y_train)\n",
    "y_predicted = xgb_reg.predict(X_test)\n"
   ]
  },
  {
   "cell_type": "code",
   "execution_count": 45,
   "id": "44737b8f",
   "metadata": {},
   "outputs": [
    {
     "data": {
      "text/plain": "array([ True, False, False, ...,  True, False, False])"
     },
     "execution_count": 45,
     "metadata": {},
     "output_type": "execute_result"
    }
   ],
   "source": [
    "y_predicted"
   ]
  },
  {
   "cell_type": "code",
   "execution_count": 47,
   "id": "709565ee",
   "metadata": {},
   "outputs": [
    {
     "ename": "KeyError",
     "evalue": "\"None of [Int64Index([2999, 3917, 3916, 3914, 3912, 3911, 3909, 3908, 3907, 3918,\\n            ...\\n             767,  765, 5138,  759,  758, 5149, 5150, 5151, 5127,    0],\\n           dtype='int64', name='ID', length=6000)] are in the [index]\"",
     "output_type": "error",
     "traceback": [
      "\u001B[0;31m---------------------------------------------------------------------------\u001B[0m",
      "\u001B[0;31mKeyError\u001B[0m                                  Traceback (most recent call last)",
      "\u001B[0;32m<ipython-input-47-f0390b8b9816>\u001B[0m in \u001B[0;36m<module>\u001B[0;34m\u001B[0m\n\u001B[1;32m      1\u001B[0m \u001B[0msorted_index\u001B[0m \u001B[0;34m=\u001B[0m \u001B[0mnp\u001B[0m\u001B[0;34m.\u001B[0m\u001B[0margsort\u001B[0m\u001B[0;34m(\u001B[0m\u001B[0my_predicted\u001B[0m\u001B[0;34m)\u001B[0m\u001B[0;34m\u001B[0m\u001B[0;34m\u001B[0m\u001B[0m\n\u001B[1;32m      2\u001B[0m \u001B[0;34m\u001B[0m\u001B[0m\n\u001B[0;32m----> 3\u001B[0;31m \u001B[0my_test\u001B[0m \u001B[0;34m=\u001B[0m \u001B[0my_test\u001B[0m\u001B[0;34m[\u001B[0m\u001B[0msorted_index\u001B[0m\u001B[0;34m]\u001B[0m\u001B[0;34m\u001B[0m\u001B[0;34m\u001B[0m\u001B[0m\n\u001B[0m\u001B[1;32m      4\u001B[0m \u001B[0;34m\u001B[0m\u001B[0m\n",
      "\u001B[0;32m~/Library/Python/3.8/lib/python/site-packages/pandas/core/series.py\u001B[0m in \u001B[0;36m__getitem__\u001B[0;34m(self, key)\u001B[0m\n\u001B[1;32m    906\u001B[0m             \u001B[0;32mreturn\u001B[0m \u001B[0mself\u001B[0m\u001B[0;34m.\u001B[0m\u001B[0m_get_values\u001B[0m\u001B[0;34m(\u001B[0m\u001B[0mkey\u001B[0m\u001B[0;34m)\u001B[0m\u001B[0;34m\u001B[0m\u001B[0;34m\u001B[0m\u001B[0m\n\u001B[1;32m    907\u001B[0m \u001B[0;34m\u001B[0m\u001B[0m\n\u001B[0;32m--> 908\u001B[0;31m         \u001B[0;32mreturn\u001B[0m \u001B[0mself\u001B[0m\u001B[0;34m.\u001B[0m\u001B[0m_get_with\u001B[0m\u001B[0;34m(\u001B[0m\u001B[0mkey\u001B[0m\u001B[0;34m)\u001B[0m\u001B[0;34m\u001B[0m\u001B[0;34m\u001B[0m\u001B[0m\n\u001B[0m\u001B[1;32m    909\u001B[0m \u001B[0;34m\u001B[0m\u001B[0m\n\u001B[1;32m    910\u001B[0m     \u001B[0;32mdef\u001B[0m \u001B[0m_get_with\u001B[0m\u001B[0;34m(\u001B[0m\u001B[0mself\u001B[0m\u001B[0;34m,\u001B[0m \u001B[0mkey\u001B[0m\u001B[0;34m)\u001B[0m\u001B[0;34m:\u001B[0m\u001B[0;34m\u001B[0m\u001B[0;34m\u001B[0m\u001B[0m\n",
      "\u001B[0;32m~/Library/Python/3.8/lib/python/site-packages/pandas/core/series.py\u001B[0m in \u001B[0;36m_get_with\u001B[0;34m(self, key)\u001B[0m\n\u001B[1;32m    941\u001B[0m             \u001B[0;31m#  (i.e. self.iloc) or label-based (i.e. self.loc)\u001B[0m\u001B[0;34m\u001B[0m\u001B[0;34m\u001B[0m\u001B[0;34m\u001B[0m\u001B[0m\n\u001B[1;32m    942\u001B[0m             \u001B[0;32mif\u001B[0m \u001B[0;32mnot\u001B[0m \u001B[0mself\u001B[0m\u001B[0;34m.\u001B[0m\u001B[0mindex\u001B[0m\u001B[0;34m.\u001B[0m\u001B[0m_should_fallback_to_positional\u001B[0m\u001B[0;34m(\u001B[0m\u001B[0;34m)\u001B[0m\u001B[0;34m:\u001B[0m\u001B[0;34m\u001B[0m\u001B[0;34m\u001B[0m\u001B[0m\n\u001B[0;32m--> 943\u001B[0;31m                 \u001B[0;32mreturn\u001B[0m \u001B[0mself\u001B[0m\u001B[0;34m.\u001B[0m\u001B[0mloc\u001B[0m\u001B[0;34m[\u001B[0m\u001B[0mkey\u001B[0m\u001B[0;34m]\u001B[0m\u001B[0;34m\u001B[0m\u001B[0;34m\u001B[0m\u001B[0m\n\u001B[0m\u001B[1;32m    944\u001B[0m             \u001B[0;32melse\u001B[0m\u001B[0;34m:\u001B[0m\u001B[0;34m\u001B[0m\u001B[0;34m\u001B[0m\u001B[0m\n\u001B[1;32m    945\u001B[0m                 \u001B[0;32mreturn\u001B[0m \u001B[0mself\u001B[0m\u001B[0;34m.\u001B[0m\u001B[0miloc\u001B[0m\u001B[0;34m[\u001B[0m\u001B[0mkey\u001B[0m\u001B[0;34m]\u001B[0m\u001B[0;34m\u001B[0m\u001B[0;34m\u001B[0m\u001B[0m\n",
      "\u001B[0;32m~/Library/Python/3.8/lib/python/site-packages/pandas/core/indexing.py\u001B[0m in \u001B[0;36m__getitem__\u001B[0;34m(self, key)\u001B[0m\n\u001B[1;32m    877\u001B[0m \u001B[0;34m\u001B[0m\u001B[0m\n\u001B[1;32m    878\u001B[0m             \u001B[0mmaybe_callable\u001B[0m \u001B[0;34m=\u001B[0m \u001B[0mcom\u001B[0m\u001B[0;34m.\u001B[0m\u001B[0mapply_if_callable\u001B[0m\u001B[0;34m(\u001B[0m\u001B[0mkey\u001B[0m\u001B[0;34m,\u001B[0m \u001B[0mself\u001B[0m\u001B[0;34m.\u001B[0m\u001B[0mobj\u001B[0m\u001B[0;34m)\u001B[0m\u001B[0;34m\u001B[0m\u001B[0;34m\u001B[0m\u001B[0m\n\u001B[0;32m--> 879\u001B[0;31m             \u001B[0;32mreturn\u001B[0m \u001B[0mself\u001B[0m\u001B[0;34m.\u001B[0m\u001B[0m_getitem_axis\u001B[0m\u001B[0;34m(\u001B[0m\u001B[0mmaybe_callable\u001B[0m\u001B[0;34m,\u001B[0m \u001B[0maxis\u001B[0m\u001B[0;34m=\u001B[0m\u001B[0maxis\u001B[0m\u001B[0;34m)\u001B[0m\u001B[0;34m\u001B[0m\u001B[0;34m\u001B[0m\u001B[0m\n\u001B[0m\u001B[1;32m    880\u001B[0m \u001B[0;34m\u001B[0m\u001B[0m\n\u001B[1;32m    881\u001B[0m     \u001B[0;32mdef\u001B[0m \u001B[0m_is_scalar_access\u001B[0m\u001B[0;34m(\u001B[0m\u001B[0mself\u001B[0m\u001B[0;34m,\u001B[0m \u001B[0mkey\u001B[0m\u001B[0;34m:\u001B[0m \u001B[0mTuple\u001B[0m\u001B[0;34m)\u001B[0m\u001B[0;34m:\u001B[0m\u001B[0;34m\u001B[0m\u001B[0;34m\u001B[0m\u001B[0m\n",
      "\u001B[0;32m~/Library/Python/3.8/lib/python/site-packages/pandas/core/indexing.py\u001B[0m in \u001B[0;36m_getitem_axis\u001B[0;34m(self, key, axis)\u001B[0m\n\u001B[1;32m   1097\u001B[0m                     \u001B[0;32mraise\u001B[0m \u001B[0mValueError\u001B[0m\u001B[0;34m(\u001B[0m\u001B[0;34m\"Cannot index with multidimensional key\"\u001B[0m\u001B[0;34m)\u001B[0m\u001B[0;34m\u001B[0m\u001B[0;34m\u001B[0m\u001B[0m\n\u001B[1;32m   1098\u001B[0m \u001B[0;34m\u001B[0m\u001B[0m\n\u001B[0;32m-> 1099\u001B[0;31m                 \u001B[0;32mreturn\u001B[0m \u001B[0mself\u001B[0m\u001B[0;34m.\u001B[0m\u001B[0m_getitem_iterable\u001B[0m\u001B[0;34m(\u001B[0m\u001B[0mkey\u001B[0m\u001B[0;34m,\u001B[0m \u001B[0maxis\u001B[0m\u001B[0;34m=\u001B[0m\u001B[0maxis\u001B[0m\u001B[0;34m)\u001B[0m\u001B[0;34m\u001B[0m\u001B[0;34m\u001B[0m\u001B[0m\n\u001B[0m\u001B[1;32m   1100\u001B[0m \u001B[0;34m\u001B[0m\u001B[0m\n\u001B[1;32m   1101\u001B[0m             \u001B[0;31m# nested tuple slicing\u001B[0m\u001B[0;34m\u001B[0m\u001B[0;34m\u001B[0m\u001B[0;34m\u001B[0m\u001B[0m\n",
      "\u001B[0;32m~/Library/Python/3.8/lib/python/site-packages/pandas/core/indexing.py\u001B[0m in \u001B[0;36m_getitem_iterable\u001B[0;34m(self, key, axis)\u001B[0m\n\u001B[1;32m   1035\u001B[0m \u001B[0;34m\u001B[0m\u001B[0m\n\u001B[1;32m   1036\u001B[0m         \u001B[0;31m# A collection of keys\u001B[0m\u001B[0;34m\u001B[0m\u001B[0;34m\u001B[0m\u001B[0;34m\u001B[0m\u001B[0m\n\u001B[0;32m-> 1037\u001B[0;31m         \u001B[0mkeyarr\u001B[0m\u001B[0;34m,\u001B[0m \u001B[0mindexer\u001B[0m \u001B[0;34m=\u001B[0m \u001B[0mself\u001B[0m\u001B[0;34m.\u001B[0m\u001B[0m_get_listlike_indexer\u001B[0m\u001B[0;34m(\u001B[0m\u001B[0mkey\u001B[0m\u001B[0;34m,\u001B[0m \u001B[0maxis\u001B[0m\u001B[0;34m,\u001B[0m \u001B[0mraise_missing\u001B[0m\u001B[0;34m=\u001B[0m\u001B[0;32mFalse\u001B[0m\u001B[0;34m)\u001B[0m\u001B[0;34m\u001B[0m\u001B[0;34m\u001B[0m\u001B[0m\n\u001B[0m\u001B[1;32m   1038\u001B[0m         return self.obj._reindex_with_indexers(\n\u001B[1;32m   1039\u001B[0m             \u001B[0;34m{\u001B[0m\u001B[0maxis\u001B[0m\u001B[0;34m:\u001B[0m \u001B[0;34m[\u001B[0m\u001B[0mkeyarr\u001B[0m\u001B[0;34m,\u001B[0m \u001B[0mindexer\u001B[0m\u001B[0;34m]\u001B[0m\u001B[0;34m}\u001B[0m\u001B[0;34m,\u001B[0m \u001B[0mcopy\u001B[0m\u001B[0;34m=\u001B[0m\u001B[0;32mTrue\u001B[0m\u001B[0;34m,\u001B[0m \u001B[0mallow_dups\u001B[0m\u001B[0;34m=\u001B[0m\u001B[0;32mTrue\u001B[0m\u001B[0;34m\u001B[0m\u001B[0;34m\u001B[0m\u001B[0m\n",
      "\u001B[0;32m~/Library/Python/3.8/lib/python/site-packages/pandas/core/indexing.py\u001B[0m in \u001B[0;36m_get_listlike_indexer\u001B[0;34m(self, key, axis, raise_missing)\u001B[0m\n\u001B[1;32m   1252\u001B[0m             \u001B[0mkeyarr\u001B[0m\u001B[0;34m,\u001B[0m \u001B[0mindexer\u001B[0m\u001B[0;34m,\u001B[0m \u001B[0mnew_indexer\u001B[0m \u001B[0;34m=\u001B[0m \u001B[0max\u001B[0m\u001B[0;34m.\u001B[0m\u001B[0m_reindex_non_unique\u001B[0m\u001B[0;34m(\u001B[0m\u001B[0mkeyarr\u001B[0m\u001B[0;34m)\u001B[0m\u001B[0;34m\u001B[0m\u001B[0;34m\u001B[0m\u001B[0m\n\u001B[1;32m   1253\u001B[0m \u001B[0;34m\u001B[0m\u001B[0m\n\u001B[0;32m-> 1254\u001B[0;31m         \u001B[0mself\u001B[0m\u001B[0;34m.\u001B[0m\u001B[0m_validate_read_indexer\u001B[0m\u001B[0;34m(\u001B[0m\u001B[0mkeyarr\u001B[0m\u001B[0;34m,\u001B[0m \u001B[0mindexer\u001B[0m\u001B[0;34m,\u001B[0m \u001B[0maxis\u001B[0m\u001B[0;34m,\u001B[0m \u001B[0mraise_missing\u001B[0m\u001B[0;34m=\u001B[0m\u001B[0mraise_missing\u001B[0m\u001B[0;34m)\u001B[0m\u001B[0;34m\u001B[0m\u001B[0;34m\u001B[0m\u001B[0m\n\u001B[0m\u001B[1;32m   1255\u001B[0m         \u001B[0;32mreturn\u001B[0m \u001B[0mkeyarr\u001B[0m\u001B[0;34m,\u001B[0m \u001B[0mindexer\u001B[0m\u001B[0;34m\u001B[0m\u001B[0;34m\u001B[0m\u001B[0m\n\u001B[1;32m   1256\u001B[0m \u001B[0;34m\u001B[0m\u001B[0m\n",
      "\u001B[0;32m~/Library/Python/3.8/lib/python/site-packages/pandas/core/indexing.py\u001B[0m in \u001B[0;36m_validate_read_indexer\u001B[0;34m(self, key, indexer, axis, raise_missing)\u001B[0m\n\u001B[1;32m   1296\u001B[0m             \u001B[0;32mif\u001B[0m \u001B[0mmissing\u001B[0m \u001B[0;34m==\u001B[0m \u001B[0mlen\u001B[0m\u001B[0;34m(\u001B[0m\u001B[0mindexer\u001B[0m\u001B[0;34m)\u001B[0m\u001B[0;34m:\u001B[0m\u001B[0;34m\u001B[0m\u001B[0;34m\u001B[0m\u001B[0m\n\u001B[1;32m   1297\u001B[0m                 \u001B[0maxis_name\u001B[0m \u001B[0;34m=\u001B[0m \u001B[0mself\u001B[0m\u001B[0;34m.\u001B[0m\u001B[0mobj\u001B[0m\u001B[0;34m.\u001B[0m\u001B[0m_get_axis_name\u001B[0m\u001B[0;34m(\u001B[0m\u001B[0maxis\u001B[0m\u001B[0;34m)\u001B[0m\u001B[0;34m\u001B[0m\u001B[0;34m\u001B[0m\u001B[0m\n\u001B[0;32m-> 1298\u001B[0;31m                 \u001B[0;32mraise\u001B[0m \u001B[0mKeyError\u001B[0m\u001B[0;34m(\u001B[0m\u001B[0;34mf\"None of [{key}] are in the [{axis_name}]\"\u001B[0m\u001B[0;34m)\u001B[0m\u001B[0;34m\u001B[0m\u001B[0;34m\u001B[0m\u001B[0m\n\u001B[0m\u001B[1;32m   1299\u001B[0m \u001B[0;34m\u001B[0m\u001B[0m\n\u001B[1;32m   1300\u001B[0m             \u001B[0;31m# We (temporarily) allow for some missing keys with .loc, except in\u001B[0m\u001B[0;34m\u001B[0m\u001B[0;34m\u001B[0m\u001B[0;34m\u001B[0m\u001B[0m\n",
      "\u001B[0;31mKeyError\u001B[0m: \"None of [Int64Index([2999, 3917, 3916, 3914, 3912, 3911, 3909, 3908, 3907, 3918,\\n            ...\\n             767,  765, 5138,  759,  758, 5149, 5150, 5151, 5127,    0],\\n           dtype='int64', name='ID', length=6000)] are in the [index]\""
     ]
    }
   ],
   "source": [
    "sorted_index = np.argsort(y_predicted)\n",
    "\n",
    "y_test = y_test[sorted_index]"
   ]
  },
  {
   "cell_type": "code",
   "execution_count": null,
   "id": "1d51a798",
   "metadata": {},
   "outputs": [],
   "source": [
    "y_test"
   ]
  },
  {
   "cell_type": "code",
   "execution_count": null,
   "id": "2e7d2765",
   "metadata": {},
   "outputs": [],
   "source": [
    "y_avg = []\n",
    "n = 50\n",
    "for counter in range(n,len(y_test_sorted)-n):\n",
    "    intermediate_val = np.mean(y_test_sorted[counter-n:counter+n])\n",
    "    y_avg.append(intermediate_val)\n",
    "    \n",
    "y_predicted_sorted = sorted(y_predicted[n:len(y_predicted)-n])"
   ]
  },
  {
   "cell_type": "code",
   "execution_count": null,
   "id": "c4507880",
   "metadata": {
    "scrolled": true
   },
   "outputs": [],
   "source": [
    "plt.plot(y_avg)\n",
    "plt.show()"
   ]
  },
  {
   "cell_type": "code",
   "execution_count": null,
   "id": "dd76cfdd",
   "metadata": {},
   "outputs": [],
   "source": [
    "plt.plot(sorted(y_predicted[n:len(y_predicted)-n]),y_avg)\n",
    "plt.grid(True)\n",
    "plt.ylim([0,1])\n",
    "plt.show()"
   ]
  },
  {
   "cell_type": "code",
   "execution_count": null,
   "id": "de8638e2",
   "metadata": {},
   "outputs": [],
   "source": [
    "np.shape(y_predicted[n:len(y_predicted)-n])"
   ]
  },
  {
   "cell_type": "code",
   "execution_count": null,
   "id": "dee291ce",
   "metadata": {},
   "outputs": [],
   "source": [
    "sorted(y_predicted)"
   ]
  },
  {
   "cell_type": "code",
   "execution_count": null,
   "id": "eca67e43",
   "metadata": {},
   "outputs": [],
   "source": [
    "n"
   ]
  },
  {
   "cell_type": "code",
   "execution_count": null,
   "id": "ebbedc5b",
   "metadata": {},
   "outputs": [],
   "source": [
    "y_predicted_selected = y_predicted[n:len(y_predicted)-n]"
   ]
  },
  {
   "cell_type": "code",
   "execution_count": null,
   "id": "ef6610a5",
   "metadata": {},
   "outputs": [],
   "source": [
    "\n",
    "print(r2_score(y_avg,y_predicted_selected))"
   ]
  },
  {
   "cell_type": "code",
   "execution_count": null,
   "id": "c41c73b9",
   "metadata": {
    "pycharm": {
     "name": "#%%\n"
    }
   },
   "outputs": [],
   "source": [
    "len(y_predicted)-n\n",
    "\n"
   ]
  }
 ],
 "metadata": {
  "kernelspec": {
   "display_name": "PyCharm (CW2)",
   "language": "python",
   "name": "pycharm-1482e948"
  },
  "language_info": {
   "codemirror_mode": {
    "name": "ipython",
    "version": 3
   },
   "file_extension": ".py",
   "mimetype": "text/x-python",
   "name": "python",
   "nbconvert_exporter": "python",
   "pygments_lexer": "ipython3",
   "version": "3.8.1"
  }
 },
 "nbformat": 4,
 "nbformat_minor": 5
}