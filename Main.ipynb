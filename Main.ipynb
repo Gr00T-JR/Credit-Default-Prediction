{
 "cells": [
  {
   "cell_type": "markdown",
   "id": "d64eab4c",
   "metadata": {},
   "source": [
    "# Hyperparameter Search Sampling Strategy using Hyperopt\n",
    "\n",
    "__Abstract:__ This project considers how KFold and a fixed train-validation affects the performance of the scikit-learn\n",
    "estimator *AdaBoostRegressor* on a credit card default dataset. The dataset consists of 30,000 labelled points with 23\n",
    "features. The Hyperopt optimization framework is used with 30 search iterations for hyperparameters per optimization.\n",
    "Ten simulations found an average of . Model tuning using KFold is higher than a fixed train-validation set at a p-value\n",
    "of 0.0134. At a confidence level of 95%, KFold tuning is has  increases the performance of test accuracy 0.0224%, given\n",
    "the simulation settings. Further performance measures, such as roc-auc score and real good of probability estimation\n",
    "(found using the smooth sorting method), were not found to have difference at 95% confidence level.\n",
    "\n",
    "* __[Link to original paper](https://www.sciencedirect.com/science/article/pii/S0957417407006719)__\n",
    "\n",
    "* __[Link to UCI dataset page](https://archive.ics.uci.edu/ml/datasets/default+of+credit+card+clients)__\n",
    "<br>\n",
    "\n",
    "### Project Method\n",
    "1. data preparation, including imports and scaling\n",
    "2. hyperparameter optimization space\n",
    "3. objective function build\n",
    "4. model build using Hyperopt\n",
    "5. model evaluation, includes 'smooth sorting method'\n"
   ]
  },
  {
   "cell_type": "markdown",
   "id": "3e01f931",
   "metadata": {},
   "source": [
    "## Import : Data and Libraries\n",
    "### Library Imports"
   ]
  },
  {
   "cell_type": "code",
   "execution_count": 2,
   "id": "02c9f5d3",
   "metadata": {
    "ExecuteTime": {
     "end_time": "2021-01-06T21:00:38.822020Z",
     "start_time": "2021-01-06T21:00:36.808982Z"
    }
   },
   "outputs": [],
   "source": [
    "# Imports\n",
    "%matplotlib widget\n",
    "\n",
    "from IPython import display\n",
    "import pandas as pd\n",
    "import numpy as np\n",
    "import matplotlib.pyplot as plt\n",
    "import seaborn as sns\n",
    "import xgboost as xgb\n",
    "import copy\n",
    "import pickle\n",
    "\n",
    "from matplotlib.widgets import Slider, Button, RadioButtons\n",
    "\n",
    "from sklearn.preprocessing import StandardScaler, MinMaxScaler\n",
    "from sklearn.metrics import accuracy_score, roc_auc_score, r2_score\n",
    "from sklearn.ensemble import AdaBoostRegressor, GradientBoostingRegressor\n",
    "from sklearn.linear_model import LogisticRegression\n",
    "from sklearn.svm import SVC\n",
    "\n",
    "# Optimizer\n",
    "from hyperopt import Trials, fmin, tpe\n",
    "\n",
    "from evaluation_helper import performance_metrics\n",
    "\n",
    "\n",
    "# Model hyperparameter space to be optimized\n",
    "from hyperparameters_spaces import ada_loss_functions, ada_space, log_space, svm_space, svm_kernels, \\\n",
    "    svm_kernel_degrees, xgb_space, INT_KEYS\n",
    "\n",
    "# Model objective function builder\n",
    "from hyperopt_objective import build_objective_func\n",
    "\n",
    "sns.set_style(\"dark\")\n",
    "sns.set_context(\"paper\")\n"
   ]
  },
  {
   "cell_type": "markdown",
   "id": "3c9e17a3",
   "metadata": {},
   "source": [
    "### Import and pre-processing of dataset \n",
    "(preprocessing : transforming data into ML model readable format)\n",
    "\n",
    "#### Data Importing"
   ]
  },
  {
   "cell_type": "code",
   "execution_count": 2,
   "id": "307f34ba",
   "metadata": {},
   "outputs": [],
   "source": [
    "# load data internally\n",
    "_df_train = pd.read_csv(\"DataFiles/CreditCard_train.csv\", index_col=0, header=1)\n",
    "_df_test = pd.read_csv(\"DataFiles/CreditCard_test.csv\", index_col=0, header=1)\n",
    "\n",
    "# create external df for handling\n",
    "df_train = _df_train.copy()\n",
    "df_test = _df_test.copy()\n"
   ]
  },
  {
   "cell_type": "markdown",
   "id": "05cc5862",
   "metadata": {},
   "source": [
    "#### Train data head and description"
   ]
  },
  {
   "cell_type": "code",
   "execution_count": 3,
   "outputs": [
    {
     "data": {
      "text/plain": "    LIMIT_BAL  SEX  EDUCATION  MARRIAGE  AGE  PAY_0  PAY_2  PAY_3  PAY_4  \\\nID                                                                         \n1       20000    2          2         1   24      2      2     -1     -1   \n2      120000    2          2         2   26     -1      2      0      0   \n3       90000    2          2         2   34      0      0      0      0   \n4       50000    2          2         1   37      0      0      0      0   \n5       50000    1          2         1   57     -1      0     -1      0   \n\n    PAY_5  ...  BILL_AMT4  BILL_AMT5  BILL_AMT6  PAY_AMT1  PAY_AMT2  PAY_AMT3  \\\nID         ...                                                                  \n1      -2  ...          0          0          0         0       689         0   \n2       0  ...       3272       3455       3261         0      1000      1000   \n3       0  ...      14331      14948      15549      1518      1500      1000   \n4       0  ...      28314      28959      29547      2000      2019      1200   \n5       0  ...      20940      19146      19131      2000     36681     10000   \n\n    PAY_AMT4  PAY_AMT5  PAY_AMT6  default payment next month  \nID                                                            \n1          0         0         0                           1  \n2       1000         0      2000                           1  \n3       1000      1000      5000                           0  \n4       1100      1069      1000                           0  \n5       9000       689       679                           0  \n\n[5 rows x 24 columns]",
      "text/html": "<div>\n<style scoped>\n    .dataframe tbody tr th:only-of-type {\n        vertical-align: middle;\n    }\n\n    .dataframe tbody tr th {\n        vertical-align: top;\n    }\n\n    .dataframe thead th {\n        text-align: right;\n    }\n</style>\n<table border=\"1\" class=\"dataframe\">\n  <thead>\n    <tr style=\"text-align: right;\">\n      <th></th>\n      <th>LIMIT_BAL</th>\n      <th>SEX</th>\n      <th>EDUCATION</th>\n      <th>MARRIAGE</th>\n      <th>AGE</th>\n      <th>PAY_0</th>\n      <th>PAY_2</th>\n      <th>PAY_3</th>\n      <th>PAY_4</th>\n      <th>PAY_5</th>\n      <th>...</th>\n      <th>BILL_AMT4</th>\n      <th>BILL_AMT5</th>\n      <th>BILL_AMT6</th>\n      <th>PAY_AMT1</th>\n      <th>PAY_AMT2</th>\n      <th>PAY_AMT3</th>\n      <th>PAY_AMT4</th>\n      <th>PAY_AMT5</th>\n      <th>PAY_AMT6</th>\n      <th>default payment next month</th>\n    </tr>\n    <tr>\n      <th>ID</th>\n      <th></th>\n      <th></th>\n      <th></th>\n      <th></th>\n      <th></th>\n      <th></th>\n      <th></th>\n      <th></th>\n      <th></th>\n      <th></th>\n      <th></th>\n      <th></th>\n      <th></th>\n      <th></th>\n      <th></th>\n      <th></th>\n      <th></th>\n      <th></th>\n      <th></th>\n      <th></th>\n      <th></th>\n    </tr>\n  </thead>\n  <tbody>\n    <tr>\n      <th>1</th>\n      <td>20000</td>\n      <td>2</td>\n      <td>2</td>\n      <td>1</td>\n      <td>24</td>\n      <td>2</td>\n      <td>2</td>\n      <td>-1</td>\n      <td>-1</td>\n      <td>-2</td>\n      <td>...</td>\n      <td>0</td>\n      <td>0</td>\n      <td>0</td>\n      <td>0</td>\n      <td>689</td>\n      <td>0</td>\n      <td>0</td>\n      <td>0</td>\n      <td>0</td>\n      <td>1</td>\n    </tr>\n    <tr>\n      <th>2</th>\n      <td>120000</td>\n      <td>2</td>\n      <td>2</td>\n      <td>2</td>\n      <td>26</td>\n      <td>-1</td>\n      <td>2</td>\n      <td>0</td>\n      <td>0</td>\n      <td>0</td>\n      <td>...</td>\n      <td>3272</td>\n      <td>3455</td>\n      <td>3261</td>\n      <td>0</td>\n      <td>1000</td>\n      <td>1000</td>\n      <td>1000</td>\n      <td>0</td>\n      <td>2000</td>\n      <td>1</td>\n    </tr>\n    <tr>\n      <th>3</th>\n      <td>90000</td>\n      <td>2</td>\n      <td>2</td>\n      <td>2</td>\n      <td>34</td>\n      <td>0</td>\n      <td>0</td>\n      <td>0</td>\n      <td>0</td>\n      <td>0</td>\n      <td>...</td>\n      <td>14331</td>\n      <td>14948</td>\n      <td>15549</td>\n      <td>1518</td>\n      <td>1500</td>\n      <td>1000</td>\n      <td>1000</td>\n      <td>1000</td>\n      <td>5000</td>\n      <td>0</td>\n    </tr>\n    <tr>\n      <th>4</th>\n      <td>50000</td>\n      <td>2</td>\n      <td>2</td>\n      <td>1</td>\n      <td>37</td>\n      <td>0</td>\n      <td>0</td>\n      <td>0</td>\n      <td>0</td>\n      <td>0</td>\n      <td>...</td>\n      <td>28314</td>\n      <td>28959</td>\n      <td>29547</td>\n      <td>2000</td>\n      <td>2019</td>\n      <td>1200</td>\n      <td>1100</td>\n      <td>1069</td>\n      <td>1000</td>\n      <td>0</td>\n    </tr>\n    <tr>\n      <th>5</th>\n      <td>50000</td>\n      <td>1</td>\n      <td>2</td>\n      <td>1</td>\n      <td>57</td>\n      <td>-1</td>\n      <td>0</td>\n      <td>-1</td>\n      <td>0</td>\n      <td>0</td>\n      <td>...</td>\n      <td>20940</td>\n      <td>19146</td>\n      <td>19131</td>\n      <td>2000</td>\n      <td>36681</td>\n      <td>10000</td>\n      <td>9000</td>\n      <td>689</td>\n      <td>679</td>\n      <td>0</td>\n    </tr>\n  </tbody>\n</table>\n<p>5 rows × 24 columns</p>\n</div>"
     },
     "execution_count": 3,
     "metadata": {},
     "output_type": "execute_result"
    }
   ],
   "source": [
    "df_train.head()"
   ],
   "metadata": {
    "collapsed": false,
    "pycharm": {
     "name": "#%%\n"
    }
   }
  },
  {
   "cell_type": "code",
   "execution_count": 4,
   "id": "7ed37f0a",
   "metadata": {
    "pycharm": {
     "name": "#%%\n"
    }
   },
   "outputs": [
    {
     "data": {
      "text/plain": "            LIMIT_BAL           SEX     EDUCATION     MARRIAGE           AGE  \\\ncount    24000.000000  24000.000000  24000.000000  24000.00000  24000.000000   \nmean    165495.986667      1.628250      1.847417      1.55725     35.380458   \nstd     129128.744855      0.483282      0.780007      0.52208      9.271050   \nmin      10000.000000      1.000000      0.000000      0.00000     21.000000   \n25%      50000.000000      1.000000      1.000000      1.00000     28.000000   \n50%     140000.000000      2.000000      2.000000      2.00000     34.000000   \n75%     240000.000000      2.000000      2.000000      2.00000     41.000000   \nmax    1000000.000000      2.000000      6.000000      3.00000     79.000000   \n\n              PAY_0        PAY_2         PAY_3         PAY_4         PAY_5  \\\ncount  24000.000000  24000.00000  24000.000000  24000.000000  24000.000000   \nmean      -0.003125     -0.12350     -0.154750     -0.211667     -0.252917   \nstd        1.123425      1.20058      1.204033      1.166549      1.136993   \nmin       -2.000000     -2.00000     -2.000000     -2.000000     -2.000000   \n25%       -1.000000     -1.00000     -1.000000     -1.000000     -1.000000   \n50%        0.000000      0.00000      0.000000      0.000000      0.000000   \n75%        0.000000      0.00000      0.000000      0.000000      0.000000   \nmax        8.000000      8.00000      8.000000      8.000000      8.000000   \n\n       ...      BILL_AMT4      BILL_AMT5      BILL_AMT6       PAY_AMT1  \\\ncount  ...   24000.000000   24000.000000   24000.000000   24000.000000   \nmean   ...   42368.188417   40000.682542   38563.710625    5542.912917   \nstd    ...   63070.680934   60345.012766   59155.759799   15068.576072   \nmin    ... -170000.000000  -81334.000000 -339603.000000       0.000000   \n25%    ...    2340.000000    1740.000000    1234.750000    1000.000000   \n50%    ...   18940.500000   18107.500000   17036.000000    2100.000000   \n75%    ...   52188.500000   49746.500000   48796.250000    5000.000000   \nmax    ...  891586.000000  927171.000000  961664.000000  505000.000000   \n\n           PAY_AMT2      PAY_AMT3       PAY_AMT4       PAY_AMT5  \\\ncount  2.400000e+04   24000.00000   24000.000000   24000.000000   \nmean   5.815336e+03    4969.26600    4743.480042    4783.486042   \nstd    2.079703e+04   16095.61434   14883.269990   15270.405279   \nmin    0.000000e+00       0.00000       0.000000       0.000000   \n25%    8.000000e+02     379.00000     279.750000     244.000000   \n50%    2.000000e+03    1702.50000    1500.000000    1500.000000   \n75%    5.000000e+03    4347.25000    4000.000000    4005.000000   \nmax    1.684259e+06  896040.00000  497000.000000  417990.000000   \n\n            PAY_AMT6  default payment next month  \ncount   24000.000000                24000.000000  \nmean     5189.399042                    0.223750  \nstd     17630.371990                    0.416765  \nmin         0.000000                    0.000000  \n25%        60.750000                    0.000000  \n50%      1500.000000                    0.000000  \n75%      4000.000000                    0.000000  \nmax    528666.000000                    1.000000  \n\n[8 rows x 24 columns]",
      "text/html": "<div>\n<style scoped>\n    .dataframe tbody tr th:only-of-type {\n        vertical-align: middle;\n    }\n\n    .dataframe tbody tr th {\n        vertical-align: top;\n    }\n\n    .dataframe thead th {\n        text-align: right;\n    }\n</style>\n<table border=\"1\" class=\"dataframe\">\n  <thead>\n    <tr style=\"text-align: right;\">\n      <th></th>\n      <th>LIMIT_BAL</th>\n      <th>SEX</th>\n      <th>EDUCATION</th>\n      <th>MARRIAGE</th>\n      <th>AGE</th>\n      <th>PAY_0</th>\n      <th>PAY_2</th>\n      <th>PAY_3</th>\n      <th>PAY_4</th>\n      <th>PAY_5</th>\n      <th>...</th>\n      <th>BILL_AMT4</th>\n      <th>BILL_AMT5</th>\n      <th>BILL_AMT6</th>\n      <th>PAY_AMT1</th>\n      <th>PAY_AMT2</th>\n      <th>PAY_AMT3</th>\n      <th>PAY_AMT4</th>\n      <th>PAY_AMT5</th>\n      <th>PAY_AMT6</th>\n      <th>default payment next month</th>\n    </tr>\n  </thead>\n  <tbody>\n    <tr>\n      <th>count</th>\n      <td>24000.000000</td>\n      <td>24000.000000</td>\n      <td>24000.000000</td>\n      <td>24000.00000</td>\n      <td>24000.000000</td>\n      <td>24000.000000</td>\n      <td>24000.00000</td>\n      <td>24000.000000</td>\n      <td>24000.000000</td>\n      <td>24000.000000</td>\n      <td>...</td>\n      <td>24000.000000</td>\n      <td>24000.000000</td>\n      <td>24000.000000</td>\n      <td>24000.000000</td>\n      <td>2.400000e+04</td>\n      <td>24000.00000</td>\n      <td>24000.000000</td>\n      <td>24000.000000</td>\n      <td>24000.000000</td>\n      <td>24000.000000</td>\n    </tr>\n    <tr>\n      <th>mean</th>\n      <td>165495.986667</td>\n      <td>1.628250</td>\n      <td>1.847417</td>\n      <td>1.55725</td>\n      <td>35.380458</td>\n      <td>-0.003125</td>\n      <td>-0.12350</td>\n      <td>-0.154750</td>\n      <td>-0.211667</td>\n      <td>-0.252917</td>\n      <td>...</td>\n      <td>42368.188417</td>\n      <td>40000.682542</td>\n      <td>38563.710625</td>\n      <td>5542.912917</td>\n      <td>5.815336e+03</td>\n      <td>4969.26600</td>\n      <td>4743.480042</td>\n      <td>4783.486042</td>\n      <td>5189.399042</td>\n      <td>0.223750</td>\n    </tr>\n    <tr>\n      <th>std</th>\n      <td>129128.744855</td>\n      <td>0.483282</td>\n      <td>0.780007</td>\n      <td>0.52208</td>\n      <td>9.271050</td>\n      <td>1.123425</td>\n      <td>1.20058</td>\n      <td>1.204033</td>\n      <td>1.166549</td>\n      <td>1.136993</td>\n      <td>...</td>\n      <td>63070.680934</td>\n      <td>60345.012766</td>\n      <td>59155.759799</td>\n      <td>15068.576072</td>\n      <td>2.079703e+04</td>\n      <td>16095.61434</td>\n      <td>14883.269990</td>\n      <td>15270.405279</td>\n      <td>17630.371990</td>\n      <td>0.416765</td>\n    </tr>\n    <tr>\n      <th>min</th>\n      <td>10000.000000</td>\n      <td>1.000000</td>\n      <td>0.000000</td>\n      <td>0.00000</td>\n      <td>21.000000</td>\n      <td>-2.000000</td>\n      <td>-2.00000</td>\n      <td>-2.000000</td>\n      <td>-2.000000</td>\n      <td>-2.000000</td>\n      <td>...</td>\n      <td>-170000.000000</td>\n      <td>-81334.000000</td>\n      <td>-339603.000000</td>\n      <td>0.000000</td>\n      <td>0.000000e+00</td>\n      <td>0.00000</td>\n      <td>0.000000</td>\n      <td>0.000000</td>\n      <td>0.000000</td>\n      <td>0.000000</td>\n    </tr>\n    <tr>\n      <th>25%</th>\n      <td>50000.000000</td>\n      <td>1.000000</td>\n      <td>1.000000</td>\n      <td>1.00000</td>\n      <td>28.000000</td>\n      <td>-1.000000</td>\n      <td>-1.00000</td>\n      <td>-1.000000</td>\n      <td>-1.000000</td>\n      <td>-1.000000</td>\n      <td>...</td>\n      <td>2340.000000</td>\n      <td>1740.000000</td>\n      <td>1234.750000</td>\n      <td>1000.000000</td>\n      <td>8.000000e+02</td>\n      <td>379.00000</td>\n      <td>279.750000</td>\n      <td>244.000000</td>\n      <td>60.750000</td>\n      <td>0.000000</td>\n    </tr>\n    <tr>\n      <th>50%</th>\n      <td>140000.000000</td>\n      <td>2.000000</td>\n      <td>2.000000</td>\n      <td>2.00000</td>\n      <td>34.000000</td>\n      <td>0.000000</td>\n      <td>0.00000</td>\n      <td>0.000000</td>\n      <td>0.000000</td>\n      <td>0.000000</td>\n      <td>...</td>\n      <td>18940.500000</td>\n      <td>18107.500000</td>\n      <td>17036.000000</td>\n      <td>2100.000000</td>\n      <td>2.000000e+03</td>\n      <td>1702.50000</td>\n      <td>1500.000000</td>\n      <td>1500.000000</td>\n      <td>1500.000000</td>\n      <td>0.000000</td>\n    </tr>\n    <tr>\n      <th>75%</th>\n      <td>240000.000000</td>\n      <td>2.000000</td>\n      <td>2.000000</td>\n      <td>2.00000</td>\n      <td>41.000000</td>\n      <td>0.000000</td>\n      <td>0.00000</td>\n      <td>0.000000</td>\n      <td>0.000000</td>\n      <td>0.000000</td>\n      <td>...</td>\n      <td>52188.500000</td>\n      <td>49746.500000</td>\n      <td>48796.250000</td>\n      <td>5000.000000</td>\n      <td>5.000000e+03</td>\n      <td>4347.25000</td>\n      <td>4000.000000</td>\n      <td>4005.000000</td>\n      <td>4000.000000</td>\n      <td>0.000000</td>\n    </tr>\n    <tr>\n      <th>max</th>\n      <td>1000000.000000</td>\n      <td>2.000000</td>\n      <td>6.000000</td>\n      <td>3.00000</td>\n      <td>79.000000</td>\n      <td>8.000000</td>\n      <td>8.00000</td>\n      <td>8.000000</td>\n      <td>8.000000</td>\n      <td>8.000000</td>\n      <td>...</td>\n      <td>891586.000000</td>\n      <td>927171.000000</td>\n      <td>961664.000000</td>\n      <td>505000.000000</td>\n      <td>1.684259e+06</td>\n      <td>896040.00000</td>\n      <td>497000.000000</td>\n      <td>417990.000000</td>\n      <td>528666.000000</td>\n      <td>1.000000</td>\n    </tr>\n  </tbody>\n</table>\n<p>8 rows × 24 columns</p>\n</div>"
     },
     "execution_count": 4,
     "metadata": {},
     "output_type": "execute_result"
    }
   ],
   "source": [
    "df_train.describe()\n"
   ]
  },
  {
   "cell_type": "markdown",
   "source": [
    "### Pandas DataFrame processing"
   ],
   "metadata": {
    "collapsed": false,
    "pycharm": {
     "name": "#%% md\n"
    }
   }
  },
  {
   "cell_type": "code",
   "execution_count": 5,
   "id": "118dbadd",
   "metadata": {
    "pycharm": {
     "name": "#%%\n"
    }
   },
   "outputs": [],
   "source": [
    "# renaming columns for consistency and simplicity\n",
    "df_train = df_train.rename(columns={'PAY_0':'PAY_1', 'default payment next month':'DEFAULT'})\n",
    "df_test = df_test.rename(columns={'PAY_0':'PAY_1', 'default payment next month':'DEFAULT'})\n",
    "\n",
    "label = df_train.columns[-1] # = `DEFAULT`\n",
    "features = list(df_train.columns)[:-1]"
   ]
  },
  {
   "cell_type": "markdown",
   "source": [
    "Formatting X, y as `np.ndarray`"
   ],
   "metadata": {
    "collapsed": false,
    "pycharm": {
     "name": "#%% md\n"
    }
   }
  },
  {
   "cell_type": "code",
   "execution_count": 6,
   "outputs": [],
   "source": [
    "\n",
    "y_train = df_train[label].to_numpy()\n",
    "X_train = df_train[features]\n",
    "\n",
    "y_test = df_test[label].to_numpy()\n",
    "X_test = df_test[features]\n"
   ],
   "metadata": {
    "collapsed": false,
    "pycharm": {
     "name": "#%%\n"
    }
   }
  },
  {
   "cell_type": "markdown",
   "id": "1f9b9cb1",
   "metadata": {},
   "source": [
    "__Comment__ : All the data types are integers and thus workable for ML models. There are no null values (arbitrarily checked and all features have the same count). Values in the `SEX`, `EDUCATION` are have a specified range, however, some values are not contained.\n"
   ]
  },
  {
   "cell_type": "markdown",
   "id": "53b71d61",
   "metadata": {
    "pycharm": {
     "name": "#%% md\n"
    }
   },
   "source": [
    "## Data Pipeline\n",
    "* includes scaling, sampling and (future work : feature transformation)\n"
   ]
  },
  {
   "cell_type": "markdown",
   "source": [
    "Scaling the dataset for computational efficiency for some ML algorithmns. (AdaBoost is an exception but in case other algorithmns are used)\n"
   ],
   "metadata": {
    "collapsed": false,
    "pycharm": {
     "name": "#%% md\n"
    }
   }
  },
  {
   "cell_type": "code",
   "execution_count": 7,
   "outputs": [],
   "source": [
    "scaler = StandardScaler()\n",
    "X_train = scaler.fit_transform(X_train)\n",
    "X_test = scaler.transform(X_test)\n"
   ],
   "metadata": {
    "collapsed": false,
    "pycharm": {
     "name": "#%%\n"
    }
   }
  },
  {
   "cell_type": "markdown",
   "id": "73a57eb8",
   "metadata": {},
   "source": [
    "### Benchmarking some standard ML models\n"
   ]
  },
  {
   "cell_type": "markdown",
   "id": "8d4faa55",
   "metadata": {
    "pycharm": {
     "name": "#%% md\n"
    }
   },
   "source": [
    "### Tuning\n",
    "\n",
    "For tuning we will be first split up the training data into a validation\n"
   ]
  },
  {
   "cell_type": "code",
   "execution_count": 8,
   "outputs": [],
   "source": [
    "def build_hyperopt_fitted_model(algorithmn, X_train : np.ndarray, y_train : np.ndarray, hyperparameters_space : dict,\n",
    "                                hyperparameters_choices : dict,  tuning_method : 'str' = 'train_validation_split',\n",
    "                                tuning_value : float = 0.25, tuning_measure = 'accuracy tuning', max_evals : int = 1,\n",
    "                                random_state : int = 0, **fitting_setting):\n",
    "    \"\"\"\n",
    "    Fits a ML model on the training data with hyperparameters tuned by Hyperopt using a selected cross validation\n",
    "    method.\n",
    "\n",
    "    :param algorithmn: ML algorithm for building model\n",
    "    :param hyperparameters_space: possible hyperparameters values\n",
    "    :param hyperparameters_choices: dictionary with 'key' as the choice and 'values' as options\n",
    "    :param X_train: X training data\n",
    "    :param y_train: X training data labels\n",
    "    :param tuning_method: method for tuning hyerparameters, either 'train_validation_split' or 'KFold'\n",
    "    :param tuning_value: tuning method value\n",
    "    :param tuning_measure: measure of score/performance on the validation set, either 'roc' or 'accuracy'\n",
    "    :param max_evals: maximum number of evaluations for hyperparameters searching\n",
    "    :param random_state: random_state\n",
    "    :param fitting_setting: additional settings for fitting the model (e.g. sample weight)\n",
    "\n",
    "    :return: fitted ML model\n",
    "    \"\"\"\n",
    "\n",
    "    # create trail\n",
    "    trials = Trials()\n",
    "\n",
    "    tuning_objective = build_objective_func(algorithmn=algorithmn, X_train=X_train, y_train=y_train,\n",
    "                                            tuning_method=tuning_method, tuning_value=tuning_value,\n",
    "                                            tuning_measure=tuning_measure, random_state=random_state, **fitting_setting)\n",
    "\n",
    "    print(f'Starting hyperparameter search with with {algorithmn}, {tuning_method}, {tuning_value}\\n')\n",
    "    model_best_hyperparams = fmin(fn = tuning_objective,\n",
    "                            space = hyperparameters_space,\n",
    "                            algo = tpe.suggest,\n",
    "                            max_evals = max_evals,\n",
    "                            trials = trials)\n",
    "\n",
    "    ## in case hyperparameters must be integers (e.g. max_depth for decision trees)\n",
    "    # fmin returns space in floats (for some reason changed the type int to float)\n",
    "    if type(INT_KEYS) == list:\n",
    "        for key in INT_KEYS:\n",
    "            if key in model_best_hyperparams.keys():\n",
    "                model_best_hyperparams[key] = int(model_best_hyperparams[key])\n",
    "\n",
    "    # when model space is a choice, `model_best_hyperparams` gives the index of the selected choice\n",
    "    # model options a dict with keys: as the option name and value as list of options\n",
    "    if type(hyperparameters_choices) == dict:\n",
    "        for choice, choice_option in hyperparameters_choices.items():\n",
    "            if choice in model_best_hyperparams.keys(): # additional safety net\n",
    "                model_best_hyperparams[choice] = choice_option[model_best_hyperparams[choice]]\n",
    "\n",
    "    model = algorithmn(**model_best_hyperparams) # refering to the algorithmn with hyperparameters as model\n",
    "    model.fit(X_train, y_train, **fitting_setting)\n",
    "\n",
    "    return model\n"
   ],
   "metadata": {
    "collapsed": false,
    "pycharm": {
     "name": "#%%\n"
    }
   }
  },
  {
   "cell_type": "markdown",
   "source": [
    "## Performance at given percentages\n",
    "### robustness\n",
    "\n",
    "To estimate the real probability, the Smooth Sorting Method can be used, which estimates the real probability by looking at neighboring points and taking the mean of these values. This quantification is meaningful for risk control."
   ],
   "metadata": {
    "collapsed": false
   }
  },
  {
   "cell_type": "markdown",
   "source": [
    "__Smooth Sorting Method__ from the original paper (Yeh, I. C., & Lien, C. H. (2009)):\n",
    "\n",
    "$$\\text{P}_i = \\frac{\\sum_{j=-n}^{n}\\text{Y}_{i-j}}{2n+1}$$\n",
    "\n",
    "where $\\text{P}_i$ is the estimated real probability of default, $\\text{Y}_{i}$ is the binary variable of default (1) or non-default (0), $n$ is the number of data for smoothing.<br>\n",
    "The Smooth Sorting Method is used on sorted data, from the lowest probability of default occuring to the highest probability of default occuring.\n"
   ],
   "metadata": {
    "collapsed": false
   }
  },
  {
   "cell_type": "code",
   "execution_count": 9,
   "outputs": [],
   "source": [
    "def SSM_real_probability(y_real : np.ndarray, y_predicted : np.ndarray, n : int, plot : bool = False):\n",
    "    \"\"\"\n",
    "    Implements the 'Smooth Sorting Method'\n",
    "    :param y_real:\n",
    "    :param y_predicted:\n",
    "    :param n:\n",
    "    :param plot:\n",
    "    :return: r2 score\n",
    "    \"\"\"\n",
    "    sorted_index = np.argsort(y_predicted)\n",
    "    y_real_sorted = y_real[sorted_index]\n",
    "    y_predicted_sorted = y_predicted[sorted_index]\n",
    "\n",
    "    intermediate_real_probability = np.array([])\n",
    "    for counter in range(n, len(y_real)-n):\n",
    "        intermediate_real_probability = np.append(intermediate_real_probability,\n",
    "                                                  np.mean(y_real_sorted[counter-n:counter+n]))\n",
    "\n",
    "    r2 = r2_score(y_real, y_predicted)\n",
    "\n",
    "    if plot:\n",
    "        y_predicted_selected = y_predicted_sorted[n:len(y_real)-n]\n",
    "        plt.plot(y_predicted_selected,intermediate_real_probability)\n",
    "        plt.grid(True)\n",
    "        plt.xlim([0,1])\n",
    "        plt.xlabel('Predicted probability')\n",
    "        plt.ylabel('Real probability using SSM')\n",
    "        plt.annotate(f'$R^2 = {r2}$', (0.05, 0.95))\n",
    "        plt.grid(True, which='both')\n",
    "        plt.show()\n",
    "\n",
    "    print(f'r2 score : {r2}\\n')\n",
    "    return r2\n"
   ],
   "metadata": {
    "collapsed": false,
    "pycharm": {
     "name": "#%%\n"
    }
   }
  },
  {
   "cell_type": "code",
   "execution_count": 10,
   "outputs": [],
   "source": [
    "algorithmns_list = [AdaBoostRegressor,\n",
    "                    LogisticRegression,\n",
    "                    xgb.XGBRegressor,\n",
    "                    SVC\n",
    "                    ]\n",
    "\n",
    "# imported\n",
    "hyperparameter_space_list = [ada_space,\n",
    "                             log_space,\n",
    "                             xgb_space,\n",
    "                             svm_space\n",
    "                             ]\n",
    "\n",
    "hyperparameter_choices_list = [{'loss' : ada_loss_functions},\n",
    "                               None,\n",
    "                               None,\n",
    "                               {'kernel' : svm_kernels, 'degree' : svm_kernel_degrees}\n",
    "                               ]"
   ],
   "metadata": {
    "collapsed": false,
    "pycharm": {
     "name": "#%%\n"
    }
   }
  },
  {
   "cell_type": "markdown",
   "source": [
    "Dictionary ordering\n",
    "model_name (e.g. `ada`) -> tuning_method (`train_validation_split`, `train_validation_split_randomized`, `KFold`) -> tuning_value -> tuning_measure -> max_evals -> score (accuracy, roc)"
   ],
   "metadata": {
    "collapsed": false,
    "pycharm": {
     "name": "#%% md\n"
    }
   }
  },
  {
   "cell_type": "code",
   "execution_count": 3,
   "outputs": [
    {
     "name": "stdout",
     "output_type": "stream",
     "text": [
      "{'ada': {'train_validation_split': {}, 'train_validation_split_randomized': {}, 'KFold': {}}}\n"
     ]
    }
   ],
   "source": [
    "# tuning_measures_list = ['accuracy tuning', 'roc auc tuning']\n",
    "tuning_measures_list = ['accuracy tuning']\n",
    "tuning_methods_dict = {'train_validation_split' : {}, 'train_validation_split_randomized' : {}, 'KFold' : {}}\n",
    "# tuning_methods_dict = {'train_validation_split_randomized' : {}}\n",
    "\n",
    "\n",
    "# model performance dictionary building\n",
    "model_ref_names = ['ada', 'log', 'xgb', 'svm']\n",
    "selected_models = [model_ref_names[0]]\n",
    "MODELS_PERFORMANCES = {}\n",
    "for model_name in selected_models:\n",
    "    MODELS_PERFORMANCES[model_name] = copy.deepcopy(tuning_methods_dict)\n",
    "\n",
    "print(MODELS_PERFORMANCES)"
   ],
   "metadata": {
    "collapsed": false,
    "pycharm": {
     "name": "#%%\n"
    }
   }
  },
  {
   "cell_type": "markdown",
   "source": [
    "Set variable `long_run=True` for a long run."
   ],
   "metadata": {
    "collapsed": false
   }
  },
  {
   "cell_type": "code",
   "execution_count": 4,
   "outputs": [],
   "source": [
    "# intialization\n",
    "ratio_range = range(20,30+1,5)\n",
    "KFold_range = range(4,5+1,1)\n",
    "ratio_constant = [25]\n",
    "KFold_constant = [4]\n",
    "\n",
    "random_state = 0\n",
    "n = 50\n",
    "\n",
    "max_evals_range = range(25,35+1,10)\n",
    "max_evals_constant = [30]\n",
    "\n",
    "\n",
    "tuning_value_range_list = [ratio_range, ratio_range, KFold_range]\n",
    "tuning_value_constant_list = [ratio_constant, ratio_constant, KFold_constant]\n"
   ],
   "metadata": {
    "collapsed": false,
    "pycharm": {
     "name": "#%%\n"
    }
   }
  },
  {
   "cell_type": "code",
   "execution_count": 21,
   "outputs": [
    {
     "ename": "NameError",
     "evalue": "name 'algorithmns_list' is not defined",
     "output_type": "error",
     "traceback": [
      "\u001B[0;31m---------------------------------------------------------------------------\u001B[0m",
      "\u001B[0;31mNameError\u001B[0m                                 Traceback (most recent call last)",
      "\u001B[0;32m<ipython-input-21-e3ad848c0da9>\u001B[0m in \u001B[0;36m<module>\u001B[0;34m\u001B[0m\n\u001B[1;32m      6\u001B[0m \u001B[0;34m\u001B[0m\u001B[0m\n\u001B[1;32m      7\u001B[0m \u001B[0;34m\u001B[0m\u001B[0m\n\u001B[0;32m----> 8\u001B[0;31m for algorithmn, hyperparameters_space, hyperparameters_choices, model_name in zip(algorithmns_list,\n\u001B[0m\u001B[1;32m      9\u001B[0m                                                                                   \u001B[0mhyperparameter_space_list\u001B[0m\u001B[0;34m,\u001B[0m\u001B[0;34m\u001B[0m\u001B[0;34m\u001B[0m\u001B[0m\n\u001B[1;32m     10\u001B[0m                                                                                          \u001B[0mhyperparameter_choices_list\u001B[0m\u001B[0;34m,\u001B[0m\u001B[0;34m\u001B[0m\u001B[0;34m\u001B[0m\u001B[0m\n",
      "\u001B[0;31mNameError\u001B[0m: name 'algorithmns_list' is not defined"
     ]
    }
   ],
   "source": [
    "import time\n",
    "start_time = time.time()\n",
    "\n",
    "tuning_measure_performance = {}\n",
    "performance_at_num_iterations = {}\n",
    "\n",
    "\n",
    "for algorithmn, hyperparameters_space, hyperparameters_choices, model_name in zip(algorithmns_list,\n",
    "                                                                                  hyperparameter_space_list,\n",
    "                                                                                         hyperparameter_choices_list,\n",
    "                                                                                      MODELS_PERFORMANCES):\n",
    "    for tuning_method_iterator, tuning_value_range in zip(tuning_methods_dict, tuning_value_constant_list):\n",
    "        for tuning_value_iterator in tuning_value_range:\n",
    "            if tuning_method_iterator == 'train_validation_split' or tuning_method_iterator == 'train_validation_split_randomized':\n",
    "                tuning_value_iterator = tuning_value_iterator/100 # setting as a decimal\n",
    "            for max_evals_iterator in max_evals_constant:\n",
    "                for tuning_measure_iterator in tuning_measures_list:\n",
    "                    random_state = 0\n",
    "                    flag = False\n",
    "                    for simulation_counter in range(10):\n",
    "                        model = build_hyperopt_fitted_model(algorithmn=algorithmn, X_train= X_train, y_train= y_train,\n",
    "                                                            hyperparameters_space = hyperparameters_space,\n",
    "                                                            hyperparameters_choices = hyperparameters_choices,\n",
    "                                                            tuning_method = tuning_method_iterator,\n",
    "                                                            tuning_measure = tuning_measure_iterator, tuning_value = tuning_value_iterator,\n",
    "                                                            max_evals = max_evals_iterator,\n",
    "                                                            random_state=random_state)\n",
    "\n",
    "                        y_pred = model.predict(X_test)\n",
    "\n",
    "                        if simulation_counter == 0:\n",
    "                            performance = {'test accuracy': [performance_metrics(y_test, y_pred>0.5, confusion_matrix=False)],\n",
    "                                       'test roc auc': [roc_auc_score(y_test,y_pred, average = 'macro')],\n",
    "                                       'test r2': [SSM_real_probability(y_test,y_pred, n=n, plot=False)]}\n",
    "\n",
    "                        if simulation_counter != 0:\n",
    "                            performance = {'test accuracy': np.append(performance['test accuracy'], performance_metrics(y_test, y_pred>0.5, confusion_matrix=False)),\n",
    "                                       'test roc auc': np.append(performance['test roc auc'],roc_auc_score(y_test,y_pred, average = 'macro')),\n",
    "                                       'test r2': np.append(performance['test r2'],SSM_real_probability(y_test,y_pred, n=n, plot=False))}\n",
    "\n",
    "                        random_state += 1\n",
    "\n",
    "                    performance_at_num_iterations[max_evals_iterator] = [copy.deepcopy(performance)]\n",
    "                    tuning_measure_performance[tuning_measure_iterator] = copy.deepcopy(performance_at_num_iterations)\n",
    "\n",
    "\n",
    "                    # tuning_measure_performance[tuning_measure_iterator] = copy.deepcopy(performance)\n",
    "\n",
    "                    assert type(tuning_measure_iterator) == str\n",
    "                MODELS_PERFORMANCES[model_name][tuning_method_iterator][tuning_value_iterator] = copy.deepcopy(tuning_measure_performance)\n",
    "\n",
    "# can stop the evaluation at 20 times and save parameters, this almost halves the simulation time. log model hyperparameters also don't change \n",
    "\n",
    "end_time = time.time()\n",
    "print(end_time-start_time)\n",
    "\n",
    "with open('results3.pkl', 'wb') as f:\n",
    "    pickle.dump(MODELS_PERFORMANCES, f)\n",
    "\n",
    "print(MODELS_PERFORMANCES)"
   ],
   "metadata": {
    "collapsed": false,
    "pycharm": {
     "name": "#%%\n"
    }
   }
  },
  {
   "cell_type": "code",
   "execution_count": 13,
   "outputs": [
    {
     "data": {
      "text/plain": "{'ada': {'train_validation_split': {},\n  'train_validation_split_randomized': {},\n  'KFold': {}}}"
     },
     "execution_count": 13,
     "metadata": {},
     "output_type": "execute_result"
    }
   ],
   "source": [
    "MODELS_PERFORMANCES"
   ],
   "metadata": {
    "collapsed": false,
    "pycharm": {
     "name": "#%%\n"
    }
   }
  },
  {
   "cell_type": "code",
   "execution_count": 5,
   "outputs": [
    {
     "data": {
      "text/plain": "{'ada': {'train_validation_split': {0.25: {'accuracy tuning': {30: [{'test accuracy': array([0.83433333, 0.83416667, 0.83416667, 0.83333333, 0.83383333,\n              0.834     , 0.833     , 0.83383333, 0.83216667, 0.83266667]),\n       'test roc auc': array([0.76260561, 0.77328997, 0.78129999, 0.77698555, 0.79322667,\n              0.75952681, 0.76978069, 0.77525535, 0.75874368, 0.76006333]),\n       'test r2': array([ 0.20157778,  0.16544534,  0.0470552 ,  0.13767959, -0.25694302,\n               0.21154652,  0.09885423,  0.10892094,  0.2030375 ,  0.20105234])}]}}},\n  'train_validation_split_randomized': {0.25: {'accuracy tuning': {30: [{'test accuracy': array([0.8335    , 0.83466667, 0.833     , 0.833     , 0.83266667,\n              0.83383333, 0.8325    , 0.83083333, 0.83466667, 0.83333333]),\n       'test roc auc': array([0.7807004 , 0.76857358, 0.74780837, 0.78348362, 0.73798764,\n              0.78225123, 0.73042079, 0.7662548 , 0.76067026, 0.77609288]),\n       'test r2': array([ 0.13552714,  0.20318224,  0.19131707, -0.01053845,  0.20564577,\n              -0.0289021 ,  0.20263954,  0.14153613,  0.19850761,  0.15671522])}]}}},\n  'KFold': {4: {'accuracy tuning': {30: [{'test accuracy': array([0.83366667, 0.83416667, 0.83416667, 0.8345    , 0.835     ,\n              0.8345    , 0.83383333, 0.834     , 0.83383333, 0.83433333]),\n       'test roc auc': array([0.77734062, 0.78500567, 0.77980389, 0.77707832, 0.77738033,\n              0.7639618 , 0.77260887, 0.77416312, 0.79522709, 0.76323649]),\n       'test r2': array([ 0.12553136, -0.02190667, -0.02732515,  0.09557248,  0.05525464,\n               0.19653396,  0.09555848,  0.13038496, -0.15261953,  0.19617999])}]}}}}}"
     },
     "execution_count": 5,
     "metadata": {},
     "output_type": "execute_result"
    }
   ],
   "source": [
    "with open('results/results2.pkl', 'rb') as f:\n",
    "    MODELS_PERFORMANCES = pickle.load(f)\n",
    "\n",
    "with open('results/results3.pkl', 'rb') as f:\n",
    "    MODELS_PERFORMANCES_subsection = pickle.load(f)\n",
    "\n",
    "MODELS_PERFORMANCES['ada']['train_validation_split_randomized'] = MODELS_PERFORMANCES_subsection['ada']['train_validation_split_randomized']\n",
    "\n",
    "MODELS_PERFORMANCES"
   ],
   "metadata": {
    "collapsed": false,
    "pycharm": {
     "name": "#%%\n"
    }
   }
  },
  {
   "cell_type": "markdown",
   "source": [
    "Model performance of ada : `MODELS_PERFORMANCES['ada']['train_split_ratio']`"
   ],
   "metadata": {
    "collapsed": false,
    "pycharm": {
     "name": "#%% md\n"
    }
   }
  },
  {
   "cell_type": "markdown",
   "source": [
    "Plotting the performance on accuracy under different tuning strategies\n"
   ],
   "metadata": {
    "collapsed": false,
    "pycharm": {
     "name": "#%% md\n"
    }
   }
  },
  {
   "cell_type": "markdown",
   "source": [
    "accuracy arrays are stored in: `MODELS_PERFORMANCES['ada'][tuning_method_name][tuning_method_value][tuning_measure][max_evals][performance_score]`\n"
   ],
   "metadata": {
    "collapsed": false,
    "pycharm": {
     "name": "#%% md\n"
    }
   }
  },
  {
   "cell_type": "code",
   "execution_count": 6,
   "outputs": [
    {
     "data": {
      "text/plain": "<Figure size 432x288 with 1 Axes>",
      "image/png": "[encoded data removed]"
     },
     "metadata": {
      "needs_background": "light"
     },
     "output_type": "display_data"
    }
   ],
   "source": [
    "%matplotlib inline\n",
    "\n",
    "max_evals = 30\n",
    "performance_score = 'test accuracy'\n",
    "tuning_measure = 'accuracy tuning'\n",
    "\n",
    "results_split = MODELS_PERFORMANCES['ada']['train_validation_split'][0.25][tuning_measure][max_evals][0]\n",
    "results_split_randomized = MODELS_PERFORMANCES['ada']['train_validation_split_randomized'][0.25][tuning_measure][max_evals][0]\n",
    "results_kfold = MODELS_PERFORMANCES['ada']['KFold'][4][tuning_measure][max_evals][0]\n",
    "\n",
    "results = [results_split, results_split_randomized, results_kfold]\n",
    "acc_results_mean = [np.mean(result['test accuracy']) for result in results]\n",
    "acc_results_std = [np.std(result['test accuracy']) for result in results]\n",
    "\n",
    "fig, ax = plt.subplots()\n",
    "plt.subplots_adjust(left=0.25, bottom=0.20)\n",
    "\n",
    "xticks_variables = list(tuning_methods_dict)\n",
    "\n",
    "# The x position of bars\n",
    "bar_width = 0.25\n",
    "r1 = np.arange(len(xticks_variables))\n",
    "r2 = [x + bar_width for x in r1]\n",
    "positions = [r1, r2]\n",
    "\n",
    "bars = ax.bar(r1, acc_results_mean, yerr=acc_results_std)\n",
    "\n",
    "ax.set_xticklabels(xticks_variables)\n",
    "ax.yaxis.grid(True)\n",
    "\n",
    "plt.ylim([0.825, 0.84])\n",
    "plt.xticks(r1+bar_width/2, xticks_variables)\n",
    "\n",
    "plt.show()\n",
    "display.display()\n"
   ],
   "metadata": {
    "collapsed": false,
    "pycharm": {
     "name": "#%%\n"
    }
   }
  },
  {
   "cell_type": "code",
   "execution_count": 7,
   "outputs": [
    {
     "data": {
      "text/plain": "<Figure size 432x288 with 1 Axes>",
      "image/png": "[encoded data removed]"
     },
     "metadata": {
      "needs_background": "light"
     },
     "output_type": "display_data"
    }
   ],
   "source": [
    "results = [results_split, results_split_randomized, results_kfold]\n",
    "roc_auc_results_mean = [np.mean(result['test roc auc']) for result in results]\n",
    "roc_auc_results_std = [np.std(result['test roc auc']) for result in results]\n",
    "\n",
    "fig, ax = plt.subplots()\n",
    "plt.subplots_adjust(left=0.25, bottom=0.20)\n",
    "\n",
    "xticks_variables = list(tuning_methods_dict)\n",
    "\n",
    "# The x position of bars\n",
    "bar_width = 0.25\n",
    "r1 = np.arange(len(xticks_variables))\n",
    "r2 = [x + bar_width for x in r1]\n",
    "positions = [r1, r2]\n",
    "\n",
    "bars = ax.bar(r1, roc_auc_results_mean, yerr=roc_auc_results_std)\n",
    "\n",
    "ax.set_xticklabels(xticks_variables)\n",
    "ax.yaxis.grid(True)\n",
    "\n",
    "plt.ylim([0.7, 0.8])\n",
    "plt.xticks(r1+bar_width/2, xticks_variables)\n",
    "plt.tight_layout()\n",
    "\n",
    "plt.show()\n",
    "display.display()"
   ],
   "metadata": {
    "collapsed": false,
    "pycharm": {
     "name": "#%%\n"
    }
   }
  },
  {
   "cell_type": "code",
   "execution_count": 8,
   "outputs": [
    {
     "data": {
      "text/plain": "<Figure size 432x288 with 1 Axes>",
      "image/png": "[encoded data removed]"
     },
     "metadata": {
      "needs_background": "light"
     },
     "output_type": "display_data"
    }
   ],
   "source": [
    "results = [results_split, results_split_randomized, results_kfold]\n",
    "r2_results_mean = [np.mean(result['test r2']) for result in results]\n",
    "r2_results_std = [np.std(result['test r2']) for result in results]\n",
    "\n",
    "fig, ax = plt.subplots()\n",
    "plt.subplots_adjust(left=0.25, bottom=0.20)\n",
    "\n",
    "xticks_variables = list(tuning_methods_dict)\n",
    "\n",
    "# The x position of bars\n",
    "bar_width = 0.25\n",
    "r1 = np.arange(len(xticks_variables))\n",
    "r2 = [x + bar_width for x in r1]\n",
    "positions = [r1, r2]\n",
    "\n",
    "bars = ax.bar(r1, r2_results_mean, yerr=r2_results_std)\n",
    "\n",
    "ax.set_xticklabels(xticks_variables)\n",
    "ax.yaxis.grid(True)\n",
    "\n",
    "plt.ylim([-0.2, 0.25])\n",
    "plt.xticks(r1+bar_width/2, xticks_variables)\n",
    "plt.tight_layout()\n",
    "\n",
    "plt.show()"
   ],
   "metadata": {
    "collapsed": false,
    "pycharm": {
     "name": "#%%\n"
    }
   }
  },
  {
   "cell_type": "code",
   "execution_count": 18,
   "outputs": [
    {
     "data": {
      "text/plain": "{'ada': {'train_validation_split': {0.25: {'accuracy tuning': {30: [{'test accuracy': array([0.83433333, 0.83416667, 0.83416667, 0.83333333, 0.83383333,\n              0.834     , 0.833     , 0.83383333, 0.83216667, 0.83266667]),\n       'test roc auc': array([0.76260561, 0.77328997, 0.78129999, 0.77698555, 0.79322667,\n              0.75952681, 0.76978069, 0.77525535, 0.75874368, 0.76006333]),\n       'test r2': array([ 0.20157778,  0.16544534,  0.0470552 ,  0.13767959, -0.25694302,\n               0.21154652,  0.09885423,  0.10892094,  0.2030375 ,  0.20105234])}]}}},\n  'train_validation_split_randomized': {0.25: {'accuracy tuning': {30: [{'test accuracy': array([0.8335    , 0.83466667, 0.833     , 0.833     , 0.83266667,\n              0.83383333, 0.8325    , 0.83083333, 0.83466667, 0.83333333]),\n       'test roc auc': array([0.7807004 , 0.76857358, 0.74780837, 0.78348362, 0.73798764,\n              0.78225123, 0.73042079, 0.7662548 , 0.76067026, 0.77609288]),\n       'test r2': array([ 0.13552714,  0.20318224,  0.19131707, -0.01053845,  0.20564577,\n              -0.0289021 ,  0.20263954,  0.14153613,  0.19850761,  0.15671522])}]}}},\n  'KFold': {4: {'accuracy tuning': {30: [{'test accuracy': array([0.83366667, 0.83416667, 0.83416667, 0.8345    , 0.835     ,\n              0.8345    , 0.83383333, 0.834     , 0.83383333, 0.83433333]),\n       'test roc auc': array([0.77734062, 0.78500567, 0.77980389, 0.77707832, 0.77738033,\n              0.7639618 , 0.77260887, 0.77416312, 0.79522709, 0.76323649]),\n       'test r2': array([ 0.12553136, -0.02190667, -0.02732515,  0.09557248,  0.05525464,\n               0.19653396,  0.09555848,  0.13038496, -0.15261953,  0.19617999])}]}}}}}"
     },
     "execution_count": 18,
     "metadata": {},
     "output_type": "execute_result"
    }
   ],
   "source": [
    "MODELS_PERFORMANCES"
   ],
   "metadata": {
    "collapsed": false,
    "pycharm": {
     "name": "#%%\n"
    }
   }
  },
  {
   "cell_type": "code",
   "source": [
    "%matplotlib widget\n",
    "\n",
    "with open('results/results.pkl', 'rb') as f:\n",
    "    MODELS_PERFORMANCES = pickle.load(f)\n",
    "\n",
    "tuning_measures_list = ['accuracy tuning', 'roc auc tuning']\n",
    "tuning_methods_dict = {'train_validation_split' : {}, 'train_validation_split_randomized' : {}}\n",
    "performance_name_list = ['test accuracy', 'test roc auc', 'test r2']\n",
    "\n",
    "def select_plot_data(tuning_method_list : list, tuning_method_value : float, max_evals : int = 25, performance_score : str = 'test accuracy', tuning_measures_list : list = tuning_measures_list) -> tuple:\n",
    "    score_list = []\n",
    "    for tuning_method_iterator in tuning_method_list:\n",
    "        for tuning_measure_name in tuning_measures_list:\n",
    "            score_list.append(MODELS_PERFORMANCES[model_name][tuning_method_iterator][tuning_method_value][tuning_measure_name][max_evals][performance_score])\n",
    "\n",
    "    accuracy_tuned_scores = score_list[::2]\n",
    "    roc_auc_tuned_scores = score_list[1::2]\n",
    "\n",
    "    return accuracy_tuned_scores, roc_auc_tuned_scores\n",
    "\n",
    "\n",
    "ratio_0 = 0.25\n",
    "max_evals_0 = 25\n",
    "\n",
    "tuning_method_name = 'train_validation_split'\n",
    "tuning_measure_name = tuning_measures_list[0] # = 'accuracy tuning'\n",
    "\n",
    "performance_scores = ['test accuracy' , 'test roc auc', 'test r2']\n",
    "selected_performance_score = performance_scores[0]\n",
    "\n",
    "print(MODELS_PERFORMANCES['ada'][tuning_method_name][0.25][tuning_measure_name])\n",
    "\n",
    "selected_data = select_plot_data(tuning_method_list=list(tuning_methods_dict), tuning_method_value=ratio_0, max_evals=max_evals_0, performance_score=selected_performance_score)\n",
    "accuracy_tuned_score_list, roc_auc_tuned_score_list = selected_data\n",
    "\n",
    "fig, ax = plt.subplots()\n",
    "plt.subplots_adjust(left=0.25, bottom=0.20)\n",
    "\n",
    "xticks_variables = list(tuning_methods_dict)\n",
    "\n",
    "# The x position of bars\n",
    "bar_width = 0.25\n",
    "r1 = np.arange(len(xticks_variables))\n",
    "r2 = [x + bar_width for x in r1]\n",
    "positions = [r1, r2]\n",
    "\n",
    "bars1 = ax.bar(r1, accuracy_tuned_score_list, color ='b', width = bar_width, label='accuracy tuned')\n",
    "bars2 = ax.bar(r2, roc_auc_tuned_score_list, color ='g', width = bar_width, label='roc auc tuned')\n",
    "\n",
    "# bars2.remove()\n",
    "bars_list = [bars1, bars2]\n",
    "\n",
    "ax.legend()\n",
    "\n",
    "plt.ylim([0.7, 0.84])\n",
    "plt.xticks(r1+bar_width/2, xticks_variables)\n",
    "plt.xlabel('Tuning method')\n",
    "plt.ylabel(selected_performance_score)\n",
    "\n",
    "\n",
    "axcolor = 'lightgoldenrodyellow'\n",
    "ax_ratio = plt.axes([0.15, 0.2, 0.03, 0.675], facecolor=axcolor)\n",
    "s_ratio = Slider(ax=ax_ratio, label='ratio', valmin=ratio_range[0]/100, valmax=ratio_range[-1]/100, valinit=ratio_0, valstep=ratio_range.step/100, orientation='vertical')\n",
    "\n",
    "ax_max_evals = plt.axes([0.05, 0.2, 0.03, 0.675], facecolor=axcolor)\n",
    "s_max_evals = Slider(ax=ax_max_evals, label='max_evals', valmin=max_evals_range[0], valmax=max_evals_range[-1], valinit=max_evals_0, valstep=max_evals_range.step, orientation='vertical')\n",
    "\n",
    "def bar_plot(y_label, data1, data2):\n",
    "\n",
    "    for bars in bars_list:\n",
    "        bars.remove()\n",
    "\n",
    "    bars_list[0] = ax.bar(r1, data1, color='b', width=bar_width, label='accuracy tuned')\n",
    "    bars_list[1] = ax.bar(r2, data2, color='g', width=bar_width, label='roc auc tuned')\n",
    "\n",
    "    plt.ylabel(y_label)\n",
    "\n",
    "\n",
    "def update(val):\n",
    "    ratio = round(s_ratio.val*100)/100\n",
    "    max_evals = s_max_evals.val\n",
    "    updated_data = select_plot_data(tuning_method_list=list(tuning_methods_dict), tuning_method_value=ratio,  max_evals=max_evals, performance_score=selected_performance_score)\n",
    "    selected_accuracy_tuned_score_list, selected_roc_auc_tuned_score_list = updated_data\n",
    "    bar_plot(selected_performance_score, selected_accuracy_tuned_score_list, selected_roc_auc_tuned_score_list)\n",
    "    fig.canvas.draw_idle()\n",
    "\n",
    "s_ratio.on_changed(update)\n",
    "s_max_evals.on_changed(update)\n",
    "\n",
    "plt.ioff()\n",
    "\n",
    "pickle.dump(fig, open('train_val.fig.pickle', 'wb'))\n",
    "plt.show()\n",
    "display.display(fig)\n"
   ],
   "metadata": {
    "collapsed": false,
    "pycharm": {
     "name": "#%%\n"
    }
   },
   "execution_count": 19,
   "outputs": [
    {
     "name": "stdout",
     "output_type": "stream",
     "text": [
      "{25: {'test accuracy': 0.825, 'test roc auc': 0.7764703889913376, 'test r2': -0.32552712511850856}, 35: {'test accuracy': 0.833, 'test roc auc': 0.7833290284860753, 'test r2': 0.024273874025386943}}\n"
     ]
    },
    {
     "data": {
      "text/plain": "Canvas(toolbar=Toolbar(toolitems=[('Home', 'Reset original view', 'home', 'home'), ('Back', 'Back to previous …",
      "application/vnd.jupyter.widget-view+json": {
       "version_major": 2,
       "version_minor": 0,
       "model_id": "e3d0860277f7462b91e094c6c72409da"
      }
     },
     "metadata": {},
     "output_type": "display_data"
    },
    {
     "data": {
      "text/plain": "<Figure size 640x480 with 3 Axes>",
      "image/png": "[encoded data removed]"
     },
     "metadata": {},
     "output_type": "display_data"
    }
   ]
  },
  {
   "cell_type": "code",
   "execution_count": 14,
   "outputs": [
    {
     "name": "stdout",
     "output_type": "stream",
     "text": [
      "Ttest_indResult(statistic=0.8288756198279003, pvalue=0.7901107502763987)\n",
      "Ttest_indResult(statistic=-2.473733267903816, pvalue=0.013421089662328137)\n",
      "Ttest_indResult(statistic=-1.7620592354447706, pvalue=0.04997221591960991)\n",
      "Ttest_indResult(statistic=-2.6620695282483293, pvalue=0.01086273987181927)\n",
      "\n",
      "\n",
      "Ttest_indResult(statistic=-1.1907537848211123, pvalue=0.12485120025130939)\n",
      "Ttest_indResult(statistic=-1.9667012167110736, pvalue=0.03534906862712681)\n",
      "Ttest_indResult(statistic=-1.1907537848211123, pvalue=0.12485120025130939)\n",
      "Ttest_indResult(statistic=-1.9667012167110736, pvalue=0.03534906862712681)\n",
      "0.8342\n",
      "0.834013\n",
      "0.022434167116549695\n"
     ]
    }
   ],
   "source": [
    "from scipy import stats\n",
    "\n",
    "acc_results_split = results_split['test accuracy']\n",
    "acc_results_split_randomized = results_split_randomized['test accuracy']\n",
    "acc_results_kfold = results_kfold['test accuracy']\n",
    "\n",
    "roc_auc_results_split = results_split['test roc auc']\n",
    "roc_auc_results_split_randomized = results_split_randomized['test roc auc']\n",
    "roc_auc_results_kfold = results_kfold['test roc auc']\n",
    "\n",
    "r2_results_split = results_split['test roc auc']\n",
    "r2_results_split_randomized = results_split_randomized['test roc auc']\n",
    "r2_results_kfold = results_kfold['test roc auc']\n",
    "\n",
    "print(stats.ttest_ind(acc_results_split, acc_results_split_randomized, equal_var=False, alternative='less'))\n",
    "print(stats.ttest_ind(acc_results_split, acc_results_kfold, equal_var=False, alternative='less'))\n",
    "print(stats.ttest_ind(acc_results_split, acc_results_kfold-0.000187, equal_var=False, alternative='less'))\n",
    "print(stats.ttest_ind(acc_results_split_randomized, acc_results_kfold, equal_var=False, alternative='less'))\n",
    "print('\\n')\n",
    "print(stats.ttest_ind(roc_auc_results_split, roc_auc_results_kfold, equal_var=False, alternative='less'))\n",
    "print(stats.ttest_ind(roc_auc_results_split_randomized, roc_auc_results_kfold, equal_var=False, alternative='less'))\n",
    "\n",
    "print(stats.ttest_ind(r2_results_split, r2_results_kfold, equal_var=False, alternative='less'))\n",
    "print(stats.ttest_ind(r2_results_split_randomized, r2_results_kfold, equal_var=False, alternative='less'))\n",
    "\n",
    "print(np.mean(acc_results_kfold))\n",
    "print(np.mean(acc_results_kfold)-0.000187)\n",
    "print(0.000187/np.mean(acc_results_split)*100)\n",
    "\n"
   ],
   "metadata": {
    "collapsed": false,
    "pycharm": {
     "name": "#%%\n"
    }
   }
  },
  {
   "cell_type": "markdown",
   "source": [
    "May be interesting to look into: different ratios, machine learning algorithms, different hyper opt settings, different data.\n",
    "\n",
    "\n",
    "Discussion\n",
    "Due to it’s computational complexity, it may be recommend to perform the kfold step at the end.\n",
    "Perhaps there is a generalisation\n"
   ],
   "metadata": {
    "collapsed": false,
    "pycharm": {
     "name": "#%% md\n"
    }
   }
  },
  {
   "cell_type": "raw",
   "source": [
    "\n",
    "from sklearn.metrics import plot_roc_curve\n",
    "\n",
    "roc_curve = True\n",
    "\n",
    "if roc_curve:\n",
    "    plot_roc_curve(model, X_test, y_test)\n",
    "    plt.show()\n",
    "\n"
   ],
   "metadata": {
    "collapsed": false,
    "pycharm": {
     "name": "#%% raw\n"
    }
   }
  },
  {
   "cell_type": "markdown",
   "source": [
    "The search selects the best considered (not the best in the space) generalizable hyperparameters (i.e. the ones that perform best, after fitting on the training set and prediction on the validation set).\n",
    "In this limited analysis, these hyperparameters are considered the best generalizable.\n",
    "Alternatively, we can say that we select these parameters to be tested.\n",
    "We may find that some ML models allow for a large fluctuation in performance on the validation set, which may indicate that we have 'overfitted' the validation set. This will show on the test set.\n",
    "We can decide to further train on the validation set, however, it is interesting to see how the performance of the model changes whether we use the validation set or not.\n",
    "\n",
    "The models are:\n",
    "`xgb_reg`, `ada_reg`, `gbrt_reg`, `log_reg`, and `svm_reg`\n",
    "\n",
    "Now we can test these models on the test set. Followed by checking each prediction's 'strenght' by using the Smooth Sorting Method as proposed in the original paper by Yeh and Lien."
   ],
   "metadata": {
    "collapsed": false,
    "pycharm": {
     "name": "#%% md\n"
    }
   }
  },
  {
   "cell_type": "code",
   "execution_count": null,
   "outputs": [],
   "source": [
    "\n"
   ],
   "metadata": {
    "collapsed": false,
    "pycharm": {
     "name": "#%%\n"
    }
   }
  }
 ],
 "metadata": {
  "kernelspec": {
   "display_name": "PyCharm (CW2)",
   "language": "python",
   "name": "pycharm-1482e948"
  },
  "language_info": {
   "codemirror_mode": {
    "name": "ipython",
    "version": 3
   },
   "file_extension": ".py",
   "mimetype": "text/x-python",
   "name": "python",
   "nbconvert_exporter": "python",
   "pygments_lexer": "ipython3",
   "version": "3.8.1"
  }
 },
 "nbformat": 4,
 "nbformat_minor": 5
}