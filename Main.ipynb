{
 "cells": [
  {
   "cell_type": "markdown",
   "id": "d64eab4c",
   "metadata": {},
   "source": [
    "# Credit Card Default Prediction Project\n",
    "\n",
    "Based on the dataset UCI Machine Learning Repository\n",
    "\n",
    "The original paper that works with this dataset is : Yeh, I. C., & Lien, C. H. (2009). The comparisons of data mining techniques for the predictive accuracy of probability of default of credit card clients. Expert Systems with Applications, 36(2), 2473-2480.\n",
    "\n",
    "* __[Link to original paper](https://bradzzz.gitbooks.io/ga-seattle-dsi/content/dsi/dsi_05_classification_databases/2.1-lesson/assets/datasets/DefaultCreditCardClients_yeh_2009.pdf)__\n",
    "\n",
    "* __[Link to UCI dataset page](https://archive.ics.uci.edu/ml/datasets/default+of+credit+card+clients)__\n",
    "\n",
    "### Dataset Description\n",
    "* Data consists of 30 000 points and 23 features and 1 label\n",
    "\n",
    "\n",
    "### Project Outline\n",
    "Data preparation and exploration -> ML models hyperparameters tuning -> Combination into a final model"
   ]
  },
  {
   "cell_type": "markdown",
   "id": "3e01f931",
   "metadata": {},
   "source": [
    "## Import : Data and Libraries\n",
    "### Library Imports"
   ]
  },
  {
   "cell_type": "code",
   "execution_count": 1,
   "id": "02c9f5d3",
   "metadata": {
    "ExecuteTime": {
     "end_time": "2021-01-06T21:00:38.822020Z",
     "start_time": "2021-01-06T21:00:36.808982Z"
    }
   },
   "outputs": [],
   "source": [
    "# Imports\n",
    "%matplotlib inline\n",
    "import pandas as pd\n",
    "import numpy as np\n",
    "import matplotlib.pyplot as plt\n",
    "import seaborn as sns\n",
    "import xgboost as xgb\n",
    "\n",
    "from imblearn.pipeline import Pipeline\n",
    "from imblearn.combine import SMOTETomek\n",
    "from imblearn.over_sampling import SMOTE\n",
    "from imblearn.under_sampling import EditedNearestNeighbours\n",
    "\n",
    "from sklearn.preprocessing import StandardScaler, MinMaxScaler\n",
    "from sklearn.metrics import r2_score\n",
    "from sklearn.ensemble import AdaBoostRegressor, GradientBoostingRegressor\n",
    "from sklearn.linear_model import LogisticRegression\n",
    "from sklearn.svm import SVC\n",
    "\n",
    "# Optimizer\n",
    "from hyperopt import Trials, fmin, tpe\n",
    "\n",
    "from evalmodel_helper import fitModel, evalMetrics\n",
    "\n",
    "\n",
    "# Model hyperparameter space to be optimized\n",
    "from models_spaces import xgb_fitting_setting, xgb_space, ada_loss_functions, ada_space,\\\n",
    "    gbrt_loss_functions, gbrt_space, log_space, svm_space, svm_kernels, svm_kernel_degrees,\\\n",
    "    INT_KEYS\n",
    "\n",
    "# Model objective function builder\n",
    "from hyperopt_objective import build_objective_func\n",
    "\n",
    "sns.set_style(\"dark\")\n",
    "sns.set_context(\"paper\")\n"
   ]
  },
  {
   "cell_type": "markdown",
   "id": "3c9e17a3",
   "metadata": {},
   "source": [
    "\n",
    "### Import and pre-processing of dataset \n",
    "(preprocessing : transforming data into ML model readable format)\n",
    "\n",
    "#### Data Importing"
   ]
  },
  {
   "cell_type": "code",
   "execution_count": 2,
   "id": "307f34ba",
   "metadata": {},
   "outputs": [],
   "source": [
    "# load data internally\n",
    "_df_train = pd.read_csv(\"DataFiles/CreditCard_train.csv\", index_col=0, header=1)\n",
    "_df_test = pd.read_csv(\"DataFiles/CreditCard_test.csv\", index_col=0, header=1)\n",
    "\n",
    "# create external df for handling\n",
    "df_train = _df_train.copy()\n",
    "df_test = _df_test.copy()\n"
   ]
  },
  {
   "cell_type": "markdown",
   "id": "05cc5862",
   "metadata": {},
   "source": [
    "#### Train data head and description"
   ]
  },
  {
   "cell_type": "code",
   "execution_count": 3,
   "outputs": [
    {
     "data": {
      "text/plain": "    LIMIT_BAL  SEX  EDUCATION  MARRIAGE  AGE  PAY_0  PAY_2  PAY_3  PAY_4  \\\nID                                                                         \n1       20000    2          2         1   24      2      2     -1     -1   \n2      120000    2          2         2   26     -1      2      0      0   \n3       90000    2          2         2   34      0      0      0      0   \n4       50000    2          2         1   37      0      0      0      0   \n5       50000    1          2         1   57     -1      0     -1      0   \n\n    PAY_5  ...  BILL_AMT4  BILL_AMT5  BILL_AMT6  PAY_AMT1  PAY_AMT2  PAY_AMT3  \\\nID         ...                                                                  \n1      -2  ...          0          0          0         0       689         0   \n2       0  ...       3272       3455       3261         0      1000      1000   \n3       0  ...      14331      14948      15549      1518      1500      1000   \n4       0  ...      28314      28959      29547      2000      2019      1200   \n5       0  ...      20940      19146      19131      2000     36681     10000   \n\n    PAY_AMT4  PAY_AMT5  PAY_AMT6  default payment next month  \nID                                                            \n1          0         0         0                           1  \n2       1000         0      2000                           1  \n3       1000      1000      5000                           0  \n4       1100      1069      1000                           0  \n5       9000       689       679                           0  \n\n[5 rows x 24 columns]",
      "text/html": "<div>\n<style scoped>\n    .dataframe tbody tr th:only-of-type {\n        vertical-align: middle;\n    }\n\n    .dataframe tbody tr th {\n        vertical-align: top;\n    }\n\n    .dataframe thead th {\n        text-align: right;\n    }\n</style>\n<table border=\"1\" class=\"dataframe\">\n  <thead>\n    <tr style=\"text-align: right;\">\n      <th></th>\n      <th>LIMIT_BAL</th>\n      <th>SEX</th>\n      <th>EDUCATION</th>\n      <th>MARRIAGE</th>\n      <th>AGE</th>\n      <th>PAY_0</th>\n      <th>PAY_2</th>\n      <th>PAY_3</th>\n      <th>PAY_4</th>\n      <th>PAY_5</th>\n      <th>...</th>\n      <th>BILL_AMT4</th>\n      <th>BILL_AMT5</th>\n      <th>BILL_AMT6</th>\n      <th>PAY_AMT1</th>\n      <th>PAY_AMT2</th>\n      <th>PAY_AMT3</th>\n      <th>PAY_AMT4</th>\n      <th>PAY_AMT5</th>\n      <th>PAY_AMT6</th>\n      <th>default payment next month</th>\n    </tr>\n    <tr>\n      <th>ID</th>\n      <th></th>\n      <th></th>\n      <th></th>\n      <th></th>\n      <th></th>\n      <th></th>\n      <th></th>\n      <th></th>\n      <th></th>\n      <th></th>\n      <th></th>\n      <th></th>\n      <th></th>\n      <th></th>\n      <th></th>\n      <th></th>\n      <th></th>\n      <th></th>\n      <th></th>\n      <th></th>\n      <th></th>\n    </tr>\n  </thead>\n  <tbody>\n    <tr>\n      <th>1</th>\n      <td>20000</td>\n      <td>2</td>\n      <td>2</td>\n      <td>1</td>\n      <td>24</td>\n      <td>2</td>\n      <td>2</td>\n      <td>-1</td>\n      <td>-1</td>\n      <td>-2</td>\n      <td>...</td>\n      <td>0</td>\n      <td>0</td>\n      <td>0</td>\n      <td>0</td>\n      <td>689</td>\n      <td>0</td>\n      <td>0</td>\n      <td>0</td>\n      <td>0</td>\n      <td>1</td>\n    </tr>\n    <tr>\n      <th>2</th>\n      <td>120000</td>\n      <td>2</td>\n      <td>2</td>\n      <td>2</td>\n      <td>26</td>\n      <td>-1</td>\n      <td>2</td>\n      <td>0</td>\n      <td>0</td>\n      <td>0</td>\n      <td>...</td>\n      <td>3272</td>\n      <td>3455</td>\n      <td>3261</td>\n      <td>0</td>\n      <td>1000</td>\n      <td>1000</td>\n      <td>1000</td>\n      <td>0</td>\n      <td>2000</td>\n      <td>1</td>\n    </tr>\n    <tr>\n      <th>3</th>\n      <td>90000</td>\n      <td>2</td>\n      <td>2</td>\n      <td>2</td>\n      <td>34</td>\n      <td>0</td>\n      <td>0</td>\n      <td>0</td>\n      <td>0</td>\n      <td>0</td>\n      <td>...</td>\n      <td>14331</td>\n      <td>14948</td>\n      <td>15549</td>\n      <td>1518</td>\n      <td>1500</td>\n      <td>1000</td>\n      <td>1000</td>\n      <td>1000</td>\n      <td>5000</td>\n      <td>0</td>\n    </tr>\n    <tr>\n      <th>4</th>\n      <td>50000</td>\n      <td>2</td>\n      <td>2</td>\n      <td>1</td>\n      <td>37</td>\n      <td>0</td>\n      <td>0</td>\n      <td>0</td>\n      <td>0</td>\n      <td>0</td>\n      <td>...</td>\n      <td>28314</td>\n      <td>28959</td>\n      <td>29547</td>\n      <td>2000</td>\n      <td>2019</td>\n      <td>1200</td>\n      <td>1100</td>\n      <td>1069</td>\n      <td>1000</td>\n      <td>0</td>\n    </tr>\n    <tr>\n      <th>5</th>\n      <td>50000</td>\n      <td>1</td>\n      <td>2</td>\n      <td>1</td>\n      <td>57</td>\n      <td>-1</td>\n      <td>0</td>\n      <td>-1</td>\n      <td>0</td>\n      <td>0</td>\n      <td>...</td>\n      <td>20940</td>\n      <td>19146</td>\n      <td>19131</td>\n      <td>2000</td>\n      <td>36681</td>\n      <td>10000</td>\n      <td>9000</td>\n      <td>689</td>\n      <td>679</td>\n      <td>0</td>\n    </tr>\n  </tbody>\n</table>\n<p>5 rows × 24 columns</p>\n</div>"
     },
     "execution_count": 3,
     "metadata": {},
     "output_type": "execute_result"
    }
   ],
   "source": [
    "df_train.head()"
   ],
   "metadata": {
    "collapsed": false,
    "pycharm": {
     "name": "#%%\n"
    }
   }
  },
  {
   "cell_type": "code",
   "execution_count": 4,
   "id": "7ed37f0a",
   "metadata": {
    "pycharm": {
     "name": "#%%\n"
    }
   },
   "outputs": [
    {
     "data": {
      "text/plain": "            LIMIT_BAL           SEX     EDUCATION     MARRIAGE           AGE  \\\ncount    24000.000000  24000.000000  24000.000000  24000.00000  24000.000000   \nmean    165495.986667      1.628250      1.847417      1.55725     35.380458   \nstd     129128.744855      0.483282      0.780007      0.52208      9.271050   \nmin      10000.000000      1.000000      0.000000      0.00000     21.000000   \n25%      50000.000000      1.000000      1.000000      1.00000     28.000000   \n50%     140000.000000      2.000000      2.000000      2.00000     34.000000   \n75%     240000.000000      2.000000      2.000000      2.00000     41.000000   \nmax    1000000.000000      2.000000      6.000000      3.00000     79.000000   \n\n              PAY_0        PAY_2         PAY_3         PAY_4         PAY_5  \\\ncount  24000.000000  24000.00000  24000.000000  24000.000000  24000.000000   \nmean      -0.003125     -0.12350     -0.154750     -0.211667     -0.252917   \nstd        1.123425      1.20058      1.204033      1.166549      1.136993   \nmin       -2.000000     -2.00000     -2.000000     -2.000000     -2.000000   \n25%       -1.000000     -1.00000     -1.000000     -1.000000     -1.000000   \n50%        0.000000      0.00000      0.000000      0.000000      0.000000   \n75%        0.000000      0.00000      0.000000      0.000000      0.000000   \nmax        8.000000      8.00000      8.000000      8.000000      8.000000   \n\n       ...      BILL_AMT4      BILL_AMT5      BILL_AMT6       PAY_AMT1  \\\ncount  ...   24000.000000   24000.000000   24000.000000   24000.000000   \nmean   ...   42368.188417   40000.682542   38563.710625    5542.912917   \nstd    ...   63070.680934   60345.012766   59155.759799   15068.576072   \nmin    ... -170000.000000  -81334.000000 -339603.000000       0.000000   \n25%    ...    2340.000000    1740.000000    1234.750000    1000.000000   \n50%    ...   18940.500000   18107.500000   17036.000000    2100.000000   \n75%    ...   52188.500000   49746.500000   48796.250000    5000.000000   \nmax    ...  891586.000000  927171.000000  961664.000000  505000.000000   \n\n           PAY_AMT2      PAY_AMT3       PAY_AMT4       PAY_AMT5  \\\ncount  2.400000e+04   24000.00000   24000.000000   24000.000000   \nmean   5.815336e+03    4969.26600    4743.480042    4783.486042   \nstd    2.079703e+04   16095.61434   14883.269990   15270.405279   \nmin    0.000000e+00       0.00000       0.000000       0.000000   \n25%    8.000000e+02     379.00000     279.750000     244.000000   \n50%    2.000000e+03    1702.50000    1500.000000    1500.000000   \n75%    5.000000e+03    4347.25000    4000.000000    4005.000000   \nmax    1.684259e+06  896040.00000  497000.000000  417990.000000   \n\n            PAY_AMT6  default payment next month  \ncount   24000.000000                24000.000000  \nmean     5189.399042                    0.223750  \nstd     17630.371990                    0.416765  \nmin         0.000000                    0.000000  \n25%        60.750000                    0.000000  \n50%      1500.000000                    0.000000  \n75%      4000.000000                    0.000000  \nmax    528666.000000                    1.000000  \n\n[8 rows x 24 columns]",
      "text/html": "<div>\n<style scoped>\n    .dataframe tbody tr th:only-of-type {\n        vertical-align: middle;\n    }\n\n    .dataframe tbody tr th {\n        vertical-align: top;\n    }\n\n    .dataframe thead th {\n        text-align: right;\n    }\n</style>\n<table border=\"1\" class=\"dataframe\">\n  <thead>\n    <tr style=\"text-align: right;\">\n      <th></th>\n      <th>LIMIT_BAL</th>\n      <th>SEX</th>\n      <th>EDUCATION</th>\n      <th>MARRIAGE</th>\n      <th>AGE</th>\n      <th>PAY_0</th>\n      <th>PAY_2</th>\n      <th>PAY_3</th>\n      <th>PAY_4</th>\n      <th>PAY_5</th>\n      <th>...</th>\n      <th>BILL_AMT4</th>\n      <th>BILL_AMT5</th>\n      <th>BILL_AMT6</th>\n      <th>PAY_AMT1</th>\n      <th>PAY_AMT2</th>\n      <th>PAY_AMT3</th>\n      <th>PAY_AMT4</th>\n      <th>PAY_AMT5</th>\n      <th>PAY_AMT6</th>\n      <th>default payment next month</th>\n    </tr>\n  </thead>\n  <tbody>\n    <tr>\n      <th>count</th>\n      <td>24000.000000</td>\n      <td>24000.000000</td>\n      <td>24000.000000</td>\n      <td>24000.00000</td>\n      <td>24000.000000</td>\n      <td>24000.000000</td>\n      <td>24000.00000</td>\n      <td>24000.000000</td>\n      <td>24000.000000</td>\n      <td>24000.000000</td>\n      <td>...</td>\n      <td>24000.000000</td>\n      <td>24000.000000</td>\n      <td>24000.000000</td>\n      <td>24000.000000</td>\n      <td>2.400000e+04</td>\n      <td>24000.00000</td>\n      <td>24000.000000</td>\n      <td>24000.000000</td>\n      <td>24000.000000</td>\n      <td>24000.000000</td>\n    </tr>\n    <tr>\n      <th>mean</th>\n      <td>165495.986667</td>\n      <td>1.628250</td>\n      <td>1.847417</td>\n      <td>1.55725</td>\n      <td>35.380458</td>\n      <td>-0.003125</td>\n      <td>-0.12350</td>\n      <td>-0.154750</td>\n      <td>-0.211667</td>\n      <td>-0.252917</td>\n      <td>...</td>\n      <td>42368.188417</td>\n      <td>40000.682542</td>\n      <td>38563.710625</td>\n      <td>5542.912917</td>\n      <td>5.815336e+03</td>\n      <td>4969.26600</td>\n      <td>4743.480042</td>\n      <td>4783.486042</td>\n      <td>5189.399042</td>\n      <td>0.223750</td>\n    </tr>\n    <tr>\n      <th>std</th>\n      <td>129128.744855</td>\n      <td>0.483282</td>\n      <td>0.780007</td>\n      <td>0.52208</td>\n      <td>9.271050</td>\n      <td>1.123425</td>\n      <td>1.20058</td>\n      <td>1.204033</td>\n      <td>1.166549</td>\n      <td>1.136993</td>\n      <td>...</td>\n      <td>63070.680934</td>\n      <td>60345.012766</td>\n      <td>59155.759799</td>\n      <td>15068.576072</td>\n      <td>2.079703e+04</td>\n      <td>16095.61434</td>\n      <td>14883.269990</td>\n      <td>15270.405279</td>\n      <td>17630.371990</td>\n      <td>0.416765</td>\n    </tr>\n    <tr>\n      <th>min</th>\n      <td>10000.000000</td>\n      <td>1.000000</td>\n      <td>0.000000</td>\n      <td>0.00000</td>\n      <td>21.000000</td>\n      <td>-2.000000</td>\n      <td>-2.00000</td>\n      <td>-2.000000</td>\n      <td>-2.000000</td>\n      <td>-2.000000</td>\n      <td>...</td>\n      <td>-170000.000000</td>\n      <td>-81334.000000</td>\n      <td>-339603.000000</td>\n      <td>0.000000</td>\n      <td>0.000000e+00</td>\n      <td>0.00000</td>\n      <td>0.000000</td>\n      <td>0.000000</td>\n      <td>0.000000</td>\n      <td>0.000000</td>\n    </tr>\n    <tr>\n      <th>25%</th>\n      <td>50000.000000</td>\n      <td>1.000000</td>\n      <td>1.000000</td>\n      <td>1.00000</td>\n      <td>28.000000</td>\n      <td>-1.000000</td>\n      <td>-1.00000</td>\n      <td>-1.000000</td>\n      <td>-1.000000</td>\n      <td>-1.000000</td>\n      <td>...</td>\n      <td>2340.000000</td>\n      <td>1740.000000</td>\n      <td>1234.750000</td>\n      <td>1000.000000</td>\n      <td>8.000000e+02</td>\n      <td>379.00000</td>\n      <td>279.750000</td>\n      <td>244.000000</td>\n      <td>60.750000</td>\n      <td>0.000000</td>\n    </tr>\n    <tr>\n      <th>50%</th>\n      <td>140000.000000</td>\n      <td>2.000000</td>\n      <td>2.000000</td>\n      <td>2.00000</td>\n      <td>34.000000</td>\n      <td>0.000000</td>\n      <td>0.00000</td>\n      <td>0.000000</td>\n      <td>0.000000</td>\n      <td>0.000000</td>\n      <td>...</td>\n      <td>18940.500000</td>\n      <td>18107.500000</td>\n      <td>17036.000000</td>\n      <td>2100.000000</td>\n      <td>2.000000e+03</td>\n      <td>1702.50000</td>\n      <td>1500.000000</td>\n      <td>1500.000000</td>\n      <td>1500.000000</td>\n      <td>0.000000</td>\n    </tr>\n    <tr>\n      <th>75%</th>\n      <td>240000.000000</td>\n      <td>2.000000</td>\n      <td>2.000000</td>\n      <td>2.00000</td>\n      <td>41.000000</td>\n      <td>0.000000</td>\n      <td>0.00000</td>\n      <td>0.000000</td>\n      <td>0.000000</td>\n      <td>0.000000</td>\n      <td>...</td>\n      <td>52188.500000</td>\n      <td>49746.500000</td>\n      <td>48796.250000</td>\n      <td>5000.000000</td>\n      <td>5.000000e+03</td>\n      <td>4347.25000</td>\n      <td>4000.000000</td>\n      <td>4005.000000</td>\n      <td>4000.000000</td>\n      <td>0.000000</td>\n    </tr>\n    <tr>\n      <th>max</th>\n      <td>1000000.000000</td>\n      <td>2.000000</td>\n      <td>6.000000</td>\n      <td>3.00000</td>\n      <td>79.000000</td>\n      <td>8.000000</td>\n      <td>8.00000</td>\n      <td>8.000000</td>\n      <td>8.000000</td>\n      <td>8.000000</td>\n      <td>...</td>\n      <td>891586.000000</td>\n      <td>927171.000000</td>\n      <td>961664.000000</td>\n      <td>505000.000000</td>\n      <td>1.684259e+06</td>\n      <td>896040.00000</td>\n      <td>497000.000000</td>\n      <td>417990.000000</td>\n      <td>528666.000000</td>\n      <td>1.000000</td>\n    </tr>\n  </tbody>\n</table>\n<p>8 rows × 24 columns</p>\n</div>"
     },
     "execution_count": 4,
     "metadata": {},
     "output_type": "execute_result"
    }
   ],
   "source": [
    "df_train.describe()\n"
   ]
  },
  {
   "cell_type": "markdown",
   "source": [
    "### Pandas DataFrame processing"
   ],
   "metadata": {
    "collapsed": false,
    "pycharm": {
     "name": "#%% md\n"
    }
   }
  },
  {
   "cell_type": "code",
   "execution_count": 5,
   "id": "118dbadd",
   "metadata": {
    "pycharm": {
     "name": "#%%\n"
    }
   },
   "outputs": [],
   "source": [
    "# renaming columns for consistency and simplicity\n",
    "df_train = df_train.rename(columns={'PAY_0':'PAY_1', 'default payment next month':'DEFAULT'})\n",
    "df_test = df_test.rename(columns={'PAY_0':'PAY_1', 'default payment next month':'DEFAULT'})\n",
    "\n",
    "label = df_train.columns[-1] # = `DEFAULT`\n",
    "features = list(df_train.columns)[:-1]\n",
    "\n",
    "y_train = df_train[label]\n",
    "X_train = df_train[features]\n",
    "\n",
    "y_test = df_test[label]\n",
    "X_test = df_test[features]\n"
   ]
  },
  {
   "cell_type": "markdown",
   "id": "1f9b9cb1",
   "metadata": {},
   "source": [
    "__Comment__ : All the data types are integers and thus workable for ML models. There are no null values (arbitrarily checked and all features have the same count). Values in the `SEX`, `EDUCATION` are have a specified range, however, some values are not contained. <br>\n",
    "Optional to look at data further in `data_exploration.ipynb`.\n"
   ]
  },
  {
   "cell_type": "markdown",
   "id": "53b71d61",
   "metadata": {
    "pycharm": {
     "name": "#%% md\n"
    }
   },
   "source": [
    "## Data Pipeline\n",
    "* includes scaling, sampling and (future work : feature transformation)"
   ]
  },
  {
   "cell_type": "raw",
   "id": "179757df",
   "metadata": {
    "pycharm": {
     "name": "#%% raw\n"
    }
   },
   "source": [
    "Dysfunctional code\n",
    "method0 = Pipeline([\n",
    "    ('sampler', SMOTE(random_state=3)),\n",
    "    ('scaler', StandardScaler()),\n",
    "    ('classifier', None)\n",
    "])\n",
    "\n"
   ]
  },
  {
   "cell_type": "markdown",
   "source": [
    "We take the training:validation:test ratios as 60:20:20.\n",
    "We change X_train into a training set and validation set."
   ],
   "metadata": {
    "collapsed": false,
    "pycharm": {
     "name": "#%% md\n"
    }
   }
  },
  {
   "cell_type": "code",
   "execution_count": 6,
   "id": "8a2a0496",
   "metadata": {
    "pycharm": {
     "name": "#%%\n"
    }
   },
   "outputs": [],
   "source": [
    "# X_train, X_validation, y_train, y_validation = train_test_split(X_train, y_train, test_size = 0.25, random_state = 0)\n"
   ]
  },
  {
   "cell_type": "markdown",
   "source": [
    "Scaling the dataset for computational efficiency of ML models operations (fitting, prediction)."
   ],
   "metadata": {
    "collapsed": false,
    "pycharm": {
     "name": "#%% md\n"
    }
   }
  },
  {
   "cell_type": "code",
   "execution_count": 7,
   "outputs": [],
   "source": [
    "from imblearn.over_sampling import SMOTE\n",
    "scaler = StandardScaler()\n",
    "X_train = scaler.fit_transform(X_train)\n",
    "# X_validation = scaler.transform(X_validation)\n",
    "X_test = scaler.transform(X_test)\n",
    "\n",
    "# X_train_transformed, y_train_transformed = SMOTE(random_state=3).fit_resample(X=X_train, y=y_train)\n"
   ],
   "metadata": {
    "collapsed": false,
    "pycharm": {
     "name": "#%%\n"
    }
   }
  },
  {
   "cell_type": "markdown",
   "id": "73a57eb8",
   "metadata": {},
   "source": [
    "### Benchmarking some standard ML models"
   ]
  },
  {
   "cell_type": "markdown",
   "id": "73634e38",
   "metadata": {
    "pycharm": {
     "name": "#%% md\n"
    }
   },
   "source": [
    "Checking the ML models\n",
    "* xgboost, adaboost, gradientboostingregressor, logistic regression and support vector machines\n"
   ]
  },
  {
   "cell_type": "markdown",
   "id": "b9031e35",
   "metadata": {
    "pycharm": {
     "name": "#%% md\n"
    }
   },
   "source": [
    "## Hyperparameter tuning of ML models"
   ]
  },
  {
   "cell_type": "markdown",
   "source": [
    "Saving data in a pickle file and opened again in model objectives. (not sure if I can include them as input to the objectives of each model, for version 2..)\n"
   ],
   "metadata": {
    "collapsed": false
   }
  },
  {
   "cell_type": "markdown",
   "id": "17b3f108",
   "metadata": {
    "pycharm": {
     "name": "#%% md\n"
    }
   },
   "source": [
    "Hyperparameter tuning framework consists of a tuner (hyperopt), optimization space (model dependent), and objective function (model  dependent)\n",
    "These are imported.\n",
    "\n",
    "### ML models to be optimized\n",
    "\n"
   ]
  },
  {
   "cell_type": "markdown",
   "id": "8d4faa55",
   "metadata": {
    "pycharm": {
     "name": "#%% md\n"
    }
   },
   "source": [
    "### Tuning\n",
    "\n",
    "For tuning we will be first split up the training data into a validation\n"
   ]
  },
  {
   "cell_type": "markdown",
   "id": "2a23e13a",
   "metadata": {},
   "source": [
    "Set variable `long_run=True` for a long run.\n"
   ]
  },
  {
   "cell_type": "code",
   "execution_count": 8,
   "id": "1b17e7d1",
   "metadata": {},
   "outputs": [],
   "source": [
    "long_run = False\n",
    "\n",
    "if long_run:\n",
    "    max_evals = 40\n",
    "    max_evals_slow = 40\n",
    "\n",
    "if not long_run:\n",
    "    max_evals = 6\n",
    "    max_evals_slow = 3"
   ]
  },
  {
   "cell_type": "code",
   "execution_count": 9,
   "outputs": [],
   "source": [
    "\n",
    "models_list = [xgb.XGBRegressor,\n",
    "          AdaBoostRegressor,\n",
    "          GradientBoostingRegressor,\n",
    "          LogisticRegression,\n",
    "          SVC\n",
    "]\n",
    "\n",
    "# to be import\n",
    "models_space_list = [xgb_space,\n",
    "                ada_space,\n",
    "                gbrt_space,\n",
    "                log_space,\n",
    "                svm_space\n",
    "]\n",
    "\n",
    "models_choices = [{},\n",
    "                  {'loss' : ada_loss_functions},\n",
    "                  {'loss' : gbrt_loss_functions},\n",
    "                  {},\n",
    "                  {'kernel' : svm_kernels, 'degree' : svm_kernel_degrees}]\n",
    "\n",
    "# models_choices = {'XGBRegressor':None,\n",
    "#                  'AdaBoostRegressor': ada_loss_functions,\n",
    "#                  'GradientBoostingRegressor': gbrt_loss_functions,\n",
    "#                  'LogisticRegression': None,\n",
    "#                  'SVC': [svm_kernels, svm_kernel_degrees]} # if kernel is not poly, degree is ignored\n",
    "\n"
   ],
   "metadata": {
    "collapsed": false,
    "pycharm": {
     "name": "#%%\n"
    }
   }
  },
  {
   "cell_type": "code",
   "execution_count": 10,
   "outputs": [],
   "source": [
    "def buildHyperoptTunedFittedModel(model, model_space, model_choices : dict, X_train : np.ndarray, y_train,\n",
    "                                  tuning_measure : str, max_evals : int = 10, cross_val_method : int = 0,\n",
    "                                  **fitting_setting):\n",
    "    \"\"\"\n",
    "\n",
    "    :param model:\n",
    "    :param model_space:\n",
    "    :param model_choices:\n",
    "    :param X_train:\n",
    "    :param y_train:\n",
    "    :param tuning_measure:\n",
    "    :param max_evals:\n",
    "    :param cross_val_method:\n",
    "    :param fitting_setting:\n",
    "    :return:\n",
    "    \"\"\"\n",
    "\n",
    "    trials = Trials()\n",
    "\n",
    "    tuning_objective = build_objective_func(model=model, X_train=X_train, y_train=y_train,\n",
    "                                            tuning_measure=tuning_measure, cross_val_method=cross_val_method,\n",
    "                                            **fitting_setting)\n",
    "\n",
    "    print('Starting hyperparameter search : \\n')\n",
    "    model_best_hyperparams = fmin(fn = tuning_objective,\n",
    "                            space = model_space,\n",
    "                            algo = tpe.suggest,\n",
    "                            max_evals = max_evals,\n",
    "                            trials = trials)\n",
    "\n",
    "    # fmin returns space in floats (for some reason changed the type int to float)\n",
    "    for key in INT_KEYS:\n",
    "        if key in model_best_hyperparams.keys():\n",
    "            model_best_hyperparams[key] = int(model_best_hyperparams[key])\n",
    "\n",
    "    # when model space is a choice, `model_best_hyperparams` gives the index of the selected choice\n",
    "    # model options a dict with keys: as the option name and value as list of options\n",
    "    for choice, choice_option in model_choices.items():\n",
    "        model_best_hyperparams[choice] = choice_option[model_best_hyperparams[choice]]\n",
    "\n",
    "    tuned_model = model(**model_best_hyperparams)\n",
    "\n",
    "    return fitModel(tuned_model=tuned_model, X_fitting=X_train, y_fitting=y_train, eval_metrics=True, confusion_matrix=False)\n"
   ],
   "metadata": {
    "collapsed": false,
    "pycharm": {
     "name": "#%%\n"
    }
   }
  },
  {
   "cell_type": "markdown",
   "source": [
    "Change `y_test` from `pd.Series` into `np.ndarray` for sorting"
   ],
   "metadata": {
    "collapsed": false
   }
  },
  {
   "cell_type": "code",
   "execution_count": 11,
   "outputs": [],
   "source": [
    "y_test = y_test.to_numpy()"
   ],
   "metadata": {
    "collapsed": false,
    "pycharm": {
     "name": "#%%\n"
    }
   }
  },
  {
   "cell_type": "markdown",
   "source": [
    "## Performance at given percentages\n",
    "### robustness\n",
    "\n",
    "As opposed to simply classifiying clients as expected to default vs not-expected to default, quantifying is more meaningful. I.e. defining a probability of default has more potential.\n",
    "\n",
    "To estimate the real probability, the Smooth Sorting Method can be used, which estimates the real probability by looking at neighboring points and taking the mean of these values."
   ],
   "metadata": {
    "collapsed": false
   }
  },
  {
   "cell_type": "markdown",
   "source": [
    "__Smooth Sorting Method__ from the original paper (Yeh, I. C., & Lien, C. H. (2009)):\n",
    "\n",
    "$$\\text{P}_i = \\frac{\\sum_{j=-n}^{n}\\text{Y}_{i-j}}{2n+1}$$\n",
    "\n",
    "where $\\text{P}_i$ is the estimated real probability of default, $\\text{Y}_{i}$ is the binary variable of default (1) or non-default (0), $n$ is the number of data for smoothing.<br>\n",
    "The Smooth Sorting Method is used on sorted data, from the lowest probability of default occuring to the highest probability of default occuring.\n",
    "\n",
    "This is interesting to look at because loaners adopt different risk strategies.\n",
    "( (?) for this we consider at 20% and 80% (?) )"
   ],
   "metadata": {
    "collapsed": false
   }
  },
  {
   "cell_type": "code",
   "execution_count": 12,
   "outputs": [],
   "source": [
    "def realProbabilitySSM(y_real : np.ndarray, y_predicted : np.ndarray, n : int, plot : bool = True):\n",
    "\n",
    "    sorted_index = np.argsort(y_predicted)\n",
    "    y_real_sorted = y_real[sorted_index]\n",
    "    y_predicted_sorted = y_predicted[sorted_index]\n",
    "\n",
    "    intermediate_real_probability = np.array([])\n",
    "    for counter in range(n, len(y_real)-n):\n",
    "        intermediate_real_probability = np.append(intermediate_real_probability,\n",
    "                                                  np.mean(y_real_sorted[counter-n:counter+n]))\n",
    "\n",
    "    r2 = r2_score(y_real, y_predicted)\n",
    "\n",
    "    if plot:\n",
    "        y_predicted_selected = y_predicted_sorted[n:len(y_real)-n]\n",
    "        plt.plot(y_predicted_selected,intermediate_real_probability)\n",
    "        plt.grid(True)\n",
    "        plt.xlim([0,1])\n",
    "        plt.xlabel('Predicted probability')\n",
    "        plt.ylabel('Real probability using SSM')\n",
    "        plt.annotate(f'$R^2 = {r2}$', (0.05, 0.95))\n",
    "        plt.grid(True, which='both')\n",
    "        plt.show()\n",
    "\n",
    "    print(f'r2 score : {r2}\\n')\n",
    "    return r2\n"
   ],
   "metadata": {
    "collapsed": false,
    "pycharm": {
     "name": "#%%\n"
    }
   }
  },
  {
   "cell_type": "code",
   "execution_count": 13,
   "outputs": [
    {
     "name": "stdout",
     "output_type": "stream",
     "text": [
      "Starting hyperparameter search : \n",
      "\n",
      "SCORE:                                                \n",
      "0.6421881392961084                                    \n",
      "SCORE:                                                                           \n",
      "0.6047499942101485                                                               \n",
      "SCORE:                                                                           \n",
      "0.636449431436578                                                                \n",
      "SCORE:                                                                           \n",
      "0.611668866810255                                                                \n",
      "SCORE:                                                                           \n",
      "0.629800751908721                                                                \n",
      "SCORE:                                                                           \n",
      "0.6368788454264033                                                               \n",
      "SCORE:                                                                           \n",
      "0.6028721523580135                                                               \n",
      "SCORE:                                                                           \n",
      "0.6205746234666543                                                               \n",
      "SCORE:                                                                           \n",
      "0.6151601472938234                                                               \n",
      "SCORE:                                                                           \n",
      "0.6273352401244432                                                               \n",
      "SCORE:                                                                            \n",
      "0.606841095594309                                                                 \n",
      "SCORE:                                                                            \n",
      "0.6078610744420514                                                                \n",
      "SCORE:                                                                            \n",
      "0.6073235832233261                                                                \n",
      "SCORE:                                                                            \n",
      "0.6088829832403096                                                                \n",
      "SCORE:                                                                            \n",
      "0.6023896647289964                                                                \n",
      "SCORE:                                                                            \n",
      "0.6169260520160262                                                                \n",
      "SCORE:                                                                            \n",
      "0.6088791233392776                                                                \n",
      "SCORE:                                                                            \n",
      "0.6437446443873179                                                                \n",
      "SCORE:                                                                            \n",
      "0.6265844893736925                                                                \n",
      "SCORE:                                                                            \n",
      "0.6112394528204297                                                                \n",
      "SCORE:                                                                            \n",
      "0.6368248068119534                                                                \n",
      "SCORE:                                                                            \n",
      "0.6361271297003945                                                                \n",
      "SCORE:                                                                            \n",
      "0.6497525803438399                                                                \n",
      "SCORE:                                                                            \n",
      "0.6356446420713772                                                                \n",
      "SCORE:                                                                            \n",
      "0.635805792939469                                                                 \n",
      "SCORE:                                                                            \n",
      "0.6440669461235013                                                                \n",
      "SCORE:                                                                            \n",
      "0.6212172969885053                                                                \n",
      "SCORE:                                                                            \n",
      "0.6478766684422212                                                                \n",
      "SCORE:                                                                            \n",
      "0.6392951434725214                                                                \n",
      "SCORE:                                                                            \n",
      "0.6469647668233787                                                                \n",
      "SCORE:                                                                            \n",
      "0.6229870616117402                                                                \n",
      "SCORE:                                                                            \n",
      "0.6369348139913692                                                                \n",
      "SCORE:                                                                            \n",
      "0.6189631147857368                                                                \n",
      "SCORE:                                                                            \n",
      "0.6327516462477901                                                                \n",
      "SCORE:                                                                            \n",
      "0.6023896647289964                                                                \n",
      "SCORE:                                                                            \n",
      "0.6368788454264033                                                                \n",
      "SCORE:                                                                            \n",
      "0.6179441009132526                                                                \n",
      "SCORE:                                                                            \n",
      "0.6109711896986961                                                                \n",
      "SCORE:                                                                            \n",
      "0.630445355381088                                                                 \n",
      "SCORE:                                                                            \n",
      "0.6348938913206265                                                                \n",
      "100%|██████████| 40/40 [03:54<00:00,  5.87s/trial, best loss: -0.6497525803438399]\n",
      "Performance on fitting data of tuned_model XGBRegressor(base_score=0.5, booster='gbtree', colsample_bylevel=1,\n",
      "             colsample_bynode=1, colsample_bytree=0.9077722557254523,\n",
      "             gamma=2.3330904992296553, gpu_id=-1, importance_type='gain',\n",
      "             interaction_constraints='', learning_rate=0.35078338409493426,\n",
      "             max_delta_step=0, max_depth=17, min_child_weight=8, missing=nan,\n",
      "             monotone_constraints='()', n_estimators=100, n_jobs=8,\n",
      "             num_parallel_tree=1, random_state=0, reg_alpha=40,\n",
      "             reg_lambda=0.26904094892338704, scale_pos_weight=1, subsample=1,\n",
      "             tree_method='exact', validate_parameters=1, verbosity=None) \n",
      "\n",
      "Accuracy score: 0.819625\n",
      "Recall score: 0.362756052141527\n",
      "Precision_score: 0.6823117338003503\n",
      "ROC/AUC score: 0.657035567670334\n",
      "F1 score: 0.47367781155015193\n",
      "\n",
      "\n",
      "Performance on test data of model <class 'xgboost.sklearn.XGBRegressor'> \n",
      "\n",
      "Accuracy score: 0.834\n",
      "Recall score: 0.35150078988941547\n",
      "Precision_score: 0.717741935483871\n",
      "ROC/AUC score: 0.6572670827351598\n",
      "F1 score: 0.47189819724284204\n",
      "\n",
      "\n",
      "r2 score : 0.23175832635942983\n",
      "\n",
      "Starting hyperparameter search : \n",
      "\n",
      "SCORE:                                                \n",
      "0.6460605850066005                                    \n",
      "SCORE:                                                                           \n",
      "0.6519536889074163                                                               \n",
      "SCORE:                                                                           \n",
      "0.6521148397755081                                                               \n",
      "SCORE:                                                                           \n",
      "0.6500758470552815                                                               \n",
      "SCORE:                                                                           \n",
      "0.6515233099423331                                                               \n",
      "SCORE:                                                                           \n",
      "0.6217017145680385                                                               \n",
      "SCORE:                                                                           \n",
      "0.6518996502929664                                                               \n",
      "SCORE:                                                                           \n",
      "0.6521148397755081                                                               \n",
      "SCORE:                                                                           \n",
      "0.652166948439442                                                                \n",
      "SCORE:                                                                           \n",
      "0.649807583933548                                                               \n",
      "SCORE:                                                                           \n",
      "0.6465893914480033                                                               \n",
      "SCORE:                                                                           \n",
      "0.6475524367555215                                                               \n",
      "SCORE:                                                                           \n",
      "0.6525423238148174                                                               \n",
      "SCORE:                                                                            \n",
      "0.6535082640481098                                                                \n",
      "SCORE:                                                                            \n",
      "0.6498066189582898                                                                \n",
      "SCORE:                                                                            \n",
      "0.6518446467032585                                                                \n",
      "SCORE:                                                                            \n",
      "0.6014912727637663                                                                \n",
      "SCORE:                                                                            \n",
      "0.6545822815103021                                                                \n",
      "SCORE:                                                                            \n",
      "0.6528636605757429                                                                \n",
      "SCORE:                                                                            \n",
      "0.6557141974879764                                                                \n",
      "SCORE:                                                                            \n",
      "0.6510427522638319                                                                \n",
      "SCORE:                                                                            \n",
      "0.6507744891420985                                                                \n",
      "SCORE:                                                                            \n",
      "0.6530807800088004                                                                \n",
      "SCORE:                                                                            \n",
      "0.6425094760570339                                                                \n",
      "SCORE:                                                                            \n",
      "0.6561937901912196                                                                \n",
      "SCORE:                                                                            \n",
      "0.6530257764190927                                                                \n",
      "SCORE:                                                                            \n",
      "0.6514161976886913                                                                \n",
      "SCORE:                                                                            \n",
      "0.6498596925974818                                                                \n",
      "SCORE:                                                                            \n",
      "0.6574270285709874                                                                \n",
      "SCORE:                                                                            \n",
      "0.655280923597119                                                                 \n",
      "SCORE:                                                                            \n",
      "0.6284053976856033                                                                \n",
      "SCORE:                                                                            \n",
      "0.6543140183885686                                                                \n",
      "SCORE:                                                                            \n",
      "0.6538315307595512                                                                \n",
      "SCORE:                                                                            \n",
      "0.6523300292580497                                                                \n",
      "SCORE:                                                                            \n",
      "0.6319980005712654                                                                \n",
      "SCORE:                                                                            \n",
      "0.6529196291407089                                                                \n",
      "SCORE:                                                                            \n",
      "0.6529727027799007                                                                \n",
      "SCORE:                                                                            \n",
      "0.6529736677551587                                                                \n",
      "SCORE:                                                                            \n",
      "0.6573324609957                                                                   \n",
      "SCORE:                                                                            \n",
      "0.6558377143210049                                                                \n",
      "100%|██████████| 40/40 [01:13<00:00,  1.84s/trial, best loss: -0.6574270285709874]\n",
      "Performance on fitting data of tuned_model AdaBoostRegressor(learning_rate=0.5748940989606133, loss='exponential') \n",
      "\n",
      "Accuracy score: 0.8197083333333334\n",
      "Recall score: 0.36405959031657353\n",
      "Precision_score: 0.6818974537844437\n",
      "ROC/AUC score: 0.6575531445946797\n",
      "F1 score: 0.4746873861842904\n",
      "\n",
      "\n",
      "Performance on test data of model <class 'sklearn.ensemble._weight_boosting.AdaBoostRegressor'> \n",
      "\n",
      "Accuracy score: 0.834\n",
      "Recall score: 0.358609794628752\n",
      "Precision_score: 0.7115987460815048\n",
      "ROC/AUC score: 0.6598710147626228\n",
      "F1 score: 0.47689075630252103\n",
      "\n",
      "\n",
      "r2 score : 0.08651729052086732\n",
      "\n",
      "Starting hyperparameter search : \n",
      "\n",
      "SCORE:                                                \n",
      "0.5305076927827571                                    \n",
      "SCORE:                                                                           \n",
      "0.512686529717378                                                                \n",
      "SCORE:                                                                           \n",
      "0.6444162671669099                                                               \n",
      "SCORE:                                                                           \n",
      "0.6370805252553324                                                               \n",
      "SCORE:                                                                           \n",
      "0.6440833507028879                                                               \n",
      "SCORE:                                                                           \n",
      "0.6457334583941267                                                               \n",
      "SCORE:                                                                           \n",
      "0.6373256289708732                                                               \n",
      "SCORE:                                                                           \n",
      "0.6401877455862033                                                               \n",
      "SCORE:                                                                           \n",
      "0.6163470668612057                                                               \n",
      "SCORE:                                                                           \n",
      "0.5526394003257756                                                               \n",
      "SCORE:                                                                            \n",
      "0.6393395323343909                                                                \n",
      "SCORE:                                                                            \n",
      "0.6309085435049445                                                                \n",
      "SCORE:                                                                            \n",
      "0.5725149957155098                                                                \n",
      "SCORE:                                                                            \n",
      "0.6386100110393169                                                                \n",
      "SCORE:                                                                            \n",
      "0.6459447879756363                                                                \n",
      "SCORE:                                                                            \n",
      "0.6295411735643098                                                                \n",
      "SCORE:                                                                            \n",
      "0.6356263075414745                                                                \n",
      "SCORE:                                                                            \n",
      "0.6470718790770205                                                                \n",
      "SCORE:                                                                            \n",
      "0.526491465758818                                                                 \n",
      "SCORE:                                                                            \n",
      "0.6415560805020959                                                                \n",
      "SCORE:                                                                            \n",
      "0.6510929309772497                                                                \n",
      "SCORE:                                                                            \n",
      "0.6507715942163244                                                                \n",
      "SCORE:                                                                            \n",
      "0.6458946092622184                                                                \n",
      "SCORE:                                                                            \n",
      "0.5                                                                               \n",
      "SCORE:                                                                            \n",
      "0.6481439665886967                                                                \n",
      "SCORE:                                                                            \n",
      "0.6463751669407197                                                                \n",
      "SCORE:                                                                            \n",
      "0.6420366381805971                                                                \n",
      "SCORE:                                                                            \n",
      "0.6470718790770205                                                                \n",
      "SCORE:                                                                            \n",
      "0.639791140755151                                                                 \n",
      "SCORE:                                                                            \n",
      "0.6410735928730787                                                                \n",
      "SCORE:                                                                            \n",
      "0.5                                                                               \n",
      "SCORE:                                                                            \n",
      "0.6465980762253255                                                                \n",
      "SCORE:                                                                            \n",
      "0.6352528621166152                                                                \n",
      "SCORE:                                                                            \n",
      "0.6377010043462485                                                                \n",
      "SCORE:                                                                            \n",
      "0.6362931054447764                                                                \n",
      "SCORE:                                                                            \n",
      "0.5267056902661016                                                                \n",
      "SCORE:                                                                            \n",
      "0.6427835290303157                                                                \n",
      "SCORE:                                                                            \n",
      "0.6272850614110255                                                                \n",
      "SCORE:                                                                            \n",
      "0.6454111566579432                                                                \n",
      "SCORE:                                                                            \n",
      "0.6396936782540896                                                                \n",
      "100%|██████████| 40/40 [14:43<00:00, 22.08s/trial, best loss: -0.6510929309772497]\n",
      "Performance on fitting data of tuned_model GradientBoostingRegressor(learning_rate=0.06128961270358492, loss='huber') \n",
      "\n",
      "Accuracy score: 0.8221666666666667\n",
      "Recall score: 0.3636871508379888\n",
      "Precision_score: 0.6965049928673324\n",
      "ROC/AUC score: 0.659004069246155\n",
      "F1 score: 0.47785661854661116\n",
      "\n",
      "\n",
      "Performance on test data of model <class 'sklearn.ensemble._gb.GradientBoostingRegressor'> \n",
      "\n",
      "Accuracy score: 0.8331666666666667\n",
      "Recall score: 0.344391785150079\n",
      "Precision_score: 0.7182866556836903\n",
      "ROC/AUC score: 0.6541350560731384\n",
      "F1 score: 0.46556326748531773\n",
      "\n",
      "\n",
      "r2 score : 0.23561130192646962\n",
      "\n",
      "Starting hyperparameter search : \n",
      "\n",
      "SCORE:                                                \n",
      "0.6059272640249503                                    \n",
      "SCORE:                                                                           \n",
      "0.6059272640249503                                                               \n",
      "SCORE:                                                                           \n",
      "0.605551888649575                                                                \n",
      "SCORE:                                                                           \n",
      "0.6046930606699243                                                               \n",
      "SCORE:                                                                           \n",
      "0.6059272640249503                                                               \n",
      "SCORE:                                                                           \n",
      "0.6059272640249503                                                               \n",
      "SCORE:                                                                           \n",
      "0.6059272640249503                                                               \n",
      "SCORE:                                                                           \n",
      "0.6059272640249503                                                               \n",
      "SCORE:                                                                           \n",
      "0.6052836255278415                                                               \n",
      "SCORE:                                                                           \n",
      "0.6059272640249503                                                               \n",
      "SCORE:                                                                            \n",
      "0.6059272640249503                                                                \n",
      "SCORE:                                                                            \n",
      "0.605551888649575                                                                 \n",
      "SCORE:                                                                            \n",
      "0.605551888649575                                                                 \n",
      "SCORE:                                                                            \n",
      "0.6059272640249503                                                                \n",
      "SCORE:                                                                            \n",
      "0.605551888649575                                                                 \n",
      "SCORE:                                                                            \n",
      "0.6046930606699243                                                                \n",
      "SCORE:                                                                            \n",
      "0.6059272640249503                                                                \n",
      "SCORE:                                                                            \n",
      "0.6059272640249503                                                                \n",
      "SCORE:                                                                            \n",
      "0.6059272640249503                                                                \n",
      "SCORE:                                                                            \n",
      "0.6059272640249503                                                                \n",
      "SCORE:                                                                            \n",
      "0.6059272640249503                                                                \n",
      "SCORE:                                                                            \n",
      "0.6059272640249503                                                                \n",
      "SCORE:                                                                            \n",
      "0.6059272640249503                                                                \n",
      "SCORE:                                                                            \n",
      "0.6059272640249503                                                                \n",
      "SCORE:                                                                            \n",
      "0.6059272640249503                                                                \n",
      "SCORE:                                                                            \n",
      "0.6059272640249503                                                                \n",
      "SCORE:                                                                            \n",
      "0.6059272640249503                                                                \n",
      "SCORE:                                                                            \n",
      "0.6059272640249503                                                                \n",
      "SCORE:                                                                            \n",
      "0.6059272640249503                                                                \n",
      "SCORE:                                                                            \n",
      "0.6059272640249503                                                                \n",
      "SCORE:                                                                            \n",
      "0.6059272640249503                                                                \n",
      "SCORE:                                                                            \n",
      "0.6059272640249503                                                                \n",
      "SCORE:                                                                            \n",
      "0.6059272640249503                                                                \n",
      "SCORE:                                                                            \n",
      "0.6059272640249503                                                                \n",
      "SCORE:                                                                            \n",
      "0.6059272640249503                                                                \n",
      "SCORE:                                                                            \n",
      "0.6059272640249503                                                                \n",
      "SCORE:                                                                            \n",
      "0.6059272640249503                                                                \n",
      "SCORE:                                                                            \n",
      "0.6059272640249503                                                                \n",
      "SCORE:                                                                            \n",
      "0.6059272640249503                                                                \n",
      "SCORE:                                                                            \n",
      "0.6059272640249503                                                                \n",
      "100%|██████████| 40/40 [01:39<00:00,  2.49s/trial, best loss: -0.6059272640249503]\n",
      "Performance on fitting data of tuned_model LogisticRegression(C=0.7967265014570639, l1_ratio=0.22928321995299383) \n",
      "\n",
      "Accuracy score: 0.8085\n",
      "Recall score: 0.23891992551210428\n",
      "Precision_score: 0.7159598214285714\n",
      "ROC/AUC score: 0.6057992005445654\n",
      "F1 score: 0.3582798101089081\n",
      "\n",
      "\n",
      "Performance on test data of model <class 'sklearn.linear_model._logistic.LogisticRegression'> \n",
      "\n",
      "Accuracy score: 0.8191666666666667\n",
      "Recall score: 0.2235387045813586\n",
      "Precision_score: 0.7350649350649351\n",
      "ROC/AUC score: 0.6009962217456857\n",
      "F1 score: 0.3428225317989097\n",
      "\n",
      "\n",
      "r2 score : -0.08622308719618266\n",
      "\n",
      "Starting hyperparameter search : \n",
      "\n",
      "SCORE:                                                \n",
      "0.6414923921350656                                    \n",
      "SCORE:                                                                           \n",
      "0.5711254313439403                                                               \n",
      "SCORE:                                                                           \n",
      "0.6423512201147162                                                               \n",
      "SCORE:                                                                           \n",
      "0.6417075816176073                                                               \n",
      "SCORE:                                                                           \n",
      "0.5076696233508573                                                               \n",
      "SCORE:                                                                           \n",
      "0.5896799756054255                                                               \n",
      "SCORE:                                                                           \n",
      "0.5090640125987169                                                               \n",
      "SCORE:                                                                           \n",
      "0.6412241290133321                                                               \n",
      "SCORE:                                                                           \n",
      "0.5710713927294905                                                               \n",
      "SCORE:                                                                           \n",
      "0.5847450921358377                                                               \n",
      "SCORE:                                                                            \n",
      "0.5055775569914387                                                                \n",
      "SCORE:                                                                            \n",
      "0.6411179817349483                                                                \n",
      "SCORE:                                                                            \n",
      "0.5814728610358432                                                                \n",
      "SCORE:                                                                            \n",
      "0.5098147633494677                                                                \n",
      "SCORE:                                                                            \n",
      "0.5306273497147532                                                                \n",
      "SCORE:                                                                            \n",
      "0.6405274168770313                                                                \n",
      "SCORE:                                                                            \n",
      "0.5371679520137104                                                                \n",
      "SCORE:                                                                            \n",
      "0.6412241290133321                                                                \n",
      "SCORE:                                                                            \n",
      "0.6412250939885901                                                                \n",
      "SCORE:                                                                            \n",
      "0.5818482364112185                                                                \n",
      "SCORE:                                                                            \n",
      "0.6424583323683581                                                                \n",
      "SCORE:                                                                            \n",
      "0.6423512201147162                                                                \n",
      "SCORE:                                                                            \n",
      "0.6420829569929827                                                                \n",
      "SCORE:                                                                            \n",
      "0.6424052587291662                                                                \n",
      "SCORE:                                                                            \n",
      "0.6420298833537907                                                                \n",
      "SCORE:                                                                            \n",
      "0.6415464307495156                                                                \n",
      "SCORE:                                                                            \n",
      "0.6420298833537907                                                                \n",
      "SCORE:                                                                            \n",
      "0.6409568308668566                                                                \n",
      "SCORE:                                                                            \n",
      "0.6415464307495156                                                                \n",
      "SCORE:                                                                            \n",
      "0.6420829569929827                                                                \n",
      "SCORE:                                                                            \n",
      "0.6415464307495156                                                                \n",
      "SCORE:                                                                            \n",
      "0.6423512201147162                                                                \n",
      "SCORE:                                                                            \n",
      "0.6417075816176073                                                                \n",
      "SCORE:                                                                            \n",
      "0.6422441078610744                                                                \n",
      "SCORE:                                                                            \n",
      "0.6420829569929827                                                                \n",
      "SCORE:                                                                            \n",
      "0.6407956799987649                                                                \n",
      "SCORE:                                                                            \n",
      "0.6412250939885901                                                                \n",
      "SCORE:                                                                            \n",
      "0.6409568308668566                                                                \n",
      "SCORE:                                                                            \n",
      "0.6417075816176073                                                                \n",
      "SCORE:                                                                            \n",
      "0.6414933571103236                                                                \n",
      "100%|██████████| 40/40 [10:20<00:00, 15.52s/trial, best loss: -0.6424583323683581]\n",
      "Performance on fitting data of tuned_model SVC(C=0.8873353755051323, degree=4) \n",
      "\n",
      "Accuracy score: 0.822375\n",
      "Recall score: 0.34916201117318435\n",
      "Precision_score: 0.7094211123723042\n",
      "ROC/AUC score: 0.6539690893225019\n",
      "F1 score: 0.46798951703481845\n",
      "\n",
      "\n",
      "Performance on test data of model <class 'sklearn.svm._classes.SVC'> \n",
      "\n",
      "Accuracy score: 0.83\n",
      "Recall score: 0.320695102685624\n",
      "Precision_score: 0.7173144876325088\n",
      "ROC/AUC score: 0.6434485230369396\n",
      "F1 score: 0.44323144104803497\n",
      "\n",
      "\n",
      "r2 score : -0.02114981469134225\n",
      "\n"
     ]
    },
    {
     "data": {
      "text/plain": "<Figure size 432x288 with 1 Axes>",
      "image/png": "[encoded data removed]"
     },
     "metadata": {},
     "output_type": "display_data"
    },
    {
     "data": {
      "text/plain": "<Figure size 432x288 with 1 Axes>",
      "image/png": "[encoded data removed]"
     },
     "metadata": {},
     "output_type": "display_data"
    },
    {
     "data": {
      "text/plain": "<Figure size 432x288 with 1 Axes>",
      "image/png": "[encoded data removed]"
     },
     "metadata": {},
     "output_type": "display_data"
    },
    {
     "name": "stderr",
     "output_type": "stream",
     "text": [
      "/Users/Jurren/Library/Python/3.8/lib/python/site-packages/sklearn/linear_model/_logistic.py:1317: UserWarning: l1_ratio parameter is only used when penalty is 'elasticnet'. Got (penalty=l2)\n",
      "  warnings.warn(\"l1_ratio parameter is only used when penalty is \"\n"
     ]
    },
    {
     "data": {
      "text/plain": "<Figure size 432x288 with 1 Axes>",
      "image/png": "[encoded data removed]"
     },
     "metadata": {},
     "output_type": "display_data"
    },
    {
     "data": {
      "text/plain": "<Figure size 432x288 with 1 Axes>",
      "image/png": "[encoded data removed]"
     },
     "metadata": {},
     "output_type": "display_data"
    }
   ],
   "source": [
    "\n",
    "fitted_models_list = []\n",
    "accuracy_scores = []\n",
    "r2_scores = []\n",
    "n = 50\n",
    "max_evals = 40\n",
    "cross_val_method = 0\n",
    "\n",
    "for model, model_space, model_choices in zip(models_list, models_space_list, models_choices):\n",
    "    fitted_model = buildHyperoptTunedFittedModel(model=model, model_space=model_space, model_choices=model_choices, X_train=X_train,\n",
    "                                                 y_train=y_train, tuning_measure='roc', max_evals=max_evals,\n",
    "                                                 cross_val_method=cross_val_method)\n",
    "    y_pred = fitted_model.predict(X_test)\n",
    "\n",
    "    print(f'Performance on test data of model {model} \\n')\n",
    "    accuracy_scores.append(evalMetrics(y_test, y_pred>0.5, confusion_matrix=False))\n",
    "    r2_scores.append(realProbabilitySSM(y_test,y_pred, n=n, plot=True))\n"
   ],
   "metadata": {
    "collapsed": false,
    "pycharm": {
     "name": "#%%\n"
    }
   }
  },
  {
   "cell_type": "markdown",
   "id": "df000aaa",
   "metadata": {
    "pycharm": {
     "name": "#%% md\n"
    }
   },
   "source": [
    "The search selects the best considered (not the best in the space) generalizable hyperparameters (i.e. the ones that perform best, after fitting on the training set and prediction on the validation set).\n",
    "In this limited analysis, these hyperparameters are considered the best generalizable.\n",
    "Alternatively, we can say that we select these parameters to be tested.\n",
    "We may find that some ML models allow for a large fluctuation in performance on the validation set, which may indicate that we have 'overfitted' the validation set. This will show on the test set.\n",
    "We can decide to further train on the validation set, however, it is interesting to see how the performance of the model changes whether we use the validation set or not.\n",
    "\n",
    "The models are:\n",
    "`xgb_reg`, `ada_reg`, `gbrt_reg`, `log_reg`, and `svm_reg`\n",
    "\n",
    "Now we can test these models on the test set. Followed by checking each prediction's 'strenght' by using the Smooth Sorting Method as proposed in the original paper by Yeh and Lien."
   ]
  }
 ],
 "metadata": {
  "kernelspec": {
   "display_name": "PyCharm (CW2)",
   "language": "python",
   "name": "pycharm-1482e948"
  },
  "language_info": {
   "codemirror_mode": {
    "name": "ipython",
    "version": 3
   },
   "file_extension": ".py",
   "mimetype": "text/x-python",
   "name": "python",
   "nbconvert_exporter": "python",
   "pygments_lexer": "ipython3",
   "version": "3.8.1"
  }
 },
 "nbformat": 4,
 "nbformat_minor": 5
}